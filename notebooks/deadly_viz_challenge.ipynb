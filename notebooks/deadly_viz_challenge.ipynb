{
 "cells": [
  {
   "cell_type": "markdown",
   "metadata": {},
   "source": [
    "# Deadly Visualizations!!!\n",
    "\n",
    "![Image](../images/viz_types_portada.png)"
   ]
  },
  {
   "cell_type": "markdown",
   "metadata": {},
   "source": [
    "## Setup\n",
    "\n",
    "First we need to create a basic setup which includes:\n",
    "\n",
    "- Importing the libraries.\n",
    "\n",
    "- Reading the dataset file (source [Instituto Nacional de Estadística](https://www.ine.es/ss/Satellite?L=es_ES&c=Page&cid=1259942408928&p=1259942408928&pagename=ProductosYServicios%2FPYSLayout)).\n",
    "\n",
    "- Create a couple of columns and tables for the analysis.\n",
    "\n",
    "__NOTE:__ some functions were already created in order to help you go through the challenge. However, feel free to perform any code you might need."
   ]
  },
  {
   "cell_type": "code",
   "execution_count": 1,
   "metadata": {},
   "outputs": [
    {
     "data": {
      "text/html": [
       "        <script type=\"text/javascript\">\n",
       "        window.PlotlyConfig = {MathJaxConfig: 'local'};\n",
       "        if (window.MathJax && window.MathJax.Hub && window.MathJax.Hub.Config) {window.MathJax.Hub.Config({SVG: {font: \"STIX-Web\"}});}\n",
       "        if (typeof require !== 'undefined') {\n",
       "        require.undef(\"plotly\");\n",
       "        requirejs.config({\n",
       "            paths: {\n",
       "                'plotly': ['https://cdn.plot.ly/plotly-2.20.0.min']\n",
       "            }\n",
       "        });\n",
       "        require(['plotly'], function(Plotly) {\n",
       "            window._Plotly = Plotly;\n",
       "        });\n",
       "        }\n",
       "        </script>\n",
       "        "
      ]
     },
     "metadata": {},
     "output_type": "display_data"
    }
   ],
   "source": [
    "# imports\n",
    "\n",
    "import sys\n",
    "import re\n",
    "sys.path.insert(0, \"../modules\")\n",
    "\n",
    "import numpy as np\n",
    "import pandas as pd\n",
    "\n",
    "import plotly.express as px\n",
    "import cufflinks as cf\n",
    "cf.go_offline()\n",
    "import plotly.graph_objs as go\n",
    "\n",
    "import module as mod     # functions are include in module.py"
   ]
  },
  {
   "cell_type": "code",
   "execution_count": 2,
   "metadata": {},
   "outputs": [],
   "source": [
    "#!pip install plotly"
   ]
  },
  {
   "cell_type": "code",
   "execution_count": 3,
   "metadata": {},
   "outputs": [],
   "source": [
    "#!pip install cufflinks"
   ]
  },
  {
   "cell_type": "code",
   "execution_count": 4,
   "metadata": {},
   "outputs": [
    {
     "name": "stdout",
     "output_type": "stream",
     "text": [
      "<class 'pandas.core.frame.DataFrame'>\n",
      "RangeIndex: 301158 entries, 0 to 301157\n",
      "Data columns (total 5 columns):\n",
      " #   Column           Non-Null Count   Dtype \n",
      "---  ------           --------------   ----- \n",
      " 0   Causa de muerte  301158 non-null  object\n",
      " 1   Sexo             301158 non-null  object\n",
      " 2   Edad             301158 non-null  object\n",
      " 3   Periodo          301158 non-null  int64 \n",
      " 4   Total            301158 non-null  int64 \n",
      "dtypes: int64(2), object(3)\n",
      "memory usage: 11.5+ MB\n"
     ]
    }
   ],
   "source": [
    "# read dataset\n",
    "\n",
    "deaths = pd.read_csv('../data/7947.csv', sep=';', thousands='.')\n",
    "\n",
    "deaths.info()"
   ]
  },
  {
   "cell_type": "code",
   "execution_count": 5,
   "metadata": {},
   "outputs": [
    {
     "name": "stdout",
     "output_type": "stream",
     "text": [
      "<class 'pandas.core.frame.DataFrame'>\n",
      "RangeIndex: 301158 entries, 0 to 301157\n",
      "Data columns (total 8 columns):\n",
      " #   Column           Non-Null Count   Dtype \n",
      "---  ------           --------------   ----- \n",
      " 0   Causa de muerte  301158 non-null  object\n",
      " 1   Sexo             301158 non-null  object\n",
      " 2   Edad             301158 non-null  object\n",
      " 3   Periodo          301158 non-null  int64 \n",
      " 4   Total            301158 non-null  int64 \n",
      " 5   cause_code       301158 non-null  object\n",
      " 6   cause_group      301158 non-null  object\n",
      " 7   cause_name       301158 non-null  object\n",
      "dtypes: int64(2), object(6)\n",
      "memory usage: 18.4+ MB\n"
     ]
    }
   ],
   "source": [
    "# add some columns...you'll need them later\n",
    "\n",
    "deaths['cause_code'] = deaths['Causa de muerte'].apply(mod.cause_code)\n",
    "deaths['cause_group'] = deaths['Causa de muerte'].apply(mod.cause_types)\n",
    "deaths['cause_name'] = deaths['Causa de muerte'].apply(mod.cause_name)\n",
    "\n",
    "deaths.info()"
   ]
  },
  {
   "cell_type": "code",
   "execution_count": 6,
   "metadata": {},
   "outputs": [
    {
     "data": {
      "text/html": [
       "<div>\n",
       "<style scoped>\n",
       "    .dataframe tbody tr th:only-of-type {\n",
       "        vertical-align: middle;\n",
       "    }\n",
       "\n",
       "    .dataframe tbody tr th {\n",
       "        vertical-align: top;\n",
       "    }\n",
       "\n",
       "    .dataframe thead th {\n",
       "        text-align: right;\n",
       "    }\n",
       "</style>\n",
       "<table border=\"1\" class=\"dataframe\">\n",
       "  <thead>\n",
       "    <tr style=\"text-align: right;\">\n",
       "      <th></th>\n",
       "      <th>categorical_variable</th>\n",
       "      <th>number_of_possible_values</th>\n",
       "      <th>values</th>\n",
       "    </tr>\n",
       "  </thead>\n",
       "  <tbody>\n",
       "    <tr>\n",
       "      <th>0</th>\n",
       "      <td>cause_code</td>\n",
       "      <td>117</td>\n",
       "      <td>[001-102, 001-008, 001, 002, 003, 004, 005, 00...</td>\n",
       "    </tr>\n",
       "    <tr>\n",
       "      <th>1</th>\n",
       "      <td>cause_name</td>\n",
       "      <td>117</td>\n",
       "      <td>[I-XXII.Todas las causas, I.Enfermedades infec...</td>\n",
       "    </tr>\n",
       "    <tr>\n",
       "      <th>2</th>\n",
       "      <td>Periodo</td>\n",
       "      <td>39</td>\n",
       "      <td>[2018, 2017, 2016, 2015, 2014, 2013, 2012, 201...</td>\n",
       "    </tr>\n",
       "    <tr>\n",
       "      <th>3</th>\n",
       "      <td>Edad</td>\n",
       "      <td>22</td>\n",
       "      <td>[Todas las edades, Menos de 1 año, De 1 a 4 añ...</td>\n",
       "    </tr>\n",
       "    <tr>\n",
       "      <th>4</th>\n",
       "      <td>Sexo</td>\n",
       "      <td>3</td>\n",
       "      <td>[Total, Hombres, Mujeres]</td>\n",
       "    </tr>\n",
       "    <tr>\n",
       "      <th>5</th>\n",
       "      <td>cause_group</td>\n",
       "      <td>2</td>\n",
       "      <td>[Multiple causes, Single cause]</td>\n",
       "    </tr>\n",
       "  </tbody>\n",
       "</table>\n",
       "</div>"
      ],
      "text/plain": [
       "  categorical_variable  number_of_possible_values  \\\n",
       "0           cause_code                        117   \n",
       "1           cause_name                        117   \n",
       "2              Periodo                         39   \n",
       "3                 Edad                         22   \n",
       "4                 Sexo                          3   \n",
       "5          cause_group                          2   \n",
       "\n",
       "                                              values  \n",
       "0  [001-102, 001-008, 001, 002, 003, 004, 005, 00...  \n",
       "1  [I-XXII.Todas las causas, I.Enfermedades infec...  \n",
       "2  [2018, 2017, 2016, 2015, 2014, 2013, 2012, 201...  \n",
       "3  [Todas las edades, Menos de 1 año, De 1 a 4 añ...  \n",
       "4                          [Total, Hombres, Mujeres]  \n",
       "5                    [Multiple causes, Single cause]  "
      ]
     },
     "execution_count": 6,
     "metadata": {},
     "output_type": "execute_result"
    }
   ],
   "source": [
    "# lets check the categorical variables\n",
    "\n",
    "var_list = ['Sexo', 'Edad', 'Periodo', 'cause_code', 'cause_name', 'cause_group']\n",
    "\n",
    "categories = mod.cat_var(deaths, var_list)\n",
    "categories"
   ]
  },
  {
   "cell_type": "code",
   "execution_count": 7,
   "metadata": {},
   "outputs": [
    {
     "data": {
      "text/html": [
       "<div>\n",
       "<style scoped>\n",
       "    .dataframe tbody tr th:only-of-type {\n",
       "        vertical-align: middle;\n",
       "    }\n",
       "\n",
       "    .dataframe tbody tr th {\n",
       "        vertical-align: top;\n",
       "    }\n",
       "\n",
       "    .dataframe thead th {\n",
       "        text-align: right;\n",
       "    }\n",
       "</style>\n",
       "<table border=\"1\" class=\"dataframe\">\n",
       "  <thead>\n",
       "    <tr style=\"text-align: right;\">\n",
       "      <th></th>\n",
       "      <th>cause_code</th>\n",
       "      <th>cause_name</th>\n",
       "    </tr>\n",
       "  </thead>\n",
       "  <tbody>\n",
       "    <tr>\n",
       "      <th>0</th>\n",
       "      <td>001</td>\n",
       "      <td>Enfermedades infecciosas intestinales</td>\n",
       "    </tr>\n",
       "    <tr>\n",
       "      <th>1</th>\n",
       "      <td>001-008</td>\n",
       "      <td>I.Enfermedades infecciosas y parasitarias</td>\n",
       "    </tr>\n",
       "    <tr>\n",
       "      <th>2</th>\n",
       "      <td>001-102</td>\n",
       "      <td>I-XXII.Todas las causas</td>\n",
       "    </tr>\n",
       "    <tr>\n",
       "      <th>3</th>\n",
       "      <td>002</td>\n",
       "      <td>Tuberculosis y sus efectos tardíos</td>\n",
       "    </tr>\n",
       "    <tr>\n",
       "      <th>4</th>\n",
       "      <td>003</td>\n",
       "      <td>Enfermedad meningocócica</td>\n",
       "    </tr>\n",
       "    <tr>\n",
       "      <th>...</th>\n",
       "      <td>...</td>\n",
       "      <td>...</td>\n",
       "    </tr>\n",
       "    <tr>\n",
       "      <th>112</th>\n",
       "      <td>098</td>\n",
       "      <td>Suicidio y lesiones autoinfligidas</td>\n",
       "    </tr>\n",
       "    <tr>\n",
       "      <th>113</th>\n",
       "      <td>099</td>\n",
       "      <td>Agresiones (homicidio)</td>\n",
       "    </tr>\n",
       "    <tr>\n",
       "      <th>114</th>\n",
       "      <td>100</td>\n",
       "      <td>Eventos de intención no determinada</td>\n",
       "    </tr>\n",
       "    <tr>\n",
       "      <th>115</th>\n",
       "      <td>101</td>\n",
       "      <td>Complicaciones de la atención médica y quirúrgica</td>\n",
       "    </tr>\n",
       "    <tr>\n",
       "      <th>116</th>\n",
       "      <td>102</td>\n",
       "      <td>Otras causas externas y sus efectos tardíos</td>\n",
       "    </tr>\n",
       "  </tbody>\n",
       "</table>\n",
       "<p>117 rows × 2 columns</p>\n",
       "</div>"
      ],
      "text/plain": [
       "    cause_code                                         cause_name\n",
       "0          001              Enfermedades infecciosas intestinales\n",
       "1      001-008          I.Enfermedades infecciosas y parasitarias\n",
       "2      001-102                            I-XXII.Todas las causas\n",
       "3          002                 Tuberculosis y sus efectos tardíos\n",
       "4          003                           Enfermedad meningocócica\n",
       "..         ...                                                ...\n",
       "112        098                 Suicidio y lesiones autoinfligidas\n",
       "113        099                             Agresiones (homicidio)\n",
       "114        100                Eventos de intención no determinada\n",
       "115        101  Complicaciones de la atención médica y quirúrgica\n",
       "116        102        Otras causas externas y sus efectos tardíos\n",
       "\n",
       "[117 rows x 2 columns]"
      ]
     },
     "execution_count": 7,
     "metadata": {},
     "output_type": "execute_result"
    }
   ],
   "source": [
    "# we need also to create a causes table for the analysis\n",
    "\n",
    "causes_table = deaths[['cause_code', 'cause_name']].drop_duplicates().sort_values(by='cause_code').reset_index(drop=True)\n",
    "\n",
    "causes_table"
   ]
  },
  {
   "cell_type": "code",
   "execution_count": 8,
   "metadata": {},
   "outputs": [
    {
     "data": {
      "text/html": [
       "<div>\n",
       "<style scoped>\n",
       "    .dataframe tbody tr th:only-of-type {\n",
       "        vertical-align: middle;\n",
       "    }\n",
       "\n",
       "    .dataframe tbody tr th {\n",
       "        vertical-align: top;\n",
       "    }\n",
       "\n",
       "    .dataframe thead th {\n",
       "        text-align: right;\n",
       "    }\n",
       "</style>\n",
       "<table border=\"1\" class=\"dataframe\">\n",
       "  <thead>\n",
       "    <tr style=\"text-align: right;\">\n",
       "      <th></th>\n",
       "      <th>Causa de muerte</th>\n",
       "      <th>Sexo</th>\n",
       "      <th>Edad</th>\n",
       "      <th>Periodo</th>\n",
       "      <th>Total</th>\n",
       "      <th>cause_code</th>\n",
       "      <th>cause_group</th>\n",
       "      <th>cause_name</th>\n",
       "    </tr>\n",
       "  </thead>\n",
       "  <tbody>\n",
       "    <tr>\n",
       "      <th>301153</th>\n",
       "      <td>102  Otras causas externas y sus efectos tardíos</td>\n",
       "      <td>Mujeres</td>\n",
       "      <td>95 y más años</td>\n",
       "      <td>1984</td>\n",
       "      <td>0</td>\n",
       "      <td>102</td>\n",
       "      <td>Single cause</td>\n",
       "      <td>Otras causas externas y sus efectos tardíos</td>\n",
       "    </tr>\n",
       "    <tr>\n",
       "      <th>301154</th>\n",
       "      <td>102  Otras causas externas y sus efectos tardíos</td>\n",
       "      <td>Mujeres</td>\n",
       "      <td>95 y más años</td>\n",
       "      <td>1983</td>\n",
       "      <td>0</td>\n",
       "      <td>102</td>\n",
       "      <td>Single cause</td>\n",
       "      <td>Otras causas externas y sus efectos tardíos</td>\n",
       "    </tr>\n",
       "    <tr>\n",
       "      <th>301155</th>\n",
       "      <td>102  Otras causas externas y sus efectos tardíos</td>\n",
       "      <td>Mujeres</td>\n",
       "      <td>95 y más años</td>\n",
       "      <td>1982</td>\n",
       "      <td>0</td>\n",
       "      <td>102</td>\n",
       "      <td>Single cause</td>\n",
       "      <td>Otras causas externas y sus efectos tardíos</td>\n",
       "    </tr>\n",
       "    <tr>\n",
       "      <th>301156</th>\n",
       "      <td>102  Otras causas externas y sus efectos tardíos</td>\n",
       "      <td>Mujeres</td>\n",
       "      <td>95 y más años</td>\n",
       "      <td>1981</td>\n",
       "      <td>0</td>\n",
       "      <td>102</td>\n",
       "      <td>Single cause</td>\n",
       "      <td>Otras causas externas y sus efectos tardíos</td>\n",
       "    </tr>\n",
       "    <tr>\n",
       "      <th>301157</th>\n",
       "      <td>102  Otras causas externas y sus efectos tardíos</td>\n",
       "      <td>Mujeres</td>\n",
       "      <td>95 y más años</td>\n",
       "      <td>1980</td>\n",
       "      <td>0</td>\n",
       "      <td>102</td>\n",
       "      <td>Single cause</td>\n",
       "      <td>Otras causas externas y sus efectos tardíos</td>\n",
       "    </tr>\n",
       "  </tbody>\n",
       "</table>\n",
       "</div>"
      ],
      "text/plain": [
       "                                         Causa de muerte     Sexo  \\\n",
       "301153  102  Otras causas externas y sus efectos tardíos  Mujeres   \n",
       "301154  102  Otras causas externas y sus efectos tardíos  Mujeres   \n",
       "301155  102  Otras causas externas y sus efectos tardíos  Mujeres   \n",
       "301156  102  Otras causas externas y sus efectos tardíos  Mujeres   \n",
       "301157  102  Otras causas externas y sus efectos tardíos  Mujeres   \n",
       "\n",
       "                 Edad  Periodo  Total cause_code   cause_group  \\\n",
       "301153  95 y más años     1984      0        102  Single cause   \n",
       "301154  95 y más años     1983      0        102  Single cause   \n",
       "301155  95 y más años     1982      0        102  Single cause   \n",
       "301156  95 y más años     1981      0        102  Single cause   \n",
       "301157  95 y más años     1980      0        102  Single cause   \n",
       "\n",
       "                                         cause_name  \n",
       "301153  Otras causas externas y sus efectos tardíos  \n",
       "301154  Otras causas externas y sus efectos tardíos  \n",
       "301155  Otras causas externas y sus efectos tardíos  \n",
       "301156  Otras causas externas y sus efectos tardíos  \n",
       "301157  Otras causas externas y sus efectos tardíos  "
      ]
     },
     "execution_count": 8,
     "metadata": {},
     "output_type": "execute_result"
    }
   ],
   "source": [
    "deaths.tail(5)"
   ]
  },
  {
   "cell_type": "code",
   "execution_count": 9,
   "metadata": {},
   "outputs": [
    {
     "data": {
      "text/plain": [
       "22"
      ]
     },
     "execution_count": 9,
     "metadata": {},
     "output_type": "execute_result"
    }
   ],
   "source": [
    "# And some space for free-style Pandas!!! (e.g.: df['column_name'].unique())\n",
    "\n",
    "len(deaths['Edad'].unique())"
   ]
  },
  {
   "cell_type": "code",
   "execution_count": 10,
   "metadata": {},
   "outputs": [
    {
     "data": {
      "text/plain": [
       "array(['Todas las edades', 'Menos de 1 año', 'De 1 a 4 años',\n",
       "       'De 5 a 9 años', 'De 10 a 14 años  ', 'De 15 a 19 años  ',\n",
       "       'De 20 a 24 años', 'De 25 a 29 años', 'De 30 a 34 años',\n",
       "       'De 35 a 39 años', 'De 40 a 44 años', 'De 45 a 49 años',\n",
       "       'De 50 a 54 años', 'De 55 a 59 años', 'De 60 a 64 años',\n",
       "       'De 65 a 69 años', 'De 70 a 74 años  ', 'De 75 a 79 años  ',\n",
       "       'De 80 a 84 años  ', 'De 85 a 89 años  ', 'De 90 a 94 años  ',\n",
       "       '95 y más años'], dtype=object)"
      ]
     },
     "execution_count": 10,
     "metadata": {},
     "output_type": "execute_result"
    }
   ],
   "source": [
    "deaths['Edad'].unique()\n"
   ]
  },
  {
   "cell_type": "code",
   "execution_count": 11,
   "metadata": {},
   "outputs": [
    {
     "data": {
      "text/plain": [
       "array([427721, 424523, 410611, ...,   3037,   2666,   2676])"
      ]
     },
     "execution_count": 11,
     "metadata": {},
     "output_type": "execute_result"
    }
   ],
   "source": [
    "deaths['Total'].unique()"
   ]
  },
  {
   "cell_type": "code",
   "execution_count": 12,
   "metadata": {},
   "outputs": [
    {
     "data": {
      "text/plain": [
       "array(['001-102  I-XXII.Todas las causas',\n",
       "       '001-008  I.Enfermedades infecciosas y parasitarias',\n",
       "       '001  Enfermedades infecciosas intestinales',\n",
       "       '002  Tuberculosis y sus efectos tardíos',\n",
       "       '003  Enfermedad meningocócica', '004  Septicemia',\n",
       "       '005  Hepatitis vírica', '006  SIDA',\n",
       "       '007  VIH+ (portador, evidencias de laboratorio del VIH, ...)',\n",
       "       '008  Resto de enfermedades infecciosas y parasitarias y sus efectos tardíos',\n",
       "       '009-041  II.Tumores',\n",
       "       '009  Tumor maligno del labio, de la cavidad bucal y de la faringe',\n",
       "       '010  Tumor maligno del esófago',\n",
       "       '011  Tumor maligno del estómago', '012  Tumor maligno del colon',\n",
       "       '013  Tumor maligno del recto, de la porción rectosigmoide y del ano',\n",
       "       '014  Tumor maligno del hígado y vías biliares intrahepáticas',\n",
       "       '015  Tumor maligno del páncreas',\n",
       "       '016  Otros tumores malignos digestivos',\n",
       "       '017  Tumor maligno de la laringe',\n",
       "       '018  Tumor maligno de la tráquea, de los bronquios y del pulmón',\n",
       "       '019  Otros tumores malignos respiratorios e intratorácicos',\n",
       "       '020  Tumores malignos del hueso y de los cartílagos articulares',\n",
       "       '021  Melanoma maligno de la piel',\n",
       "       '022  Otros tumores malignos de la piel y de los tejidos blandos',\n",
       "       '023  Tumor maligno de la mama',\n",
       "       '024  Tumor maligno del cuello del útero',\n",
       "       '025  Tumor maligno de otras partes del útero',\n",
       "       '026  Tumor maligno del ovario',\n",
       "       '027  Tumores malignos de otros órganos genitales femeninos',\n",
       "       '028  Tumor maligno de la próstata',\n",
       "       '029  Tumores malignos de otros órganos genitales masculinos',\n",
       "       '030  Tumor maligno del riñón, excepto pelvis renal',\n",
       "       '031  Tumor maligno de la vejiga',\n",
       "       '032  Otros tumores malignos de las vías urinarias',\n",
       "       '033  Tumor maligno del encéfalo',\n",
       "       '034  Otros tumores malignos neurológicos y endocrinos',\n",
       "       '035  Tumor maligno de sitios mal definidos, secundarios y de sitios no especificados',\n",
       "       '036  Tumores malignos del tejido linfático, de los órganos hematopoyéticos y de tejidos afines, excepto leucemia',\n",
       "       '037  Leucemia', '038  Tumores in situ', '039  Tumores benignos',\n",
       "       '040  Síndrome mielodisplásico',\n",
       "       '041  Otros tumores de comportamiento incierto o desconocido',\n",
       "       '042-043  III.Enfermedades de la sangre y de los órganos hematopoyéticos, y ciertos trastornos que afectan al mecanismo de la inmunidad',\n",
       "       '042 Enfermedades de la sangre y de los órganos hematopoyéticos',\n",
       "       '043 Ciertos trastornos que afectan al mecanismo de la inmunidad',\n",
       "       '044-045  IV.Enfermedades endocrinas, nutricionales y metabólicas',\n",
       "       '044  Diabetes mellitus',\n",
       "       '045  Otras enfermedades endocrinas, nutricionales y metabólicas',\n",
       "       '046-049  V.Trastornos mentales y del comportamiento',\n",
       "       '046  Trastornos mentales orgánicos, senil y presenil',\n",
       "       '047  Trastornos mentales debidos al uso de alcohol',\n",
       "       '048  Trastornos mentales debidos al uso de drogas (drogodependencia, toxicomanía)',\n",
       "       '049  Otros trastornos mentales y del comportamiento',\n",
       "       '050-052  VI-VIII.Enfermedades del sistema nervioso y de los órganos de los sentidos',\n",
       "       '050  Meningitis (otras en 003)', '051  Enfermedad de Alzheimer',\n",
       "       '052  Otras enfermedades del sistema nervioso y de los órganos de los sentidos',\n",
       "       '053-061 IX.Enfermedades del sistema circulatorio',\n",
       "       '053  Enfermedades cardíacas reumáticas crónicas',\n",
       "       '054  Enfermedades hipertensivas',\n",
       "       '055  Infarto agudo de miocardio',\n",
       "       '056  Otras enfermedades isquémicas del corazón',\n",
       "       '057  Insuficiencia cardíaca',\n",
       "       '058 Otras enfermedades del corazón',\n",
       "       '059  Enfermedades cerebrovasculares', '060  Aterosclerosis',\n",
       "       '061  Otras enfermedades de los vasos sanguíneos',\n",
       "       '062-067  X.Enfermedades del sistema respiratorio',\n",
       "       '062  Influenza (gripe) (incluye gripe aviar y gripe A)',\n",
       "       '063  Neumonía',\n",
       "       '064  Enfermedades crónicas de las vías respiratorias inferiores (excepto asma)',\n",
       "       '065  Asma', '066  Insuficiencia respiratoria',\n",
       "       '067  Otras enfermedades del sistema respiratorio',\n",
       "       '068-072  XI.Enfermedades del sistema digestivo',\n",
       "       '068  Úlcera de estómago, duodeno y yeyuno',\n",
       "       '069  Enteritis y colitis no infecciosas',\n",
       "       '070  Enfermedad vascular intestinal',\n",
       "       '071  Cirrosis y otras enfermedades crónicas del hígado',\n",
       "       '072  Otras enfermedades del sistema digestivo',\n",
       "       '073  XII.Enfermedades de la piel y del tejido subcutáneo',\n",
       "       '074-076  XIII.Enfermedades del sistema osteomuscular y del tejido conjuntivo',\n",
       "       '074  Artritis reumatoide y osteoartrosis',\n",
       "       '075  Osteoporosis y fractura patológica',\n",
       "       '076  Otras enfermedades del sistema osteomuscular y del tejido conjuntivo',\n",
       "       '077-080  XIV.Enfermedades del sistema genitourinario',\n",
       "       '077  Enfermedades del riñón y del uréter',\n",
       "       '078  Enfermedades de los órganos genitales masculinos',\n",
       "       '079  Enfermedades de los órganos genitales femeninos y trastornos de la mama',\n",
       "       '080  Otras enfermedades del sistema genitourinario',\n",
       "       '081  XV.Embarazo, parto y puerperio',\n",
       "       '082  XVI.Afecciones originadas en el periodo perinatal',\n",
       "       '083-085  XVII.Malformaciones congénitas, deformidades y anomalías cromosómicas',\n",
       "       '083  Malformaciones congénitas del sistema nervioso',\n",
       "       '084  Malformaciones congénitas del sistema circulatorio',\n",
       "       '085  Otras malformaciones congénitas, deformidades y anomalías cromosómicas',\n",
       "       '086-089  XVIII.Síntomas, signos y hallazgos anormales clínicos y de laboratorio, no clasificados en otra parte',\n",
       "       '086 Paro cardíaco, muerte sin asistencia y otra causa desconocida de mortalidad',\n",
       "       '087  Senilidad', '088 Muerte súbita infantil',\n",
       "       '089  Resto de síntomas, signos y hallazgos anormales clínicos y de laboratorio, no clasificados en otra parte',\n",
       "       '090-102  XX.Causas externas de mortalidad',\n",
       "       '090  Accidentes de tráfico',\n",
       "       '091  Otros accidentes de transporte', '092  Caídas accidentales',\n",
       "       '093  Ahogamiento, sumersión y sofocación accidentales',\n",
       "       '094  Accidentes por fuego, humo y sustancias calientes',\n",
       "       '095  Envenenamiento accidental por psicofármacos y drogas de abuso',\n",
       "       '096  Otros envenenamientos accidentales', '097  Otros accidentes',\n",
       "       '098  Suicidio y lesiones autoinfligidas',\n",
       "       '099  Agresiones (homicidio)',\n",
       "       '100  Eventos de intención no determinada',\n",
       "       '101  Complicaciones de la atención médica y quirúrgica',\n",
       "       '102  Otras causas externas y sus efectos tardíos'], dtype=object)"
      ]
     },
     "execution_count": 12,
     "metadata": {},
     "output_type": "execute_result"
    }
   ],
   "source": [
    "deaths['Causa de muerte'].unique()"
   ]
  },
  {
   "cell_type": "code",
   "execution_count": 13,
   "metadata": {},
   "outputs": [
    {
     "data": {
      "text/plain": [
       "9002"
      ]
     },
     "execution_count": 13,
     "metadata": {},
     "output_type": "execute_result"
    }
   ],
   "source": [
    "len(deaths['Total'].unique())"
   ]
  },
  {
   "cell_type": "markdown",
   "metadata": {},
   "source": [
    "## Lets make some transformations\n",
    "\n",
    "Eventhough the dataset is pretty clean, the information is completely denormalized as you could see. For that matter a collection of methods (functions) are available in order to generate the tables you might need:\n",
    "\n",
    "- `row_filter(df, cat_var, cat_values)` => Filter rows by any value or group of values in a categorical variable.\n",
    "\n",
    "- `nrow_filter(df, cat_var, cat_values)` => The same but backwards. \n",
    "\n",
    "- `groupby_sum(df, group_vars, agg_var='Total', sort_var='Total')` => Add deaths by a certain variable.\n",
    "\n",
    "- `pivot_table(df, col, x_axis, value='Total')`=> Make some pivot tables, you might need them...\n",
    "\n",
    "__NOTE:__ be aware that the filtering methods can perform a filter at a time. Feel free to perform the filter you need in any way you want or feel confortable with."
   ]
  },
  {
   "cell_type": "code",
   "execution_count": 14,
   "metadata": {},
   "outputs": [
    {
     "data": {
      "text/plain": [
       "\"\\ndataset = mod.row_filter(deaths, 'Sexo', ['Total'])\\ndataset = mod.row_filter(dataset, 'Edad', ['Todas las edades'])\\ndataset.head()\\n\""
      ]
     },
     "execution_count": 14,
     "metadata": {},
     "output_type": "execute_result"
    }
   ],
   "source": [
    "# Example 1\n",
    "'''\n",
    "dataset = mod.row_filter(deaths, 'Sexo', ['Total'])\n",
    "dataset = mod.row_filter(dataset, 'Edad', ['Todas las edades'])\n",
    "dataset.head()\n",
    "'''"
   ]
  },
  {
   "cell_type": "code",
   "execution_count": 15,
   "metadata": {},
   "outputs": [
    {
     "data": {
      "text/html": [
       "<div>\n",
       "<style scoped>\n",
       "    .dataframe tbody tr th:only-of-type {\n",
       "        vertical-align: middle;\n",
       "    }\n",
       "\n",
       "    .dataframe tbody tr th {\n",
       "        vertical-align: top;\n",
       "    }\n",
       "\n",
       "    .dataframe thead th {\n",
       "        text-align: right;\n",
       "    }\n",
       "</style>\n",
       "<table border=\"1\" class=\"dataframe\">\n",
       "  <thead>\n",
       "    <tr style=\"text-align: right;\">\n",
       "      <th></th>\n",
       "      <th>Causa de muerte</th>\n",
       "      <th>Sexo</th>\n",
       "      <th>Edad</th>\n",
       "      <th>Periodo</th>\n",
       "      <th>Total</th>\n",
       "      <th>cause_code</th>\n",
       "      <th>cause_group</th>\n",
       "      <th>cause_name</th>\n",
       "    </tr>\n",
       "  </thead>\n",
       "  <tbody>\n",
       "    <tr>\n",
       "      <th>0</th>\n",
       "      <td>001-102  I-XXII.Todas las causas</td>\n",
       "      <td>Mujeres</td>\n",
       "      <td>De 85 a 89 años</td>\n",
       "      <td>2018</td>\n",
       "      <td>51373</td>\n",
       "      <td>001-102</td>\n",
       "      <td>Multiple causes</td>\n",
       "      <td>I-XXII.Todas las causas</td>\n",
       "    </tr>\n",
       "    <tr>\n",
       "      <th>1</th>\n",
       "      <td>001-102  I-XXII.Todas las causas</td>\n",
       "      <td>Mujeres</td>\n",
       "      <td>De 85 a 89 años</td>\n",
       "      <td>2017</td>\n",
       "      <td>50929</td>\n",
       "      <td>001-102</td>\n",
       "      <td>Multiple causes</td>\n",
       "      <td>I-XXII.Todas las causas</td>\n",
       "    </tr>\n",
       "    <tr>\n",
       "      <th>2</th>\n",
       "      <td>001-102  I-XXII.Todas las causas</td>\n",
       "      <td>Mujeres</td>\n",
       "      <td>De 85 a 89 años</td>\n",
       "      <td>2015</td>\n",
       "      <td>50832</td>\n",
       "      <td>001-102</td>\n",
       "      <td>Multiple causes</td>\n",
       "      <td>I-XXII.Todas las causas</td>\n",
       "    </tr>\n",
       "    <tr>\n",
       "      <th>3</th>\n",
       "      <td>001-102  I-XXII.Todas las causas</td>\n",
       "      <td>Mujeres</td>\n",
       "      <td>De 85 a 89 años</td>\n",
       "      <td>2016</td>\n",
       "      <td>48674</td>\n",
       "      <td>001-102</td>\n",
       "      <td>Multiple causes</td>\n",
       "      <td>I-XXII.Todas las causas</td>\n",
       "    </tr>\n",
       "    <tr>\n",
       "      <th>4</th>\n",
       "      <td>001-102  I-XXII.Todas las causas</td>\n",
       "      <td>Mujeres</td>\n",
       "      <td>De 85 a 89 años</td>\n",
       "      <td>2012</td>\n",
       "      <td>47761</td>\n",
       "      <td>001-102</td>\n",
       "      <td>Multiple causes</td>\n",
       "      <td>I-XXII.Todas las causas</td>\n",
       "    </tr>\n",
       "    <tr>\n",
       "      <th>...</th>\n",
       "      <td>...</td>\n",
       "      <td>...</td>\n",
       "      <td>...</td>\n",
       "      <td>...</td>\n",
       "      <td>...</td>\n",
       "      <td>...</td>\n",
       "      <td>...</td>\n",
       "      <td>...</td>\n",
       "    </tr>\n",
       "    <tr>\n",
       "      <th>191641</th>\n",
       "      <td>069  Enteritis y colitis no infecciosas</td>\n",
       "      <td>Mujeres</td>\n",
       "      <td>Menos de 1 año</td>\n",
       "      <td>1992</td>\n",
       "      <td>0</td>\n",
       "      <td>069</td>\n",
       "      <td>Single cause</td>\n",
       "      <td>Enteritis y colitis no infecciosas</td>\n",
       "    </tr>\n",
       "    <tr>\n",
       "      <th>191642</th>\n",
       "      <td>069  Enteritis y colitis no infecciosas</td>\n",
       "      <td>Mujeres</td>\n",
       "      <td>Menos de 1 año</td>\n",
       "      <td>2007</td>\n",
       "      <td>0</td>\n",
       "      <td>069</td>\n",
       "      <td>Single cause</td>\n",
       "      <td>Enteritis y colitis no infecciosas</td>\n",
       "    </tr>\n",
       "    <tr>\n",
       "      <th>191643</th>\n",
       "      <td>069  Enteritis y colitis no infecciosas</td>\n",
       "      <td>Mujeres</td>\n",
       "      <td>Menos de 1 año</td>\n",
       "      <td>2006</td>\n",
       "      <td>0</td>\n",
       "      <td>069</td>\n",
       "      <td>Single cause</td>\n",
       "      <td>Enteritis y colitis no infecciosas</td>\n",
       "    </tr>\n",
       "    <tr>\n",
       "      <th>191644</th>\n",
       "      <td>069  Enteritis y colitis no infecciosas</td>\n",
       "      <td>Mujeres</td>\n",
       "      <td>Menos de 1 año</td>\n",
       "      <td>2005</td>\n",
       "      <td>0</td>\n",
       "      <td>069</td>\n",
       "      <td>Single cause</td>\n",
       "      <td>Enteritis y colitis no infecciosas</td>\n",
       "    </tr>\n",
       "    <tr>\n",
       "      <th>191645</th>\n",
       "      <td>102  Otras causas externas y sus efectos tardíos</td>\n",
       "      <td>Mujeres</td>\n",
       "      <td>95 y más años</td>\n",
       "      <td>1980</td>\n",
       "      <td>0</td>\n",
       "      <td>102</td>\n",
       "      <td>Single cause</td>\n",
       "      <td>Otras causas externas y sus efectos tardíos</td>\n",
       "    </tr>\n",
       "  </tbody>\n",
       "</table>\n",
       "<p>191646 rows × 8 columns</p>\n",
       "</div>"
      ],
      "text/plain": [
       "                                         Causa de muerte     Sexo  \\\n",
       "0                       001-102  I-XXII.Todas las causas  Mujeres   \n",
       "1                       001-102  I-XXII.Todas las causas  Mujeres   \n",
       "2                       001-102  I-XXII.Todas las causas  Mujeres   \n",
       "3                       001-102  I-XXII.Todas las causas  Mujeres   \n",
       "4                       001-102  I-XXII.Todas las causas  Mujeres   \n",
       "...                                                  ...      ...   \n",
       "191641           069  Enteritis y colitis no infecciosas  Mujeres   \n",
       "191642           069  Enteritis y colitis no infecciosas  Mujeres   \n",
       "191643           069  Enteritis y colitis no infecciosas  Mujeres   \n",
       "191644           069  Enteritis y colitis no infecciosas  Mujeres   \n",
       "191645  102  Otras causas externas y sus efectos tardíos  Mujeres   \n",
       "\n",
       "                     Edad  Periodo  Total cause_code      cause_group  \\\n",
       "0       De 85 a 89 años       2018  51373    001-102  Multiple causes   \n",
       "1       De 85 a 89 años       2017  50929    001-102  Multiple causes   \n",
       "2       De 85 a 89 años       2015  50832    001-102  Multiple causes   \n",
       "3       De 85 a 89 años       2016  48674    001-102  Multiple causes   \n",
       "4       De 85 a 89 años       2012  47761    001-102  Multiple causes   \n",
       "...                   ...      ...    ...        ...              ...   \n",
       "191641     Menos de 1 año     1992      0        069     Single cause   \n",
       "191642     Menos de 1 año     2007      0        069     Single cause   \n",
       "191643     Menos de 1 año     2006      0        069     Single cause   \n",
       "191644     Menos de 1 año     2005      0        069     Single cause   \n",
       "191645      95 y más años     1980      0        102     Single cause   \n",
       "\n",
       "                                         cause_name  \n",
       "0                           I-XXII.Todas las causas  \n",
       "1                           I-XXII.Todas las causas  \n",
       "2                           I-XXII.Todas las causas  \n",
       "3                           I-XXII.Todas las causas  \n",
       "4                           I-XXII.Todas las causas  \n",
       "...                                             ...  \n",
       "191641           Enteritis y colitis no infecciosas  \n",
       "191642           Enteritis y colitis no infecciosas  \n",
       "191643           Enteritis y colitis no infecciosas  \n",
       "191644           Enteritis y colitis no infecciosas  \n",
       "191645  Otras causas externas y sus efectos tardíos  \n",
       "\n",
       "[191646 rows x 8 columns]"
      ]
     },
     "execution_count": 15,
     "metadata": {},
     "output_type": "execute_result"
    }
   ],
   "source": [
    "#LIMPIO DATA SET: filtro género(solo hombres y mujeres) y edad(suprimo todas las edades)\n",
    "#DF QUE TENEMOS:\n",
    "#dataset = CON EDAD Y SEXO FILTRADOS\n",
    "#dataset_causes_fil2 = EDAD, SEXO Y CAUSAS DE MUERTE\n",
    "dataset = mod.row_filter(deaths, 'Sexo', ['Hombres', 'Mujeres'])\n",
    "dataset = mod.nrow_filter(dataset, 'Edad', ['Todas las edades'])\n",
    "#dataset = mod.nrow_filter(dataset, 'Total', [0])\n",
    "dataset"
   ]
  },
  {
   "cell_type": "code",
   "execution_count": 16,
   "metadata": {},
   "outputs": [
    {
     "data": {
      "text/plain": [
       "array(['De 85 a 89 años  ', 'De 90 a 94 años  ', 'De 80 a 84 años  ',\n",
       "       'De 75 a 79 años  ', 'De 70 a 74 años  ', '95 y más años',\n",
       "       'De 65 a 69 años', 'De 60 a 64 años', 'De 55 a 59 años',\n",
       "       'De 50 a 54 años', 'De 45 a 49 años', 'Menos de 1 año',\n",
       "       'De 30 a 34 años', 'De 40 a 44 años', 'De 35 a 39 años',\n",
       "       'De 25 a 29 años', 'De 20 a 24 años', 'De 15 a 19 años  ',\n",
       "       'De 1 a 4 años', 'De 5 a 9 años', 'De 10 a 14 años  '],\n",
       "      dtype=object)"
      ]
     },
     "execution_count": 16,
     "metadata": {},
     "output_type": "execute_result"
    }
   ],
   "source": [
    "dataset['Edad'].unique()"
   ]
  },
  {
   "cell_type": "code",
   "execution_count": 17,
   "metadata": {},
   "outputs": [
    {
     "data": {
      "text/plain": [
       "array(['001-102  I-XXII.Todas las causas',\n",
       "       '001-008  I.Enfermedades infecciosas y parasitarias',\n",
       "       '001  Enfermedades infecciosas intestinales',\n",
       "       '002  Tuberculosis y sus efectos tardíos',\n",
       "       '003  Enfermedad meningocócica', '004  Septicemia',\n",
       "       '005  Hepatitis vírica', '006  SIDA',\n",
       "       '007  VIH+ (portador, evidencias de laboratorio del VIH, ...)',\n",
       "       '008  Resto de enfermedades infecciosas y parasitarias y sus efectos tardíos',\n",
       "       '009-041  II.Tumores',\n",
       "       '009  Tumor maligno del labio, de la cavidad bucal y de la faringe',\n",
       "       '010  Tumor maligno del esófago',\n",
       "       '011  Tumor maligno del estómago', '012  Tumor maligno del colon',\n",
       "       '013  Tumor maligno del recto, de la porción rectosigmoide y del ano',\n",
       "       '014  Tumor maligno del hígado y vías biliares intrahepáticas',\n",
       "       '015  Tumor maligno del páncreas',\n",
       "       '016  Otros tumores malignos digestivos',\n",
       "       '017  Tumor maligno de la laringe',\n",
       "       '018  Tumor maligno de la tráquea, de los bronquios y del pulmón',\n",
       "       '019  Otros tumores malignos respiratorios e intratorácicos',\n",
       "       '020  Tumores malignos del hueso y de los cartílagos articulares',\n",
       "       '021  Melanoma maligno de la piel',\n",
       "       '022  Otros tumores malignos de la piel y de los tejidos blandos',\n",
       "       '023  Tumor maligno de la mama',\n",
       "       '024  Tumor maligno del cuello del útero',\n",
       "       '025  Tumor maligno de otras partes del útero',\n",
       "       '026  Tumor maligno del ovario',\n",
       "       '027  Tumores malignos de otros órganos genitales femeninos',\n",
       "       '028  Tumor maligno de la próstata',\n",
       "       '029  Tumores malignos de otros órganos genitales masculinos',\n",
       "       '030  Tumor maligno del riñón, excepto pelvis renal',\n",
       "       '031  Tumor maligno de la vejiga',\n",
       "       '032  Otros tumores malignos de las vías urinarias',\n",
       "       '033  Tumor maligno del encéfalo',\n",
       "       '034  Otros tumores malignos neurológicos y endocrinos',\n",
       "       '035  Tumor maligno de sitios mal definidos, secundarios y de sitios no especificados',\n",
       "       '036  Tumores malignos del tejido linfático, de los órganos hematopoyéticos y de tejidos afines, excepto leucemia',\n",
       "       '037  Leucemia', '038  Tumores in situ', '039  Tumores benignos',\n",
       "       '040  Síndrome mielodisplásico',\n",
       "       '041  Otros tumores de comportamiento incierto o desconocido',\n",
       "       '042-043  III.Enfermedades de la sangre y de los órganos hematopoyéticos, y ciertos trastornos que afectan al mecanismo de la inmunidad',\n",
       "       '042 Enfermedades de la sangre y de los órganos hematopoyéticos',\n",
       "       '043 Ciertos trastornos que afectan al mecanismo de la inmunidad',\n",
       "       '044-045  IV.Enfermedades endocrinas, nutricionales y metabólicas',\n",
       "       '044  Diabetes mellitus',\n",
       "       '045  Otras enfermedades endocrinas, nutricionales y metabólicas',\n",
       "       '046-049  V.Trastornos mentales y del comportamiento',\n",
       "       '046  Trastornos mentales orgánicos, senil y presenil',\n",
       "       '047  Trastornos mentales debidos al uso de alcohol',\n",
       "       '048  Trastornos mentales debidos al uso de drogas (drogodependencia, toxicomanía)',\n",
       "       '049  Otros trastornos mentales y del comportamiento',\n",
       "       '050-052  VI-VIII.Enfermedades del sistema nervioso y de los órganos de los sentidos',\n",
       "       '050  Meningitis (otras en 003)', '051  Enfermedad de Alzheimer',\n",
       "       '052  Otras enfermedades del sistema nervioso y de los órganos de los sentidos',\n",
       "       '053-061 IX.Enfermedades del sistema circulatorio',\n",
       "       '053  Enfermedades cardíacas reumáticas crónicas',\n",
       "       '054  Enfermedades hipertensivas',\n",
       "       '055  Infarto agudo de miocardio',\n",
       "       '056  Otras enfermedades isquémicas del corazón',\n",
       "       '057  Insuficiencia cardíaca',\n",
       "       '058 Otras enfermedades del corazón',\n",
       "       '059  Enfermedades cerebrovasculares', '060  Aterosclerosis',\n",
       "       '061  Otras enfermedades de los vasos sanguíneos',\n",
       "       '062-067  X.Enfermedades del sistema respiratorio',\n",
       "       '062  Influenza (gripe) (incluye gripe aviar y gripe A)',\n",
       "       '063  Neumonía',\n",
       "       '064  Enfermedades crónicas de las vías respiratorias inferiores (excepto asma)',\n",
       "       '065  Asma', '066  Insuficiencia respiratoria',\n",
       "       '067  Otras enfermedades del sistema respiratorio',\n",
       "       '068-072  XI.Enfermedades del sistema digestivo',\n",
       "       '068  Úlcera de estómago, duodeno y yeyuno',\n",
       "       '069  Enteritis y colitis no infecciosas',\n",
       "       '070  Enfermedad vascular intestinal',\n",
       "       '071  Cirrosis y otras enfermedades crónicas del hígado',\n",
       "       '072  Otras enfermedades del sistema digestivo',\n",
       "       '073  XII.Enfermedades de la piel y del tejido subcutáneo',\n",
       "       '074-076  XIII.Enfermedades del sistema osteomuscular y del tejido conjuntivo',\n",
       "       '074  Artritis reumatoide y osteoartrosis',\n",
       "       '075  Osteoporosis y fractura patológica',\n",
       "       '076  Otras enfermedades del sistema osteomuscular y del tejido conjuntivo',\n",
       "       '077-080  XIV.Enfermedades del sistema genitourinario',\n",
       "       '077  Enfermedades del riñón y del uréter',\n",
       "       '078  Enfermedades de los órganos genitales masculinos',\n",
       "       '079  Enfermedades de los órganos genitales femeninos y trastornos de la mama',\n",
       "       '080  Otras enfermedades del sistema genitourinario',\n",
       "       '081  XV.Embarazo, parto y puerperio',\n",
       "       '082  XVI.Afecciones originadas en el periodo perinatal',\n",
       "       '083-085  XVII.Malformaciones congénitas, deformidades y anomalías cromosómicas',\n",
       "       '083  Malformaciones congénitas del sistema nervioso',\n",
       "       '084  Malformaciones congénitas del sistema circulatorio',\n",
       "       '085  Otras malformaciones congénitas, deformidades y anomalías cromosómicas',\n",
       "       '086-089  XVIII.Síntomas, signos y hallazgos anormales clínicos y de laboratorio, no clasificados en otra parte',\n",
       "       '086 Paro cardíaco, muerte sin asistencia y otra causa desconocida de mortalidad',\n",
       "       '087  Senilidad', '088 Muerte súbita infantil',\n",
       "       '089  Resto de síntomas, signos y hallazgos anormales clínicos y de laboratorio, no clasificados en otra parte',\n",
       "       '090-102  XX.Causas externas de mortalidad',\n",
       "       '090  Accidentes de tráfico',\n",
       "       '091  Otros accidentes de transporte', '092  Caídas accidentales',\n",
       "       '093  Ahogamiento, sumersión y sofocación accidentales',\n",
       "       '094  Accidentes por fuego, humo y sustancias calientes',\n",
       "       '095  Envenenamiento accidental por psicofármacos y drogas de abuso',\n",
       "       '096  Otros envenenamientos accidentales', '097  Otros accidentes',\n",
       "       '098  Suicidio y lesiones autoinfligidas',\n",
       "       '099  Agresiones (homicidio)',\n",
       "       '100  Eventos de intención no determinada',\n",
       "       '101  Complicaciones de la atención médica y quirúrgica',\n",
       "       '102  Otras causas externas y sus efectos tardíos'], dtype=object)"
      ]
     },
     "execution_count": 17,
     "metadata": {},
     "output_type": "execute_result"
    }
   ],
   "source": [
    "deaths['Causa de muerte'].unique()"
   ]
  },
  {
   "cell_type": "code",
   "execution_count": 18,
   "metadata": {},
   "outputs": [],
   "source": [
    "#2º DATA SET CON CAUSAS DE MUERTE FILTRADAS\n",
    "\n",
    "dataset_causes_fil= dataset[dataset['Causa de muerte'].str.contains('-|081|082')]"
   ]
  },
  {
   "cell_type": "code",
   "execution_count": 19,
   "metadata": {},
   "outputs": [
    {
     "name": "stdout",
     "output_type": "stream",
     "text": [
      "<class 'pandas.core.frame.DataFrame'>\n",
      "Int64Index: 27846 entries, 0 to 184913\n",
      "Data columns (total 8 columns):\n",
      " #   Column           Non-Null Count  Dtype \n",
      "---  ------           --------------  ----- \n",
      " 0   Causa de muerte  27846 non-null  object\n",
      " 1   Sexo             27846 non-null  object\n",
      " 2   Edad             27846 non-null  object\n",
      " 3   Periodo          27846 non-null  int64 \n",
      " 4   Total            27846 non-null  int64 \n",
      " 5   cause_code       27846 non-null  object\n",
      " 6   cause_group      27846 non-null  object\n",
      " 7   cause_name       27846 non-null  object\n",
      "dtypes: int64(2), object(6)\n",
      "memory usage: 1.9+ MB\n"
     ]
    }
   ],
   "source": [
    "dataset_causes_fil.info()"
   ]
  },
  {
   "cell_type": "code",
   "execution_count": 20,
   "metadata": {},
   "outputs": [
    {
     "data": {
      "text/html": [
       "<div>\n",
       "<style scoped>\n",
       "    .dataframe tbody tr th:only-of-type {\n",
       "        vertical-align: middle;\n",
       "    }\n",
       "\n",
       "    .dataframe tbody tr th {\n",
       "        vertical-align: top;\n",
       "    }\n",
       "\n",
       "    .dataframe thead th {\n",
       "        text-align: right;\n",
       "    }\n",
       "</style>\n",
       "<table border=\"1\" class=\"dataframe\">\n",
       "  <thead>\n",
       "    <tr style=\"text-align: right;\">\n",
       "      <th></th>\n",
       "      <th>Causa de muerte</th>\n",
       "      <th>Sexo</th>\n",
       "      <th>Edad</th>\n",
       "      <th>Periodo</th>\n",
       "      <th>Total</th>\n",
       "      <th>cause_code</th>\n",
       "      <th>cause_group</th>\n",
       "      <th>cause_name</th>\n",
       "    </tr>\n",
       "  </thead>\n",
       "  <tbody>\n",
       "    <tr>\n",
       "      <th>184360</th>\n",
       "      <td>074-076  XIII.Enfermedades del sistema osteomu...</td>\n",
       "      <td>Mujeres</td>\n",
       "      <td>De 10 a 14 años</td>\n",
       "      <td>2014</td>\n",
       "      <td>0</td>\n",
       "      <td>074-076</td>\n",
       "      <td>Multiple causes</td>\n",
       "      <td>XIII.Enfermedades del sistema osteomuscular y ...</td>\n",
       "    </tr>\n",
       "    <tr>\n",
       "      <th>184361</th>\n",
       "      <td>074-076  XIII.Enfermedades del sistema osteomu...</td>\n",
       "      <td>Mujeres</td>\n",
       "      <td>De 10 a 14 años</td>\n",
       "      <td>2011</td>\n",
       "      <td>0</td>\n",
       "      <td>074-076</td>\n",
       "      <td>Multiple causes</td>\n",
       "      <td>XIII.Enfermedades del sistema osteomuscular y ...</td>\n",
       "    </tr>\n",
       "    <tr>\n",
       "      <th>184362</th>\n",
       "      <td>074-076  XIII.Enfermedades del sistema osteomu...</td>\n",
       "      <td>Mujeres</td>\n",
       "      <td>De 10 a 14 años</td>\n",
       "      <td>2010</td>\n",
       "      <td>0</td>\n",
       "      <td>074-076</td>\n",
       "      <td>Multiple causes</td>\n",
       "      <td>XIII.Enfermedades del sistema osteomuscular y ...</td>\n",
       "    </tr>\n",
       "    <tr>\n",
       "      <th>184364</th>\n",
       "      <td>074-076  XIII.Enfermedades del sistema osteomu...</td>\n",
       "      <td>Mujeres</td>\n",
       "      <td>De 25 a 29 años</td>\n",
       "      <td>1993</td>\n",
       "      <td>0</td>\n",
       "      <td>074-076</td>\n",
       "      <td>Multiple causes</td>\n",
       "      <td>XIII.Enfermedades del sistema osteomuscular y ...</td>\n",
       "    </tr>\n",
       "    <tr>\n",
       "      <th>184913</th>\n",
       "      <td>074-076  XIII.Enfermedades del sistema osteomu...</td>\n",
       "      <td>Mujeres</td>\n",
       "      <td>De 1 a 4 años</td>\n",
       "      <td>1981</td>\n",
       "      <td>0</td>\n",
       "      <td>074-076</td>\n",
       "      <td>Multiple causes</td>\n",
       "      <td>XIII.Enfermedades del sistema osteomuscular y ...</td>\n",
       "    </tr>\n",
       "  </tbody>\n",
       "</table>\n",
       "</div>"
      ],
      "text/plain": [
       "                                          Causa de muerte     Sexo  \\\n",
       "184360  074-076  XIII.Enfermedades del sistema osteomu...  Mujeres   \n",
       "184361  074-076  XIII.Enfermedades del sistema osteomu...  Mujeres   \n",
       "184362  074-076  XIII.Enfermedades del sistema osteomu...  Mujeres   \n",
       "184364  074-076  XIII.Enfermedades del sistema osteomu...  Mujeres   \n",
       "184913  074-076  XIII.Enfermedades del sistema osteomu...  Mujeres   \n",
       "\n",
       "                     Edad  Periodo  Total cause_code      cause_group  \\\n",
       "184360  De 10 a 14 años       2014      0    074-076  Multiple causes   \n",
       "184361  De 10 a 14 años       2011      0    074-076  Multiple causes   \n",
       "184362  De 10 a 14 años       2010      0    074-076  Multiple causes   \n",
       "184364    De 25 a 29 años     1993      0    074-076  Multiple causes   \n",
       "184913      De 1 a 4 años     1981      0    074-076  Multiple causes   \n",
       "\n",
       "                                               cause_name  \n",
       "184360  XIII.Enfermedades del sistema osteomuscular y ...  \n",
       "184361  XIII.Enfermedades del sistema osteomuscular y ...  \n",
       "184362  XIII.Enfermedades del sistema osteomuscular y ...  \n",
       "184364  XIII.Enfermedades del sistema osteomuscular y ...  \n",
       "184913  XIII.Enfermedades del sistema osteomuscular y ...  "
      ]
     },
     "execution_count": 20,
     "metadata": {},
     "output_type": "execute_result"
    }
   ],
   "source": [
    "dataset_causes_fil.tail()"
   ]
  },
  {
   "cell_type": "code",
   "execution_count": 21,
   "metadata": {},
   "outputs": [
    {
     "data": {
      "text/plain": [
       "17"
      ]
     },
     "execution_count": 21,
     "metadata": {},
     "output_type": "execute_result"
    }
   ],
   "source": [
    "len(dataset_causes_fil['Causa de muerte'].unique())"
   ]
  },
  {
   "cell_type": "code",
   "execution_count": 22,
   "metadata": {},
   "outputs": [
    {
     "data": {
      "text/plain": [
       "array(['001-102  I-XXII.Todas las causas',\n",
       "       '053-061 IX.Enfermedades del sistema circulatorio',\n",
       "       '009-041  II.Tumores',\n",
       "       '062-067  X.Enfermedades del sistema respiratorio',\n",
       "       '050-052  VI-VIII.Enfermedades del sistema nervioso y de los órganos de los sentidos',\n",
       "       '046-049  V.Trastornos mentales y del comportamiento',\n",
       "       '068-072  XI.Enfermedades del sistema digestivo',\n",
       "       '077-080  XIV.Enfermedades del sistema genitourinario',\n",
       "       '044-045  IV.Enfermedades endocrinas, nutricionales y metabólicas',\n",
       "       '086-089  XVIII.Síntomas, signos y hallazgos anormales clínicos y de laboratorio, no clasificados en otra parte',\n",
       "       '090-102  XX.Causas externas de mortalidad',\n",
       "       '082  XVI.Afecciones originadas en el periodo perinatal',\n",
       "       '001-008  I.Enfermedades infecciosas y parasitarias',\n",
       "       '083-085  XVII.Malformaciones congénitas, deformidades y anomalías cromosómicas',\n",
       "       '074-076  XIII.Enfermedades del sistema osteomuscular y del tejido conjuntivo',\n",
       "       '042-043  III.Enfermedades de la sangre y de los órganos hematopoyéticos, y ciertos trastornos que afectan al mecanismo de la inmunidad',\n",
       "       '081  XV.Embarazo, parto y puerperio'], dtype=object)"
      ]
     },
     "execution_count": 22,
     "metadata": {},
     "output_type": "execute_result"
    }
   ],
   "source": [
    "dataset_causes_fil['Causa de muerte'].unique()"
   ]
  },
  {
   "cell_type": "code",
   "execution_count": 23,
   "metadata": {},
   "outputs": [],
   "source": [
    "#DF QUE TENEMOS:\n",
    "#dataset = CON EDAD Y SEXO FILTRADOS\n",
    "#dataset_causes_fil2 = EDAD, SEXO Y CAUSAS DE MUERTE"
   ]
  },
  {
   "cell_type": "code",
   "execution_count": 24,
   "metadata": {},
   "outputs": [],
   "source": [
    "#2º DATA SET CON CAUSAS DE MUERTE FILTRADAS\n",
    "#dataset_causes_fil2\n",
    "dataset_causes_fil2= dataset_causes_fil[~dataset_causes_fil['Causa de muerte'].str.contains('Todas las causas')]"
   ]
  },
  {
   "cell_type": "code",
   "execution_count": 25,
   "metadata": {},
   "outputs": [
    {
     "data": {
      "text/plain": [
       "array(['053-061 IX.Enfermedades del sistema circulatorio',\n",
       "       '009-041  II.Tumores',\n",
       "       '062-067  X.Enfermedades del sistema respiratorio',\n",
       "       '050-052  VI-VIII.Enfermedades del sistema nervioso y de los órganos de los sentidos',\n",
       "       '046-049  V.Trastornos mentales y del comportamiento',\n",
       "       '068-072  XI.Enfermedades del sistema digestivo',\n",
       "       '077-080  XIV.Enfermedades del sistema genitourinario',\n",
       "       '044-045  IV.Enfermedades endocrinas, nutricionales y metabólicas',\n",
       "       '086-089  XVIII.Síntomas, signos y hallazgos anormales clínicos y de laboratorio, no clasificados en otra parte',\n",
       "       '090-102  XX.Causas externas de mortalidad',\n",
       "       '082  XVI.Afecciones originadas en el periodo perinatal',\n",
       "       '001-008  I.Enfermedades infecciosas y parasitarias',\n",
       "       '083-085  XVII.Malformaciones congénitas, deformidades y anomalías cromosómicas',\n",
       "       '074-076  XIII.Enfermedades del sistema osteomuscular y del tejido conjuntivo',\n",
       "       '042-043  III.Enfermedades de la sangre y de los órganos hematopoyéticos, y ciertos trastornos que afectan al mecanismo de la inmunidad',\n",
       "       '081  XV.Embarazo, parto y puerperio'], dtype=object)"
      ]
     },
     "execution_count": 25,
     "metadata": {},
     "output_type": "execute_result"
    }
   ],
   "source": [
    "dataset_causes_fil2['Causa de muerte'].unique()"
   ]
  },
  {
   "cell_type": "code",
   "execution_count": 26,
   "metadata": {},
   "outputs": [
    {
     "name": "stdout",
     "output_type": "stream",
     "text": [
      "<class 'pandas.core.frame.DataFrame'>\n",
      "Int64Index: 26208 entries, 308 to 184913\n",
      "Data columns (total 8 columns):\n",
      " #   Column           Non-Null Count  Dtype \n",
      "---  ------           --------------  ----- \n",
      " 0   Causa de muerte  26208 non-null  object\n",
      " 1   Sexo             26208 non-null  object\n",
      " 2   Edad             26208 non-null  object\n",
      " 3   Periodo          26208 non-null  int64 \n",
      " 4   Total            26208 non-null  int64 \n",
      " 5   cause_code       26208 non-null  object\n",
      " 6   cause_group      26208 non-null  object\n",
      " 7   cause_name       26208 non-null  object\n",
      "dtypes: int64(2), object(6)\n",
      "memory usage: 1.8+ MB\n"
     ]
    }
   ],
   "source": [
    "dataset_causes_fil2.info()"
   ]
  },
  {
   "cell_type": "code",
   "execution_count": 27,
   "metadata": {},
   "outputs": [
    {
     "data": {
      "text/html": [
       "<div>\n",
       "<style scoped>\n",
       "    .dataframe tbody tr th:only-of-type {\n",
       "        vertical-align: middle;\n",
       "    }\n",
       "\n",
       "    .dataframe tbody tr th {\n",
       "        vertical-align: top;\n",
       "    }\n",
       "\n",
       "    .dataframe thead th {\n",
       "        text-align: right;\n",
       "    }\n",
       "</style>\n",
       "<table border=\"1\" class=\"dataframe\">\n",
       "  <thead>\n",
       "    <tr style=\"text-align: right;\">\n",
       "      <th></th>\n",
       "      <th>Causa de muerte</th>\n",
       "      <th>Sexo</th>\n",
       "      <th>Edad</th>\n",
       "      <th>Periodo</th>\n",
       "      <th>Total</th>\n",
       "      <th>cause_code</th>\n",
       "      <th>cause_group</th>\n",
       "      <th>cause_name</th>\n",
       "    </tr>\n",
       "  </thead>\n",
       "  <tbody>\n",
       "    <tr>\n",
       "      <th>308</th>\n",
       "      <td>053-061 IX.Enfermedades del sistema circulatorio</td>\n",
       "      <td>Mujeres</td>\n",
       "      <td>De 85 a 89 años</td>\n",
       "      <td>1998</td>\n",
       "      <td>18466</td>\n",
       "      <td>053-061</td>\n",
       "      <td>Multiple causes</td>\n",
       "      <td>IX.Enfermedades del sistema circulatorio</td>\n",
       "    </tr>\n",
       "    <tr>\n",
       "      <th>309</th>\n",
       "      <td>053-061 IX.Enfermedades del sistema circulatorio</td>\n",
       "      <td>Mujeres</td>\n",
       "      <td>De 85 a 89 años</td>\n",
       "      <td>1999</td>\n",
       "      <td>18432</td>\n",
       "      <td>053-061</td>\n",
       "      <td>Multiple causes</td>\n",
       "      <td>IX.Enfermedades del sistema circulatorio</td>\n",
       "    </tr>\n",
       "  </tbody>\n",
       "</table>\n",
       "</div>"
      ],
      "text/plain": [
       "                                      Causa de muerte     Sexo  \\\n",
       "308  053-061 IX.Enfermedades del sistema circulatorio  Mujeres   \n",
       "309  053-061 IX.Enfermedades del sistema circulatorio  Mujeres   \n",
       "\n",
       "                  Edad  Periodo  Total cause_code      cause_group  \\\n",
       "308  De 85 a 89 años       1998  18466    053-061  Multiple causes   \n",
       "309  De 85 a 89 años       1999  18432    053-061  Multiple causes   \n",
       "\n",
       "                                   cause_name  \n",
       "308  IX.Enfermedades del sistema circulatorio  \n",
       "309  IX.Enfermedades del sistema circulatorio  "
      ]
     },
     "execution_count": 27,
     "metadata": {},
     "output_type": "execute_result"
    }
   ],
   "source": [
    "dataset_causes_fil2.head(2)"
   ]
  },
  {
   "cell_type": "code",
   "execution_count": 28,
   "metadata": {},
   "outputs": [
    {
     "data": {
      "text/plain": [
       "39"
      ]
     },
     "execution_count": 28,
     "metadata": {},
     "output_type": "execute_result"
    }
   ],
   "source": [
    "len(dataset_causes_fil2['Periodo'].unique())"
   ]
  },
  {
   "cell_type": "code",
   "execution_count": 29,
   "metadata": {},
   "outputs": [],
   "source": [
    "#DF QUE TENEMOS:\n",
    "#dataset = CON EDAD Y SEXO FILTRADOS\n",
    "#dataset_causes_fil2 = EDAD, SEXO Y CAUSAS DE MUERTE\n",
    "#chart_causesm = DF SOLO CON CAUSA DE MUERTE Y TOTAL DE MUERTES\n",
    "#chart_causesgener= DF DEL TOTAL DE MUERTES POR GÉNERO Y CAUSA"
   ]
  },
  {
   "cell_type": "code",
   "execution_count": 30,
   "metadata": {},
   "outputs": [
    {
     "name": "stdout",
     "output_type": "stream",
     "text": [
      "<class 'pandas.core.frame.DataFrame'>\n",
      "Int64Index: 16 entries, 15 to 0\n",
      "Data columns (total 2 columns):\n",
      " #   Column           Non-Null Count  Dtype \n",
      "---  ------           --------------  ----- \n",
      " 0   Causa de muerte  16 non-null     object\n",
      " 1   Total            16 non-null     int64 \n",
      "dtypes: int64(1), object(1)\n",
      "memory usage: 384.0+ bytes\n"
     ]
    }
   ],
   "source": [
    "causasm = ['Causa de muerte']\n",
    "chart_causesm = mod.groupby_sum(dataset_causes_fil2, causasm).sort_values('Total')\n",
    "chart_causesm.info()\n"
   ]
  },
  {
   "cell_type": "code",
   "execution_count": 31,
   "metadata": {},
   "outputs": [],
   "source": [
    "##1. DIFERENTES CAUSAS DE MUERTE\n",
    "\n",
    "#El siguiente gráfico muestra las diferentes causas de muerte agrupadas en función del sistema al que afecta.\n",
    "#También nos aporta información acerca del nº de muertes según la causa.\n",
    "#Podemos observar por qué motivo mueren más personas."
   ]
  },
  {
   "cell_type": "code",
   "execution_count": 32,
   "metadata": {},
   "outputs": [
    {
     "data": {
      "application/vnd.plotly.v1+json": {
       "config": {
        "plotlyServerURL": "https://plot.ly"
       },
       "data": [
        {
         "alignmentgroup": "True",
         "hovertemplate": "Causa de muerte=%{x}<br>Total muertes según causa=%{text}<extra></extra>",
         "legendgroup": "",
         "marker": {
          "color": "#636efa",
          "pattern": {
           "shape": ""
          }
         },
         "name": "",
         "offsetgroup": "",
         "orientation": "v",
         "showlegend": false,
         "text": [
          754,
          46770,
          48060,
          49284,
          116062,
          246243,
          334786,
          402868,
          431829,
          433540,
          458060,
          629156,
          736556,
          1485807,
          3559432,
          4901487
         ],
         "textposition": "outside",
         "type": "bar",
         "x": [
          "081  XV.Embarazo, parto y puerperio",
          "082  XVI.Afecciones originadas en el periodo perinatal",
          "083-085  XVII.Malformaciones congénitas, deformidades y anomalías cromosómicas",
          "042-043  III.Enfermedades de la sangre y de los órganos hematopoyéticos, y ciertos trastornos que afectan al mecanismo de la inmunidad",
          "074-076  XIII.Enfermedades del sistema osteomuscular y del tejido conjuntivo",
          "001-008  I.Enfermedades infecciosas y parasitarias",
          "077-080  XIV.Enfermedades del sistema genitourinario",
          "046-049  V.Trastornos mentales y del comportamiento",
          "086-089  XVIII.Síntomas, signos y hallazgos anormales clínicos y de laboratorio, no clasificados en otra parte",
          "044-045  IV.Enfermedades endocrinas, nutricionales y metabólicas",
          "050-052  VI-VIII.Enfermedades del sistema nervioso y de los órganos de los sentidos",
          "090-102  XX.Causas externas de mortalidad",
          "068-072  XI.Enfermedades del sistema digestivo",
          "062-067  X.Enfermedades del sistema respiratorio",
          "009-041  II.Tumores",
          "053-061 IX.Enfermedades del sistema circulatorio"
         ],
         "xaxis": "x",
         "y": [
          754,
          46770,
          48060,
          49284,
          116062,
          246243,
          334786,
          402868,
          431829,
          433540,
          458060,
          629156,
          736556,
          1485807,
          3559432,
          4901487
         ],
         "yaxis": "y"
        }
       ],
       "layout": {
        "barmode": "relative",
        "height": 900,
        "legend": {
         "tracegroupgap": 0
        },
        "template": {
         "data": {
          "bar": [
           {
            "error_x": {
             "color": "#2a3f5f"
            },
            "error_y": {
             "color": "#2a3f5f"
            },
            "marker": {
             "line": {
              "color": "#E5ECF6",
              "width": 0.5
             },
             "pattern": {
              "fillmode": "overlay",
              "size": 10,
              "solidity": 0.2
             }
            },
            "type": "bar"
           }
          ],
          "barpolar": [
           {
            "marker": {
             "line": {
              "color": "#E5ECF6",
              "width": 0.5
             },
             "pattern": {
              "fillmode": "overlay",
              "size": 10,
              "solidity": 0.2
             }
            },
            "type": "barpolar"
           }
          ],
          "carpet": [
           {
            "aaxis": {
             "endlinecolor": "#2a3f5f",
             "gridcolor": "white",
             "linecolor": "white",
             "minorgridcolor": "white",
             "startlinecolor": "#2a3f5f"
            },
            "baxis": {
             "endlinecolor": "#2a3f5f",
             "gridcolor": "white",
             "linecolor": "white",
             "minorgridcolor": "white",
             "startlinecolor": "#2a3f5f"
            },
            "type": "carpet"
           }
          ],
          "choropleth": [
           {
            "colorbar": {
             "outlinewidth": 0,
             "ticks": ""
            },
            "type": "choropleth"
           }
          ],
          "contour": [
           {
            "colorbar": {
             "outlinewidth": 0,
             "ticks": ""
            },
            "colorscale": [
             [
              0,
              "#0d0887"
             ],
             [
              0.1111111111111111,
              "#46039f"
             ],
             [
              0.2222222222222222,
              "#7201a8"
             ],
             [
              0.3333333333333333,
              "#9c179e"
             ],
             [
              0.4444444444444444,
              "#bd3786"
             ],
             [
              0.5555555555555556,
              "#d8576b"
             ],
             [
              0.6666666666666666,
              "#ed7953"
             ],
             [
              0.7777777777777778,
              "#fb9f3a"
             ],
             [
              0.8888888888888888,
              "#fdca26"
             ],
             [
              1,
              "#f0f921"
             ]
            ],
            "type": "contour"
           }
          ],
          "contourcarpet": [
           {
            "colorbar": {
             "outlinewidth": 0,
             "ticks": ""
            },
            "type": "contourcarpet"
           }
          ],
          "heatmap": [
           {
            "colorbar": {
             "outlinewidth": 0,
             "ticks": ""
            },
            "colorscale": [
             [
              0,
              "#0d0887"
             ],
             [
              0.1111111111111111,
              "#46039f"
             ],
             [
              0.2222222222222222,
              "#7201a8"
             ],
             [
              0.3333333333333333,
              "#9c179e"
             ],
             [
              0.4444444444444444,
              "#bd3786"
             ],
             [
              0.5555555555555556,
              "#d8576b"
             ],
             [
              0.6666666666666666,
              "#ed7953"
             ],
             [
              0.7777777777777778,
              "#fb9f3a"
             ],
             [
              0.8888888888888888,
              "#fdca26"
             ],
             [
              1,
              "#f0f921"
             ]
            ],
            "type": "heatmap"
           }
          ],
          "heatmapgl": [
           {
            "colorbar": {
             "outlinewidth": 0,
             "ticks": ""
            },
            "colorscale": [
             [
              0,
              "#0d0887"
             ],
             [
              0.1111111111111111,
              "#46039f"
             ],
             [
              0.2222222222222222,
              "#7201a8"
             ],
             [
              0.3333333333333333,
              "#9c179e"
             ],
             [
              0.4444444444444444,
              "#bd3786"
             ],
             [
              0.5555555555555556,
              "#d8576b"
             ],
             [
              0.6666666666666666,
              "#ed7953"
             ],
             [
              0.7777777777777778,
              "#fb9f3a"
             ],
             [
              0.8888888888888888,
              "#fdca26"
             ],
             [
              1,
              "#f0f921"
             ]
            ],
            "type": "heatmapgl"
           }
          ],
          "histogram": [
           {
            "marker": {
             "pattern": {
              "fillmode": "overlay",
              "size": 10,
              "solidity": 0.2
             }
            },
            "type": "histogram"
           }
          ],
          "histogram2d": [
           {
            "colorbar": {
             "outlinewidth": 0,
             "ticks": ""
            },
            "colorscale": [
             [
              0,
              "#0d0887"
             ],
             [
              0.1111111111111111,
              "#46039f"
             ],
             [
              0.2222222222222222,
              "#7201a8"
             ],
             [
              0.3333333333333333,
              "#9c179e"
             ],
             [
              0.4444444444444444,
              "#bd3786"
             ],
             [
              0.5555555555555556,
              "#d8576b"
             ],
             [
              0.6666666666666666,
              "#ed7953"
             ],
             [
              0.7777777777777778,
              "#fb9f3a"
             ],
             [
              0.8888888888888888,
              "#fdca26"
             ],
             [
              1,
              "#f0f921"
             ]
            ],
            "type": "histogram2d"
           }
          ],
          "histogram2dcontour": [
           {
            "colorbar": {
             "outlinewidth": 0,
             "ticks": ""
            },
            "colorscale": [
             [
              0,
              "#0d0887"
             ],
             [
              0.1111111111111111,
              "#46039f"
             ],
             [
              0.2222222222222222,
              "#7201a8"
             ],
             [
              0.3333333333333333,
              "#9c179e"
             ],
             [
              0.4444444444444444,
              "#bd3786"
             ],
             [
              0.5555555555555556,
              "#d8576b"
             ],
             [
              0.6666666666666666,
              "#ed7953"
             ],
             [
              0.7777777777777778,
              "#fb9f3a"
             ],
             [
              0.8888888888888888,
              "#fdca26"
             ],
             [
              1,
              "#f0f921"
             ]
            ],
            "type": "histogram2dcontour"
           }
          ],
          "mesh3d": [
           {
            "colorbar": {
             "outlinewidth": 0,
             "ticks": ""
            },
            "type": "mesh3d"
           }
          ],
          "parcoords": [
           {
            "line": {
             "colorbar": {
              "outlinewidth": 0,
              "ticks": ""
             }
            },
            "type": "parcoords"
           }
          ],
          "pie": [
           {
            "automargin": true,
            "type": "pie"
           }
          ],
          "scatter": [
           {
            "fillpattern": {
             "fillmode": "overlay",
             "size": 10,
             "solidity": 0.2
            },
            "type": "scatter"
           }
          ],
          "scatter3d": [
           {
            "line": {
             "colorbar": {
              "outlinewidth": 0,
              "ticks": ""
             }
            },
            "marker": {
             "colorbar": {
              "outlinewidth": 0,
              "ticks": ""
             }
            },
            "type": "scatter3d"
           }
          ],
          "scattercarpet": [
           {
            "marker": {
             "colorbar": {
              "outlinewidth": 0,
              "ticks": ""
             }
            },
            "type": "scattercarpet"
           }
          ],
          "scattergeo": [
           {
            "marker": {
             "colorbar": {
              "outlinewidth": 0,
              "ticks": ""
             }
            },
            "type": "scattergeo"
           }
          ],
          "scattergl": [
           {
            "marker": {
             "colorbar": {
              "outlinewidth": 0,
              "ticks": ""
             }
            },
            "type": "scattergl"
           }
          ],
          "scattermapbox": [
           {
            "marker": {
             "colorbar": {
              "outlinewidth": 0,
              "ticks": ""
             }
            },
            "type": "scattermapbox"
           }
          ],
          "scatterpolar": [
           {
            "marker": {
             "colorbar": {
              "outlinewidth": 0,
              "ticks": ""
             }
            },
            "type": "scatterpolar"
           }
          ],
          "scatterpolargl": [
           {
            "marker": {
             "colorbar": {
              "outlinewidth": 0,
              "ticks": ""
             }
            },
            "type": "scatterpolargl"
           }
          ],
          "scatterternary": [
           {
            "marker": {
             "colorbar": {
              "outlinewidth": 0,
              "ticks": ""
             }
            },
            "type": "scatterternary"
           }
          ],
          "surface": [
           {
            "colorbar": {
             "outlinewidth": 0,
             "ticks": ""
            },
            "colorscale": [
             [
              0,
              "#0d0887"
             ],
             [
              0.1111111111111111,
              "#46039f"
             ],
             [
              0.2222222222222222,
              "#7201a8"
             ],
             [
              0.3333333333333333,
              "#9c179e"
             ],
             [
              0.4444444444444444,
              "#bd3786"
             ],
             [
              0.5555555555555556,
              "#d8576b"
             ],
             [
              0.6666666666666666,
              "#ed7953"
             ],
             [
              0.7777777777777778,
              "#fb9f3a"
             ],
             [
              0.8888888888888888,
              "#fdca26"
             ],
             [
              1,
              "#f0f921"
             ]
            ],
            "type": "surface"
           }
          ],
          "table": [
           {
            "cells": {
             "fill": {
              "color": "#EBF0F8"
             },
             "line": {
              "color": "white"
             }
            },
            "header": {
             "fill": {
              "color": "#C8D4E3"
             },
             "line": {
              "color": "white"
             }
            },
            "type": "table"
           }
          ]
         },
         "layout": {
          "annotationdefaults": {
           "arrowcolor": "#2a3f5f",
           "arrowhead": 0,
           "arrowwidth": 1
          },
          "autotypenumbers": "strict",
          "coloraxis": {
           "colorbar": {
            "outlinewidth": 0,
            "ticks": ""
           }
          },
          "colorscale": {
           "diverging": [
            [
             0,
             "#8e0152"
            ],
            [
             0.1,
             "#c51b7d"
            ],
            [
             0.2,
             "#de77ae"
            ],
            [
             0.3,
             "#f1b6da"
            ],
            [
             0.4,
             "#fde0ef"
            ],
            [
             0.5,
             "#f7f7f7"
            ],
            [
             0.6,
             "#e6f5d0"
            ],
            [
             0.7,
             "#b8e186"
            ],
            [
             0.8,
             "#7fbc41"
            ],
            [
             0.9,
             "#4d9221"
            ],
            [
             1,
             "#276419"
            ]
           ],
           "sequential": [
            [
             0,
             "#0d0887"
            ],
            [
             0.1111111111111111,
             "#46039f"
            ],
            [
             0.2222222222222222,
             "#7201a8"
            ],
            [
             0.3333333333333333,
             "#9c179e"
            ],
            [
             0.4444444444444444,
             "#bd3786"
            ],
            [
             0.5555555555555556,
             "#d8576b"
            ],
            [
             0.6666666666666666,
             "#ed7953"
            ],
            [
             0.7777777777777778,
             "#fb9f3a"
            ],
            [
             0.8888888888888888,
             "#fdca26"
            ],
            [
             1,
             "#f0f921"
            ]
           ],
           "sequentialminus": [
            [
             0,
             "#0d0887"
            ],
            [
             0.1111111111111111,
             "#46039f"
            ],
            [
             0.2222222222222222,
             "#7201a8"
            ],
            [
             0.3333333333333333,
             "#9c179e"
            ],
            [
             0.4444444444444444,
             "#bd3786"
            ],
            [
             0.5555555555555556,
             "#d8576b"
            ],
            [
             0.6666666666666666,
             "#ed7953"
            ],
            [
             0.7777777777777778,
             "#fb9f3a"
            ],
            [
             0.8888888888888888,
             "#fdca26"
            ],
            [
             1,
             "#f0f921"
            ]
           ]
          },
          "colorway": [
           "#636efa",
           "#EF553B",
           "#00cc96",
           "#ab63fa",
           "#FFA15A",
           "#19d3f3",
           "#FF6692",
           "#B6E880",
           "#FF97FF",
           "#FECB52"
          ],
          "font": {
           "color": "#2a3f5f"
          },
          "geo": {
           "bgcolor": "white",
           "lakecolor": "white",
           "landcolor": "#E5ECF6",
           "showlakes": true,
           "showland": true,
           "subunitcolor": "white"
          },
          "hoverlabel": {
           "align": "left"
          },
          "hovermode": "closest",
          "mapbox": {
           "style": "light"
          },
          "paper_bgcolor": "white",
          "plot_bgcolor": "#E5ECF6",
          "polar": {
           "angularaxis": {
            "gridcolor": "white",
            "linecolor": "white",
            "ticks": ""
           },
           "bgcolor": "#E5ECF6",
           "radialaxis": {
            "gridcolor": "white",
            "linecolor": "white",
            "ticks": ""
           }
          },
          "scene": {
           "xaxis": {
            "backgroundcolor": "#E5ECF6",
            "gridcolor": "white",
            "gridwidth": 2,
            "linecolor": "white",
            "showbackground": true,
            "ticks": "",
            "zerolinecolor": "white"
           },
           "yaxis": {
            "backgroundcolor": "#E5ECF6",
            "gridcolor": "white",
            "gridwidth": 2,
            "linecolor": "white",
            "showbackground": true,
            "ticks": "",
            "zerolinecolor": "white"
           },
           "zaxis": {
            "backgroundcolor": "#E5ECF6",
            "gridcolor": "white",
            "gridwidth": 2,
            "linecolor": "white",
            "showbackground": true,
            "ticks": "",
            "zerolinecolor": "white"
           }
          },
          "shapedefaults": {
           "line": {
            "color": "#2a3f5f"
           }
          },
          "ternary": {
           "aaxis": {
            "gridcolor": "white",
            "linecolor": "white",
            "ticks": ""
           },
           "baxis": {
            "gridcolor": "white",
            "linecolor": "white",
            "ticks": ""
           },
           "bgcolor": "#E5ECF6",
           "caxis": {
            "gridcolor": "white",
            "linecolor": "white",
            "ticks": ""
           }
          },
          "title": {
           "x": 0.05
          },
          "xaxis": {
           "automargin": true,
           "gridcolor": "white",
           "linecolor": "white",
           "ticks": "",
           "title": {
            "standoff": 15
           },
           "zerolinecolor": "white",
           "zerolinewidth": 2
          },
          "yaxis": {
           "automargin": true,
           "gridcolor": "white",
           "linecolor": "white",
           "ticks": "",
           "title": {
            "standoff": 15
           },
           "zerolinecolor": "white",
           "zerolinewidth": 2
          }
         }
        },
        "title": {
         "text": "Total de muertes según tipo de causa"
        },
        "width": 1000,
        "xaxis": {
         "anchor": "y",
         "domain": [
          0,
          1
         ],
         "title": {
          "text": "Causa de muerte"
         }
        },
        "yaxis": {
         "anchor": "x",
         "domain": [
          0,
          1
         ],
         "title": {
          "text": "Total muertes según causa"
         }
        }
       }
      },
      "text/html": [
       "<div>                            <div id=\"92c8007a-5fff-42bd-9da9-a22cb598e78b\" class=\"plotly-graph-div\" style=\"height:900px; width:1000px;\"></div>            <script type=\"text/javascript\">                require([\"plotly\"], function(Plotly) {                    window.PLOTLYENV=window.PLOTLYENV || {};                                    if (document.getElementById(\"92c8007a-5fff-42bd-9da9-a22cb598e78b\")) {                    Plotly.newPlot(                        \"92c8007a-5fff-42bd-9da9-a22cb598e78b\",                        [{\"alignmentgroup\":\"True\",\"hovertemplate\":\"Causa de muerte=%{x}<br>Total muertes seg\\u00fan causa=%{text}<extra></extra>\",\"legendgroup\":\"\",\"marker\":{\"color\":\"#636efa\",\"pattern\":{\"shape\":\"\"}},\"name\":\"\",\"offsetgroup\":\"\",\"orientation\":\"v\",\"showlegend\":false,\"text\":[754.0,46770.0,48060.0,49284.0,116062.0,246243.0,334786.0,402868.0,431829.0,433540.0,458060.0,629156.0,736556.0,1485807.0,3559432.0,4901487.0],\"textposition\":\"outside\",\"x\":[\"081  XV.Embarazo, parto y puerperio\",\"082  XVI.Afecciones originadas en el periodo perinatal\",\"083-085  XVII.Malformaciones cong\\u00e9nitas, deformidades y anomal\\u00edas cromos\\u00f3micas\",\"042-043  III.Enfermedades de la sangre y de los \\u00f3rganos hematopoy\\u00e9ticos, y ciertos trastornos que afectan al mecanismo de la inmunidad\",\"074-076  XIII.Enfermedades del sistema osteomuscular y del tejido conjuntivo\",\"001-008  I.Enfermedades infecciosas y parasitarias\",\"077-080  XIV.Enfermedades del sistema genitourinario\",\"046-049  V.Trastornos mentales y del comportamiento\",\"086-089  XVIII.S\\u00edntomas, signos y hallazgos anormales cl\\u00ednicos y de laboratorio, no clasificados en otra parte\",\"044-045  IV.Enfermedades endocrinas, nutricionales y metab\\u00f3licas\",\"050-052  VI-VIII.Enfermedades del sistema nervioso y de los \\u00f3rganos de los sentidos\",\"090-102  XX.Causas externas de mortalidad\",\"068-072  XI.Enfermedades del sistema digestivo\",\"062-067  X.Enfermedades del sistema respiratorio\",\"009-041  II.Tumores\",\"053-061 IX.Enfermedades del sistema circulatorio\"],\"xaxis\":\"x\",\"y\":[754,46770,48060,49284,116062,246243,334786,402868,431829,433540,458060,629156,736556,1485807,3559432,4901487],\"yaxis\":\"y\",\"type\":\"bar\"}],                        {\"template\":{\"data\":{\"histogram2dcontour\":[{\"type\":\"histogram2dcontour\",\"colorbar\":{\"outlinewidth\":0,\"ticks\":\"\"},\"colorscale\":[[0.0,\"#0d0887\"],[0.1111111111111111,\"#46039f\"],[0.2222222222222222,\"#7201a8\"],[0.3333333333333333,\"#9c179e\"],[0.4444444444444444,\"#bd3786\"],[0.5555555555555556,\"#d8576b\"],[0.6666666666666666,\"#ed7953\"],[0.7777777777777778,\"#fb9f3a\"],[0.8888888888888888,\"#fdca26\"],[1.0,\"#f0f921\"]]}],\"choropleth\":[{\"type\":\"choropleth\",\"colorbar\":{\"outlinewidth\":0,\"ticks\":\"\"}}],\"histogram2d\":[{\"type\":\"histogram2d\",\"colorbar\":{\"outlinewidth\":0,\"ticks\":\"\"},\"colorscale\":[[0.0,\"#0d0887\"],[0.1111111111111111,\"#46039f\"],[0.2222222222222222,\"#7201a8\"],[0.3333333333333333,\"#9c179e\"],[0.4444444444444444,\"#bd3786\"],[0.5555555555555556,\"#d8576b\"],[0.6666666666666666,\"#ed7953\"],[0.7777777777777778,\"#fb9f3a\"],[0.8888888888888888,\"#fdca26\"],[1.0,\"#f0f921\"]]}],\"heatmap\":[{\"type\":\"heatmap\",\"colorbar\":{\"outlinewidth\":0,\"ticks\":\"\"},\"colorscale\":[[0.0,\"#0d0887\"],[0.1111111111111111,\"#46039f\"],[0.2222222222222222,\"#7201a8\"],[0.3333333333333333,\"#9c179e\"],[0.4444444444444444,\"#bd3786\"],[0.5555555555555556,\"#d8576b\"],[0.6666666666666666,\"#ed7953\"],[0.7777777777777778,\"#fb9f3a\"],[0.8888888888888888,\"#fdca26\"],[1.0,\"#f0f921\"]]}],\"heatmapgl\":[{\"type\":\"heatmapgl\",\"colorbar\":{\"outlinewidth\":0,\"ticks\":\"\"},\"colorscale\":[[0.0,\"#0d0887\"],[0.1111111111111111,\"#46039f\"],[0.2222222222222222,\"#7201a8\"],[0.3333333333333333,\"#9c179e\"],[0.4444444444444444,\"#bd3786\"],[0.5555555555555556,\"#d8576b\"],[0.6666666666666666,\"#ed7953\"],[0.7777777777777778,\"#fb9f3a\"],[0.8888888888888888,\"#fdca26\"],[1.0,\"#f0f921\"]]}],\"contourcarpet\":[{\"type\":\"contourcarpet\",\"colorbar\":{\"outlinewidth\":0,\"ticks\":\"\"}}],\"contour\":[{\"type\":\"contour\",\"colorbar\":{\"outlinewidth\":0,\"ticks\":\"\"},\"colorscale\":[[0.0,\"#0d0887\"],[0.1111111111111111,\"#46039f\"],[0.2222222222222222,\"#7201a8\"],[0.3333333333333333,\"#9c179e\"],[0.4444444444444444,\"#bd3786\"],[0.5555555555555556,\"#d8576b\"],[0.6666666666666666,\"#ed7953\"],[0.7777777777777778,\"#fb9f3a\"],[0.8888888888888888,\"#fdca26\"],[1.0,\"#f0f921\"]]}],\"surface\":[{\"type\":\"surface\",\"colorbar\":{\"outlinewidth\":0,\"ticks\":\"\"},\"colorscale\":[[0.0,\"#0d0887\"],[0.1111111111111111,\"#46039f\"],[0.2222222222222222,\"#7201a8\"],[0.3333333333333333,\"#9c179e\"],[0.4444444444444444,\"#bd3786\"],[0.5555555555555556,\"#d8576b\"],[0.6666666666666666,\"#ed7953\"],[0.7777777777777778,\"#fb9f3a\"],[0.8888888888888888,\"#fdca26\"],[1.0,\"#f0f921\"]]}],\"mesh3d\":[{\"type\":\"mesh3d\",\"colorbar\":{\"outlinewidth\":0,\"ticks\":\"\"}}],\"scatter\":[{\"fillpattern\":{\"fillmode\":\"overlay\",\"size\":10,\"solidity\":0.2},\"type\":\"scatter\"}],\"parcoords\":[{\"type\":\"parcoords\",\"line\":{\"colorbar\":{\"outlinewidth\":0,\"ticks\":\"\"}}}],\"scatterpolargl\":[{\"type\":\"scatterpolargl\",\"marker\":{\"colorbar\":{\"outlinewidth\":0,\"ticks\":\"\"}}}],\"bar\":[{\"error_x\":{\"color\":\"#2a3f5f\"},\"error_y\":{\"color\":\"#2a3f5f\"},\"marker\":{\"line\":{\"color\":\"#E5ECF6\",\"width\":0.5},\"pattern\":{\"fillmode\":\"overlay\",\"size\":10,\"solidity\":0.2}},\"type\":\"bar\"}],\"scattergeo\":[{\"type\":\"scattergeo\",\"marker\":{\"colorbar\":{\"outlinewidth\":0,\"ticks\":\"\"}}}],\"scatterpolar\":[{\"type\":\"scatterpolar\",\"marker\":{\"colorbar\":{\"outlinewidth\":0,\"ticks\":\"\"}}}],\"histogram\":[{\"marker\":{\"pattern\":{\"fillmode\":\"overlay\",\"size\":10,\"solidity\":0.2}},\"type\":\"histogram\"}],\"scattergl\":[{\"type\":\"scattergl\",\"marker\":{\"colorbar\":{\"outlinewidth\":0,\"ticks\":\"\"}}}],\"scatter3d\":[{\"type\":\"scatter3d\",\"line\":{\"colorbar\":{\"outlinewidth\":0,\"ticks\":\"\"}},\"marker\":{\"colorbar\":{\"outlinewidth\":0,\"ticks\":\"\"}}}],\"scattermapbox\":[{\"type\":\"scattermapbox\",\"marker\":{\"colorbar\":{\"outlinewidth\":0,\"ticks\":\"\"}}}],\"scatterternary\":[{\"type\":\"scatterternary\",\"marker\":{\"colorbar\":{\"outlinewidth\":0,\"ticks\":\"\"}}}],\"scattercarpet\":[{\"type\":\"scattercarpet\",\"marker\":{\"colorbar\":{\"outlinewidth\":0,\"ticks\":\"\"}}}],\"carpet\":[{\"aaxis\":{\"endlinecolor\":\"#2a3f5f\",\"gridcolor\":\"white\",\"linecolor\":\"white\",\"minorgridcolor\":\"white\",\"startlinecolor\":\"#2a3f5f\"},\"baxis\":{\"endlinecolor\":\"#2a3f5f\",\"gridcolor\":\"white\",\"linecolor\":\"white\",\"minorgridcolor\":\"white\",\"startlinecolor\":\"#2a3f5f\"},\"type\":\"carpet\"}],\"table\":[{\"cells\":{\"fill\":{\"color\":\"#EBF0F8\"},\"line\":{\"color\":\"white\"}},\"header\":{\"fill\":{\"color\":\"#C8D4E3\"},\"line\":{\"color\":\"white\"}},\"type\":\"table\"}],\"barpolar\":[{\"marker\":{\"line\":{\"color\":\"#E5ECF6\",\"width\":0.5},\"pattern\":{\"fillmode\":\"overlay\",\"size\":10,\"solidity\":0.2}},\"type\":\"barpolar\"}],\"pie\":[{\"automargin\":true,\"type\":\"pie\"}]},\"layout\":{\"autotypenumbers\":\"strict\",\"colorway\":[\"#636efa\",\"#EF553B\",\"#00cc96\",\"#ab63fa\",\"#FFA15A\",\"#19d3f3\",\"#FF6692\",\"#B6E880\",\"#FF97FF\",\"#FECB52\"],\"font\":{\"color\":\"#2a3f5f\"},\"hovermode\":\"closest\",\"hoverlabel\":{\"align\":\"left\"},\"paper_bgcolor\":\"white\",\"plot_bgcolor\":\"#E5ECF6\",\"polar\":{\"bgcolor\":\"#E5ECF6\",\"angularaxis\":{\"gridcolor\":\"white\",\"linecolor\":\"white\",\"ticks\":\"\"},\"radialaxis\":{\"gridcolor\":\"white\",\"linecolor\":\"white\",\"ticks\":\"\"}},\"ternary\":{\"bgcolor\":\"#E5ECF6\",\"aaxis\":{\"gridcolor\":\"white\",\"linecolor\":\"white\",\"ticks\":\"\"},\"baxis\":{\"gridcolor\":\"white\",\"linecolor\":\"white\",\"ticks\":\"\"},\"caxis\":{\"gridcolor\":\"white\",\"linecolor\":\"white\",\"ticks\":\"\"}},\"coloraxis\":{\"colorbar\":{\"outlinewidth\":0,\"ticks\":\"\"}},\"colorscale\":{\"sequential\":[[0.0,\"#0d0887\"],[0.1111111111111111,\"#46039f\"],[0.2222222222222222,\"#7201a8\"],[0.3333333333333333,\"#9c179e\"],[0.4444444444444444,\"#bd3786\"],[0.5555555555555556,\"#d8576b\"],[0.6666666666666666,\"#ed7953\"],[0.7777777777777778,\"#fb9f3a\"],[0.8888888888888888,\"#fdca26\"],[1.0,\"#f0f921\"]],\"sequentialminus\":[[0.0,\"#0d0887\"],[0.1111111111111111,\"#46039f\"],[0.2222222222222222,\"#7201a8\"],[0.3333333333333333,\"#9c179e\"],[0.4444444444444444,\"#bd3786\"],[0.5555555555555556,\"#d8576b\"],[0.6666666666666666,\"#ed7953\"],[0.7777777777777778,\"#fb9f3a\"],[0.8888888888888888,\"#fdca26\"],[1.0,\"#f0f921\"]],\"diverging\":[[0,\"#8e0152\"],[0.1,\"#c51b7d\"],[0.2,\"#de77ae\"],[0.3,\"#f1b6da\"],[0.4,\"#fde0ef\"],[0.5,\"#f7f7f7\"],[0.6,\"#e6f5d0\"],[0.7,\"#b8e186\"],[0.8,\"#7fbc41\"],[0.9,\"#4d9221\"],[1,\"#276419\"]]},\"xaxis\":{\"gridcolor\":\"white\",\"linecolor\":\"white\",\"ticks\":\"\",\"title\":{\"standoff\":15},\"zerolinecolor\":\"white\",\"automargin\":true,\"zerolinewidth\":2},\"yaxis\":{\"gridcolor\":\"white\",\"linecolor\":\"white\",\"ticks\":\"\",\"title\":{\"standoff\":15},\"zerolinecolor\":\"white\",\"automargin\":true,\"zerolinewidth\":2},\"scene\":{\"xaxis\":{\"backgroundcolor\":\"#E5ECF6\",\"gridcolor\":\"white\",\"linecolor\":\"white\",\"showbackground\":true,\"ticks\":\"\",\"zerolinecolor\":\"white\",\"gridwidth\":2},\"yaxis\":{\"backgroundcolor\":\"#E5ECF6\",\"gridcolor\":\"white\",\"linecolor\":\"white\",\"showbackground\":true,\"ticks\":\"\",\"zerolinecolor\":\"white\",\"gridwidth\":2},\"zaxis\":{\"backgroundcolor\":\"#E5ECF6\",\"gridcolor\":\"white\",\"linecolor\":\"white\",\"showbackground\":true,\"ticks\":\"\",\"zerolinecolor\":\"white\",\"gridwidth\":2}},\"shapedefaults\":{\"line\":{\"color\":\"#2a3f5f\"}},\"annotationdefaults\":{\"arrowcolor\":\"#2a3f5f\",\"arrowhead\":0,\"arrowwidth\":1},\"geo\":{\"bgcolor\":\"white\",\"landcolor\":\"#E5ECF6\",\"subunitcolor\":\"white\",\"showland\":true,\"showlakes\":true,\"lakecolor\":\"white\"},\"title\":{\"x\":0.05},\"mapbox\":{\"style\":\"light\"}}},\"xaxis\":{\"anchor\":\"y\",\"domain\":[0.0,1.0],\"title\":{\"text\":\"Causa de muerte\"}},\"yaxis\":{\"anchor\":\"x\",\"domain\":[0.0,1.0],\"title\":{\"text\":\"Total muertes seg\\u00fan causa\"}},\"legend\":{\"tracegroupgap\":0},\"title\":{\"text\":\"Total de muertes seg\\u00fan tipo de causa\"},\"barmode\":\"relative\",\"width\":1000,\"height\":900},                        {\"responsive\": true}                    ).then(function(){\n",
       "                            \n",
       "var gd = document.getElementById('92c8007a-5fff-42bd-9da9-a22cb598e78b');\n",
       "var x = new MutationObserver(function (mutations, observer) {{\n",
       "        var display = window.getComputedStyle(gd).display;\n",
       "        if (!display || display === 'none') {{\n",
       "            console.log([gd, 'removed!']);\n",
       "            Plotly.purge(gd);\n",
       "            observer.disconnect();\n",
       "        }}\n",
       "}});\n",
       "\n",
       "// Listen for the removal of the full notebook cells\n",
       "var notebookContainer = gd.closest('#notebook-container');\n",
       "if (notebookContainer) {{\n",
       "    x.observe(notebookContainer, {childList: true});\n",
       "}}\n",
       "\n",
       "// Listen for the clearing of the current output cell\n",
       "var outputEl = gd.closest('.output');\n",
       "if (outputEl) {{\n",
       "    x.observe(outputEl, {childList: true});\n",
       "}}\n",
       "\n",
       "                        })                };                });            </script>        </div>"
      ]
     },
     "metadata": {},
     "output_type": "display_data"
    }
   ],
   "source": [
    "fig= px.bar(data_frame=chart_causesm,\n",
    "           x='Causa de muerte',\n",
    "           y='Total',\n",
    "           labels={'Causa de muerte':'Causa de muerte','Total':'Total muertes según causa'},\n",
    "           title='Total de muertes según tipo de causa',\n",
    "           text='Total')\n",
    "fig.update_layout(width=1000, height=900) #tamaño del gráfico\n",
    "fig.update_traces(textposition='outside')\n",
    "\n",
    "#fig.update_traces(marker_color=['orange', 'green', 'red', 'blue', 'purple', 'yellow','pink'])\n",
    "#la línea anterior pone cada barra de un color\n",
    "#Con el parámetro total se añade la etiqueta"
   ]
  },
  {
   "cell_type": "code",
   "execution_count": 33,
   "metadata": {},
   "outputs": [
    {
     "name": "stdout",
     "output_type": "stream",
     "text": [
      "<class 'pandas.core.frame.DataFrame'>\n",
      "Int64Index: 26208 entries, 308 to 184913\n",
      "Data columns (total 8 columns):\n",
      " #   Column           Non-Null Count  Dtype \n",
      "---  ------           --------------  ----- \n",
      " 0   Causa de muerte  26208 non-null  object\n",
      " 1   Sexo             26208 non-null  object\n",
      " 2   Edad             26208 non-null  object\n",
      " 3   Periodo          26208 non-null  int64 \n",
      " 4   Total            26208 non-null  int64 \n",
      " 5   cause_code       26208 non-null  object\n",
      " 6   cause_group      26208 non-null  object\n",
      " 7   cause_name       26208 non-null  object\n",
      "dtypes: int64(2), object(6)\n",
      "memory usage: 1.8+ MB\n"
     ]
    }
   ],
   "source": [
    "dataset_causes_fil2.info()"
   ]
  },
  {
   "cell_type": "code",
   "execution_count": 34,
   "metadata": {},
   "outputs": [],
   "source": [
    "dataset_causes_fil2['Edad']= dataset_causes_fil2['Edad'].replace({\"95 y más años\": \"De 95 y más años\", \"Menos de 1 año\":\"De 0 años\"})"
   ]
  },
  {
   "cell_type": "code",
   "execution_count": 35,
   "metadata": {},
   "outputs": [
    {
     "data": {
      "text/html": [
       "<div>\n",
       "<style scoped>\n",
       "    .dataframe tbody tr th:only-of-type {\n",
       "        vertical-align: middle;\n",
       "    }\n",
       "\n",
       "    .dataframe tbody tr th {\n",
       "        vertical-align: top;\n",
       "    }\n",
       "\n",
       "    .dataframe thead th {\n",
       "        text-align: right;\n",
       "    }\n",
       "</style>\n",
       "<table border=\"1\" class=\"dataframe\">\n",
       "  <thead>\n",
       "    <tr style=\"text-align: right;\">\n",
       "      <th></th>\n",
       "      <th>Causa de muerte</th>\n",
       "      <th>Sexo</th>\n",
       "      <th>Edad</th>\n",
       "      <th>Periodo</th>\n",
       "      <th>Total</th>\n",
       "      <th>cause_code</th>\n",
       "      <th>cause_group</th>\n",
       "      <th>cause_name</th>\n",
       "    </tr>\n",
       "  </thead>\n",
       "  <tbody>\n",
       "    <tr>\n",
       "      <th>308</th>\n",
       "      <td>053-061 IX.Enfermedades del sistema circulatorio</td>\n",
       "      <td>Mujeres</td>\n",
       "      <td>De 85 a 89 años</td>\n",
       "      <td>1998</td>\n",
       "      <td>18466</td>\n",
       "      <td>053-061</td>\n",
       "      <td>Multiple causes</td>\n",
       "      <td>IX.Enfermedades del sistema circulatorio</td>\n",
       "    </tr>\n",
       "    <tr>\n",
       "      <th>309</th>\n",
       "      <td>053-061 IX.Enfermedades del sistema circulatorio</td>\n",
       "      <td>Mujeres</td>\n",
       "      <td>De 85 a 89 años</td>\n",
       "      <td>1999</td>\n",
       "      <td>18432</td>\n",
       "      <td>053-061</td>\n",
       "      <td>Multiple causes</td>\n",
       "      <td>IX.Enfermedades del sistema circulatorio</td>\n",
       "    </tr>\n",
       "    <tr>\n",
       "      <th>310</th>\n",
       "      <td>053-061 IX.Enfermedades del sistema circulatorio</td>\n",
       "      <td>Mujeres</td>\n",
       "      <td>De 85 a 89 años</td>\n",
       "      <td>2012</td>\n",
       "      <td>18373</td>\n",
       "      <td>053-061</td>\n",
       "      <td>Multiple causes</td>\n",
       "      <td>IX.Enfermedades del sistema circulatorio</td>\n",
       "    </tr>\n",
       "    <tr>\n",
       "      <th>311</th>\n",
       "      <td>053-061 IX.Enfermedades del sistema circulatorio</td>\n",
       "      <td>Mujeres</td>\n",
       "      <td>De 85 a 89 años</td>\n",
       "      <td>2015</td>\n",
       "      <td>18371</td>\n",
       "      <td>053-061</td>\n",
       "      <td>Multiple causes</td>\n",
       "      <td>IX.Enfermedades del sistema circulatorio</td>\n",
       "    </tr>\n",
       "    <tr>\n",
       "      <th>319</th>\n",
       "      <td>053-061 IX.Enfermedades del sistema circulatorio</td>\n",
       "      <td>Mujeres</td>\n",
       "      <td>De 85 a 89 años</td>\n",
       "      <td>1997</td>\n",
       "      <td>18018</td>\n",
       "      <td>053-061</td>\n",
       "      <td>Multiple causes</td>\n",
       "      <td>IX.Enfermedades del sistema circulatorio</td>\n",
       "    </tr>\n",
       "  </tbody>\n",
       "</table>\n",
       "</div>"
      ],
      "text/plain": [
       "                                      Causa de muerte     Sexo  \\\n",
       "308  053-061 IX.Enfermedades del sistema circulatorio  Mujeres   \n",
       "309  053-061 IX.Enfermedades del sistema circulatorio  Mujeres   \n",
       "310  053-061 IX.Enfermedades del sistema circulatorio  Mujeres   \n",
       "311  053-061 IX.Enfermedades del sistema circulatorio  Mujeres   \n",
       "319  053-061 IX.Enfermedades del sistema circulatorio  Mujeres   \n",
       "\n",
       "                  Edad  Periodo  Total cause_code      cause_group  \\\n",
       "308  De 85 a 89 años       1998  18466    053-061  Multiple causes   \n",
       "309  De 85 a 89 años       1999  18432    053-061  Multiple causes   \n",
       "310  De 85 a 89 años       2012  18373    053-061  Multiple causes   \n",
       "311  De 85 a 89 años       2015  18371    053-061  Multiple causes   \n",
       "319  De 85 a 89 años       1997  18018    053-061  Multiple causes   \n",
       "\n",
       "                                   cause_name  \n",
       "308  IX.Enfermedades del sistema circulatorio  \n",
       "309  IX.Enfermedades del sistema circulatorio  \n",
       "310  IX.Enfermedades del sistema circulatorio  \n",
       "311  IX.Enfermedades del sistema circulatorio  \n",
       "319  IX.Enfermedades del sistema circulatorio  "
      ]
     },
     "execution_count": 35,
     "metadata": {},
     "output_type": "execute_result"
    }
   ],
   "source": [
    "dataset_causes_fil2.head()"
   ]
  },
  {
   "cell_type": "code",
   "execution_count": 36,
   "metadata": {},
   "outputs": [],
   "source": [
    "#muertes por genero/causa\n",
    "causasm = ['Causa de muerte']\n",
    "genero = ['Sexo']\n",
    "chart_causesgener = dataset_causes_fil2.groupby(causasm + genero).agg({'Total': 'sum'}).sort_values('Total').reset_index()\n"
   ]
  },
  {
   "cell_type": "code",
   "execution_count": 37,
   "metadata": {},
   "outputs": [
    {
     "data": {
      "text/html": [
       "<div>\n",
       "<style scoped>\n",
       "    .dataframe tbody tr th:only-of-type {\n",
       "        vertical-align: middle;\n",
       "    }\n",
       "\n",
       "    .dataframe tbody tr th {\n",
       "        vertical-align: top;\n",
       "    }\n",
       "\n",
       "    .dataframe thead th {\n",
       "        text-align: right;\n",
       "    }\n",
       "</style>\n",
       "<table border=\"1\" class=\"dataframe\">\n",
       "  <thead>\n",
       "    <tr style=\"text-align: right;\">\n",
       "      <th></th>\n",
       "      <th>Causa de muerte</th>\n",
       "      <th>Sexo</th>\n",
       "      <th>Total</th>\n",
       "    </tr>\n",
       "  </thead>\n",
       "  <tbody>\n",
       "    <tr>\n",
       "      <th>0</th>\n",
       "      <td>081  XV.Embarazo, parto y puerperio</td>\n",
       "      <td>Hombres</td>\n",
       "      <td>0</td>\n",
       "    </tr>\n",
       "    <tr>\n",
       "      <th>1</th>\n",
       "      <td>081  XV.Embarazo, parto y puerperio</td>\n",
       "      <td>Mujeres</td>\n",
       "      <td>754</td>\n",
       "    </tr>\n",
       "    <tr>\n",
       "      <th>2</th>\n",
       "      <td>082  XVI.Afecciones originadas en el periodo p...</td>\n",
       "      <td>Mujeres</td>\n",
       "      <td>19819</td>\n",
       "    </tr>\n",
       "    <tr>\n",
       "      <th>3</th>\n",
       "      <td>042-043  III.Enfermedades de la sangre y de lo...</td>\n",
       "      <td>Hombres</td>\n",
       "      <td>21856</td>\n",
       "    </tr>\n",
       "    <tr>\n",
       "      <th>4</th>\n",
       "      <td>083-085  XVII.Malformaciones congénitas, defor...</td>\n",
       "      <td>Mujeres</td>\n",
       "      <td>22347</td>\n",
       "    </tr>\n",
       "    <tr>\n",
       "      <th>5</th>\n",
       "      <td>083-085  XVII.Malformaciones congénitas, defor...</td>\n",
       "      <td>Hombres</td>\n",
       "      <td>25713</td>\n",
       "    </tr>\n",
       "  </tbody>\n",
       "</table>\n",
       "</div>"
      ],
      "text/plain": [
       "                                     Causa de muerte     Sexo  Total\n",
       "0                081  XV.Embarazo, parto y puerperio  Hombres      0\n",
       "1                081  XV.Embarazo, parto y puerperio  Mujeres    754\n",
       "2  082  XVI.Afecciones originadas en el periodo p...  Mujeres  19819\n",
       "3  042-043  III.Enfermedades de la sangre y de lo...  Hombres  21856\n",
       "4  083-085  XVII.Malformaciones congénitas, defor...  Mujeres  22347\n",
       "5  083-085  XVII.Malformaciones congénitas, defor...  Hombres  25713"
      ]
     },
     "execution_count": 37,
     "metadata": {},
     "output_type": "execute_result"
    }
   ],
   "source": [
    "chart_causesgener.head(6)"
   ]
  },
  {
   "cell_type": "code",
   "execution_count": 38,
   "metadata": {},
   "outputs": [],
   "source": [
    "#DF QUE TENEMOS:\n",
    "#dataset = CON EDAD Y SEXO FILTRADOS\n",
    "#dataset_causes_fil2 = filtrados EDAD, SEXO Y CAUSAS DE MUERTE\n",
    "#chart_causesm = DF SOLO CON CAUSA DE MUERTE Y TOTAL DE MUERTES\n",
    "#chart_causesgener= DF DEL TOTAL DE MUERTES POR GÉNERO Y CAUSA"
   ]
  },
  {
   "cell_type": "code",
   "execution_count": 39,
   "metadata": {},
   "outputs": [
    {
     "data": {
      "text/plain": [
       "21"
      ]
     },
     "execution_count": 39,
     "metadata": {},
     "output_type": "execute_result"
    }
   ],
   "source": [
    "len(dataset_causes_fil2['Edad'].unique())"
   ]
  },
  {
   "cell_type": "code",
   "execution_count": 70,
   "metadata": {},
   "outputs": [
    {
     "data": {
      "application/vnd.plotly.v1+json": {
       "config": {
        "plotlyServerURL": "https://plot.ly"
       },
       "data": [
        {
         "alignmentgroup": "True",
         "hovertemplate": "Sexo=Hombres<br>Distribución causa/género=%{x}<br>Total muertes según causa=%{y}<extra></extra>",
         "legendgroup": "Hombres",
         "marker": {
          "color": "blue",
          "pattern": {
           "shape": ""
          }
         },
         "name": "Hombres",
         "offsetgroup": "Hombres",
         "orientation": "v",
         "showlegend": true,
         "textposition": "auto",
         "type": "bar",
         "x": [
          "081  XV.Embarazo, parto y puerperio",
          "042-043  III.Enfermedades de la sangre y de los órganos hematopoyéticos, y ciertos trastornos que afectan al mecanismo de la inmunidad",
          "083-085  XVII.Malformaciones congénitas, deformidades y anomalías cromosómicas",
          "082  XVI.Afecciones originadas en el periodo perinatal",
          "074-076  XIII.Enfermedades del sistema osteomuscular y del tejido conjuntivo",
          "046-049  V.Trastornos mentales y del comportamiento",
          "001-008  I.Enfermedades infecciosas y parasitarias",
          "077-080  XIV.Enfermedades del sistema genitourinario",
          "044-045  IV.Enfermedades endocrinas, nutricionales y metabólicas",
          "050-052  VI-VIII.Enfermedades del sistema nervioso y de los órganos de los sentidos",
          "086-089  XVIII.Síntomas, signos y hallazgos anormales clínicos y de laboratorio, no clasificados en otra parte",
          "068-072  XI.Enfermedades del sistema digestivo",
          "090-102  XX.Causas externas de mortalidad",
          "062-067  X.Enfermedades del sistema respiratorio",
          "009-041  II.Tumores",
          "053-061 IX.Enfermedades del sistema circulatorio"
         ],
         "xaxis": "x",
         "y": [
          0,
          21856,
          25713,
          26951,
          35814,
          140595,
          144034,
          160926,
          167277,
          189076,
          195376,
          412459,
          441234,
          870072,
          2185593,
          2236849
         ],
         "yaxis": "y"
        },
        {
         "alignmentgroup": "True",
         "hovertemplate": "Sexo=Mujeres<br>Distribución causa/género=%{x}<br>Total muertes según causa=%{y}<extra></extra>",
         "legendgroup": "Mujeres",
         "marker": {
          "color": "white",
          "pattern": {
           "shape": ""
          }
         },
         "name": "Mujeres",
         "offsetgroup": "Mujeres",
         "orientation": "v",
         "showlegend": true,
         "textposition": "auto",
         "type": "bar",
         "x": [
          "081  XV.Embarazo, parto y puerperio",
          "082  XVI.Afecciones originadas en el periodo perinatal",
          "083-085  XVII.Malformaciones congénitas, deformidades y anomalías cromosómicas",
          "042-043  III.Enfermedades de la sangre y de los órganos hematopoyéticos, y ciertos trastornos que afectan al mecanismo de la inmunidad",
          "074-076  XIII.Enfermedades del sistema osteomuscular y del tejido conjuntivo",
          "001-008  I.Enfermedades infecciosas y parasitarias",
          "077-080  XIV.Enfermedades del sistema genitourinario",
          "090-102  XX.Causas externas de mortalidad",
          "086-089  XVIII.Síntomas, signos y hallazgos anormales clínicos y de laboratorio, no clasificados en otra parte",
          "046-049  V.Trastornos mentales y del comportamiento",
          "044-045  IV.Enfermedades endocrinas, nutricionales y metabólicas",
          "050-052  VI-VIII.Enfermedades del sistema nervioso y de los órganos de los sentidos",
          "068-072  XI.Enfermedades del sistema digestivo",
          "062-067  X.Enfermedades del sistema respiratorio",
          "009-041  II.Tumores",
          "053-061 IX.Enfermedades del sistema circulatorio"
         ],
         "xaxis": "x",
         "y": [
          754,
          19819,
          22347,
          27428,
          80248,
          102209,
          173860,
          187922,
          236453,
          262273,
          266263,
          268984,
          324097,
          615735,
          1373839,
          2664638
         ],
         "yaxis": "y"
        }
       ],
       "layout": {
        "barmode": "group",
        "height": 1500,
        "legend": {
         "title": {
          "text": "Sexo"
         },
         "tracegroupgap": 0
        },
        "template": {
         "data": {
          "bar": [
           {
            "error_x": {
             "color": "#2a3f5f"
            },
            "error_y": {
             "color": "#2a3f5f"
            },
            "marker": {
             "line": {
              "color": "#E5ECF6",
              "width": 0.5
             },
             "pattern": {
              "fillmode": "overlay",
              "size": 10,
              "solidity": 0.2
             }
            },
            "type": "bar"
           }
          ],
          "barpolar": [
           {
            "marker": {
             "line": {
              "color": "#E5ECF6",
              "width": 0.5
             },
             "pattern": {
              "fillmode": "overlay",
              "size": 10,
              "solidity": 0.2
             }
            },
            "type": "barpolar"
           }
          ],
          "carpet": [
           {
            "aaxis": {
             "endlinecolor": "#2a3f5f",
             "gridcolor": "white",
             "linecolor": "white",
             "minorgridcolor": "white",
             "startlinecolor": "#2a3f5f"
            },
            "baxis": {
             "endlinecolor": "#2a3f5f",
             "gridcolor": "white",
             "linecolor": "white",
             "minorgridcolor": "white",
             "startlinecolor": "#2a3f5f"
            },
            "type": "carpet"
           }
          ],
          "choropleth": [
           {
            "colorbar": {
             "outlinewidth": 0,
             "ticks": ""
            },
            "type": "choropleth"
           }
          ],
          "contour": [
           {
            "colorbar": {
             "outlinewidth": 0,
             "ticks": ""
            },
            "colorscale": [
             [
              0,
              "#0d0887"
             ],
             [
              0.1111111111111111,
              "#46039f"
             ],
             [
              0.2222222222222222,
              "#7201a8"
             ],
             [
              0.3333333333333333,
              "#9c179e"
             ],
             [
              0.4444444444444444,
              "#bd3786"
             ],
             [
              0.5555555555555556,
              "#d8576b"
             ],
             [
              0.6666666666666666,
              "#ed7953"
             ],
             [
              0.7777777777777778,
              "#fb9f3a"
             ],
             [
              0.8888888888888888,
              "#fdca26"
             ],
             [
              1,
              "#f0f921"
             ]
            ],
            "type": "contour"
           }
          ],
          "contourcarpet": [
           {
            "colorbar": {
             "outlinewidth": 0,
             "ticks": ""
            },
            "type": "contourcarpet"
           }
          ],
          "heatmap": [
           {
            "colorbar": {
             "outlinewidth": 0,
             "ticks": ""
            },
            "colorscale": [
             [
              0,
              "#0d0887"
             ],
             [
              0.1111111111111111,
              "#46039f"
             ],
             [
              0.2222222222222222,
              "#7201a8"
             ],
             [
              0.3333333333333333,
              "#9c179e"
             ],
             [
              0.4444444444444444,
              "#bd3786"
             ],
             [
              0.5555555555555556,
              "#d8576b"
             ],
             [
              0.6666666666666666,
              "#ed7953"
             ],
             [
              0.7777777777777778,
              "#fb9f3a"
             ],
             [
              0.8888888888888888,
              "#fdca26"
             ],
             [
              1,
              "#f0f921"
             ]
            ],
            "type": "heatmap"
           }
          ],
          "heatmapgl": [
           {
            "colorbar": {
             "outlinewidth": 0,
             "ticks": ""
            },
            "colorscale": [
             [
              0,
              "#0d0887"
             ],
             [
              0.1111111111111111,
              "#46039f"
             ],
             [
              0.2222222222222222,
              "#7201a8"
             ],
             [
              0.3333333333333333,
              "#9c179e"
             ],
             [
              0.4444444444444444,
              "#bd3786"
             ],
             [
              0.5555555555555556,
              "#d8576b"
             ],
             [
              0.6666666666666666,
              "#ed7953"
             ],
             [
              0.7777777777777778,
              "#fb9f3a"
             ],
             [
              0.8888888888888888,
              "#fdca26"
             ],
             [
              1,
              "#f0f921"
             ]
            ],
            "type": "heatmapgl"
           }
          ],
          "histogram": [
           {
            "marker": {
             "pattern": {
              "fillmode": "overlay",
              "size": 10,
              "solidity": 0.2
             }
            },
            "type": "histogram"
           }
          ],
          "histogram2d": [
           {
            "colorbar": {
             "outlinewidth": 0,
             "ticks": ""
            },
            "colorscale": [
             [
              0,
              "#0d0887"
             ],
             [
              0.1111111111111111,
              "#46039f"
             ],
             [
              0.2222222222222222,
              "#7201a8"
             ],
             [
              0.3333333333333333,
              "#9c179e"
             ],
             [
              0.4444444444444444,
              "#bd3786"
             ],
             [
              0.5555555555555556,
              "#d8576b"
             ],
             [
              0.6666666666666666,
              "#ed7953"
             ],
             [
              0.7777777777777778,
              "#fb9f3a"
             ],
             [
              0.8888888888888888,
              "#fdca26"
             ],
             [
              1,
              "#f0f921"
             ]
            ],
            "type": "histogram2d"
           }
          ],
          "histogram2dcontour": [
           {
            "colorbar": {
             "outlinewidth": 0,
             "ticks": ""
            },
            "colorscale": [
             [
              0,
              "#0d0887"
             ],
             [
              0.1111111111111111,
              "#46039f"
             ],
             [
              0.2222222222222222,
              "#7201a8"
             ],
             [
              0.3333333333333333,
              "#9c179e"
             ],
             [
              0.4444444444444444,
              "#bd3786"
             ],
             [
              0.5555555555555556,
              "#d8576b"
             ],
             [
              0.6666666666666666,
              "#ed7953"
             ],
             [
              0.7777777777777778,
              "#fb9f3a"
             ],
             [
              0.8888888888888888,
              "#fdca26"
             ],
             [
              1,
              "#f0f921"
             ]
            ],
            "type": "histogram2dcontour"
           }
          ],
          "mesh3d": [
           {
            "colorbar": {
             "outlinewidth": 0,
             "ticks": ""
            },
            "type": "mesh3d"
           }
          ],
          "parcoords": [
           {
            "line": {
             "colorbar": {
              "outlinewidth": 0,
              "ticks": ""
             }
            },
            "type": "parcoords"
           }
          ],
          "pie": [
           {
            "automargin": true,
            "type": "pie"
           }
          ],
          "scatter": [
           {
            "fillpattern": {
             "fillmode": "overlay",
             "size": 10,
             "solidity": 0.2
            },
            "type": "scatter"
           }
          ],
          "scatter3d": [
           {
            "line": {
             "colorbar": {
              "outlinewidth": 0,
              "ticks": ""
             }
            },
            "marker": {
             "colorbar": {
              "outlinewidth": 0,
              "ticks": ""
             }
            },
            "type": "scatter3d"
           }
          ],
          "scattercarpet": [
           {
            "marker": {
             "colorbar": {
              "outlinewidth": 0,
              "ticks": ""
             }
            },
            "type": "scattercarpet"
           }
          ],
          "scattergeo": [
           {
            "marker": {
             "colorbar": {
              "outlinewidth": 0,
              "ticks": ""
             }
            },
            "type": "scattergeo"
           }
          ],
          "scattergl": [
           {
            "marker": {
             "colorbar": {
              "outlinewidth": 0,
              "ticks": ""
             }
            },
            "type": "scattergl"
           }
          ],
          "scattermapbox": [
           {
            "marker": {
             "colorbar": {
              "outlinewidth": 0,
              "ticks": ""
             }
            },
            "type": "scattermapbox"
           }
          ],
          "scatterpolar": [
           {
            "marker": {
             "colorbar": {
              "outlinewidth": 0,
              "ticks": ""
             }
            },
            "type": "scatterpolar"
           }
          ],
          "scatterpolargl": [
           {
            "marker": {
             "colorbar": {
              "outlinewidth": 0,
              "ticks": ""
             }
            },
            "type": "scatterpolargl"
           }
          ],
          "scatterternary": [
           {
            "marker": {
             "colorbar": {
              "outlinewidth": 0,
              "ticks": ""
             }
            },
            "type": "scatterternary"
           }
          ],
          "surface": [
           {
            "colorbar": {
             "outlinewidth": 0,
             "ticks": ""
            },
            "colorscale": [
             [
              0,
              "#0d0887"
             ],
             [
              0.1111111111111111,
              "#46039f"
             ],
             [
              0.2222222222222222,
              "#7201a8"
             ],
             [
              0.3333333333333333,
              "#9c179e"
             ],
             [
              0.4444444444444444,
              "#bd3786"
             ],
             [
              0.5555555555555556,
              "#d8576b"
             ],
             [
              0.6666666666666666,
              "#ed7953"
             ],
             [
              0.7777777777777778,
              "#fb9f3a"
             ],
             [
              0.8888888888888888,
              "#fdca26"
             ],
             [
              1,
              "#f0f921"
             ]
            ],
            "type": "surface"
           }
          ],
          "table": [
           {
            "cells": {
             "fill": {
              "color": "#EBF0F8"
             },
             "line": {
              "color": "white"
             }
            },
            "header": {
             "fill": {
              "color": "#C8D4E3"
             },
             "line": {
              "color": "white"
             }
            },
            "type": "table"
           }
          ]
         },
         "layout": {
          "annotationdefaults": {
           "arrowcolor": "#2a3f5f",
           "arrowhead": 0,
           "arrowwidth": 1
          },
          "autotypenumbers": "strict",
          "coloraxis": {
           "colorbar": {
            "outlinewidth": 0,
            "ticks": ""
           }
          },
          "colorscale": {
           "diverging": [
            [
             0,
             "#8e0152"
            ],
            [
             0.1,
             "#c51b7d"
            ],
            [
             0.2,
             "#de77ae"
            ],
            [
             0.3,
             "#f1b6da"
            ],
            [
             0.4,
             "#fde0ef"
            ],
            [
             0.5,
             "#f7f7f7"
            ],
            [
             0.6,
             "#e6f5d0"
            ],
            [
             0.7,
             "#b8e186"
            ],
            [
             0.8,
             "#7fbc41"
            ],
            [
             0.9,
             "#4d9221"
            ],
            [
             1,
             "#276419"
            ]
           ],
           "sequential": [
            [
             0,
             "#0d0887"
            ],
            [
             0.1111111111111111,
             "#46039f"
            ],
            [
             0.2222222222222222,
             "#7201a8"
            ],
            [
             0.3333333333333333,
             "#9c179e"
            ],
            [
             0.4444444444444444,
             "#bd3786"
            ],
            [
             0.5555555555555556,
             "#d8576b"
            ],
            [
             0.6666666666666666,
             "#ed7953"
            ],
            [
             0.7777777777777778,
             "#fb9f3a"
            ],
            [
             0.8888888888888888,
             "#fdca26"
            ],
            [
             1,
             "#f0f921"
            ]
           ],
           "sequentialminus": [
            [
             0,
             "#0d0887"
            ],
            [
             0.1111111111111111,
             "#46039f"
            ],
            [
             0.2222222222222222,
             "#7201a8"
            ],
            [
             0.3333333333333333,
             "#9c179e"
            ],
            [
             0.4444444444444444,
             "#bd3786"
            ],
            [
             0.5555555555555556,
             "#d8576b"
            ],
            [
             0.6666666666666666,
             "#ed7953"
            ],
            [
             0.7777777777777778,
             "#fb9f3a"
            ],
            [
             0.8888888888888888,
             "#fdca26"
            ],
            [
             1,
             "#f0f921"
            ]
           ]
          },
          "colorway": [
           "#636efa",
           "#EF553B",
           "#00cc96",
           "#ab63fa",
           "#FFA15A",
           "#19d3f3",
           "#FF6692",
           "#B6E880",
           "#FF97FF",
           "#FECB52"
          ],
          "font": {
           "color": "#2a3f5f"
          },
          "geo": {
           "bgcolor": "white",
           "lakecolor": "white",
           "landcolor": "#E5ECF6",
           "showlakes": true,
           "showland": true,
           "subunitcolor": "white"
          },
          "hoverlabel": {
           "align": "left"
          },
          "hovermode": "closest",
          "mapbox": {
           "style": "light"
          },
          "paper_bgcolor": "white",
          "plot_bgcolor": "#E5ECF6",
          "polar": {
           "angularaxis": {
            "gridcolor": "white",
            "linecolor": "white",
            "ticks": ""
           },
           "bgcolor": "#E5ECF6",
           "radialaxis": {
            "gridcolor": "white",
            "linecolor": "white",
            "ticks": ""
           }
          },
          "scene": {
           "xaxis": {
            "backgroundcolor": "#E5ECF6",
            "gridcolor": "white",
            "gridwidth": 2,
            "linecolor": "white",
            "showbackground": true,
            "ticks": "",
            "zerolinecolor": "white"
           },
           "yaxis": {
            "backgroundcolor": "#E5ECF6",
            "gridcolor": "white",
            "gridwidth": 2,
            "linecolor": "white",
            "showbackground": true,
            "ticks": "",
            "zerolinecolor": "white"
           },
           "zaxis": {
            "backgroundcolor": "#E5ECF6",
            "gridcolor": "white",
            "gridwidth": 2,
            "linecolor": "white",
            "showbackground": true,
            "ticks": "",
            "zerolinecolor": "white"
           }
          },
          "shapedefaults": {
           "line": {
            "color": "#2a3f5f"
           }
          },
          "ternary": {
           "aaxis": {
            "gridcolor": "white",
            "linecolor": "white",
            "ticks": ""
           },
           "baxis": {
            "gridcolor": "white",
            "linecolor": "white",
            "ticks": ""
           },
           "bgcolor": "#E5ECF6",
           "caxis": {
            "gridcolor": "white",
            "linecolor": "white",
            "ticks": ""
           }
          },
          "title": {
           "x": 0.05
          },
          "xaxis": {
           "automargin": true,
           "gridcolor": "white",
           "linecolor": "white",
           "ticks": "",
           "title": {
            "standoff": 15
           },
           "zerolinecolor": "white",
           "zerolinewidth": 2
          },
          "yaxis": {
           "automargin": true,
           "gridcolor": "white",
           "linecolor": "white",
           "ticks": "",
           "title": {
            "standoff": 15
           },
           "zerolinecolor": "white",
           "zerolinewidth": 2
          }
         }
        },
        "title": {
         "text": "Total de muertes por causa y género"
        },
        "width": 1000,
        "xaxis": {
         "anchor": "y",
         "domain": [
          0,
          1
         ],
         "title": {
          "text": "Distribución causa/género"
         }
        },
        "yaxis": {
         "anchor": "x",
         "domain": [
          0,
          1
         ],
         "title": {
          "text": "Total muertes según causa"
         }
        }
       }
      },
      "text/html": [
       "<div>                            <div id=\"876ab445-fabb-4b35-9cb2-9bb9d15d75a8\" class=\"plotly-graph-div\" style=\"height:1500px; width:1000px;\"></div>            <script type=\"text/javascript\">                require([\"plotly\"], function(Plotly) {                    window.PLOTLYENV=window.PLOTLYENV || {};                                    if (document.getElementById(\"876ab445-fabb-4b35-9cb2-9bb9d15d75a8\")) {                    Plotly.newPlot(                        \"876ab445-fabb-4b35-9cb2-9bb9d15d75a8\",                        [{\"alignmentgroup\":\"True\",\"hovertemplate\":\"Sexo=Hombres<br>Distribuci\\u00f3n causa/g\\u00e9nero=%{x}<br>Total muertes seg\\u00fan causa=%{y}<extra></extra>\",\"legendgroup\":\"Hombres\",\"marker\":{\"color\":\"blue\",\"pattern\":{\"shape\":\"\"}},\"name\":\"Hombres\",\"offsetgroup\":\"Hombres\",\"orientation\":\"v\",\"showlegend\":true,\"textposition\":\"auto\",\"x\":[\"081  XV.Embarazo, parto y puerperio\",\"042-043  III.Enfermedades de la sangre y de los \\u00f3rganos hematopoy\\u00e9ticos, y ciertos trastornos que afectan al mecanismo de la inmunidad\",\"083-085  XVII.Malformaciones cong\\u00e9nitas, deformidades y anomal\\u00edas cromos\\u00f3micas\",\"082  XVI.Afecciones originadas en el periodo perinatal\",\"074-076  XIII.Enfermedades del sistema osteomuscular y del tejido conjuntivo\",\"046-049  V.Trastornos mentales y del comportamiento\",\"001-008  I.Enfermedades infecciosas y parasitarias\",\"077-080  XIV.Enfermedades del sistema genitourinario\",\"044-045  IV.Enfermedades endocrinas, nutricionales y metab\\u00f3licas\",\"050-052  VI-VIII.Enfermedades del sistema nervioso y de los \\u00f3rganos de los sentidos\",\"086-089  XVIII.S\\u00edntomas, signos y hallazgos anormales cl\\u00ednicos y de laboratorio, no clasificados en otra parte\",\"068-072  XI.Enfermedades del sistema digestivo\",\"090-102  XX.Causas externas de mortalidad\",\"062-067  X.Enfermedades del sistema respiratorio\",\"009-041  II.Tumores\",\"053-061 IX.Enfermedades del sistema circulatorio\"],\"xaxis\":\"x\",\"y\":[0,21856,25713,26951,35814,140595,144034,160926,167277,189076,195376,412459,441234,870072,2185593,2236849],\"yaxis\":\"y\",\"type\":\"bar\"},{\"alignmentgroup\":\"True\",\"hovertemplate\":\"Sexo=Mujeres<br>Distribuci\\u00f3n causa/g\\u00e9nero=%{x}<br>Total muertes seg\\u00fan causa=%{y}<extra></extra>\",\"legendgroup\":\"Mujeres\",\"marker\":{\"color\":\"white\",\"pattern\":{\"shape\":\"\"}},\"name\":\"Mujeres\",\"offsetgroup\":\"Mujeres\",\"orientation\":\"v\",\"showlegend\":true,\"textposition\":\"auto\",\"x\":[\"081  XV.Embarazo, parto y puerperio\",\"082  XVI.Afecciones originadas en el periodo perinatal\",\"083-085  XVII.Malformaciones cong\\u00e9nitas, deformidades y anomal\\u00edas cromos\\u00f3micas\",\"042-043  III.Enfermedades de la sangre y de los \\u00f3rganos hematopoy\\u00e9ticos, y ciertos trastornos que afectan al mecanismo de la inmunidad\",\"074-076  XIII.Enfermedades del sistema osteomuscular y del tejido conjuntivo\",\"001-008  I.Enfermedades infecciosas y parasitarias\",\"077-080  XIV.Enfermedades del sistema genitourinario\",\"090-102  XX.Causas externas de mortalidad\",\"086-089  XVIII.S\\u00edntomas, signos y hallazgos anormales cl\\u00ednicos y de laboratorio, no clasificados en otra parte\",\"046-049  V.Trastornos mentales y del comportamiento\",\"044-045  IV.Enfermedades endocrinas, nutricionales y metab\\u00f3licas\",\"050-052  VI-VIII.Enfermedades del sistema nervioso y de los \\u00f3rganos de los sentidos\",\"068-072  XI.Enfermedades del sistema digestivo\",\"062-067  X.Enfermedades del sistema respiratorio\",\"009-041  II.Tumores\",\"053-061 IX.Enfermedades del sistema circulatorio\"],\"xaxis\":\"x\",\"y\":[754,19819,22347,27428,80248,102209,173860,187922,236453,262273,266263,268984,324097,615735,1373839,2664638],\"yaxis\":\"y\",\"type\":\"bar\"}],                        {\"template\":{\"data\":{\"histogram2dcontour\":[{\"type\":\"histogram2dcontour\",\"colorbar\":{\"outlinewidth\":0,\"ticks\":\"\"},\"colorscale\":[[0.0,\"#0d0887\"],[0.1111111111111111,\"#46039f\"],[0.2222222222222222,\"#7201a8\"],[0.3333333333333333,\"#9c179e\"],[0.4444444444444444,\"#bd3786\"],[0.5555555555555556,\"#d8576b\"],[0.6666666666666666,\"#ed7953\"],[0.7777777777777778,\"#fb9f3a\"],[0.8888888888888888,\"#fdca26\"],[1.0,\"#f0f921\"]]}],\"choropleth\":[{\"type\":\"choropleth\",\"colorbar\":{\"outlinewidth\":0,\"ticks\":\"\"}}],\"histogram2d\":[{\"type\":\"histogram2d\",\"colorbar\":{\"outlinewidth\":0,\"ticks\":\"\"},\"colorscale\":[[0.0,\"#0d0887\"],[0.1111111111111111,\"#46039f\"],[0.2222222222222222,\"#7201a8\"],[0.3333333333333333,\"#9c179e\"],[0.4444444444444444,\"#bd3786\"],[0.5555555555555556,\"#d8576b\"],[0.6666666666666666,\"#ed7953\"],[0.7777777777777778,\"#fb9f3a\"],[0.8888888888888888,\"#fdca26\"],[1.0,\"#f0f921\"]]}],\"heatmap\":[{\"type\":\"heatmap\",\"colorbar\":{\"outlinewidth\":0,\"ticks\":\"\"},\"colorscale\":[[0.0,\"#0d0887\"],[0.1111111111111111,\"#46039f\"],[0.2222222222222222,\"#7201a8\"],[0.3333333333333333,\"#9c179e\"],[0.4444444444444444,\"#bd3786\"],[0.5555555555555556,\"#d8576b\"],[0.6666666666666666,\"#ed7953\"],[0.7777777777777778,\"#fb9f3a\"],[0.8888888888888888,\"#fdca26\"],[1.0,\"#f0f921\"]]}],\"heatmapgl\":[{\"type\":\"heatmapgl\",\"colorbar\":{\"outlinewidth\":0,\"ticks\":\"\"},\"colorscale\":[[0.0,\"#0d0887\"],[0.1111111111111111,\"#46039f\"],[0.2222222222222222,\"#7201a8\"],[0.3333333333333333,\"#9c179e\"],[0.4444444444444444,\"#bd3786\"],[0.5555555555555556,\"#d8576b\"],[0.6666666666666666,\"#ed7953\"],[0.7777777777777778,\"#fb9f3a\"],[0.8888888888888888,\"#fdca26\"],[1.0,\"#f0f921\"]]}],\"contourcarpet\":[{\"type\":\"contourcarpet\",\"colorbar\":{\"outlinewidth\":0,\"ticks\":\"\"}}],\"contour\":[{\"type\":\"contour\",\"colorbar\":{\"outlinewidth\":0,\"ticks\":\"\"},\"colorscale\":[[0.0,\"#0d0887\"],[0.1111111111111111,\"#46039f\"],[0.2222222222222222,\"#7201a8\"],[0.3333333333333333,\"#9c179e\"],[0.4444444444444444,\"#bd3786\"],[0.5555555555555556,\"#d8576b\"],[0.6666666666666666,\"#ed7953\"],[0.7777777777777778,\"#fb9f3a\"],[0.8888888888888888,\"#fdca26\"],[1.0,\"#f0f921\"]]}],\"surface\":[{\"type\":\"surface\",\"colorbar\":{\"outlinewidth\":0,\"ticks\":\"\"},\"colorscale\":[[0.0,\"#0d0887\"],[0.1111111111111111,\"#46039f\"],[0.2222222222222222,\"#7201a8\"],[0.3333333333333333,\"#9c179e\"],[0.4444444444444444,\"#bd3786\"],[0.5555555555555556,\"#d8576b\"],[0.6666666666666666,\"#ed7953\"],[0.7777777777777778,\"#fb9f3a\"],[0.8888888888888888,\"#fdca26\"],[1.0,\"#f0f921\"]]}],\"mesh3d\":[{\"type\":\"mesh3d\",\"colorbar\":{\"outlinewidth\":0,\"ticks\":\"\"}}],\"scatter\":[{\"fillpattern\":{\"fillmode\":\"overlay\",\"size\":10,\"solidity\":0.2},\"type\":\"scatter\"}],\"parcoords\":[{\"type\":\"parcoords\",\"line\":{\"colorbar\":{\"outlinewidth\":0,\"ticks\":\"\"}}}],\"scatterpolargl\":[{\"type\":\"scatterpolargl\",\"marker\":{\"colorbar\":{\"outlinewidth\":0,\"ticks\":\"\"}}}],\"bar\":[{\"error_x\":{\"color\":\"#2a3f5f\"},\"error_y\":{\"color\":\"#2a3f5f\"},\"marker\":{\"line\":{\"color\":\"#E5ECF6\",\"width\":0.5},\"pattern\":{\"fillmode\":\"overlay\",\"size\":10,\"solidity\":0.2}},\"type\":\"bar\"}],\"scattergeo\":[{\"type\":\"scattergeo\",\"marker\":{\"colorbar\":{\"outlinewidth\":0,\"ticks\":\"\"}}}],\"scatterpolar\":[{\"type\":\"scatterpolar\",\"marker\":{\"colorbar\":{\"outlinewidth\":0,\"ticks\":\"\"}}}],\"histogram\":[{\"marker\":{\"pattern\":{\"fillmode\":\"overlay\",\"size\":10,\"solidity\":0.2}},\"type\":\"histogram\"}],\"scattergl\":[{\"type\":\"scattergl\",\"marker\":{\"colorbar\":{\"outlinewidth\":0,\"ticks\":\"\"}}}],\"scatter3d\":[{\"type\":\"scatter3d\",\"line\":{\"colorbar\":{\"outlinewidth\":0,\"ticks\":\"\"}},\"marker\":{\"colorbar\":{\"outlinewidth\":0,\"ticks\":\"\"}}}],\"scattermapbox\":[{\"type\":\"scattermapbox\",\"marker\":{\"colorbar\":{\"outlinewidth\":0,\"ticks\":\"\"}}}],\"scatterternary\":[{\"type\":\"scatterternary\",\"marker\":{\"colorbar\":{\"outlinewidth\":0,\"ticks\":\"\"}}}],\"scattercarpet\":[{\"type\":\"scattercarpet\",\"marker\":{\"colorbar\":{\"outlinewidth\":0,\"ticks\":\"\"}}}],\"carpet\":[{\"aaxis\":{\"endlinecolor\":\"#2a3f5f\",\"gridcolor\":\"white\",\"linecolor\":\"white\",\"minorgridcolor\":\"white\",\"startlinecolor\":\"#2a3f5f\"},\"baxis\":{\"endlinecolor\":\"#2a3f5f\",\"gridcolor\":\"white\",\"linecolor\":\"white\",\"minorgridcolor\":\"white\",\"startlinecolor\":\"#2a3f5f\"},\"type\":\"carpet\"}],\"table\":[{\"cells\":{\"fill\":{\"color\":\"#EBF0F8\"},\"line\":{\"color\":\"white\"}},\"header\":{\"fill\":{\"color\":\"#C8D4E3\"},\"line\":{\"color\":\"white\"}},\"type\":\"table\"}],\"barpolar\":[{\"marker\":{\"line\":{\"color\":\"#E5ECF6\",\"width\":0.5},\"pattern\":{\"fillmode\":\"overlay\",\"size\":10,\"solidity\":0.2}},\"type\":\"barpolar\"}],\"pie\":[{\"automargin\":true,\"type\":\"pie\"}]},\"layout\":{\"autotypenumbers\":\"strict\",\"colorway\":[\"#636efa\",\"#EF553B\",\"#00cc96\",\"#ab63fa\",\"#FFA15A\",\"#19d3f3\",\"#FF6692\",\"#B6E880\",\"#FF97FF\",\"#FECB52\"],\"font\":{\"color\":\"#2a3f5f\"},\"hovermode\":\"closest\",\"hoverlabel\":{\"align\":\"left\"},\"paper_bgcolor\":\"white\",\"plot_bgcolor\":\"#E5ECF6\",\"polar\":{\"bgcolor\":\"#E5ECF6\",\"angularaxis\":{\"gridcolor\":\"white\",\"linecolor\":\"white\",\"ticks\":\"\"},\"radialaxis\":{\"gridcolor\":\"white\",\"linecolor\":\"white\",\"ticks\":\"\"}},\"ternary\":{\"bgcolor\":\"#E5ECF6\",\"aaxis\":{\"gridcolor\":\"white\",\"linecolor\":\"white\",\"ticks\":\"\"},\"baxis\":{\"gridcolor\":\"white\",\"linecolor\":\"white\",\"ticks\":\"\"},\"caxis\":{\"gridcolor\":\"white\",\"linecolor\":\"white\",\"ticks\":\"\"}},\"coloraxis\":{\"colorbar\":{\"outlinewidth\":0,\"ticks\":\"\"}},\"colorscale\":{\"sequential\":[[0.0,\"#0d0887\"],[0.1111111111111111,\"#46039f\"],[0.2222222222222222,\"#7201a8\"],[0.3333333333333333,\"#9c179e\"],[0.4444444444444444,\"#bd3786\"],[0.5555555555555556,\"#d8576b\"],[0.6666666666666666,\"#ed7953\"],[0.7777777777777778,\"#fb9f3a\"],[0.8888888888888888,\"#fdca26\"],[1.0,\"#f0f921\"]],\"sequentialminus\":[[0.0,\"#0d0887\"],[0.1111111111111111,\"#46039f\"],[0.2222222222222222,\"#7201a8\"],[0.3333333333333333,\"#9c179e\"],[0.4444444444444444,\"#bd3786\"],[0.5555555555555556,\"#d8576b\"],[0.6666666666666666,\"#ed7953\"],[0.7777777777777778,\"#fb9f3a\"],[0.8888888888888888,\"#fdca26\"],[1.0,\"#f0f921\"]],\"diverging\":[[0,\"#8e0152\"],[0.1,\"#c51b7d\"],[0.2,\"#de77ae\"],[0.3,\"#f1b6da\"],[0.4,\"#fde0ef\"],[0.5,\"#f7f7f7\"],[0.6,\"#e6f5d0\"],[0.7,\"#b8e186\"],[0.8,\"#7fbc41\"],[0.9,\"#4d9221\"],[1,\"#276419\"]]},\"xaxis\":{\"gridcolor\":\"white\",\"linecolor\":\"white\",\"ticks\":\"\",\"title\":{\"standoff\":15},\"zerolinecolor\":\"white\",\"automargin\":true,\"zerolinewidth\":2},\"yaxis\":{\"gridcolor\":\"white\",\"linecolor\":\"white\",\"ticks\":\"\",\"title\":{\"standoff\":15},\"zerolinecolor\":\"white\",\"automargin\":true,\"zerolinewidth\":2},\"scene\":{\"xaxis\":{\"backgroundcolor\":\"#E5ECF6\",\"gridcolor\":\"white\",\"linecolor\":\"white\",\"showbackground\":true,\"ticks\":\"\",\"zerolinecolor\":\"white\",\"gridwidth\":2},\"yaxis\":{\"backgroundcolor\":\"#E5ECF6\",\"gridcolor\":\"white\",\"linecolor\":\"white\",\"showbackground\":true,\"ticks\":\"\",\"zerolinecolor\":\"white\",\"gridwidth\":2},\"zaxis\":{\"backgroundcolor\":\"#E5ECF6\",\"gridcolor\":\"white\",\"linecolor\":\"white\",\"showbackground\":true,\"ticks\":\"\",\"zerolinecolor\":\"white\",\"gridwidth\":2}},\"shapedefaults\":{\"line\":{\"color\":\"#2a3f5f\"}},\"annotationdefaults\":{\"arrowcolor\":\"#2a3f5f\",\"arrowhead\":0,\"arrowwidth\":1},\"geo\":{\"bgcolor\":\"white\",\"landcolor\":\"#E5ECF6\",\"subunitcolor\":\"white\",\"showland\":true,\"showlakes\":true,\"lakecolor\":\"white\"},\"title\":{\"x\":0.05},\"mapbox\":{\"style\":\"light\"}}},\"xaxis\":{\"anchor\":\"y\",\"domain\":[0.0,1.0],\"title\":{\"text\":\"Distribuci\\u00f3n causa/g\\u00e9nero\"}},\"yaxis\":{\"anchor\":\"x\",\"domain\":[0.0,1.0],\"title\":{\"text\":\"Total muertes seg\\u00fan causa\"}},\"legend\":{\"title\":{\"text\":\"Sexo\"},\"tracegroupgap\":0},\"title\":{\"text\":\"Total de muertes por causa y g\\u00e9nero\"},\"barmode\":\"group\",\"width\":1000,\"height\":1500},                        {\"responsive\": true}                    ).then(function(){\n",
       "                            \n",
       "var gd = document.getElementById('876ab445-fabb-4b35-9cb2-9bb9d15d75a8');\n",
       "var x = new MutationObserver(function (mutations, observer) {{\n",
       "        var display = window.getComputedStyle(gd).display;\n",
       "        if (!display || display === 'none') {{\n",
       "            console.log([gd, 'removed!']);\n",
       "            Plotly.purge(gd);\n",
       "            observer.disconnect();\n",
       "        }}\n",
       "}});\n",
       "\n",
       "// Listen for the removal of the full notebook cells\n",
       "var notebookContainer = gd.closest('#notebook-container');\n",
       "if (notebookContainer) {{\n",
       "    x.observe(notebookContainer, {childList: true});\n",
       "}}\n",
       "\n",
       "// Listen for the clearing of the current output cell\n",
       "var outputEl = gd.closest('.output');\n",
       "if (outputEl) {{\n",
       "    x.observe(outputEl, {childList: true});\n",
       "}}\n",
       "\n",
       "                        })                };                });            </script>        </div>"
      ]
     },
     "metadata": {},
     "output_type": "display_data"
    }
   ],
   "source": [
    "## RESPUESTA.       2.PROPORCIÓN DE MUERTES POR GENERO Y CAUSA\n",
    "\n",
    "#MAYOR CAUSA DE MUERTE: enfermedades del sistema crculatorio\n",
    "#MENOR CAUSA DE MUERTE: enfermedades de la sangre y malformaciones\n",
    "#En hombres, es muy similar las muertes por tumores que por enfermedades del sistema circulatorio\n",
    "#En mujerres la principal causa son enfermedades del sistema crculatorio\n",
    "#PLOTLY\n",
    "fig = px.bar(chart_causesgener, x='Causa de muerte', y='Total', color='Sexo', color_discrete_sequence=['blue', 'white'], barmode='group',\n",
    "             title='Total de muertes por causa y género', \n",
    "             labels={'Causa de muerte':'Distribución causa/género','Total':'Total muertes según causa'},\n",
    "             )\n",
    "fig.update_layout(width=1000, height=1500)\n",
    "fig.show()"
   ]
  },
  {
   "cell_type": "code",
   "execution_count": 41,
   "metadata": {},
   "outputs": [],
   "source": [
    "#distribución muertes por edades\n",
    "edad = dataset_causes_fil2['Edad']\n",
    "genero = dataset_causes_fil2['Sexo']\n"
   ]
  },
  {
   "cell_type": "code",
   "execution_count": 42,
   "metadata": {},
   "outputs": [],
   "source": [
    "#fig = px.histogram(x = edad)\n",
    "#fig"
   ]
  },
  {
   "cell_type": "code",
   "execution_count": 43,
   "metadata": {},
   "outputs": [],
   "source": [
    "chart_edadgener = dataset_causes_fil2.groupby([edad, genero]).agg({'Total': 'sum'}).sort_values('Edad').reset_index()"
   ]
  },
  {
   "cell_type": "code",
   "execution_count": 44,
   "metadata": {},
   "outputs": [
    {
     "data": {
      "text/html": [
       "<div>\n",
       "<style scoped>\n",
       "    .dataframe tbody tr th:only-of-type {\n",
       "        vertical-align: middle;\n",
       "    }\n",
       "\n",
       "    .dataframe tbody tr th {\n",
       "        vertical-align: top;\n",
       "    }\n",
       "\n",
       "    .dataframe thead th {\n",
       "        text-align: right;\n",
       "    }\n",
       "</style>\n",
       "<table border=\"1\" class=\"dataframe\">\n",
       "  <thead>\n",
       "    <tr style=\"text-align: right;\">\n",
       "      <th></th>\n",
       "      <th>Edad</th>\n",
       "      <th>Sexo</th>\n",
       "      <th>Total</th>\n",
       "    </tr>\n",
       "  </thead>\n",
       "  <tbody>\n",
       "    <tr>\n",
       "      <th>0</th>\n",
       "      <td>De 0 años</td>\n",
       "      <td>Hombres</td>\n",
       "      <td>56402</td>\n",
       "    </tr>\n",
       "    <tr>\n",
       "      <th>1</th>\n",
       "      <td>De 0 años</td>\n",
       "      <td>Mujeres</td>\n",
       "      <td>42797</td>\n",
       "    </tr>\n",
       "    <tr>\n",
       "      <th>2</th>\n",
       "      <td>De 1 a 4 años</td>\n",
       "      <td>Hombres</td>\n",
       "      <td>13072</td>\n",
       "    </tr>\n",
       "    <tr>\n",
       "      <th>3</th>\n",
       "      <td>De 1 a 4 años</td>\n",
       "      <td>Mujeres</td>\n",
       "      <td>10047</td>\n",
       "    </tr>\n",
       "    <tr>\n",
       "      <th>4</th>\n",
       "      <td>De 10 a 14 años</td>\n",
       "      <td>Hombres</td>\n",
       "      <td>11320</td>\n",
       "    </tr>\n",
       "    <tr>\n",
       "      <th>5</th>\n",
       "      <td>De 10 a 14 años</td>\n",
       "      <td>Mujeres</td>\n",
       "      <td>7257</td>\n",
       "    </tr>\n",
       "  </tbody>\n",
       "</table>\n",
       "</div>"
      ],
      "text/plain": [
       "                Edad     Sexo  Total\n",
       "0          De 0 años  Hombres  56402\n",
       "1          De 0 años  Mujeres  42797\n",
       "2      De 1 a 4 años  Hombres  13072\n",
       "3      De 1 a 4 años  Mujeres  10047\n",
       "4  De 10 a 14 años    Hombres  11320\n",
       "5  De 10 a 14 años    Mujeres   7257"
      ]
     },
     "execution_count": 44,
     "metadata": {},
     "output_type": "execute_result"
    }
   ],
   "source": [
    "chart_edadgener.head(6)"
   ]
  },
  {
   "cell_type": "code",
   "execution_count": 45,
   "metadata": {},
   "outputs": [],
   "source": [
    "chart_edadgener = chart_edadgener['Edad'].replace({\"95 y más años\": \"De 95 y más años\"})"
   ]
  },
  {
   "cell_type": "code",
   "execution_count": 92,
   "metadata": {},
   "outputs": [],
   "source": [
    "chart_edad= chart_edadgener[['Edad','Total']]\n"
   ]
  },
  {
   "cell_type": "code",
   "execution_count": 93,
   "metadata": {},
   "outputs": [
    {
     "data": {
      "text/plain": [
       "pandas.core.frame.DataFrame"
      ]
     },
     "execution_count": 93,
     "metadata": {},
     "output_type": "execute_result"
    }
   ],
   "source": [
    "type(chart_edad)"
   ]
  },
  {
   "cell_type": "code",
   "execution_count": 94,
   "metadata": {},
   "outputs": [],
   "source": [
    "##binchart_edadgener.head(5)"
   ]
  },
  {
   "cell_type": "code",
   "execution_count": 102,
   "metadata": {},
   "outputs": [],
   "source": [
    "#chart_edad.iplot(kind='histogram', x='Edad',y='Total', theme='white', title='Muertes por edades', xTitle='Ages', yTitle='Count Total')"
   ]
  },
  {
   "cell_type": "code",
   "execution_count": 50,
   "metadata": {},
   "outputs": [
    {
     "data": {
      "application/vnd.plotly.v1+json": {
       "config": {
        "plotlyServerURL": "https://plot.ly"
       },
       "data": [
        {
         "alignmentgroup": "True",
         "hovertemplate": "Sexo=Hombres<br>Edad=%{x}<br>Total de muertes=%{y}<extra></extra>",
         "legendgroup": "Hombres",
         "marker": {
          "color": "#636efa",
          "pattern": {
           "shape": ""
          }
         },
         "name": "Hombres",
         "offsetgroup": "Hombres",
         "orientation": "v",
         "showlegend": true,
         "textposition": "auto",
         "type": "bar",
         "x": [
          "De 0 años",
          "De 1 a 4 años",
          "De 10 a 14 años  ",
          "De 15 a 19 años  ",
          "De 20 a 24 años",
          "De 25 a 29 años",
          "De 30 a 34 años",
          "De 35 a 39 años",
          "De 40 a 44 años",
          "De 45 a 49 años",
          "De 5 a 9 años",
          "De 50 a 54 años",
          "De 55 a 59 años",
          "De 60 a 64 años",
          "De 65 a 69 años",
          "De 70 a 74 años  ",
          "De 75 a 79 años  ",
          "De 80 a 84 años  ",
          "De 85 a 89 años  ",
          "De 90 a 94 años  ",
          "De 95 y más años"
         ],
         "xaxis": "x",
         "y": [
          56402,
          13072,
          11320,
          34236,
          55042,
          64331,
          76437,
          91080,
          121993,
          180382,
          9921,
          267172,
          380071,
          521221,
          693724,
          901851,
          1096680,
          1162631,
          913801,
          461494,
          140964
         ],
         "yaxis": "y"
        },
        {
         "alignmentgroup": "True",
         "hovertemplate": "Sexo=Mujeres<br>Edad=%{x}<br>Total de muertes=%{y}<extra></extra>",
         "legendgroup": "Mujeres",
         "marker": {
          "color": "#EF553B",
          "pattern": {
           "shape": ""
          }
         },
         "name": "Mujeres",
         "offsetgroup": "Mujeres",
         "orientation": "v",
         "showlegend": true,
         "textposition": "auto",
         "type": "bar",
         "x": [
          "De 0 años",
          "De 1 a 4 años",
          "De 10 a 14 años  ",
          "De 15 a 19 años  ",
          "De 20 a 24 años",
          "De 25 a 29 años",
          "De 30 a 34 años",
          "De 35 a 39 años",
          "De 40 a 44 años",
          "De 45 a 49 años",
          "De 5 a 9 años",
          "De 50 a 54 años",
          "De 55 a 59 años",
          "De 60 a 64 años",
          "De 65 a 69 años",
          "De 70 a 74 años  ",
          "De 75 a 79 años  ",
          "De 80 a 84 años  ",
          "De 85 a 89 años  ",
          "De 90 a 94 años  ",
          "De 95 y más años"
         ],
         "xaxis": "x",
         "y": [
          42797,
          10047,
          7257,
          13444,
          17017,
          21228,
          27952,
          38829,
          56019,
          82628,
          6669,
          118174,
          163804,
          231992,
          345049,
          547398,
          871874,
          1265655,
          1381292,
          961931,
          415813
         ],
         "yaxis": "y"
        }
       ],
       "layout": {
        "barmode": "group",
        "legend": {
         "title": {
          "text": "Sexo"
         },
         "tracegroupgap": 0
        },
        "margin": {
         "t": 60
        },
        "template": {
         "data": {
          "bar": [
           {
            "error_x": {
             "color": "#2a3f5f"
            },
            "error_y": {
             "color": "#2a3f5f"
            },
            "marker": {
             "line": {
              "color": "#E5ECF6",
              "width": 0.5
             },
             "pattern": {
              "fillmode": "overlay",
              "size": 10,
              "solidity": 0.2
             }
            },
            "type": "bar"
           }
          ],
          "barpolar": [
           {
            "marker": {
             "line": {
              "color": "#E5ECF6",
              "width": 0.5
             },
             "pattern": {
              "fillmode": "overlay",
              "size": 10,
              "solidity": 0.2
             }
            },
            "type": "barpolar"
           }
          ],
          "carpet": [
           {
            "aaxis": {
             "endlinecolor": "#2a3f5f",
             "gridcolor": "white",
             "linecolor": "white",
             "minorgridcolor": "white",
             "startlinecolor": "#2a3f5f"
            },
            "baxis": {
             "endlinecolor": "#2a3f5f",
             "gridcolor": "white",
             "linecolor": "white",
             "minorgridcolor": "white",
             "startlinecolor": "#2a3f5f"
            },
            "type": "carpet"
           }
          ],
          "choropleth": [
           {
            "colorbar": {
             "outlinewidth": 0,
             "ticks": ""
            },
            "type": "choropleth"
           }
          ],
          "contour": [
           {
            "colorbar": {
             "outlinewidth": 0,
             "ticks": ""
            },
            "colorscale": [
             [
              0,
              "#0d0887"
             ],
             [
              0.1111111111111111,
              "#46039f"
             ],
             [
              0.2222222222222222,
              "#7201a8"
             ],
             [
              0.3333333333333333,
              "#9c179e"
             ],
             [
              0.4444444444444444,
              "#bd3786"
             ],
             [
              0.5555555555555556,
              "#d8576b"
             ],
             [
              0.6666666666666666,
              "#ed7953"
             ],
             [
              0.7777777777777778,
              "#fb9f3a"
             ],
             [
              0.8888888888888888,
              "#fdca26"
             ],
             [
              1,
              "#f0f921"
             ]
            ],
            "type": "contour"
           }
          ],
          "contourcarpet": [
           {
            "colorbar": {
             "outlinewidth": 0,
             "ticks": ""
            },
            "type": "contourcarpet"
           }
          ],
          "heatmap": [
           {
            "colorbar": {
             "outlinewidth": 0,
             "ticks": ""
            },
            "colorscale": [
             [
              0,
              "#0d0887"
             ],
             [
              0.1111111111111111,
              "#46039f"
             ],
             [
              0.2222222222222222,
              "#7201a8"
             ],
             [
              0.3333333333333333,
              "#9c179e"
             ],
             [
              0.4444444444444444,
              "#bd3786"
             ],
             [
              0.5555555555555556,
              "#d8576b"
             ],
             [
              0.6666666666666666,
              "#ed7953"
             ],
             [
              0.7777777777777778,
              "#fb9f3a"
             ],
             [
              0.8888888888888888,
              "#fdca26"
             ],
             [
              1,
              "#f0f921"
             ]
            ],
            "type": "heatmap"
           }
          ],
          "heatmapgl": [
           {
            "colorbar": {
             "outlinewidth": 0,
             "ticks": ""
            },
            "colorscale": [
             [
              0,
              "#0d0887"
             ],
             [
              0.1111111111111111,
              "#46039f"
             ],
             [
              0.2222222222222222,
              "#7201a8"
             ],
             [
              0.3333333333333333,
              "#9c179e"
             ],
             [
              0.4444444444444444,
              "#bd3786"
             ],
             [
              0.5555555555555556,
              "#d8576b"
             ],
             [
              0.6666666666666666,
              "#ed7953"
             ],
             [
              0.7777777777777778,
              "#fb9f3a"
             ],
             [
              0.8888888888888888,
              "#fdca26"
             ],
             [
              1,
              "#f0f921"
             ]
            ],
            "type": "heatmapgl"
           }
          ],
          "histogram": [
           {
            "marker": {
             "pattern": {
              "fillmode": "overlay",
              "size": 10,
              "solidity": 0.2
             }
            },
            "type": "histogram"
           }
          ],
          "histogram2d": [
           {
            "colorbar": {
             "outlinewidth": 0,
             "ticks": ""
            },
            "colorscale": [
             [
              0,
              "#0d0887"
             ],
             [
              0.1111111111111111,
              "#46039f"
             ],
             [
              0.2222222222222222,
              "#7201a8"
             ],
             [
              0.3333333333333333,
              "#9c179e"
             ],
             [
              0.4444444444444444,
              "#bd3786"
             ],
             [
              0.5555555555555556,
              "#d8576b"
             ],
             [
              0.6666666666666666,
              "#ed7953"
             ],
             [
              0.7777777777777778,
              "#fb9f3a"
             ],
             [
              0.8888888888888888,
              "#fdca26"
             ],
             [
              1,
              "#f0f921"
             ]
            ],
            "type": "histogram2d"
           }
          ],
          "histogram2dcontour": [
           {
            "colorbar": {
             "outlinewidth": 0,
             "ticks": ""
            },
            "colorscale": [
             [
              0,
              "#0d0887"
             ],
             [
              0.1111111111111111,
              "#46039f"
             ],
             [
              0.2222222222222222,
              "#7201a8"
             ],
             [
              0.3333333333333333,
              "#9c179e"
             ],
             [
              0.4444444444444444,
              "#bd3786"
             ],
             [
              0.5555555555555556,
              "#d8576b"
             ],
             [
              0.6666666666666666,
              "#ed7953"
             ],
             [
              0.7777777777777778,
              "#fb9f3a"
             ],
             [
              0.8888888888888888,
              "#fdca26"
             ],
             [
              1,
              "#f0f921"
             ]
            ],
            "type": "histogram2dcontour"
           }
          ],
          "mesh3d": [
           {
            "colorbar": {
             "outlinewidth": 0,
             "ticks": ""
            },
            "type": "mesh3d"
           }
          ],
          "parcoords": [
           {
            "line": {
             "colorbar": {
              "outlinewidth": 0,
              "ticks": ""
             }
            },
            "type": "parcoords"
           }
          ],
          "pie": [
           {
            "automargin": true,
            "type": "pie"
           }
          ],
          "scatter": [
           {
            "fillpattern": {
             "fillmode": "overlay",
             "size": 10,
             "solidity": 0.2
            },
            "type": "scatter"
           }
          ],
          "scatter3d": [
           {
            "line": {
             "colorbar": {
              "outlinewidth": 0,
              "ticks": ""
             }
            },
            "marker": {
             "colorbar": {
              "outlinewidth": 0,
              "ticks": ""
             }
            },
            "type": "scatter3d"
           }
          ],
          "scattercarpet": [
           {
            "marker": {
             "colorbar": {
              "outlinewidth": 0,
              "ticks": ""
             }
            },
            "type": "scattercarpet"
           }
          ],
          "scattergeo": [
           {
            "marker": {
             "colorbar": {
              "outlinewidth": 0,
              "ticks": ""
             }
            },
            "type": "scattergeo"
           }
          ],
          "scattergl": [
           {
            "marker": {
             "colorbar": {
              "outlinewidth": 0,
              "ticks": ""
             }
            },
            "type": "scattergl"
           }
          ],
          "scattermapbox": [
           {
            "marker": {
             "colorbar": {
              "outlinewidth": 0,
              "ticks": ""
             }
            },
            "type": "scattermapbox"
           }
          ],
          "scatterpolar": [
           {
            "marker": {
             "colorbar": {
              "outlinewidth": 0,
              "ticks": ""
             }
            },
            "type": "scatterpolar"
           }
          ],
          "scatterpolargl": [
           {
            "marker": {
             "colorbar": {
              "outlinewidth": 0,
              "ticks": ""
             }
            },
            "type": "scatterpolargl"
           }
          ],
          "scatterternary": [
           {
            "marker": {
             "colorbar": {
              "outlinewidth": 0,
              "ticks": ""
             }
            },
            "type": "scatterternary"
           }
          ],
          "surface": [
           {
            "colorbar": {
             "outlinewidth": 0,
             "ticks": ""
            },
            "colorscale": [
             [
              0,
              "#0d0887"
             ],
             [
              0.1111111111111111,
              "#46039f"
             ],
             [
              0.2222222222222222,
              "#7201a8"
             ],
             [
              0.3333333333333333,
              "#9c179e"
             ],
             [
              0.4444444444444444,
              "#bd3786"
             ],
             [
              0.5555555555555556,
              "#d8576b"
             ],
             [
              0.6666666666666666,
              "#ed7953"
             ],
             [
              0.7777777777777778,
              "#fb9f3a"
             ],
             [
              0.8888888888888888,
              "#fdca26"
             ],
             [
              1,
              "#f0f921"
             ]
            ],
            "type": "surface"
           }
          ],
          "table": [
           {
            "cells": {
             "fill": {
              "color": "#EBF0F8"
             },
             "line": {
              "color": "white"
             }
            },
            "header": {
             "fill": {
              "color": "#C8D4E3"
             },
             "line": {
              "color": "white"
             }
            },
            "type": "table"
           }
          ]
         },
         "layout": {
          "annotationdefaults": {
           "arrowcolor": "#2a3f5f",
           "arrowhead": 0,
           "arrowwidth": 1
          },
          "autotypenumbers": "strict",
          "coloraxis": {
           "colorbar": {
            "outlinewidth": 0,
            "ticks": ""
           }
          },
          "colorscale": {
           "diverging": [
            [
             0,
             "#8e0152"
            ],
            [
             0.1,
             "#c51b7d"
            ],
            [
             0.2,
             "#de77ae"
            ],
            [
             0.3,
             "#f1b6da"
            ],
            [
             0.4,
             "#fde0ef"
            ],
            [
             0.5,
             "#f7f7f7"
            ],
            [
             0.6,
             "#e6f5d0"
            ],
            [
             0.7,
             "#b8e186"
            ],
            [
             0.8,
             "#7fbc41"
            ],
            [
             0.9,
             "#4d9221"
            ],
            [
             1,
             "#276419"
            ]
           ],
           "sequential": [
            [
             0,
             "#0d0887"
            ],
            [
             0.1111111111111111,
             "#46039f"
            ],
            [
             0.2222222222222222,
             "#7201a8"
            ],
            [
             0.3333333333333333,
             "#9c179e"
            ],
            [
             0.4444444444444444,
             "#bd3786"
            ],
            [
             0.5555555555555556,
             "#d8576b"
            ],
            [
             0.6666666666666666,
             "#ed7953"
            ],
            [
             0.7777777777777778,
             "#fb9f3a"
            ],
            [
             0.8888888888888888,
             "#fdca26"
            ],
            [
             1,
             "#f0f921"
            ]
           ],
           "sequentialminus": [
            [
             0,
             "#0d0887"
            ],
            [
             0.1111111111111111,
             "#46039f"
            ],
            [
             0.2222222222222222,
             "#7201a8"
            ],
            [
             0.3333333333333333,
             "#9c179e"
            ],
            [
             0.4444444444444444,
             "#bd3786"
            ],
            [
             0.5555555555555556,
             "#d8576b"
            ],
            [
             0.6666666666666666,
             "#ed7953"
            ],
            [
             0.7777777777777778,
             "#fb9f3a"
            ],
            [
             0.8888888888888888,
             "#fdca26"
            ],
            [
             1,
             "#f0f921"
            ]
           ]
          },
          "colorway": [
           "#636efa",
           "#EF553B",
           "#00cc96",
           "#ab63fa",
           "#FFA15A",
           "#19d3f3",
           "#FF6692",
           "#B6E880",
           "#FF97FF",
           "#FECB52"
          ],
          "font": {
           "color": "#2a3f5f"
          },
          "geo": {
           "bgcolor": "white",
           "lakecolor": "white",
           "landcolor": "#E5ECF6",
           "showlakes": true,
           "showland": true,
           "subunitcolor": "white"
          },
          "hoverlabel": {
           "align": "left"
          },
          "hovermode": "closest",
          "mapbox": {
           "style": "light"
          },
          "paper_bgcolor": "white",
          "plot_bgcolor": "#E5ECF6",
          "polar": {
           "angularaxis": {
            "gridcolor": "white",
            "linecolor": "white",
            "ticks": ""
           },
           "bgcolor": "#E5ECF6",
           "radialaxis": {
            "gridcolor": "white",
            "linecolor": "white",
            "ticks": ""
           }
          },
          "scene": {
           "xaxis": {
            "backgroundcolor": "#E5ECF6",
            "gridcolor": "white",
            "gridwidth": 2,
            "linecolor": "white",
            "showbackground": true,
            "ticks": "",
            "zerolinecolor": "white"
           },
           "yaxis": {
            "backgroundcolor": "#E5ECF6",
            "gridcolor": "white",
            "gridwidth": 2,
            "linecolor": "white",
            "showbackground": true,
            "ticks": "",
            "zerolinecolor": "white"
           },
           "zaxis": {
            "backgroundcolor": "#E5ECF6",
            "gridcolor": "white",
            "gridwidth": 2,
            "linecolor": "white",
            "showbackground": true,
            "ticks": "",
            "zerolinecolor": "white"
           }
          },
          "shapedefaults": {
           "line": {
            "color": "#2a3f5f"
           }
          },
          "ternary": {
           "aaxis": {
            "gridcolor": "white",
            "linecolor": "white",
            "ticks": ""
           },
           "baxis": {
            "gridcolor": "white",
            "linecolor": "white",
            "ticks": ""
           },
           "bgcolor": "#E5ECF6",
           "caxis": {
            "gridcolor": "white",
            "linecolor": "white",
            "ticks": ""
           }
          },
          "title": {
           "x": 0.05
          },
          "xaxis": {
           "automargin": true,
           "gridcolor": "white",
           "linecolor": "white",
           "ticks": "",
           "title": {
            "standoff": 15
           },
           "zerolinecolor": "white",
           "zerolinewidth": 2
          },
          "yaxis": {
           "automargin": true,
           "gridcolor": "white",
           "linecolor": "white",
           "ticks": "",
           "title": {
            "standoff": 15
           },
           "zerolinecolor": "white",
           "zerolinewidth": 2
          }
         }
        },
        "title": {
         "text": "Muertes por edades"
        },
        "xaxis": {
         "anchor": "y",
         "domain": [
          0,
          1
         ],
         "title": {
          "text": "Edades"
         }
        },
        "yaxis": {
         "anchor": "x",
         "domain": [
          0,
          1
         ],
         "title": {
          "text": "Total de muertes"
         }
        }
       }
      },
      "text/html": [
       "<div>                            <div id=\"c6babd6f-20fb-4ce8-a537-bb45faa4756e\" class=\"plotly-graph-div\" style=\"height:525px; width:100%;\"></div>            <script type=\"text/javascript\">                require([\"plotly\"], function(Plotly) {                    window.PLOTLYENV=window.PLOTLYENV || {};                                    if (document.getElementById(\"c6babd6f-20fb-4ce8-a537-bb45faa4756e\")) {                    Plotly.newPlot(                        \"c6babd6f-20fb-4ce8-a537-bb45faa4756e\",                        [{\"alignmentgroup\":\"True\",\"hovertemplate\":\"Sexo=Hombres<br>Edad=%{x}<br>Total de muertes=%{y}<extra></extra>\",\"legendgroup\":\"Hombres\",\"marker\":{\"color\":\"#636efa\",\"pattern\":{\"shape\":\"\"}},\"name\":\"Hombres\",\"offsetgroup\":\"Hombres\",\"orientation\":\"v\",\"showlegend\":true,\"textposition\":\"auto\",\"x\":[\"De 0 a\\u00f1os\",\"De 1 a 4 a\\u00f1os\",\"De 10 a 14 a\\u00f1os  \",\"De 15 a 19 a\\u00f1os  \",\"De 20 a 24 a\\u00f1os\",\"De 25 a 29 a\\u00f1os\",\"De 30 a 34 a\\u00f1os\",\"De 35 a 39 a\\u00f1os\",\"De 40 a 44 a\\u00f1os\",\"De 45 a 49 a\\u00f1os\",\"De 5 a 9 a\\u00f1os\",\"De 50 a 54 a\\u00f1os\",\"De 55 a 59 a\\u00f1os\",\"De 60 a 64 a\\u00f1os\",\"De 65 a 69 a\\u00f1os\",\"De 70 a 74 a\\u00f1os  \",\"De 75 a 79 a\\u00f1os  \",\"De 80 a 84 a\\u00f1os  \",\"De 85 a 89 a\\u00f1os  \",\"De 90 a 94 a\\u00f1os  \",\"De 95 y m\\u00e1s a\\u00f1os\"],\"xaxis\":\"x\",\"y\":[56402,13072,11320,34236,55042,64331,76437,91080,121993,180382,9921,267172,380071,521221,693724,901851,1096680,1162631,913801,461494,140964],\"yaxis\":\"y\",\"type\":\"bar\"},{\"alignmentgroup\":\"True\",\"hovertemplate\":\"Sexo=Mujeres<br>Edad=%{x}<br>Total de muertes=%{y}<extra></extra>\",\"legendgroup\":\"Mujeres\",\"marker\":{\"color\":\"#EF553B\",\"pattern\":{\"shape\":\"\"}},\"name\":\"Mujeres\",\"offsetgroup\":\"Mujeres\",\"orientation\":\"v\",\"showlegend\":true,\"textposition\":\"auto\",\"x\":[\"De 0 a\\u00f1os\",\"De 1 a 4 a\\u00f1os\",\"De 10 a 14 a\\u00f1os  \",\"De 15 a 19 a\\u00f1os  \",\"De 20 a 24 a\\u00f1os\",\"De 25 a 29 a\\u00f1os\",\"De 30 a 34 a\\u00f1os\",\"De 35 a 39 a\\u00f1os\",\"De 40 a 44 a\\u00f1os\",\"De 45 a 49 a\\u00f1os\",\"De 5 a 9 a\\u00f1os\",\"De 50 a 54 a\\u00f1os\",\"De 55 a 59 a\\u00f1os\",\"De 60 a 64 a\\u00f1os\",\"De 65 a 69 a\\u00f1os\",\"De 70 a 74 a\\u00f1os  \",\"De 75 a 79 a\\u00f1os  \",\"De 80 a 84 a\\u00f1os  \",\"De 85 a 89 a\\u00f1os  \",\"De 90 a 94 a\\u00f1os  \",\"De 95 y m\\u00e1s a\\u00f1os\"],\"xaxis\":\"x\",\"y\":[42797,10047,7257,13444,17017,21228,27952,38829,56019,82628,6669,118174,163804,231992,345049,547398,871874,1265655,1381292,961931,415813],\"yaxis\":\"y\",\"type\":\"bar\"}],                        {\"template\":{\"data\":{\"histogram2dcontour\":[{\"type\":\"histogram2dcontour\",\"colorbar\":{\"outlinewidth\":0,\"ticks\":\"\"},\"colorscale\":[[0.0,\"#0d0887\"],[0.1111111111111111,\"#46039f\"],[0.2222222222222222,\"#7201a8\"],[0.3333333333333333,\"#9c179e\"],[0.4444444444444444,\"#bd3786\"],[0.5555555555555556,\"#d8576b\"],[0.6666666666666666,\"#ed7953\"],[0.7777777777777778,\"#fb9f3a\"],[0.8888888888888888,\"#fdca26\"],[1.0,\"#f0f921\"]]}],\"choropleth\":[{\"type\":\"choropleth\",\"colorbar\":{\"outlinewidth\":0,\"ticks\":\"\"}}],\"histogram2d\":[{\"type\":\"histogram2d\",\"colorbar\":{\"outlinewidth\":0,\"ticks\":\"\"},\"colorscale\":[[0.0,\"#0d0887\"],[0.1111111111111111,\"#46039f\"],[0.2222222222222222,\"#7201a8\"],[0.3333333333333333,\"#9c179e\"],[0.4444444444444444,\"#bd3786\"],[0.5555555555555556,\"#d8576b\"],[0.6666666666666666,\"#ed7953\"],[0.7777777777777778,\"#fb9f3a\"],[0.8888888888888888,\"#fdca26\"],[1.0,\"#f0f921\"]]}],\"heatmap\":[{\"type\":\"heatmap\",\"colorbar\":{\"outlinewidth\":0,\"ticks\":\"\"},\"colorscale\":[[0.0,\"#0d0887\"],[0.1111111111111111,\"#46039f\"],[0.2222222222222222,\"#7201a8\"],[0.3333333333333333,\"#9c179e\"],[0.4444444444444444,\"#bd3786\"],[0.5555555555555556,\"#d8576b\"],[0.6666666666666666,\"#ed7953\"],[0.7777777777777778,\"#fb9f3a\"],[0.8888888888888888,\"#fdca26\"],[1.0,\"#f0f921\"]]}],\"heatmapgl\":[{\"type\":\"heatmapgl\",\"colorbar\":{\"outlinewidth\":0,\"ticks\":\"\"},\"colorscale\":[[0.0,\"#0d0887\"],[0.1111111111111111,\"#46039f\"],[0.2222222222222222,\"#7201a8\"],[0.3333333333333333,\"#9c179e\"],[0.4444444444444444,\"#bd3786\"],[0.5555555555555556,\"#d8576b\"],[0.6666666666666666,\"#ed7953\"],[0.7777777777777778,\"#fb9f3a\"],[0.8888888888888888,\"#fdca26\"],[1.0,\"#f0f921\"]]}],\"contourcarpet\":[{\"type\":\"contourcarpet\",\"colorbar\":{\"outlinewidth\":0,\"ticks\":\"\"}}],\"contour\":[{\"type\":\"contour\",\"colorbar\":{\"outlinewidth\":0,\"ticks\":\"\"},\"colorscale\":[[0.0,\"#0d0887\"],[0.1111111111111111,\"#46039f\"],[0.2222222222222222,\"#7201a8\"],[0.3333333333333333,\"#9c179e\"],[0.4444444444444444,\"#bd3786\"],[0.5555555555555556,\"#d8576b\"],[0.6666666666666666,\"#ed7953\"],[0.7777777777777778,\"#fb9f3a\"],[0.8888888888888888,\"#fdca26\"],[1.0,\"#f0f921\"]]}],\"surface\":[{\"type\":\"surface\",\"colorbar\":{\"outlinewidth\":0,\"ticks\":\"\"},\"colorscale\":[[0.0,\"#0d0887\"],[0.1111111111111111,\"#46039f\"],[0.2222222222222222,\"#7201a8\"],[0.3333333333333333,\"#9c179e\"],[0.4444444444444444,\"#bd3786\"],[0.5555555555555556,\"#d8576b\"],[0.6666666666666666,\"#ed7953\"],[0.7777777777777778,\"#fb9f3a\"],[0.8888888888888888,\"#fdca26\"],[1.0,\"#f0f921\"]]}],\"mesh3d\":[{\"type\":\"mesh3d\",\"colorbar\":{\"outlinewidth\":0,\"ticks\":\"\"}}],\"scatter\":[{\"fillpattern\":{\"fillmode\":\"overlay\",\"size\":10,\"solidity\":0.2},\"type\":\"scatter\"}],\"parcoords\":[{\"type\":\"parcoords\",\"line\":{\"colorbar\":{\"outlinewidth\":0,\"ticks\":\"\"}}}],\"scatterpolargl\":[{\"type\":\"scatterpolargl\",\"marker\":{\"colorbar\":{\"outlinewidth\":0,\"ticks\":\"\"}}}],\"bar\":[{\"error_x\":{\"color\":\"#2a3f5f\"},\"error_y\":{\"color\":\"#2a3f5f\"},\"marker\":{\"line\":{\"color\":\"#E5ECF6\",\"width\":0.5},\"pattern\":{\"fillmode\":\"overlay\",\"size\":10,\"solidity\":0.2}},\"type\":\"bar\"}],\"scattergeo\":[{\"type\":\"scattergeo\",\"marker\":{\"colorbar\":{\"outlinewidth\":0,\"ticks\":\"\"}}}],\"scatterpolar\":[{\"type\":\"scatterpolar\",\"marker\":{\"colorbar\":{\"outlinewidth\":0,\"ticks\":\"\"}}}],\"histogram\":[{\"marker\":{\"pattern\":{\"fillmode\":\"overlay\",\"size\":10,\"solidity\":0.2}},\"type\":\"histogram\"}],\"scattergl\":[{\"type\":\"scattergl\",\"marker\":{\"colorbar\":{\"outlinewidth\":0,\"ticks\":\"\"}}}],\"scatter3d\":[{\"type\":\"scatter3d\",\"line\":{\"colorbar\":{\"outlinewidth\":0,\"ticks\":\"\"}},\"marker\":{\"colorbar\":{\"outlinewidth\":0,\"ticks\":\"\"}}}],\"scattermapbox\":[{\"type\":\"scattermapbox\",\"marker\":{\"colorbar\":{\"outlinewidth\":0,\"ticks\":\"\"}}}],\"scatterternary\":[{\"type\":\"scatterternary\",\"marker\":{\"colorbar\":{\"outlinewidth\":0,\"ticks\":\"\"}}}],\"scattercarpet\":[{\"type\":\"scattercarpet\",\"marker\":{\"colorbar\":{\"outlinewidth\":0,\"ticks\":\"\"}}}],\"carpet\":[{\"aaxis\":{\"endlinecolor\":\"#2a3f5f\",\"gridcolor\":\"white\",\"linecolor\":\"white\",\"minorgridcolor\":\"white\",\"startlinecolor\":\"#2a3f5f\"},\"baxis\":{\"endlinecolor\":\"#2a3f5f\",\"gridcolor\":\"white\",\"linecolor\":\"white\",\"minorgridcolor\":\"white\",\"startlinecolor\":\"#2a3f5f\"},\"type\":\"carpet\"}],\"table\":[{\"cells\":{\"fill\":{\"color\":\"#EBF0F8\"},\"line\":{\"color\":\"white\"}},\"header\":{\"fill\":{\"color\":\"#C8D4E3\"},\"line\":{\"color\":\"white\"}},\"type\":\"table\"}],\"barpolar\":[{\"marker\":{\"line\":{\"color\":\"#E5ECF6\",\"width\":0.5},\"pattern\":{\"fillmode\":\"overlay\",\"size\":10,\"solidity\":0.2}},\"type\":\"barpolar\"}],\"pie\":[{\"automargin\":true,\"type\":\"pie\"}]},\"layout\":{\"autotypenumbers\":\"strict\",\"colorway\":[\"#636efa\",\"#EF553B\",\"#00cc96\",\"#ab63fa\",\"#FFA15A\",\"#19d3f3\",\"#FF6692\",\"#B6E880\",\"#FF97FF\",\"#FECB52\"],\"font\":{\"color\":\"#2a3f5f\"},\"hovermode\":\"closest\",\"hoverlabel\":{\"align\":\"left\"},\"paper_bgcolor\":\"white\",\"plot_bgcolor\":\"#E5ECF6\",\"polar\":{\"bgcolor\":\"#E5ECF6\",\"angularaxis\":{\"gridcolor\":\"white\",\"linecolor\":\"white\",\"ticks\":\"\"},\"radialaxis\":{\"gridcolor\":\"white\",\"linecolor\":\"white\",\"ticks\":\"\"}},\"ternary\":{\"bgcolor\":\"#E5ECF6\",\"aaxis\":{\"gridcolor\":\"white\",\"linecolor\":\"white\",\"ticks\":\"\"},\"baxis\":{\"gridcolor\":\"white\",\"linecolor\":\"white\",\"ticks\":\"\"},\"caxis\":{\"gridcolor\":\"white\",\"linecolor\":\"white\",\"ticks\":\"\"}},\"coloraxis\":{\"colorbar\":{\"outlinewidth\":0,\"ticks\":\"\"}},\"colorscale\":{\"sequential\":[[0.0,\"#0d0887\"],[0.1111111111111111,\"#46039f\"],[0.2222222222222222,\"#7201a8\"],[0.3333333333333333,\"#9c179e\"],[0.4444444444444444,\"#bd3786\"],[0.5555555555555556,\"#d8576b\"],[0.6666666666666666,\"#ed7953\"],[0.7777777777777778,\"#fb9f3a\"],[0.8888888888888888,\"#fdca26\"],[1.0,\"#f0f921\"]],\"sequentialminus\":[[0.0,\"#0d0887\"],[0.1111111111111111,\"#46039f\"],[0.2222222222222222,\"#7201a8\"],[0.3333333333333333,\"#9c179e\"],[0.4444444444444444,\"#bd3786\"],[0.5555555555555556,\"#d8576b\"],[0.6666666666666666,\"#ed7953\"],[0.7777777777777778,\"#fb9f3a\"],[0.8888888888888888,\"#fdca26\"],[1.0,\"#f0f921\"]],\"diverging\":[[0,\"#8e0152\"],[0.1,\"#c51b7d\"],[0.2,\"#de77ae\"],[0.3,\"#f1b6da\"],[0.4,\"#fde0ef\"],[0.5,\"#f7f7f7\"],[0.6,\"#e6f5d0\"],[0.7,\"#b8e186\"],[0.8,\"#7fbc41\"],[0.9,\"#4d9221\"],[1,\"#276419\"]]},\"xaxis\":{\"gridcolor\":\"white\",\"linecolor\":\"white\",\"ticks\":\"\",\"title\":{\"standoff\":15},\"zerolinecolor\":\"white\",\"automargin\":true,\"zerolinewidth\":2},\"yaxis\":{\"gridcolor\":\"white\",\"linecolor\":\"white\",\"ticks\":\"\",\"title\":{\"standoff\":15},\"zerolinecolor\":\"white\",\"automargin\":true,\"zerolinewidth\":2},\"scene\":{\"xaxis\":{\"backgroundcolor\":\"#E5ECF6\",\"gridcolor\":\"white\",\"linecolor\":\"white\",\"showbackground\":true,\"ticks\":\"\",\"zerolinecolor\":\"white\",\"gridwidth\":2},\"yaxis\":{\"backgroundcolor\":\"#E5ECF6\",\"gridcolor\":\"white\",\"linecolor\":\"white\",\"showbackground\":true,\"ticks\":\"\",\"zerolinecolor\":\"white\",\"gridwidth\":2},\"zaxis\":{\"backgroundcolor\":\"#E5ECF6\",\"gridcolor\":\"white\",\"linecolor\":\"white\",\"showbackground\":true,\"ticks\":\"\",\"zerolinecolor\":\"white\",\"gridwidth\":2}},\"shapedefaults\":{\"line\":{\"color\":\"#2a3f5f\"}},\"annotationdefaults\":{\"arrowcolor\":\"#2a3f5f\",\"arrowhead\":0,\"arrowwidth\":1},\"geo\":{\"bgcolor\":\"white\",\"landcolor\":\"#E5ECF6\",\"subunitcolor\":\"white\",\"showland\":true,\"showlakes\":true,\"lakecolor\":\"white\"},\"title\":{\"x\":0.05},\"mapbox\":{\"style\":\"light\"}}},\"xaxis\":{\"anchor\":\"y\",\"domain\":[0.0,1.0],\"title\":{\"text\":\"Edades\"}},\"yaxis\":{\"anchor\":\"x\",\"domain\":[0.0,1.0],\"title\":{\"text\":\"Total de muertes\"}},\"legend\":{\"title\":{\"text\":\"Sexo\"},\"tracegroupgap\":0},\"margin\":{\"t\":60},\"barmode\":\"group\",\"title\":{\"text\":\"Muertes por edades\"}},                        {\"responsive\": true}                    ).then(function(){\n",
       "                            \n",
       "var gd = document.getElementById('c6babd6f-20fb-4ce8-a537-bb45faa4756e');\n",
       "var x = new MutationObserver(function (mutations, observer) {{\n",
       "        var display = window.getComputedStyle(gd).display;\n",
       "        if (!display || display === 'none') {{\n",
       "            console.log([gd, 'removed!']);\n",
       "            Plotly.purge(gd);\n",
       "            observer.disconnect();\n",
       "        }}\n",
       "}});\n",
       "\n",
       "// Listen for the removal of the full notebook cells\n",
       "var notebookContainer = gd.closest('#notebook-container');\n",
       "if (notebookContainer) {{\n",
       "    x.observe(notebookContainer, {childList: true});\n",
       "}}\n",
       "\n",
       "// Listen for the clearing of the current output cell\n",
       "var outputEl = gd.closest('.output');\n",
       "if (outputEl) {{\n",
       "    x.observe(outputEl, {childList: true});\n",
       "}}\n",
       "\n",
       "                        })                };                });            </script>        </div>"
      ]
     },
     "metadata": {},
     "output_type": "display_data"
    }
   ],
   "source": [
    "#DISTRIBUCIÓN DE MUERTES POR EDADES CON PLOTLY\n",
    "fig = px.bar(chart_edadgener, x='Edad', y='Total', color='Sexo', labels={'Total': 'Total de muertes'}, barmode='group')\n",
    "fig.update_layout(title='Muertes por edades', xaxis_title='Edades', yaxis_title='Total de muertes')\n"
   ]
  },
  {
   "cell_type": "code",
   "execution_count": 103,
   "metadata": {},
   "outputs": [],
   "source": [
    "##RESPUESTA.    3.MAYOR CAUSA DE MUERTE HISTÓRICA & 4. CAUSA DE MUERTE QUE MENOS DEBE PREOCUPAR\n",
    "\n",
    "#Realizo:\n",
    "    #Gráfico de dispersión\n",
    "    #Gráfico de área\n",
    "    #Gráfico lineal\n",
    "    \n",
    "#Se deduce que la mayor causa de muerte histórica han sido y siguen siendo las enfermedades del sistema circulatorio. \n",
    "#he partido de un Data Frame que he agrupado por causa de muerte y año, después he aplicado la media a la columna total.\n",
    "#Donde mejor se ven los datos es en el gráfico lineal y en el de dispersión. \n",
    "#El gráfico de área se ve muy bien la enfermedad con más muertes y con menos por el tamaño del área,\n",
    "#pero no representa bien el total.\n",
    "\n",
    "#Lo que menos debe preocupar son las malformaciones congénitas así como los embarazos en mujeres.\n",
    "#Aunque las malformaciones están más o menos en la misma media que las enfermedades de la sangre, en ésta última, \n",
    "#ha habido un ligero ascendso respecto a la anterior y sería lo que determinaría una u otra. "
   ]
  },
  {
   "cell_type": "code",
   "execution_count": 104,
   "metadata": {},
   "outputs": [],
   "source": [
    "dataset_causes_fil3 = dataset_causes_fil2.groupby(['Causa de muerte','Periodo'])\n"
   ]
  },
  {
   "cell_type": "code",
   "execution_count": 105,
   "metadata": {},
   "outputs": [
    {
     "data": {
      "text/html": [
       "<div>\n",
       "<style scoped>\n",
       "    .dataframe tbody tr th:only-of-type {\n",
       "        vertical-align: middle;\n",
       "    }\n",
       "\n",
       "    .dataframe tbody tr th {\n",
       "        vertical-align: top;\n",
       "    }\n",
       "\n",
       "    .dataframe thead th {\n",
       "        text-align: right;\n",
       "    }\n",
       "</style>\n",
       "<table border=\"1\" class=\"dataframe\">\n",
       "  <thead>\n",
       "    <tr style=\"text-align: right;\">\n",
       "      <th></th>\n",
       "      <th>Causa de muerte</th>\n",
       "      <th>Sexo</th>\n",
       "      <th>Edad</th>\n",
       "      <th>Periodo</th>\n",
       "      <th>Total</th>\n",
       "      <th>cause_code</th>\n",
       "      <th>cause_group</th>\n",
       "      <th>cause_name</th>\n",
       "    </tr>\n",
       "  </thead>\n",
       "  <tbody>\n",
       "    <tr>\n",
       "      <th>308</th>\n",
       "      <td>053-061 IX.Enfermedades del sistema circulatorio</td>\n",
       "      <td>Mujeres</td>\n",
       "      <td>De 85 a 89 años</td>\n",
       "      <td>1998</td>\n",
       "      <td>18466</td>\n",
       "      <td>053-061</td>\n",
       "      <td>Multiple causes</td>\n",
       "      <td>IX.Enfermedades del sistema circulatorio</td>\n",
       "    </tr>\n",
       "    <tr>\n",
       "      <th>309</th>\n",
       "      <td>053-061 IX.Enfermedades del sistema circulatorio</td>\n",
       "      <td>Mujeres</td>\n",
       "      <td>De 85 a 89 años</td>\n",
       "      <td>1999</td>\n",
       "      <td>18432</td>\n",
       "      <td>053-061</td>\n",
       "      <td>Multiple causes</td>\n",
       "      <td>IX.Enfermedades del sistema circulatorio</td>\n",
       "    </tr>\n",
       "    <tr>\n",
       "      <th>310</th>\n",
       "      <td>053-061 IX.Enfermedades del sistema circulatorio</td>\n",
       "      <td>Mujeres</td>\n",
       "      <td>De 85 a 89 años</td>\n",
       "      <td>2012</td>\n",
       "      <td>18373</td>\n",
       "      <td>053-061</td>\n",
       "      <td>Multiple causes</td>\n",
       "      <td>IX.Enfermedades del sistema circulatorio</td>\n",
       "    </tr>\n",
       "    <tr>\n",
       "      <th>311</th>\n",
       "      <td>053-061 IX.Enfermedades del sistema circulatorio</td>\n",
       "      <td>Mujeres</td>\n",
       "      <td>De 85 a 89 años</td>\n",
       "      <td>2015</td>\n",
       "      <td>18371</td>\n",
       "      <td>053-061</td>\n",
       "      <td>Multiple causes</td>\n",
       "      <td>IX.Enfermedades del sistema circulatorio</td>\n",
       "    </tr>\n",
       "    <tr>\n",
       "      <th>319</th>\n",
       "      <td>053-061 IX.Enfermedades del sistema circulatorio</td>\n",
       "      <td>Mujeres</td>\n",
       "      <td>De 85 a 89 años</td>\n",
       "      <td>1997</td>\n",
       "      <td>18018</td>\n",
       "      <td>053-061</td>\n",
       "      <td>Multiple causes</td>\n",
       "      <td>IX.Enfermedades del sistema circulatorio</td>\n",
       "    </tr>\n",
       "    <tr>\n",
       "      <th>...</th>\n",
       "      <td>...</td>\n",
       "      <td>...</td>\n",
       "      <td>...</td>\n",
       "      <td>...</td>\n",
       "      <td>...</td>\n",
       "      <td>...</td>\n",
       "      <td>...</td>\n",
       "      <td>...</td>\n",
       "    </tr>\n",
       "    <tr>\n",
       "      <th>124976</th>\n",
       "      <td>081  XV.Embarazo, parto y puerperio</td>\n",
       "      <td>Mujeres</td>\n",
       "      <td>De 20 a 24 años</td>\n",
       "      <td>1997</td>\n",
       "      <td>2</td>\n",
       "      <td>081</td>\n",
       "      <td>Single cause</td>\n",
       "      <td>XV.Embarazo, parto y puerperio</td>\n",
       "    </tr>\n",
       "    <tr>\n",
       "      <th>125028</th>\n",
       "      <td>081  XV.Embarazo, parto y puerperio</td>\n",
       "      <td>Mujeres</td>\n",
       "      <td>De 20 a 24 años</td>\n",
       "      <td>1996</td>\n",
       "      <td>2</td>\n",
       "      <td>081</td>\n",
       "      <td>Single cause</td>\n",
       "      <td>XV.Embarazo, parto y puerperio</td>\n",
       "    </tr>\n",
       "    <tr>\n",
       "      <th>125210</th>\n",
       "      <td>081  XV.Embarazo, parto y puerperio</td>\n",
       "      <td>Mujeres</td>\n",
       "      <td>De 25 a 29 años</td>\n",
       "      <td>1998</td>\n",
       "      <td>2</td>\n",
       "      <td>081</td>\n",
       "      <td>Single cause</td>\n",
       "      <td>XV.Embarazo, parto y puerperio</td>\n",
       "    </tr>\n",
       "    <tr>\n",
       "      <th>127088</th>\n",
       "      <td>081  XV.Embarazo, parto y puerperio</td>\n",
       "      <td>Mujeres</td>\n",
       "      <td>De 30 a 34 años</td>\n",
       "      <td>2012</td>\n",
       "      <td>2</td>\n",
       "      <td>081</td>\n",
       "      <td>Single cause</td>\n",
       "      <td>XV.Embarazo, parto y puerperio</td>\n",
       "    </tr>\n",
       "    <tr>\n",
       "      <th>130082</th>\n",
       "      <td>081  XV.Embarazo, parto y puerperio</td>\n",
       "      <td>Mujeres</td>\n",
       "      <td>De 35 a 39 años</td>\n",
       "      <td>2018</td>\n",
       "      <td>2</td>\n",
       "      <td>081</td>\n",
       "      <td>Single cause</td>\n",
       "      <td>XV.Embarazo, parto y puerperio</td>\n",
       "    </tr>\n",
       "  </tbody>\n",
       "</table>\n",
       "<p>1248 rows × 8 columns</p>\n",
       "</div>"
      ],
      "text/plain": [
       "                                         Causa de muerte     Sexo  \\\n",
       "308     053-061 IX.Enfermedades del sistema circulatorio  Mujeres   \n",
       "309     053-061 IX.Enfermedades del sistema circulatorio  Mujeres   \n",
       "310     053-061 IX.Enfermedades del sistema circulatorio  Mujeres   \n",
       "311     053-061 IX.Enfermedades del sistema circulatorio  Mujeres   \n",
       "319     053-061 IX.Enfermedades del sistema circulatorio  Mujeres   \n",
       "...                                                  ...      ...   \n",
       "124976               081  XV.Embarazo, parto y puerperio  Mujeres   \n",
       "125028               081  XV.Embarazo, parto y puerperio  Mujeres   \n",
       "125210               081  XV.Embarazo, parto y puerperio  Mujeres   \n",
       "127088               081  XV.Embarazo, parto y puerperio  Mujeres   \n",
       "130082               081  XV.Embarazo, parto y puerperio  Mujeres   \n",
       "\n",
       "                     Edad  Periodo  Total cause_code      cause_group  \\\n",
       "308     De 85 a 89 años       1998  18466    053-061  Multiple causes   \n",
       "309     De 85 a 89 años       1999  18432    053-061  Multiple causes   \n",
       "310     De 85 a 89 años       2012  18373    053-061  Multiple causes   \n",
       "311     De 85 a 89 años       2015  18371    053-061  Multiple causes   \n",
       "319     De 85 a 89 años       1997  18018    053-061  Multiple causes   \n",
       "...                   ...      ...    ...        ...              ...   \n",
       "124976    De 20 a 24 años     1997      2        081     Single cause   \n",
       "125028    De 20 a 24 años     1996      2        081     Single cause   \n",
       "125210    De 25 a 29 años     1998      2        081     Single cause   \n",
       "127088    De 30 a 34 años     2012      2        081     Single cause   \n",
       "130082    De 35 a 39 años     2018      2        081     Single cause   \n",
       "\n",
       "                                      cause_name  \n",
       "308     IX.Enfermedades del sistema circulatorio  \n",
       "309     IX.Enfermedades del sistema circulatorio  \n",
       "310     IX.Enfermedades del sistema circulatorio  \n",
       "311     IX.Enfermedades del sistema circulatorio  \n",
       "319     IX.Enfermedades del sistema circulatorio  \n",
       "...                                          ...  \n",
       "124976            XV.Embarazo, parto y puerperio  \n",
       "125028            XV.Embarazo, parto y puerperio  \n",
       "125210            XV.Embarazo, parto y puerperio  \n",
       "127088            XV.Embarazo, parto y puerperio  \n",
       "130082            XV.Embarazo, parto y puerperio  \n",
       "\n",
       "[1248 rows x 8 columns]"
      ]
     },
     "execution_count": 105,
     "metadata": {},
     "output_type": "execute_result"
    }
   ],
   "source": [
    "dataset_causes_fil3.head(2)"
   ]
  },
  {
   "cell_type": "code",
   "execution_count": 106,
   "metadata": {},
   "outputs": [],
   "source": [
    "mean_df = dataset_causes_fil3['Total'].mean().reset_index()\n",
    "mean_df = mean_df.sort_values('Total', ascending=False)\n"
   ]
  },
  {
   "cell_type": "code",
   "execution_count": 55,
   "metadata": {},
   "outputs": [
    {
     "data": {
      "text/html": [
       "<div>\n",
       "<style scoped>\n",
       "    .dataframe tbody tr th:only-of-type {\n",
       "        vertical-align: middle;\n",
       "    }\n",
       "\n",
       "    .dataframe tbody tr th {\n",
       "        vertical-align: top;\n",
       "    }\n",
       "\n",
       "    .dataframe thead th {\n",
       "        text-align: right;\n",
       "    }\n",
       "</style>\n",
       "<table border=\"1\" class=\"dataframe\">\n",
       "  <thead>\n",
       "    <tr style=\"text-align: right;\">\n",
       "      <th></th>\n",
       "      <th>Causa de muerte</th>\n",
       "      <th>Periodo</th>\n",
       "      <th>Total</th>\n",
       "    </tr>\n",
       "  </thead>\n",
       "  <tbody>\n",
       "    <tr>\n",
       "      <th>245</th>\n",
       "      <td>053-061 IX.Enfermedades del sistema circulatorio</td>\n",
       "      <td>1991</td>\n",
       "      <td>3153.309524</td>\n",
       "    </tr>\n",
       "    <tr>\n",
       "      <th>253</th>\n",
       "      <td>053-061 IX.Enfermedades del sistema circulatorio</td>\n",
       "      <td>1999</td>\n",
       "      <td>3137.476190</td>\n",
       "    </tr>\n",
       "    <tr>\n",
       "      <th>252</th>\n",
       "      <td>053-061 IX.Enfermedades del sistema circulatorio</td>\n",
       "      <td>1998</td>\n",
       "      <td>3134.000000</td>\n",
       "    </tr>\n",
       "  </tbody>\n",
       "</table>\n",
       "</div>"
      ],
      "text/plain": [
       "                                      Causa de muerte  Periodo        Total\n",
       "245  053-061 IX.Enfermedades del sistema circulatorio     1991  3153.309524\n",
       "253  053-061 IX.Enfermedades del sistema circulatorio     1999  3137.476190\n",
       "252  053-061 IX.Enfermedades del sistema circulatorio     1998  3134.000000"
      ]
     },
     "execution_count": 55,
     "metadata": {},
     "output_type": "execute_result"
    }
   ],
   "source": [
    "mean_df.head(3)"
   ]
  },
  {
   "cell_type": "code",
   "execution_count": 56,
   "metadata": {},
   "outputs": [
    {
     "data": {
      "text/plain": [
       "pandas.core.frame.DataFrame"
      ]
     },
     "execution_count": 56,
     "metadata": {},
     "output_type": "execute_result"
    }
   ],
   "source": [
    "type(mean_df)"
   ]
  },
  {
   "cell_type": "code",
   "execution_count": 57,
   "metadata": {},
   "outputs": [
    {
     "data": {
      "application/vnd.plotly.v1+json": {
       "config": {
        "plotlyServerURL": "https://plot.ly"
       },
       "data": [
        {
         "hovertemplate": "Causa de muerte=%{x}<br>Total=%{y}<br>Periodo=%{marker.color}<extra></extra>",
         "legendgroup": "",
         "marker": {
          "color": [
           1991,
           1999,
           1998,
           1985,
           1983,
           1993,
           2003,
           1996,
           1990,
           1988,
           1989,
           1992,
           1995,
           1997,
           1994,
           1986,
           1981,
           2005,
           1984,
           1987,
           1980,
           2002,
           2000,
           2001,
           2015,
           2007,
           1982,
           2004,
           2008,
           2017,
           2012,
           2018,
           2006,
           2009,
           2016,
           2010,
           2011,
           2013,
           2014,
           2017,
           2016,
           2018,
           2015,
           2013,
           2012,
           2014,
           2011,
           2010,
           2009,
           2008,
           2007,
           2006,
           2004,
           2005,
           2003,
           2002,
           2001,
           2000,
           1999,
           1998,
           1997,
           1995,
           1996,
           1994,
           1993,
           1992,
           1991,
           1990,
           1989,
           1988,
           1987,
           1986,
           1985,
           1984,
           1983,
           1982,
           1981,
           1980,
           2018,
           2015,
           2017,
           2012,
           2005,
           2016,
           1999,
           2008,
           2007,
           2014,
           2003,
           2009,
           2013,
           2011,
           2002,
           2000,
           2010,
           1998,
           2006,
           2004,
           2001,
           1997,
           1996,
           1995,
           1990,
           1993,
           1991,
           1994,
           1992,
           1989,
           1985,
           1988,
           1983,
           1986,
           1981,
           1987,
           1980,
           1984,
           2017,
           2018,
           1982,
           2015,
           2016,
           2014,
           2018,
           2012,
           2017,
           2018,
           2013,
           2015,
           2016,
           2017,
           2015,
           2011,
           2016,
           2012,
           2007,
           2005,
           2011,
           2003,
           2009,
           2008,
           2014,
           2013,
           2004,
           2006,
           1989,
           2010,
           2010,
           1999,
           2002,
           1998,
           1990,
           1996,
           1990,
           1991,
           2009,
           2014,
           1989,
           1991,
           1997,
           1992,
           2000,
           2001,
           1994,
           1993,
           1988,
           1995,
           1987,
           1988,
           1986,
           1985,
           1984,
           2008,
           1987,
           1980,
           1983,
           1992,
           1982,
           2012,
           1981,
           2004,
           1983,
           2013,
           2005,
           1998,
           2007,
           1985,
           2003,
           2000,
           1997,
           1993,
           1999,
           1986,
           1995,
           1996,
           1983,
           2006,
           1994,
           2001,
           2002,
           2007,
           1984,
           1981,
           2017,
           1980,
           1984,
           1982,
           2018,
           2006,
           2005,
           2016,
           1985,
           1986,
           1980,
           2008,
           1981,
           2011,
           2015,
           2014,
           2010,
           2003,
           1982,
           2013,
           2009,
           2009,
           2011,
           2004,
           2010,
           2015,
           2012,
           2018,
           2018,
           2017,
           2017,
           2003,
           2008,
           2014,
           2012,
           2011,
           2016,
           2010,
           2005,
           2002,
           2009,
           2005,
           2008,
           2007,
           2007,
           2013,
           2016,
           2015,
           2003,
           1988,
           2006,
           1987,
           2004,
           2004,
           2012,
           1998,
           2013,
           2002,
           2001,
           2002,
           2014,
           2006,
           1999,
           2008,
           1999,
           1990,
           2007,
           2001,
           2001,
           1998,
           2000,
           1989,
           2009,
           2011,
           2003,
           2005,
           2000,
           2009,
           1997,
           2010,
           1995,
           2011,
           1996,
           2008,
           2006,
           1997,
           2004,
           2010,
           2000,
           1991,
           1991,
           1994,
           1990,
           1993,
           1999,
           1996,
           2007,
           2002,
           1995,
           1996,
           1989,
           2018,
           1988,
           2012,
           1992,
           1987,
           2001,
           1986,
           2000,
           2005,
           1999,
           1985,
           2015,
           2006,
           1995,
           1984,
           2017,
           1992,
           1996,
           1993,
           1994,
           2003,
           1983,
           2013,
           2004,
           2014,
           1994,
           1993,
           1982,
           2002,
           2001,
           1997,
           1995,
           1981,
           1998,
           1994,
           2016,
           1998,
           2000,
           1980,
           1998,
           2007,
           1999,
           2008,
           2015,
           1993,
           2005,
           1992,
           1997,
           2003,
           1997,
           2004,
           1990,
           2006,
           1989,
           1992,
           1988,
           1996,
           1991,
           2016,
           1997,
           1993,
           1994,
           1995,
           2009,
           2017,
           1992,
           2002,
           1987,
           1985,
           1996,
           1991,
           1986,
           2001,
           1999,
           2012,
           2014,
           2010,
           1991,
           2011,
           2018,
           1998,
           2000,
           1995,
           2013,
           1994,
           1990,
           1984,
           1983,
           1981,
           1990,
           1980,
           1993,
           1982,
           2018,
           1989,
           2017,
           1991,
           1992,
           1990,
           1989,
           1989,
           2016,
           1988,
           1988,
           2015,
           1980,
           1987,
           1981,
           2012,
           1987,
           2014,
           2005,
           2003,
           2004,
           1986,
           2002,
           1988,
           2009,
           1985,
           2008,
           1980,
           2011,
           2007,
           1983,
           1982,
           1986,
           2006,
           2013,
           2001,
           1985,
           2010,
           1983,
           1982,
           1984,
           1984,
           1999,
           1980,
           2000,
           1981,
           1981,
           1987,
           1998,
           1991,
           1995,
           1997,
           1996,
           1992,
           1990,
           1994,
           1993,
           1982,
           1989,
           1988,
           1987,
           1983,
           1986,
           1986,
           1980,
           1981,
           1985,
           1985,
           1984,
           2015,
           1982,
           2017,
           2018,
           1983,
           2016,
           2014,
           1984,
           1984,
           1985,
           2013,
           1985,
           1986,
           1987,
           1986,
           2012,
           2011,
           1987,
           2010,
           1988,
           1983,
           2009,
           1992,
           1984,
           1991,
           1993,
           1990,
           1989,
           1990,
           1989,
           2008,
           1998,
           2005,
           1988,
           1994,
           2004,
           2007,
           1994,
           1993,
           1997,
           1996,
           2002,
           1995,
           1991,
           2003,
           2006,
           1996,
           1992,
           2000,
           1997,
           1991,
           1995,
           1992,
           1999,
           1998,
           1990,
           1999,
           2001,
           2000,
           1989,
           1993,
           2003,
           2004,
           2004,
           2002,
           1981,
           2010,
           2007,
           1982,
           2005,
           2001,
           1987,
           1988,
           2008,
           2005,
           2006,
           1994,
           2008,
           2011,
           2002,
           2006,
           2009,
           1980,
           2001,
           2007,
           2009,
           2003,
           1986,
           1996,
           1995,
           2000,
           1985,
           2016,
           2018,
           2011,
           2010,
           2012,
           2014,
           2012,
           2017,
           1984,
           2015,
           1997,
           1999,
           1998,
           2014,
           2013,
           1983,
           1981,
           2013,
           1980,
           2015,
           1982,
           2016,
           2018,
           2017,
           1980,
           1983,
           1982,
           1981,
           1980,
           1982,
           1981,
           1983,
           1984,
           1986,
           2008,
           1990,
           2004,
           1987,
           1988,
           1985,
           2010,
           2003,
           1992,
           2013,
           2005,
           2009,
           2001,
           2015,
           1999,
           2016,
           2000,
           2002,
           2011,
           2006,
           2017,
           1994,
           1991,
           2007,
           1993,
           1989,
           1995,
           1996,
           1998,
           2012,
           2014,
           1997,
           2018
          ],
          "coloraxis": "coloraxis",
          "symbol": "circle"
         },
         "mode": "markers",
         "name": "",
         "orientation": "v",
         "showlegend": false,
         "type": "scatter",
         "x": [
          "053-061 IX.Enfermedades del sistema circulatorio",
          "053-061 IX.Enfermedades del sistema circulatorio",
          "053-061 IX.Enfermedades del sistema circulatorio",
          "053-061 IX.Enfermedades del sistema circulatorio",
          "053-061 IX.Enfermedades del sistema circulatorio",
          "053-061 IX.Enfermedades del sistema circulatorio",
          "053-061 IX.Enfermedades del sistema circulatorio",
          "053-061 IX.Enfermedades del sistema circulatorio",
          "053-061 IX.Enfermedades del sistema circulatorio",
          "053-061 IX.Enfermedades del sistema circulatorio",
          "053-061 IX.Enfermedades del sistema circulatorio",
          "053-061 IX.Enfermedades del sistema circulatorio",
          "053-061 IX.Enfermedades del sistema circulatorio",
          "053-061 IX.Enfermedades del sistema circulatorio",
          "053-061 IX.Enfermedades del sistema circulatorio",
          "053-061 IX.Enfermedades del sistema circulatorio",
          "053-061 IX.Enfermedades del sistema circulatorio",
          "053-061 IX.Enfermedades del sistema circulatorio",
          "053-061 IX.Enfermedades del sistema circulatorio",
          "053-061 IX.Enfermedades del sistema circulatorio",
          "053-061 IX.Enfermedades del sistema circulatorio",
          "053-061 IX.Enfermedades del sistema circulatorio",
          "053-061 IX.Enfermedades del sistema circulatorio",
          "053-061 IX.Enfermedades del sistema circulatorio",
          "053-061 IX.Enfermedades del sistema circulatorio",
          "053-061 IX.Enfermedades del sistema circulatorio",
          "053-061 IX.Enfermedades del sistema circulatorio",
          "053-061 IX.Enfermedades del sistema circulatorio",
          "053-061 IX.Enfermedades del sistema circulatorio",
          "053-061 IX.Enfermedades del sistema circulatorio",
          "053-061 IX.Enfermedades del sistema circulatorio",
          "053-061 IX.Enfermedades del sistema circulatorio",
          "053-061 IX.Enfermedades del sistema circulatorio",
          "053-061 IX.Enfermedades del sistema circulatorio",
          "053-061 IX.Enfermedades del sistema circulatorio",
          "053-061 IX.Enfermedades del sistema circulatorio",
          "053-061 IX.Enfermedades del sistema circulatorio",
          "053-061 IX.Enfermedades del sistema circulatorio",
          "053-061 IX.Enfermedades del sistema circulatorio",
          "009-041  II.Tumores",
          "009-041  II.Tumores",
          "009-041  II.Tumores",
          "009-041  II.Tumores",
          "009-041  II.Tumores",
          "009-041  II.Tumores",
          "009-041  II.Tumores",
          "009-041  II.Tumores",
          "009-041  II.Tumores",
          "009-041  II.Tumores",
          "009-041  II.Tumores",
          "009-041  II.Tumores",
          "009-041  II.Tumores",
          "009-041  II.Tumores",
          "009-041  II.Tumores",
          "009-041  II.Tumores",
          "009-041  II.Tumores",
          "009-041  II.Tumores",
          "009-041  II.Tumores",
          "009-041  II.Tumores",
          "009-041  II.Tumores",
          "009-041  II.Tumores",
          "009-041  II.Tumores",
          "009-041  II.Tumores",
          "009-041  II.Tumores",
          "009-041  II.Tumores",
          "009-041  II.Tumores",
          "009-041  II.Tumores",
          "009-041  II.Tumores",
          "009-041  II.Tumores",
          "009-041  II.Tumores",
          "009-041  II.Tumores",
          "009-041  II.Tumores",
          "009-041  II.Tumores",
          "009-041  II.Tumores",
          "009-041  II.Tumores",
          "009-041  II.Tumores",
          "009-041  II.Tumores",
          "009-041  II.Tumores",
          "062-067  X.Enfermedades del sistema respiratorio",
          "062-067  X.Enfermedades del sistema respiratorio",
          "062-067  X.Enfermedades del sistema respiratorio",
          "062-067  X.Enfermedades del sistema respiratorio",
          "062-067  X.Enfermedades del sistema respiratorio",
          "062-067  X.Enfermedades del sistema respiratorio",
          "062-067  X.Enfermedades del sistema respiratorio",
          "062-067  X.Enfermedades del sistema respiratorio",
          "062-067  X.Enfermedades del sistema respiratorio",
          "062-067  X.Enfermedades del sistema respiratorio",
          "062-067  X.Enfermedades del sistema respiratorio",
          "062-067  X.Enfermedades del sistema respiratorio",
          "062-067  X.Enfermedades del sistema respiratorio",
          "062-067  X.Enfermedades del sistema respiratorio",
          "062-067  X.Enfermedades del sistema respiratorio",
          "062-067  X.Enfermedades del sistema respiratorio",
          "062-067  X.Enfermedades del sistema respiratorio",
          "062-067  X.Enfermedades del sistema respiratorio",
          "062-067  X.Enfermedades del sistema respiratorio",
          "062-067  X.Enfermedades del sistema respiratorio",
          "062-067  X.Enfermedades del sistema respiratorio",
          "062-067  X.Enfermedades del sistema respiratorio",
          "062-067  X.Enfermedades del sistema respiratorio",
          "062-067  X.Enfermedades del sistema respiratorio",
          "062-067  X.Enfermedades del sistema respiratorio",
          "062-067  X.Enfermedades del sistema respiratorio",
          "062-067  X.Enfermedades del sistema respiratorio",
          "062-067  X.Enfermedades del sistema respiratorio",
          "062-067  X.Enfermedades del sistema respiratorio",
          "062-067  X.Enfermedades del sistema respiratorio",
          "062-067  X.Enfermedades del sistema respiratorio",
          "062-067  X.Enfermedades del sistema respiratorio",
          "062-067  X.Enfermedades del sistema respiratorio",
          "062-067  X.Enfermedades del sistema respiratorio",
          "062-067  X.Enfermedades del sistema respiratorio",
          "062-067  X.Enfermedades del sistema respiratorio",
          "062-067  X.Enfermedades del sistema respiratorio",
          "062-067  X.Enfermedades del sistema respiratorio",
          "050-052  VI-VIII.Enfermedades del sistema nervioso y de los órganos de los sentidos",
          "050-052  VI-VIII.Enfermedades del sistema nervioso y de los órganos de los sentidos",
          "062-067  X.Enfermedades del sistema respiratorio",
          "050-052  VI-VIII.Enfermedades del sistema nervioso y de los órganos de los sentidos",
          "050-052  VI-VIII.Enfermedades del sistema nervioso y de los órganos de los sentidos",
          "050-052  VI-VIII.Enfermedades del sistema nervioso y de los órganos de los sentidos",
          "046-049  V.Trastornos mentales y del comportamiento",
          "050-052  VI-VIII.Enfermedades del sistema nervioso y de los órganos de los sentidos",
          "046-049  V.Trastornos mentales y del comportamiento",
          "068-072  XI.Enfermedades del sistema digestivo",
          "050-052  VI-VIII.Enfermedades del sistema nervioso y de los órganos de los sentidos",
          "046-049  V.Trastornos mentales y del comportamiento",
          "046-049  V.Trastornos mentales y del comportamiento",
          "068-072  XI.Enfermedades del sistema digestivo",
          "068-072  XI.Enfermedades del sistema digestivo",
          "050-052  VI-VIII.Enfermedades del sistema nervioso y de los órganos de los sentidos",
          "068-072  XI.Enfermedades del sistema digestivo",
          "068-072  XI.Enfermedades del sistema digestivo",
          "068-072  XI.Enfermedades del sistema digestivo",
          "068-072  XI.Enfermedades del sistema digestivo",
          "068-072  XI.Enfermedades del sistema digestivo",
          "068-072  XI.Enfermedades del sistema digestivo",
          "068-072  XI.Enfermedades del sistema digestivo",
          "068-072  XI.Enfermedades del sistema digestivo",
          "068-072  XI.Enfermedades del sistema digestivo",
          "068-072  XI.Enfermedades del sistema digestivo",
          "068-072  XI.Enfermedades del sistema digestivo",
          "068-072  XI.Enfermedades del sistema digestivo",
          "090-102  XX.Causas externas de mortalidad",
          "050-052  VI-VIII.Enfermedades del sistema nervioso y de los órganos de los sentidos",
          "068-072  XI.Enfermedades del sistema digestivo",
          "068-072  XI.Enfermedades del sistema digestivo",
          "068-072  XI.Enfermedades del sistema digestivo",
          "068-072  XI.Enfermedades del sistema digestivo",
          "090-102  XX.Causas externas de mortalidad",
          "068-072  XI.Enfermedades del sistema digestivo",
          "068-072  XI.Enfermedades del sistema digestivo",
          "068-072  XI.Enfermedades del sistema digestivo",
          "050-052  VI-VIII.Enfermedades del sistema nervioso y de los órganos de los sentidos",
          "046-049  V.Trastornos mentales y del comportamiento",
          "068-072  XI.Enfermedades del sistema digestivo",
          "090-102  XX.Causas externas de mortalidad",
          "068-072  XI.Enfermedades del sistema digestivo",
          "068-072  XI.Enfermedades del sistema digestivo",
          "068-072  XI.Enfermedades del sistema digestivo",
          "068-072  XI.Enfermedades del sistema digestivo",
          "068-072  XI.Enfermedades del sistema digestivo",
          "068-072  XI.Enfermedades del sistema digestivo",
          "068-072  XI.Enfermedades del sistema digestivo",
          "068-072  XI.Enfermedades del sistema digestivo",
          "068-072  XI.Enfermedades del sistema digestivo",
          "090-102  XX.Causas externas de mortalidad",
          "068-072  XI.Enfermedades del sistema digestivo",
          "068-072  XI.Enfermedades del sistema digestivo",
          "068-072  XI.Enfermedades del sistema digestivo",
          "050-052  VI-VIII.Enfermedades del sistema nervioso y de los órganos de los sentidos",
          "090-102  XX.Causas externas de mortalidad",
          "068-072  XI.Enfermedades del sistema digestivo",
          "068-072  XI.Enfermedades del sistema digestivo",
          "090-102  XX.Causas externas de mortalidad",
          "068-072  XI.Enfermedades del sistema digestivo",
          "046-049  V.Trastornos mentales y del comportamiento",
          "068-072  XI.Enfermedades del sistema digestivo",
          "090-102  XX.Causas externas de mortalidad",
          "086-089  XVIII.Síntomas, signos y hallazgos anormales clínicos y de laboratorio, no clasificados en otra parte",
          "046-049  V.Trastornos mentales y del comportamiento",
          "090-102  XX.Causas externas de mortalidad",
          "090-102  XX.Causas externas de mortalidad",
          "050-052  VI-VIII.Enfermedades del sistema nervioso y de los órganos de los sentidos",
          "086-089  XVIII.Síntomas, signos y hallazgos anormales clínicos y de laboratorio, no clasificados en otra parte",
          "090-102  XX.Causas externas de mortalidad",
          "090-102  XX.Causas externas de mortalidad",
          "090-102  XX.Causas externas de mortalidad",
          "090-102  XX.Causas externas de mortalidad",
          "090-102  XX.Causas externas de mortalidad",
          "090-102  XX.Causas externas de mortalidad",
          "090-102  XX.Causas externas de mortalidad",
          "090-102  XX.Causas externas de mortalidad",
          "090-102  XX.Causas externas de mortalidad",
          "090-102  XX.Causas externas de mortalidad",
          "090-102  XX.Causas externas de mortalidad",
          "090-102  XX.Causas externas de mortalidad",
          "090-102  XX.Causas externas de mortalidad",
          "090-102  XX.Causas externas de mortalidad",
          "086-089  XVIII.Síntomas, signos y hallazgos anormales clínicos y de laboratorio, no clasificados en otra parte",
          "086-089  XVIII.Síntomas, signos y hallazgos anormales clínicos y de laboratorio, no clasificados en otra parte",
          "090-102  XX.Causas externas de mortalidad",
          "086-089  XVIII.Síntomas, signos y hallazgos anormales clínicos y de laboratorio, no clasificados en otra parte",
          "090-102  XX.Causas externas de mortalidad",
          "086-089  XVIII.Síntomas, signos y hallazgos anormales clínicos y de laboratorio, no clasificados en otra parte",
          "090-102  XX.Causas externas de mortalidad",
          "050-052  VI-VIII.Enfermedades del sistema nervioso y de los órganos de los sentidos",
          "050-052  VI-VIII.Enfermedades del sistema nervioso y de los órganos de los sentidos",
          "090-102  XX.Causas externas de mortalidad",
          "090-102  XX.Causas externas de mortalidad",
          "086-089  XVIII.Síntomas, signos y hallazgos anormales clínicos y de laboratorio, no clasificados en otra parte",
          "090-102  XX.Causas externas de mortalidad",
          "090-102  XX.Causas externas de mortalidad",
          "090-102  XX.Causas externas de mortalidad",
          "046-049  V.Trastornos mentales y del comportamiento",
          "090-102  XX.Causas externas de mortalidad",
          "090-102  XX.Causas externas de mortalidad",
          "046-049  V.Trastornos mentales y del comportamiento",
          "050-052  VI-VIII.Enfermedades del sistema nervioso y de los órganos de los sentidos",
          "090-102  XX.Causas externas de mortalidad",
          "090-102  XX.Causas externas de mortalidad",
          "090-102  XX.Causas externas de mortalidad",
          "046-049  V.Trastornos mentales y del comportamiento",
          "090-102  XX.Causas externas de mortalidad",
          "050-052  VI-VIII.Enfermedades del sistema nervioso y de los órganos de los sentidos",
          "090-102  XX.Causas externas de mortalidad",
          "044-045  IV.Enfermedades endocrinas, nutricionales y metabólicas",
          "090-102  XX.Causas externas de mortalidad",
          "077-080  XIV.Enfermedades del sistema genitourinario",
          "044-045  IV.Enfermedades endocrinas, nutricionales y metabólicas",
          "044-045  IV.Enfermedades endocrinas, nutricionales y metabólicas",
          "077-080  XIV.Enfermedades del sistema genitourinario",
          "046-049  V.Trastornos mentales y del comportamiento",
          "046-049  V.Trastornos mentales y del comportamiento",
          "044-045  IV.Enfermedades endocrinas, nutricionales y metabólicas",
          "044-045  IV.Enfermedades endocrinas, nutricionales y metabólicas",
          "044-045  IV.Enfermedades endocrinas, nutricionales y metabólicas",
          "044-045  IV.Enfermedades endocrinas, nutricionales y metabólicas",
          "044-045  IV.Enfermedades endocrinas, nutricionales y metabólicas",
          "046-049  V.Trastornos mentales y del comportamiento",
          "050-052  VI-VIII.Enfermedades del sistema nervioso y de los órganos de los sentidos",
          "044-045  IV.Enfermedades endocrinas, nutricionales y metabólicas",
          "044-045  IV.Enfermedades endocrinas, nutricionales y metabólicas",
          "044-045  IV.Enfermedades endocrinas, nutricionales y metabólicas",
          "046-049  V.Trastornos mentales y del comportamiento",
          "044-045  IV.Enfermedades endocrinas, nutricionales y metabólicas",
          "044-045  IV.Enfermedades endocrinas, nutricionales y metabólicas",
          "077-080  XIV.Enfermedades del sistema genitourinario",
          "077-080  XIV.Enfermedades del sistema genitourinario",
          "044-045  IV.Enfermedades endocrinas, nutricionales y metabólicas",
          "086-089  XVIII.Síntomas, signos y hallazgos anormales clínicos y de laboratorio, no clasificados en otra parte",
          "046-049  V.Trastornos mentales y del comportamiento",
          "086-089  XVIII.Síntomas, signos y hallazgos anormales clínicos y de laboratorio, no clasificados en otra parte",
          "044-045  IV.Enfermedades endocrinas, nutricionales y metabólicas",
          "046-049  V.Trastornos mentales y del comportamiento",
          "077-080  XIV.Enfermedades del sistema genitourinario",
          "046-049  V.Trastornos mentales y del comportamiento",
          "077-080  XIV.Enfermedades del sistema genitourinario",
          "046-049  V.Trastornos mentales y del comportamiento",
          "050-052  VI-VIII.Enfermedades del sistema nervioso y de los órganos de los sentidos",
          "044-045  IV.Enfermedades endocrinas, nutricionales y metabólicas",
          "077-080  XIV.Enfermedades del sistema genitourinario",
          "044-045  IV.Enfermedades endocrinas, nutricionales y metabólicas",
          "046-049  V.Trastornos mentales y del comportamiento",
          "086-089  XVIII.Síntomas, signos y hallazgos anormales clínicos y de laboratorio, no clasificados en otra parte",
          "044-045  IV.Enfermedades endocrinas, nutricionales y metabólicas",
          "086-089  XVIII.Síntomas, signos y hallazgos anormales clínicos y de laboratorio, no clasificados en otra parte",
          "086-089  XVIII.Síntomas, signos y hallazgos anormales clínicos y de laboratorio, no clasificados en otra parte",
          "046-049  V.Trastornos mentales y del comportamiento",
          "044-045  IV.Enfermedades endocrinas, nutricionales y metabólicas",
          "044-045  IV.Enfermedades endocrinas, nutricionales y metabólicas",
          "046-049  V.Trastornos mentales y del comportamiento",
          "086-089  XVIII.Síntomas, signos y hallazgos anormales clínicos y de laboratorio, no clasificados en otra parte",
          "086-089  XVIII.Síntomas, signos y hallazgos anormales clínicos y de laboratorio, no clasificados en otra parte",
          "077-080  XIV.Enfermedades del sistema genitourinario",
          "086-089  XVIII.Síntomas, signos y hallazgos anormales clínicos y de laboratorio, no clasificados en otra parte",
          "086-089  XVIII.Síntomas, signos y hallazgos anormales clínicos y de laboratorio, no clasificados en otra parte",
          "044-045  IV.Enfermedades endocrinas, nutricionales y metabólicas",
          "077-080  XIV.Enfermedades del sistema genitourinario",
          "046-049  V.Trastornos mentales y del comportamiento",
          "086-089  XVIII.Síntomas, signos y hallazgos anormales clínicos y de laboratorio, no clasificados en otra parte",
          "044-045  IV.Enfermedades endocrinas, nutricionales y metabólicas",
          "086-089  XVIII.Síntomas, signos y hallazgos anormales clínicos y de laboratorio, no clasificados en otra parte",
          "044-045  IV.Enfermedades endocrinas, nutricionales y metabólicas",
          "077-080  XIV.Enfermedades del sistema genitourinario",
          "086-089  XVIII.Síntomas, signos y hallazgos anormales clínicos y de laboratorio, no clasificados en otra parte",
          "044-045  IV.Enfermedades endocrinas, nutricionales y metabólicas",
          "086-089  XVIII.Síntomas, signos y hallazgos anormales clínicos y de laboratorio, no clasificados en otra parte",
          "077-080  XIV.Enfermedades del sistema genitourinario",
          "050-052  VI-VIII.Enfermedades del sistema nervioso y de los órganos de los sentidos",
          "044-045  IV.Enfermedades endocrinas, nutricionales y metabólicas",
          "086-089  XVIII.Síntomas, signos y hallazgos anormales clínicos y de laboratorio, no clasificados en otra parte",
          "044-045  IV.Enfermedades endocrinas, nutricionales y metabólicas",
          "044-045  IV.Enfermedades endocrinas, nutricionales y metabólicas",
          "044-045  IV.Enfermedades endocrinas, nutricionales y metabólicas",
          "050-052  VI-VIII.Enfermedades del sistema nervioso y de los órganos de los sentidos",
          "046-049  V.Trastornos mentales y del comportamiento",
          "077-080  XIV.Enfermedades del sistema genitourinario",
          "086-089  XVIII.Síntomas, signos y hallazgos anormales clínicos y de laboratorio, no clasificados en otra parte",
          "001-008  I.Enfermedades infecciosas y parasitarias",
          "001-008  I.Enfermedades infecciosas y parasitarias",
          "044-045  IV.Enfermedades endocrinas, nutricionales y metabólicas",
          "086-089  XVIII.Síntomas, signos y hallazgos anormales clínicos y de laboratorio, no clasificados en otra parte",
          "044-045  IV.Enfermedades endocrinas, nutricionales y metabólicas",
          "086-089  XVIII.Síntomas, signos y hallazgos anormales clínicos y de laboratorio, no clasificados en otra parte",
          "044-045  IV.Enfermedades endocrinas, nutricionales y metabólicas",
          "044-045  IV.Enfermedades endocrinas, nutricionales y metabólicas",
          "086-089  XVIII.Síntomas, signos y hallazgos anormales clínicos y de laboratorio, no clasificados en otra parte",
          "044-045  IV.Enfermedades endocrinas, nutricionales y metabólicas",
          "086-089  XVIII.Síntomas, signos y hallazgos anormales clínicos y de laboratorio, no clasificados en otra parte",
          "077-080  XIV.Enfermedades del sistema genitourinario",
          "086-089  XVIII.Síntomas, signos y hallazgos anormales clínicos y de laboratorio, no clasificados en otra parte",
          "044-045  IV.Enfermedades endocrinas, nutricionales y metabólicas",
          "086-089  XVIII.Síntomas, signos y hallazgos anormales clínicos y de laboratorio, no clasificados en otra parte",
          "077-080  XIV.Enfermedades del sistema genitourinario",
          "046-049  V.Trastornos mentales y del comportamiento",
          "044-045  IV.Enfermedades endocrinas, nutricionales y metabólicas",
          "086-089  XVIII.Síntomas, signos y hallazgos anormales clínicos y de laboratorio, no clasificados en otra parte",
          "086-089  XVIII.Síntomas, signos y hallazgos anormales clínicos y de laboratorio, no clasificados en otra parte",
          "086-089  XVIII.Síntomas, signos y hallazgos anormales clínicos y de laboratorio, no clasificados en otra parte",
          "086-089  XVIII.Síntomas, signos y hallazgos anormales clínicos y de laboratorio, no clasificados en otra parte",
          "001-008  I.Enfermedades infecciosas y parasitarias",
          "077-080  XIV.Enfermedades del sistema genitourinario",
          "044-045  IV.Enfermedades endocrinas, nutricionales y metabólicas",
          "086-089  XVIII.Síntomas, signos y hallazgos anormales clínicos y de laboratorio, no clasificados en otra parte",
          "077-080  XIV.Enfermedades del sistema genitourinario",
          "086-089  XVIII.Síntomas, signos y hallazgos anormales clínicos y de laboratorio, no clasificados en otra parte",
          "046-049  V.Trastornos mentales y del comportamiento",
          "001-008  I.Enfermedades infecciosas y parasitarias",
          "044-045  IV.Enfermedades endocrinas, nutricionales y metabólicas",
          "077-080  XIV.Enfermedades del sistema genitourinario",
          "077-080  XIV.Enfermedades del sistema genitourinario",
          "086-089  XVIII.Síntomas, signos y hallazgos anormales clínicos y de laboratorio, no clasificados en otra parte",
          "086-089  XVIII.Síntomas, signos y hallazgos anormales clínicos y de laboratorio, no clasificados en otra parte",
          "044-045  IV.Enfermedades endocrinas, nutricionales y metabólicas",
          "086-089  XVIII.Síntomas, signos y hallazgos anormales clínicos y de laboratorio, no clasificados en otra parte",
          "086-089  XVIII.Síntomas, signos y hallazgos anormales clínicos y de laboratorio, no clasificados en otra parte",
          "086-089  XVIII.Síntomas, signos y hallazgos anormales clínicos y de laboratorio, no clasificados en otra parte",
          "050-052  VI-VIII.Enfermedades del sistema nervioso y de los órganos de los sentidos",
          "077-080  XIV.Enfermedades del sistema genitourinario",
          "044-045  IV.Enfermedades endocrinas, nutricionales y metabólicas",
          "077-080  XIV.Enfermedades del sistema genitourinario",
          "001-008  I.Enfermedades infecciosas y parasitarias",
          "077-080  XIV.Enfermedades del sistema genitourinario",
          "001-008  I.Enfermedades infecciosas y parasitarias",
          "001-008  I.Enfermedades infecciosas y parasitarias",
          "046-049  V.Trastornos mentales y del comportamiento",
          "001-008  I.Enfermedades infecciosas y parasitarias",
          "001-008  I.Enfermedades infecciosas y parasitarias",
          "077-080  XIV.Enfermedades del sistema genitourinario",
          "001-008  I.Enfermedades infecciosas y parasitarias",
          "001-008  I.Enfermedades infecciosas y parasitarias",
          "001-008  I.Enfermedades infecciosas y parasitarias",
          "077-080  XIV.Enfermedades del sistema genitourinario",
          "001-008  I.Enfermedades infecciosas y parasitarias",
          "077-080  XIV.Enfermedades del sistema genitourinario",
          "077-080  XIV.Enfermedades del sistema genitourinario",
          "077-080  XIV.Enfermedades del sistema genitourinario",
          "077-080  XIV.Enfermedades del sistema genitourinario",
          "077-080  XIV.Enfermedades del sistema genitourinario",
          "001-008  I.Enfermedades infecciosas y parasitarias",
          "050-052  VI-VIII.Enfermedades del sistema nervioso y de los órganos de los sentidos",
          "077-080  XIV.Enfermedades del sistema genitourinario",
          "077-080  XIV.Enfermedades del sistema genitourinario",
          "077-080  XIV.Enfermedades del sistema genitourinario",
          "001-008  I.Enfermedades infecciosas y parasitarias",
          "001-008  I.Enfermedades infecciosas y parasitarias",
          "046-049  V.Trastornos mentales y del comportamiento",
          "001-008  I.Enfermedades infecciosas y parasitarias",
          "077-080  XIV.Enfermedades del sistema genitourinario",
          "077-080  XIV.Enfermedades del sistema genitourinario",
          "050-052  VI-VIII.Enfermedades del sistema nervioso y de los órganos de los sentidos",
          "001-008  I.Enfermedades infecciosas y parasitarias",
          "077-080  XIV.Enfermedades del sistema genitourinario",
          "001-008  I.Enfermedades infecciosas y parasitarias",
          "001-008  I.Enfermedades infecciosas y parasitarias",
          "001-008  I.Enfermedades infecciosas y parasitarias",
          "001-008  I.Enfermedades infecciosas y parasitarias",
          "001-008  I.Enfermedades infecciosas y parasitarias",
          "046-049  V.Trastornos mentales y del comportamiento",
          "001-008  I.Enfermedades infecciosas y parasitarias",
          "001-008  I.Enfermedades infecciosas y parasitarias",
          "001-008  I.Enfermedades infecciosas y parasitarias",
          "001-008  I.Enfermedades infecciosas y parasitarias",
          "050-052  VI-VIII.Enfermedades del sistema nervioso y de los órganos de los sentidos",
          "001-008  I.Enfermedades infecciosas y parasitarias",
          "050-052  VI-VIII.Enfermedades del sistema nervioso y de los órganos de los sentidos",
          "001-008  I.Enfermedades infecciosas y parasitarias",
          "077-080  XIV.Enfermedades del sistema genitourinario",
          "077-080  XIV.Enfermedades del sistema genitourinario",
          "077-080  XIV.Enfermedades del sistema genitourinario",
          "046-049  V.Trastornos mentales y del comportamiento",
          "077-080  XIV.Enfermedades del sistema genitourinario",
          "050-052  VI-VIII.Enfermedades del sistema nervioso y de los órganos de los sentidos",
          "077-080  XIV.Enfermedades del sistema genitourinario",
          "074-076  XIII.Enfermedades del sistema osteomuscular y del tejido conjuntivo",
          "001-008  I.Enfermedades infecciosas y parasitarias",
          "074-076  XIII.Enfermedades del sistema osteomuscular y del tejido conjuntivo",
          "050-052  VI-VIII.Enfermedades del sistema nervioso y de los órganos de los sentidos",
          "050-052  VI-VIII.Enfermedades del sistema nervioso y de los órganos de los sentidos",
          "050-052  VI-VIII.Enfermedades del sistema nervioso y de los órganos de los sentidos",
          "046-049  V.Trastornos mentales y del comportamiento",
          "050-052  VI-VIII.Enfermedades del sistema nervioso y de los órganos de los sentidos",
          "074-076  XIII.Enfermedades del sistema osteomuscular y del tejido conjuntivo",
          "001-008  I.Enfermedades infecciosas y parasitarias",
          "050-052  VI-VIII.Enfermedades del sistema nervioso y de los órganos de los sentidos",
          "074-076  XIII.Enfermedades del sistema osteomuscular y del tejido conjuntivo",
          "001-008  I.Enfermedades infecciosas y parasitarias",
          "050-052  VI-VIII.Enfermedades del sistema nervioso y de los órganos de los sentidos",
          "001-008  I.Enfermedades infecciosas y parasitarias",
          "074-076  XIII.Enfermedades del sistema osteomuscular y del tejido conjuntivo",
          "001-008  I.Enfermedades infecciosas y parasitarias",
          "074-076  XIII.Enfermedades del sistema osteomuscular y del tejido conjuntivo",
          "074-076  XIII.Enfermedades del sistema osteomuscular y del tejido conjuntivo",
          "074-076  XIII.Enfermedades del sistema osteomuscular y del tejido conjuntivo",
          "074-076  XIII.Enfermedades del sistema osteomuscular y del tejido conjuntivo",
          "050-052  VI-VIII.Enfermedades del sistema nervioso y de los órganos de los sentidos",
          "074-076  XIII.Enfermedades del sistema osteomuscular y del tejido conjuntivo",
          "046-049  V.Trastornos mentales y del comportamiento",
          "074-076  XIII.Enfermedades del sistema osteomuscular y del tejido conjuntivo",
          "050-052  VI-VIII.Enfermedades del sistema nervioso y de los órganos de los sentidos",
          "074-076  XIII.Enfermedades del sistema osteomuscular y del tejido conjuntivo",
          "050-052  VI-VIII.Enfermedades del sistema nervioso y de los órganos de los sentidos",
          "074-076  XIII.Enfermedades del sistema osteomuscular y del tejido conjuntivo",
          "074-076  XIII.Enfermedades del sistema osteomuscular y del tejido conjuntivo",
          "050-052  VI-VIII.Enfermedades del sistema nervioso y de los órganos de los sentidos",
          "001-008  I.Enfermedades infecciosas y parasitarias",
          "001-008  I.Enfermedades infecciosas y parasitarias",
          "074-076  XIII.Enfermedades del sistema osteomuscular y del tejido conjuntivo",
          "074-076  XIII.Enfermedades del sistema osteomuscular y del tejido conjuntivo",
          "074-076  XIII.Enfermedades del sistema osteomuscular y del tejido conjuntivo",
          "001-008  I.Enfermedades infecciosas y parasitarias",
          "074-076  XIII.Enfermedades del sistema osteomuscular y del tejido conjuntivo",
          "001-008  I.Enfermedades infecciosas y parasitarias",
          "050-052  VI-VIII.Enfermedades del sistema nervioso y de los órganos de los sentidos",
          "001-008  I.Enfermedades infecciosas y parasitarias",
          "050-052  VI-VIII.Enfermedades del sistema nervioso y de los órganos de los sentidos",
          "074-076  XIII.Enfermedades del sistema osteomuscular y del tejido conjuntivo",
          "082  XVI.Afecciones originadas en el periodo perinatal",
          "074-076  XIII.Enfermedades del sistema osteomuscular y del tejido conjuntivo",
          "050-052  VI-VIII.Enfermedades del sistema nervioso y de los órganos de los sentidos",
          "082  XVI.Afecciones originadas en el periodo perinatal",
          "046-049  V.Trastornos mentales y del comportamiento",
          "074-076  XIII.Enfermedades del sistema osteomuscular y del tejido conjuntivo",
          "074-076  XIII.Enfermedades del sistema osteomuscular y del tejido conjuntivo",
          "074-076  XIII.Enfermedades del sistema osteomuscular y del tejido conjuntivo",
          "074-076  XIII.Enfermedades del sistema osteomuscular y del tejido conjuntivo",
          "074-076  XIII.Enfermedades del sistema osteomuscular y del tejido conjuntivo",
          "074-076  XIII.Enfermedades del sistema osteomuscular y del tejido conjuntivo",
          "074-076  XIII.Enfermedades del sistema osteomuscular y del tejido conjuntivo",
          "074-076  XIII.Enfermedades del sistema osteomuscular y del tejido conjuntivo",
          "074-076  XIII.Enfermedades del sistema osteomuscular y del tejido conjuntivo",
          "082  XVI.Afecciones originadas en el periodo perinatal",
          "074-076  XIII.Enfermedades del sistema osteomuscular y del tejido conjuntivo",
          "074-076  XIII.Enfermedades del sistema osteomuscular y del tejido conjuntivo",
          "074-076  XIII.Enfermedades del sistema osteomuscular y del tejido conjuntivo",
          "082  XVI.Afecciones originadas en el periodo perinatal",
          "046-049  V.Trastornos mentales y del comportamiento",
          "074-076  XIII.Enfermedades del sistema osteomuscular y del tejido conjuntivo",
          "083-085  XVII.Malformaciones congénitas, deformidades y anomalías cromosómicas",
          "083-085  XVII.Malformaciones congénitas, deformidades y anomalías cromosómicas",
          "074-076  XIII.Enfermedades del sistema osteomuscular y del tejido conjuntivo",
          "046-049  V.Trastornos mentales y del comportamiento",
          "082  XVI.Afecciones originadas en el periodo perinatal",
          "042-043  III.Enfermedades de la sangre y de los órganos hematopoyéticos, y ciertos trastornos que afectan al mecanismo de la inmunidad",
          "083-085  XVII.Malformaciones congénitas, deformidades y anomalías cromosómicas",
          "042-043  III.Enfermedades de la sangre y de los órganos hematopoyéticos, y ciertos trastornos que afectan al mecanismo de la inmunidad",
          "042-043  III.Enfermedades de la sangre y de los órganos hematopoyéticos, y ciertos trastornos que afectan al mecanismo de la inmunidad",
          "083-085  XVII.Malformaciones congénitas, deformidades y anomalías cromosómicas",
          "042-043  III.Enfermedades de la sangre y de los órganos hematopoyéticos, y ciertos trastornos que afectan al mecanismo de la inmunidad",
          "042-043  III.Enfermedades de la sangre y de los órganos hematopoyéticos, y ciertos trastornos que afectan al mecanismo de la inmunidad",
          "083-085  XVII.Malformaciones congénitas, deformidades y anomalías cromosómicas",
          "046-049  V.Trastornos mentales y del comportamiento",
          "082  XVI.Afecciones originadas en el periodo perinatal",
          "042-043  III.Enfermedades de la sangre y de los órganos hematopoyéticos, y ciertos trastornos que afectan al mecanismo de la inmunidad",
          "083-085  XVII.Malformaciones congénitas, deformidades y anomalías cromosómicas",
          "082  XVI.Afecciones originadas en el periodo perinatal",
          "082  XVI.Afecciones originadas en el periodo perinatal",
          "083-085  XVII.Malformaciones congénitas, deformidades y anomalías cromosómicas",
          "042-043  III.Enfermedades de la sangre y de los órganos hematopoyéticos, y ciertos trastornos que afectan al mecanismo de la inmunidad",
          "042-043  III.Enfermedades de la sangre y de los órganos hematopoyéticos, y ciertos trastornos que afectan al mecanismo de la inmunidad",
          "083-085  XVII.Malformaciones congénitas, deformidades y anomalías cromosómicas",
          "042-043  III.Enfermedades de la sangre y de los órganos hematopoyéticos, y ciertos trastornos que afectan al mecanismo de la inmunidad",
          "083-085  XVII.Malformaciones congénitas, deformidades y anomalías cromosómicas",
          "046-049  V.Trastornos mentales y del comportamiento",
          "042-043  III.Enfermedades de la sangre y de los órganos hematopoyéticos, y ciertos trastornos que afectan al mecanismo de la inmunidad",
          "083-085  XVII.Malformaciones congénitas, deformidades y anomalías cromosómicas",
          "074-076  XIII.Enfermedades del sistema osteomuscular y del tejido conjuntivo",
          "083-085  XVII.Malformaciones congénitas, deformidades y anomalías cromosómicas",
          "083-085  XVII.Malformaciones congénitas, deformidades y anomalías cromosómicas",
          "083-085  XVII.Malformaciones congénitas, deformidades y anomalías cromosómicas",
          "083-085  XVII.Malformaciones congénitas, deformidades y anomalías cromosómicas",
          "082  XVI.Afecciones originadas en el periodo perinatal",
          "082  XVI.Afecciones originadas en el periodo perinatal",
          "042-043  III.Enfermedades de la sangre y de los órganos hematopoyéticos, y ciertos trastornos que afectan al mecanismo de la inmunidad",
          "042-043  III.Enfermedades de la sangre y de los órganos hematopoyéticos, y ciertos trastornos que afectan al mecanismo de la inmunidad",
          "042-043  III.Enfermedades de la sangre y de los órganos hematopoyéticos, y ciertos trastornos que afectan al mecanismo de la inmunidad",
          "082  XVI.Afecciones originadas en el periodo perinatal",
          "083-085  XVII.Malformaciones congénitas, deformidades y anomalías cromosómicas",
          "042-043  III.Enfermedades de la sangre y de los órganos hematopoyéticos, y ciertos trastornos que afectan al mecanismo de la inmunidad",
          "042-043  III.Enfermedades de la sangre y de los órganos hematopoyéticos, y ciertos trastornos que afectan al mecanismo de la inmunidad",
          "042-043  III.Enfermedades de la sangre y de los órganos hematopoyéticos, y ciertos trastornos que afectan al mecanismo de la inmunidad",
          "042-043  III.Enfermedades de la sangre y de los órganos hematopoyéticos, y ciertos trastornos que afectan al mecanismo de la inmunidad",
          "042-043  III.Enfermedades de la sangre y de los órganos hematopoyéticos, y ciertos trastornos que afectan al mecanismo de la inmunidad",
          "042-043  III.Enfermedades de la sangre y de los órganos hematopoyéticos, y ciertos trastornos que afectan al mecanismo de la inmunidad",
          "042-043  III.Enfermedades de la sangre y de los órganos hematopoyéticos, y ciertos trastornos que afectan al mecanismo de la inmunidad",
          "042-043  III.Enfermedades de la sangre y de los órganos hematopoyéticos, y ciertos trastornos que afectan al mecanismo de la inmunidad",
          "042-043  III.Enfermedades de la sangre y de los órganos hematopoyéticos, y ciertos trastornos que afectan al mecanismo de la inmunidad",
          "042-043  III.Enfermedades de la sangre y de los órganos hematopoyéticos, y ciertos trastornos que afectan al mecanismo de la inmunidad",
          "042-043  III.Enfermedades de la sangre y de los órganos hematopoyéticos, y ciertos trastornos que afectan al mecanismo de la inmunidad",
          "083-085  XVII.Malformaciones congénitas, deformidades y anomalías cromosómicas",
          "082  XVI.Afecciones originadas en el periodo perinatal",
          "042-043  III.Enfermedades de la sangre y de los órganos hematopoyéticos, y ciertos trastornos que afectan al mecanismo de la inmunidad",
          "083-085  XVII.Malformaciones congénitas, deformidades y anomalías cromosómicas",
          "082  XVI.Afecciones originadas en el periodo perinatal",
          "083-085  XVII.Malformaciones congénitas, deformidades y anomalías cromosómicas",
          "042-043  III.Enfermedades de la sangre y de los órganos hematopoyéticos, y ciertos trastornos que afectan al mecanismo de la inmunidad",
          "083-085  XVII.Malformaciones congénitas, deformidades y anomalías cromosómicas",
          "083-085  XVII.Malformaciones congénitas, deformidades y anomalías cromosómicas",
          "042-043  III.Enfermedades de la sangre y de los órganos hematopoyéticos, y ciertos trastornos que afectan al mecanismo de la inmunidad",
          "042-043  III.Enfermedades de la sangre y de los órganos hematopoyéticos, y ciertos trastornos que afectan al mecanismo de la inmunidad",
          "042-043  III.Enfermedades de la sangre y de los órganos hematopoyéticos, y ciertos trastornos que afectan al mecanismo de la inmunidad",
          "083-085  XVII.Malformaciones congénitas, deformidades y anomalías cromosómicas",
          "042-043  III.Enfermedades de la sangre y de los órganos hematopoyéticos, y ciertos trastornos que afectan al mecanismo de la inmunidad",
          "082  XVI.Afecciones originadas en el periodo perinatal",
          "083-085  XVII.Malformaciones congénitas, deformidades y anomalías cromosómicas",
          "083-085  XVII.Malformaciones congénitas, deformidades y anomalías cromosómicas",
          "082  XVI.Afecciones originadas en el periodo perinatal",
          "083-085  XVII.Malformaciones congénitas, deformidades y anomalías cromosómicas",
          "046-049  V.Trastornos mentales y del comportamiento",
          "083-085  XVII.Malformaciones congénitas, deformidades y anomalías cromosómicas",
          "082  XVI.Afecciones originadas en el periodo perinatal",
          "046-049  V.Trastornos mentales y del comportamiento",
          "083-085  XVII.Malformaciones congénitas, deformidades y anomalías cromosómicas",
          "083-085  XVII.Malformaciones congénitas, deformidades y anomalías cromosómicas",
          "042-043  III.Enfermedades de la sangre y de los órganos hematopoyéticos, y ciertos trastornos que afectan al mecanismo de la inmunidad",
          "042-043  III.Enfermedades de la sangre y de los órganos hematopoyéticos, y ciertos trastornos que afectan al mecanismo de la inmunidad",
          "082  XVI.Afecciones originadas en el periodo perinatal",
          "082  XVI.Afecciones originadas en el periodo perinatal",
          "083-085  XVII.Malformaciones congénitas, deformidades y anomalías cromosómicas",
          "082  XVI.Afecciones originadas en el periodo perinatal",
          "083-085  XVII.Malformaciones congénitas, deformidades y anomalías cromosómicas",
          "083-085  XVII.Malformaciones congénitas, deformidades y anomalías cromosómicas",
          "082  XVI.Afecciones originadas en el periodo perinatal",
          "082  XVI.Afecciones originadas en el periodo perinatal",
          "082  XVI.Afecciones originadas en el periodo perinatal",
          "046-049  V.Trastornos mentales y del comportamiento",
          "082  XVI.Afecciones originadas en el periodo perinatal",
          "083-085  XVII.Malformaciones congénitas, deformidades y anomalías cromosómicas",
          "083-085  XVII.Malformaciones congénitas, deformidades y anomalías cromosómicas",
          "082  XVI.Afecciones originadas en el periodo perinatal",
          "042-043  III.Enfermedades de la sangre y de los órganos hematopoyéticos, y ciertos trastornos que afectan al mecanismo de la inmunidad",
          "082  XVI.Afecciones originadas en el periodo perinatal",
          "082  XVI.Afecciones originadas en el periodo perinatal",
          "082  XVI.Afecciones originadas en el periodo perinatal",
          "042-043  III.Enfermedades de la sangre y de los órganos hematopoyéticos, y ciertos trastornos que afectan al mecanismo de la inmunidad",
          "083-085  XVII.Malformaciones congénitas, deformidades y anomalías cromosómicas",
          "083-085  XVII.Malformaciones congénitas, deformidades y anomalías cromosómicas",
          "082  XVI.Afecciones originadas en el periodo perinatal",
          "082  XVI.Afecciones originadas en el periodo perinatal",
          "082  XVI.Afecciones originadas en el periodo perinatal",
          "083-085  XVII.Malformaciones congénitas, deformidades y anomalías cromosómicas",
          "083-085  XVII.Malformaciones congénitas, deformidades y anomalías cromosómicas",
          "083-085  XVII.Malformaciones congénitas, deformidades y anomalías cromosómicas",
          "042-043  III.Enfermedades de la sangre y de los órganos hematopoyéticos, y ciertos trastornos que afectan al mecanismo de la inmunidad",
          "083-085  XVII.Malformaciones congénitas, deformidades y anomalías cromosómicas",
          "082  XVI.Afecciones originadas en el periodo perinatal",
          "082  XVI.Afecciones originadas en el periodo perinatal",
          "082  XVI.Afecciones originadas en el periodo perinatal",
          "082  XVI.Afecciones originadas en el periodo perinatal",
          "083-085  XVII.Malformaciones congénitas, deformidades y anomalías cromosómicas",
          "042-043  III.Enfermedades de la sangre y de los órganos hematopoyéticos, y ciertos trastornos que afectan al mecanismo de la inmunidad",
          "042-043  III.Enfermedades de la sangre y de los órganos hematopoyéticos, y ciertos trastornos que afectan al mecanismo de la inmunidad",
          "082  XVI.Afecciones originadas en el periodo perinatal",
          "042-043  III.Enfermedades de la sangre y de los órganos hematopoyéticos, y ciertos trastornos que afectan al mecanismo de la inmunidad",
          "082  XVI.Afecciones originadas en el periodo perinatal",
          "042-043  III.Enfermedades de la sangre y de los órganos hematopoyéticos, y ciertos trastornos que afectan al mecanismo de la inmunidad",
          "082  XVI.Afecciones originadas en el periodo perinatal",
          "082  XVI.Afecciones originadas en el periodo perinatal",
          "082  XVI.Afecciones originadas en el periodo perinatal",
          "074-076  XIII.Enfermedades del sistema osteomuscular y del tejido conjuntivo",
          "074-076  XIII.Enfermedades del sistema osteomuscular y del tejido conjuntivo",
          "074-076  XIII.Enfermedades del sistema osteomuscular y del tejido conjuntivo",
          "074-076  XIII.Enfermedades del sistema osteomuscular y del tejido conjuntivo",
          "081  XV.Embarazo, parto y puerperio",
          "081  XV.Embarazo, parto y puerperio",
          "081  XV.Embarazo, parto y puerperio",
          "081  XV.Embarazo, parto y puerperio",
          "081  XV.Embarazo, parto y puerperio",
          "081  XV.Embarazo, parto y puerperio",
          "081  XV.Embarazo, parto y puerperio",
          "081  XV.Embarazo, parto y puerperio",
          "081  XV.Embarazo, parto y puerperio",
          "081  XV.Embarazo, parto y puerperio",
          "081  XV.Embarazo, parto y puerperio",
          "081  XV.Embarazo, parto y puerperio",
          "081  XV.Embarazo, parto y puerperio",
          "081  XV.Embarazo, parto y puerperio",
          "081  XV.Embarazo, parto y puerperio",
          "081  XV.Embarazo, parto y puerperio",
          "081  XV.Embarazo, parto y puerperio",
          "081  XV.Embarazo, parto y puerperio",
          "081  XV.Embarazo, parto y puerperio",
          "081  XV.Embarazo, parto y puerperio",
          "081  XV.Embarazo, parto y puerperio",
          "081  XV.Embarazo, parto y puerperio",
          "081  XV.Embarazo, parto y puerperio",
          "081  XV.Embarazo, parto y puerperio",
          "081  XV.Embarazo, parto y puerperio",
          "081  XV.Embarazo, parto y puerperio",
          "081  XV.Embarazo, parto y puerperio",
          "081  XV.Embarazo, parto y puerperio",
          "081  XV.Embarazo, parto y puerperio",
          "081  XV.Embarazo, parto y puerperio",
          "081  XV.Embarazo, parto y puerperio",
          "081  XV.Embarazo, parto y puerperio",
          "081  XV.Embarazo, parto y puerperio",
          "081  XV.Embarazo, parto y puerperio",
          "081  XV.Embarazo, parto y puerperio",
          "081  XV.Embarazo, parto y puerperio",
          "081  XV.Embarazo, parto y puerperio",
          "081  XV.Embarazo, parto y puerperio",
          "081  XV.Embarazo, parto y puerperio"
         ],
         "xaxis": "x",
         "y": [
          3153.309523809524,
          3137.4761904761904,
          3134,
          3123.7619047619046,
          3107.8809523809523,
          3106.6428571428573,
          3090.0714285714284,
          3084.8809523809523,
          3076.7619047619046,
          3068.404761904762,
          3063.6190476190477,
          3060.6666666666665,
          3057.9761904761904,
          3055.6666666666665,
          3040.2619047619046,
          3038.5,
          3037.7619047619046,
          3021.595238095238,
          3019.1428571428573,
          3006.714285714286,
          2997.309523809524,
          2995.1666666666665,
          2993.404761904762,
          2961.6428571428573,
          2957.0714285714284,
          2955.3809523809523,
          2952.0476190476193,
          2949.214285714286,
          2923.6428571428573,
          2915.8333333333335,
          2907.0714285714284,
          2877.595238095238,
          2875.2380952380954,
          2858.5,
          2851.8571428571427,
          2836.3809523809523,
          2817.309523809524,
          2797.2380952380954,
          2795.0714285714284,
          2696.809523809524,
          2689.0238095238096,
          2683.6666666666665,
          2651.9285714285716,
          2643.3571428571427,
          2642.690476190476,
          2625.6666666666665,
          2603.3571428571427,
          2552.8571428571427,
          2503.1428571428573,
          2477.4761904761904,
          2460.214285714286,
          2421.0238095238096,
          2392.5,
          2385.8571428571427,
          2376.809523809524,
          2328.190476190476,
          2326.5238095238096,
          2263.6190476190477,
          2251.5714285714284,
          2213,
          2178.9285714285716,
          2141.404761904762,
          2135.3809523809523,
          2098.5238095238096,
          2048.095238095238,
          1981.7857142857142,
          1942.0714285714287,
          1901.357142857143,
          1853.2142857142858,
          1818.3095238095239,
          1758.7619047619048,
          1685.2857142857142,
          1639.7380952380952,
          1586.0714285714287,
          1511.547619047619,
          1464.4761904761904,
          1421.7380952380952,
          1392.404761904762,
          1278.2619047619048,
          1234.4761904761904,
          1228.9285714285713,
          1127.047619047619,
          1121.1666666666667,
          1114.5714285714287,
          1076.047619047619,
          1052.3809523809523,
          1048.3095238095239,
          1043.8333333333333,
          1042.9285714285713,
          1030.5238095238096,
          1013.452380952381,
          1005.7857142857143,
          986.3571428571429,
          975.7857142857143,
          958.7142857142857,
          946.3571428571429,
          940.7142857142857,
          932.1190476190476,
          889.5714285714286,
          869.5,
          864.6190476190476,
          826.4047619047619,
          814.2619047619048,
          798.6904761904761,
          785.5714285714286,
          767.3809523809524,
          745.047619047619,
          739.2380952380952,
          725.3333333333334,
          702.6904761904761,
          700.5714285714286,
          699.952380952381,
          699.1904761904761,
          666.0714285714286,
          659.7380952380952,
          646.2857142857143,
          627.2619047619048,
          625.6904761904761,
          618.4761904761905,
          615.1190476190476,
          600.8571428571429,
          557,
          532.7619047619048,
          525.9285714285714,
          517.1904761904761,
          516.4047619047619,
          511.57142857142856,
          507.92857142857144,
          499.5238095238095,
          486.8333333333333,
          484.76190476190476,
          482.23809523809524,
          478.4761904761905,
          471.35714285714283,
          467.85714285714283,
          467.23809523809524,
          466.0952380952381,
          466.0952380952381,
          465.64285714285717,
          463.7142857142857,
          461.54761904761904,
          461.3809523809524,
          460.8809523809524,
          460.73809523809524,
          460.3095238095238,
          459.1666666666667,
          454.6904761904762,
          451.7142857142857,
          451.1190476190476,
          450.5238095238095,
          449.2142857142857,
          449.07142857142856,
          448.9047619047619,
          448.64285714285717,
          447.14285714285717,
          445.3809523809524,
          444.0952380952381,
          441.26190476190476,
          439.9047619047619,
          439.3333333333333,
          438.54761904761904,
          438.26190476190476,
          437.9047619047619,
          437.8095238095238,
          437.42857142857144,
          436.95238095238096,
          435.73809523809524,
          432.64285714285717,
          429.35714285714283,
          427.8809523809524,
          417.2857142857143,
          416.57142857142856,
          414.54761904761904,
          414.4047619047619,
          411.7142857142857,
          410.1666666666667,
          409.3809523809524,
          408.2142857142857,
          407.35714285714283,
          405.8095238095238,
          404.35714285714283,
          404.2142857142857,
          402.42857142857144,
          401.5,
          398.1666666666667,
          398.14285714285717,
          397.54761904761904,
          393.8333333333333,
          392.6904761904762,
          391.2142857142857,
          390.73809523809524,
          389.64285714285717,
          388.6904761904762,
          388.6666666666667,
          386.3095238095238,
          384.26190476190476,
          382.9761904761905,
          380.92857142857144,
          379.3095238095238,
          378.95238095238096,
          377.4761904761905,
          377.1666666666667,
          377.07142857142856,
          376.5238095238095,
          376.26190476190476,
          375.9761904761905,
          375.42857142857144,
          374.3095238095238,
          373.73809523809524,
          373.04761904761904,
          373.0238095238095,
          370.54761904761904,
          368.1904761904762,
          364.0238095238095,
          363.9761904761905,
          363.7142857142857,
          359.0238095238095,
          354.8333333333333,
          352.8809523809524,
          352.6904761904762,
          349.54761904761904,
          349.4761904761905,
          345.14285714285717,
          344.1904761904762,
          338.8809523809524,
          336.26190476190476,
          334.9047619047619,
          334.8809523809524,
          333.42857142857144,
          331.92857142857144,
          320.5952380952381,
          316.57142857142856,
          314,
          311.23809523809524,
          310.4761904761905,
          309.8333333333333,
          305.3333333333333,
          304.5,
          302.3809523809524,
          299.95238095238096,
          298.54761904761904,
          297.9047619047619,
          296.7142857142857,
          295.73809523809524,
          293.73809523809524,
          293.0952380952381,
          291.35714285714283,
          290.6190476190476,
          289.8333333333333,
          289.73809523809524,
          289.2142857142857,
          288.4761904761905,
          288.26190476190476,
          286.6190476190476,
          283.76190476190476,
          282.8095238095238,
          281.8809523809524,
          280.85714285714283,
          278.3095238095238,
          278.14285714285717,
          278.0238095238095,
          276.0238095238095,
          274.5238095238095,
          274.35714285714283,
          274.2857142857143,
          273.7857142857143,
          271,
          270.6190476190476,
          270.42857142857144,
          270.14285714285717,
          267.2142857142857,
          266.9047619047619,
          265.45238095238096,
          264.73809523809524,
          263.95238095238096,
          262.1666666666667,
          262.1666666666667,
          261.1666666666667,
          259.3333333333333,
          258.3333333333333,
          257.0238095238095,
          256.4761904761905,
          254.97619047619048,
          252.66666666666666,
          252.1904761904762,
          251.88095238095238,
          251.0952380952381,
          250.5952380952381,
          250.11904761904762,
          249.83333333333334,
          249.42857142857142,
          249.1904761904762,
          247.64285714285714,
          247.33333333333334,
          245.97619047619048,
          245.54761904761904,
          245.3095238095238,
          243.57142857142858,
          242.14285714285714,
          242.11904761904762,
          241.38095238095238,
          240.8095238095238,
          240.47619047619048,
          240.1904761904762,
          238.97619047619048,
          238.5,
          235.6904761904762,
          234.92857142857142,
          234.76190476190476,
          231.88095238095238,
          229.45238095238096,
          227.78571428571428,
          227.38095238095238,
          226.92857142857142,
          226.28571428571428,
          223.92857142857142,
          223.64285714285714,
          222.57142857142858,
          222.21428571428572,
          221.3095238095238,
          217.28571428571428,
          216.71428571428572,
          215.47619047619048,
          215.23809523809524,
          213.9047619047619,
          213.02380952380952,
          203.1904761904762,
          201.97619047619048,
          201.88095238095238,
          200.85714285714286,
          199.61904761904762,
          199.02380952380952,
          197.0952380952381,
          196.78571428571428,
          195.26190476190476,
          194.73809523809524,
          193.5952380952381,
          193.38095238095238,
          191.26190476190476,
          188.73809523809524,
          188.52380952380952,
          186.83333333333334,
          185.45238095238096,
          185.28571428571428,
          183.64285714285714,
          183.61904761904762,
          180.16666666666666,
          178.42857142857142,
          178.4047619047619,
          178.26190476190476,
          175.16666666666666,
          173.85714285714286,
          172.9047619047619,
          171.85714285714286,
          171.5,
          171.45238095238096,
          171.26190476190476,
          169.85714285714286,
          169.0952380952381,
          168.47619047619048,
          167.5,
          167.45238095238096,
          167.3095238095238,
          167.28571428571428,
          164.66666666666666,
          164.45238095238096,
          162.92857142857142,
          162.35714285714286,
          161.95238095238096,
          160.38095238095238,
          158.5952380952381,
          158.14285714285714,
          157.88095238095238,
          157.33333333333334,
          157.04761904761904,
          156.11904761904762,
          155.47619047619048,
          155.23809523809524,
          154.95238095238096,
          154.5,
          154.1904761904762,
          152.33333333333334,
          152.33333333333334,
          151.26190476190476,
          149.61904761904762,
          149.28571428571428,
          147.83333333333334,
          141.26190476190476,
          139.92857142857142,
          139.42857142857142,
          132.42857142857142,
          131.8095238095238,
          129.5952380952381,
          128.61904761904762,
          128.28571428571428,
          127.30952380952381,
          123.92857142857143,
          121.07142857142857,
          120.71428571428571,
          119.69047619047619,
          117.21428571428571,
          110.66666666666667,
          104.85714285714286,
          103,
          101.33333333333333,
          100.35714285714286,
          100.23809523809524,
          98.76190476190476,
          93.85714285714286,
          92.14285714285714,
          90.02380952380952,
          89.66666666666667,
          88.52380952380952,
          87.5952380952381,
          85.61904761904762,
          84.71428571428571,
          84.42857142857143,
          83.9047619047619,
          83.26190476190476,
          83.21428571428571,
          82.4047619047619,
          82.04761904761905,
          81.04761904761905,
          81,
          80.64285714285714,
          80.57142857142857,
          80.5,
          80.28571428571429,
          80.07142857142857,
          80.07142857142857,
          80.02380952380952,
          79.80952380952381,
          79.42857142857143,
          79.21428571428571,
          77.97619047619048,
          77.30952380952381,
          76.95238095238095,
          76.73809523809524,
          76.38095238095238,
          75.95238095238095,
          75.19047619047619,
          74.5952380952381,
          74.16666666666667,
          72.23809523809524,
          72.14285714285714,
          70.78571428571429,
          70.33333333333333,
          69.71428571428571,
          68.88095238095238,
          68.88095238095238,
          67.78571428571429,
          66.66666666666667,
          65.78571428571429,
          65.57142857142857,
          65.07142857142857,
          64.54761904761905,
          60.476190476190474,
          59.142857142857146,
          58.904761904761905,
          58.357142857142854,
          55.54761904761905,
          55.07142857142857,
          51.45238095238095,
          49.57142857142857,
          48.714285714285715,
          48.285714285714285,
          48.23809523809524,
          46.976190476190474,
          46.333333333333336,
          45.80952380952381,
          44.904761904761905,
          42.476190476190474,
          41.714285714285715,
          40.404761904761905,
          39.333333333333336,
          39.023809523809526,
          38.61904761904762,
          38.42857142857143,
          38.26190476190476,
          37.54761904761905,
          37.023809523809526,
          36.38095238095238,
          36.26190476190476,
          36.166666666666664,
          36.023809523809526,
          35.38095238095238,
          34.95238095238095,
          34.666666666666664,
          34.07142857142857,
          33.904761904761905,
          33,
          32.904761904761905,
          32.904761904761905,
          32.45238095238095,
          32.214285714285715,
          31.952380952380953,
          31.928571428571427,
          31.333333333333332,
          31.095238095238095,
          30.88095238095238,
          30.738095238095237,
          30.69047619047619,
          30.238095238095237,
          30.047619047619047,
          30.047619047619047,
          30.047619047619047,
          29.904761904761905,
          29.88095238095238,
          29.69047619047619,
          29.61904761904762,
          29.214285714285715,
          28.976190476190474,
          28.952380952380953,
          28.80952380952381,
          28.357142857142858,
          28.357142857142858,
          27.976190476190474,
          27.571428571428573,
          27.19047619047619,
          27.047619047619047,
          26.928571428571427,
          26.761904761904763,
          26.61904761904762,
          26.476190476190474,
          25.547619047619047,
          25.5,
          24.5,
          23.857142857142858,
          23.857142857142858,
          23.5,
          23.452380952380953,
          23.11904761904762,
          23.071428571428573,
          23.047619047619047,
          22.904761904761905,
          22.738095238095237,
          22.738095238095237,
          22.642857142857142,
          22.476190476190474,
          22.428571428571427,
          22.238095238095237,
          22.023809523809526,
          22,
          21.904761904761905,
          21.785714285714285,
          21.69047619047619,
          21.428571428571427,
          21.428571428571427,
          21.285714285714285,
          21.19047619047619,
          21.166666666666668,
          21.11904761904762,
          20.976190476190474,
          20.69047619047619,
          20.666666666666668,
          20.452380952380953,
          20.214285714285715,
          20.142857142857142,
          20.071428571428573,
          19.833333333333332,
          19.785714285714285,
          19.738095238095237,
          19.714285714285715,
          19.595238095238095,
          19.38095238095238,
          19.11904761904762,
          19.095238095238095,
          19.095238095238095,
          18.761904761904763,
          18.547619047619047,
          18.523809523809526,
          18.047619047619047,
          17.61904761904762,
          17.404761904761905,
          16.976190476190474,
          16.928571428571427,
          16.047619047619047,
          15.69047619047619,
          15.166666666666666,
          15,
          14.976190476190476,
          14.547619047619047,
          13.976190476190476,
          12.80952380952381,
          11.714285714285714,
          1.5,
          1.2857142857142858,
          1.2142857142857142,
          0.8809523809523809,
          0.5714285714285714,
          0.5714285714285714,
          0.5714285714285714,
          0.5238095238095238,
          0.5,
          0.5,
          0.5,
          0.47619047619047616,
          0.47619047619047616,
          0.47619047619047616,
          0.4523809523809524,
          0.42857142857142855,
          0.42857142857142855,
          0.40476190476190477,
          0.40476190476190477,
          0.35714285714285715,
          0.35714285714285715,
          0.35714285714285715,
          0.3333333333333333,
          0.3333333333333333,
          0.3333333333333333,
          0.3333333333333333,
          0.30952380952380953,
          0.30952380952380953,
          0.30952380952380953,
          0.30952380952380953,
          0.2857142857142857,
          0.2857142857142857,
          0.2619047619047619,
          0.2619047619047619,
          0.23809523809523808,
          0.23809523809523808,
          0.21428571428571427,
          0.19047619047619047,
          0.16666666666666666
         ],
         "yaxis": "y"
        }
       ],
       "layout": {
        "autosize": true,
        "coloraxis": {
         "colorbar": {
          "title": {
           "text": "Periodo"
          }
         },
         "colorscale": [
          [
           0,
           "#0d0887"
          ],
          [
           0.1111111111111111,
           "#46039f"
          ],
          [
           0.2222222222222222,
           "#7201a8"
          ],
          [
           0.3333333333333333,
           "#9c179e"
          ],
          [
           0.4444444444444444,
           "#bd3786"
          ],
          [
           0.5555555555555556,
           "#d8576b"
          ],
          [
           0.6666666666666666,
           "#ed7953"
          ],
          [
           0.7777777777777778,
           "#fb9f3a"
          ],
          [
           0.8888888888888888,
           "#fdca26"
          ],
          [
           1,
           "#f0f921"
          ]
         ]
        },
        "height": 1000,
        "legend": {
         "tracegroupgap": 0,
         "y": 3
        },
        "margin": {
         "t": 60
        },
        "template": {
         "data": {
          "bar": [
           {
            "error_x": {
             "color": "#2a3f5f"
            },
            "error_y": {
             "color": "#2a3f5f"
            },
            "marker": {
             "line": {
              "color": "#E5ECF6",
              "width": 0.5
             },
             "pattern": {
              "fillmode": "overlay",
              "size": 10,
              "solidity": 0.2
             }
            },
            "type": "bar"
           }
          ],
          "barpolar": [
           {
            "marker": {
             "line": {
              "color": "#E5ECF6",
              "width": 0.5
             },
             "pattern": {
              "fillmode": "overlay",
              "size": 10,
              "solidity": 0.2
             }
            },
            "type": "barpolar"
           }
          ],
          "carpet": [
           {
            "aaxis": {
             "endlinecolor": "#2a3f5f",
             "gridcolor": "white",
             "linecolor": "white",
             "minorgridcolor": "white",
             "startlinecolor": "#2a3f5f"
            },
            "baxis": {
             "endlinecolor": "#2a3f5f",
             "gridcolor": "white",
             "linecolor": "white",
             "minorgridcolor": "white",
             "startlinecolor": "#2a3f5f"
            },
            "type": "carpet"
           }
          ],
          "choropleth": [
           {
            "colorbar": {
             "outlinewidth": 0,
             "ticks": ""
            },
            "type": "choropleth"
           }
          ],
          "contour": [
           {
            "colorbar": {
             "outlinewidth": 0,
             "ticks": ""
            },
            "colorscale": [
             [
              0,
              "#0d0887"
             ],
             [
              0.1111111111111111,
              "#46039f"
             ],
             [
              0.2222222222222222,
              "#7201a8"
             ],
             [
              0.3333333333333333,
              "#9c179e"
             ],
             [
              0.4444444444444444,
              "#bd3786"
             ],
             [
              0.5555555555555556,
              "#d8576b"
             ],
             [
              0.6666666666666666,
              "#ed7953"
             ],
             [
              0.7777777777777778,
              "#fb9f3a"
             ],
             [
              0.8888888888888888,
              "#fdca26"
             ],
             [
              1,
              "#f0f921"
             ]
            ],
            "type": "contour"
           }
          ],
          "contourcarpet": [
           {
            "colorbar": {
             "outlinewidth": 0,
             "ticks": ""
            },
            "type": "contourcarpet"
           }
          ],
          "heatmap": [
           {
            "colorbar": {
             "outlinewidth": 0,
             "ticks": ""
            },
            "colorscale": [
             [
              0,
              "#0d0887"
             ],
             [
              0.1111111111111111,
              "#46039f"
             ],
             [
              0.2222222222222222,
              "#7201a8"
             ],
             [
              0.3333333333333333,
              "#9c179e"
             ],
             [
              0.4444444444444444,
              "#bd3786"
             ],
             [
              0.5555555555555556,
              "#d8576b"
             ],
             [
              0.6666666666666666,
              "#ed7953"
             ],
             [
              0.7777777777777778,
              "#fb9f3a"
             ],
             [
              0.8888888888888888,
              "#fdca26"
             ],
             [
              1,
              "#f0f921"
             ]
            ],
            "type": "heatmap"
           }
          ],
          "heatmapgl": [
           {
            "colorbar": {
             "outlinewidth": 0,
             "ticks": ""
            },
            "colorscale": [
             [
              0,
              "#0d0887"
             ],
             [
              0.1111111111111111,
              "#46039f"
             ],
             [
              0.2222222222222222,
              "#7201a8"
             ],
             [
              0.3333333333333333,
              "#9c179e"
             ],
             [
              0.4444444444444444,
              "#bd3786"
             ],
             [
              0.5555555555555556,
              "#d8576b"
             ],
             [
              0.6666666666666666,
              "#ed7953"
             ],
             [
              0.7777777777777778,
              "#fb9f3a"
             ],
             [
              0.8888888888888888,
              "#fdca26"
             ],
             [
              1,
              "#f0f921"
             ]
            ],
            "type": "heatmapgl"
           }
          ],
          "histogram": [
           {
            "marker": {
             "pattern": {
              "fillmode": "overlay",
              "size": 10,
              "solidity": 0.2
             }
            },
            "type": "histogram"
           }
          ],
          "histogram2d": [
           {
            "colorbar": {
             "outlinewidth": 0,
             "ticks": ""
            },
            "colorscale": [
             [
              0,
              "#0d0887"
             ],
             [
              0.1111111111111111,
              "#46039f"
             ],
             [
              0.2222222222222222,
              "#7201a8"
             ],
             [
              0.3333333333333333,
              "#9c179e"
             ],
             [
              0.4444444444444444,
              "#bd3786"
             ],
             [
              0.5555555555555556,
              "#d8576b"
             ],
             [
              0.6666666666666666,
              "#ed7953"
             ],
             [
              0.7777777777777778,
              "#fb9f3a"
             ],
             [
              0.8888888888888888,
              "#fdca26"
             ],
             [
              1,
              "#f0f921"
             ]
            ],
            "type": "histogram2d"
           }
          ],
          "histogram2dcontour": [
           {
            "colorbar": {
             "outlinewidth": 0,
             "ticks": ""
            },
            "colorscale": [
             [
              0,
              "#0d0887"
             ],
             [
              0.1111111111111111,
              "#46039f"
             ],
             [
              0.2222222222222222,
              "#7201a8"
             ],
             [
              0.3333333333333333,
              "#9c179e"
             ],
             [
              0.4444444444444444,
              "#bd3786"
             ],
             [
              0.5555555555555556,
              "#d8576b"
             ],
             [
              0.6666666666666666,
              "#ed7953"
             ],
             [
              0.7777777777777778,
              "#fb9f3a"
             ],
             [
              0.8888888888888888,
              "#fdca26"
             ],
             [
              1,
              "#f0f921"
             ]
            ],
            "type": "histogram2dcontour"
           }
          ],
          "mesh3d": [
           {
            "colorbar": {
             "outlinewidth": 0,
             "ticks": ""
            },
            "type": "mesh3d"
           }
          ],
          "parcoords": [
           {
            "line": {
             "colorbar": {
              "outlinewidth": 0,
              "ticks": ""
             }
            },
            "type": "parcoords"
           }
          ],
          "pie": [
           {
            "automargin": true,
            "type": "pie"
           }
          ],
          "scatter": [
           {
            "fillpattern": {
             "fillmode": "overlay",
             "size": 10,
             "solidity": 0.2
            },
            "type": "scatter"
           }
          ],
          "scatter3d": [
           {
            "line": {
             "colorbar": {
              "outlinewidth": 0,
              "ticks": ""
             }
            },
            "marker": {
             "colorbar": {
              "outlinewidth": 0,
              "ticks": ""
             }
            },
            "type": "scatter3d"
           }
          ],
          "scattercarpet": [
           {
            "marker": {
             "colorbar": {
              "outlinewidth": 0,
              "ticks": ""
             }
            },
            "type": "scattercarpet"
           }
          ],
          "scattergeo": [
           {
            "marker": {
             "colorbar": {
              "outlinewidth": 0,
              "ticks": ""
             }
            },
            "type": "scattergeo"
           }
          ],
          "scattergl": [
           {
            "marker": {
             "colorbar": {
              "outlinewidth": 0,
              "ticks": ""
             }
            },
            "type": "scattergl"
           }
          ],
          "scattermapbox": [
           {
            "marker": {
             "colorbar": {
              "outlinewidth": 0,
              "ticks": ""
             }
            },
            "type": "scattermapbox"
           }
          ],
          "scatterpolar": [
           {
            "marker": {
             "colorbar": {
              "outlinewidth": 0,
              "ticks": ""
             }
            },
            "type": "scatterpolar"
           }
          ],
          "scatterpolargl": [
           {
            "marker": {
             "colorbar": {
              "outlinewidth": 0,
              "ticks": ""
             }
            },
            "type": "scatterpolargl"
           }
          ],
          "scatterternary": [
           {
            "marker": {
             "colorbar": {
              "outlinewidth": 0,
              "ticks": ""
             }
            },
            "type": "scatterternary"
           }
          ],
          "surface": [
           {
            "colorbar": {
             "outlinewidth": 0,
             "ticks": ""
            },
            "colorscale": [
             [
              0,
              "#0d0887"
             ],
             [
              0.1111111111111111,
              "#46039f"
             ],
             [
              0.2222222222222222,
              "#7201a8"
             ],
             [
              0.3333333333333333,
              "#9c179e"
             ],
             [
              0.4444444444444444,
              "#bd3786"
             ],
             [
              0.5555555555555556,
              "#d8576b"
             ],
             [
              0.6666666666666666,
              "#ed7953"
             ],
             [
              0.7777777777777778,
              "#fb9f3a"
             ],
             [
              0.8888888888888888,
              "#fdca26"
             ],
             [
              1,
              "#f0f921"
             ]
            ],
            "type": "surface"
           }
          ],
          "table": [
           {
            "cells": {
             "fill": {
              "color": "#EBF0F8"
             },
             "line": {
              "color": "white"
             }
            },
            "header": {
             "fill": {
              "color": "#C8D4E3"
             },
             "line": {
              "color": "white"
             }
            },
            "type": "table"
           }
          ]
         },
         "layout": {
          "annotationdefaults": {
           "arrowcolor": "#2a3f5f",
           "arrowhead": 0,
           "arrowwidth": 1
          },
          "autotypenumbers": "strict",
          "coloraxis": {
           "colorbar": {
            "outlinewidth": 0,
            "ticks": ""
           }
          },
          "colorscale": {
           "diverging": [
            [
             0,
             "#8e0152"
            ],
            [
             0.1,
             "#c51b7d"
            ],
            [
             0.2,
             "#de77ae"
            ],
            [
             0.3,
             "#f1b6da"
            ],
            [
             0.4,
             "#fde0ef"
            ],
            [
             0.5,
             "#f7f7f7"
            ],
            [
             0.6,
             "#e6f5d0"
            ],
            [
             0.7,
             "#b8e186"
            ],
            [
             0.8,
             "#7fbc41"
            ],
            [
             0.9,
             "#4d9221"
            ],
            [
             1,
             "#276419"
            ]
           ],
           "sequential": [
            [
             0,
             "#0d0887"
            ],
            [
             0.1111111111111111,
             "#46039f"
            ],
            [
             0.2222222222222222,
             "#7201a8"
            ],
            [
             0.3333333333333333,
             "#9c179e"
            ],
            [
             0.4444444444444444,
             "#bd3786"
            ],
            [
             0.5555555555555556,
             "#d8576b"
            ],
            [
             0.6666666666666666,
             "#ed7953"
            ],
            [
             0.7777777777777778,
             "#fb9f3a"
            ],
            [
             0.8888888888888888,
             "#fdca26"
            ],
            [
             1,
             "#f0f921"
            ]
           ],
           "sequentialminus": [
            [
             0,
             "#0d0887"
            ],
            [
             0.1111111111111111,
             "#46039f"
            ],
            [
             0.2222222222222222,
             "#7201a8"
            ],
            [
             0.3333333333333333,
             "#9c179e"
            ],
            [
             0.4444444444444444,
             "#bd3786"
            ],
            [
             0.5555555555555556,
             "#d8576b"
            ],
            [
             0.6666666666666666,
             "#ed7953"
            ],
            [
             0.7777777777777778,
             "#fb9f3a"
            ],
            [
             0.8888888888888888,
             "#fdca26"
            ],
            [
             1,
             "#f0f921"
            ]
           ]
          },
          "colorway": [
           "#636efa",
           "#EF553B",
           "#00cc96",
           "#ab63fa",
           "#FFA15A",
           "#19d3f3",
           "#FF6692",
           "#B6E880",
           "#FF97FF",
           "#FECB52"
          ],
          "font": {
           "color": "#2a3f5f"
          },
          "geo": {
           "bgcolor": "white",
           "lakecolor": "white",
           "landcolor": "#E5ECF6",
           "showlakes": true,
           "showland": true,
           "subunitcolor": "white"
          },
          "hoverlabel": {
           "align": "left"
          },
          "hovermode": "closest",
          "mapbox": {
           "style": "light"
          },
          "paper_bgcolor": "white",
          "plot_bgcolor": "#E5ECF6",
          "polar": {
           "angularaxis": {
            "gridcolor": "white",
            "linecolor": "white",
            "ticks": ""
           },
           "bgcolor": "#E5ECF6",
           "radialaxis": {
            "gridcolor": "white",
            "linecolor": "white",
            "ticks": ""
           }
          },
          "scene": {
           "xaxis": {
            "backgroundcolor": "#E5ECF6",
            "gridcolor": "white",
            "gridwidth": 2,
            "linecolor": "white",
            "showbackground": true,
            "ticks": "",
            "zerolinecolor": "white"
           },
           "yaxis": {
            "backgroundcolor": "#E5ECF6",
            "gridcolor": "white",
            "gridwidth": 2,
            "linecolor": "white",
            "showbackground": true,
            "ticks": "",
            "zerolinecolor": "white"
           },
           "zaxis": {
            "backgroundcolor": "#E5ECF6",
            "gridcolor": "white",
            "gridwidth": 2,
            "linecolor": "white",
            "showbackground": true,
            "ticks": "",
            "zerolinecolor": "white"
           }
          },
          "shapedefaults": {
           "line": {
            "color": "#2a3f5f"
           }
          },
          "ternary": {
           "aaxis": {
            "gridcolor": "white",
            "linecolor": "white",
            "ticks": ""
           },
           "baxis": {
            "gridcolor": "white",
            "linecolor": "white",
            "ticks": ""
           },
           "bgcolor": "#E5ECF6",
           "caxis": {
            "gridcolor": "white",
            "linecolor": "white",
            "ticks": ""
           }
          },
          "title": {
           "x": 0.05
          },
          "xaxis": {
           "automargin": true,
           "gridcolor": "white",
           "linecolor": "white",
           "ticks": "",
           "title": {
            "standoff": 15
           },
           "zerolinecolor": "white",
           "zerolinewidth": 2
          },
          "yaxis": {
           "automargin": true,
           "gridcolor": "white",
           "linecolor": "white",
           "ticks": "",
           "title": {
            "standoff": 15
           },
           "zerolinecolor": "white",
           "zerolinewidth": 2
          }
         }
        },
        "title": {
         "text": "MAYOR CAUSA DE MUERTE HISTÓRICA"
        },
        "width": 1300,
        "xaxis": {
         "anchor": "y",
         "domain": [
          0,
          1
         ],
         "title": {
          "text": "Causas de muerte"
         }
        },
        "yaxis": {
         "anchor": "x",
         "domain": [
          0,
          1
         ],
         "title": {
          "text": "Media de muertes"
         }
        }
       }
      },
      "text/html": [
       "<div>                            <div id=\"c36ea8c8-76ea-4e36-9944-fedbbcd66ceb\" class=\"plotly-graph-div\" style=\"height:1000px; width:1300px;\"></div>            <script type=\"text/javascript\">                require([\"plotly\"], function(Plotly) {                    window.PLOTLYENV=window.PLOTLYENV || {};                                    if (document.getElementById(\"c36ea8c8-76ea-4e36-9944-fedbbcd66ceb\")) {                    Plotly.newPlot(                        \"c36ea8c8-76ea-4e36-9944-fedbbcd66ceb\",                        [{\"hovertemplate\":\"Causa de muerte=%{x}<br>Total=%{y}<br>Periodo=%{marker.color}<extra></extra>\",\"legendgroup\":\"\",\"marker\":{\"color\":[1991,1999,1998,1985,1983,1993,2003,1996,1990,1988,1989,1992,1995,1997,1994,1986,1981,2005,1984,1987,1980,2002,2000,2001,2015,2007,1982,2004,2008,2017,2012,2018,2006,2009,2016,2010,2011,2013,2014,2017,2016,2018,2015,2013,2012,2014,2011,2010,2009,2008,2007,2006,2004,2005,2003,2002,2001,2000,1999,1998,1997,1995,1996,1994,1993,1992,1991,1990,1989,1988,1987,1986,1985,1984,1983,1982,1981,1980,2018,2015,2017,2012,2005,2016,1999,2008,2007,2014,2003,2009,2013,2011,2002,2000,2010,1998,2006,2004,2001,1997,1996,1995,1990,1993,1991,1994,1992,1989,1985,1988,1983,1986,1981,1987,1980,1984,2017,2018,1982,2015,2016,2014,2018,2012,2017,2018,2013,2015,2016,2017,2015,2011,2016,2012,2007,2005,2011,2003,2009,2008,2014,2013,2004,2006,1989,2010,2010,1999,2002,1998,1990,1996,1990,1991,2009,2014,1989,1991,1997,1992,2000,2001,1994,1993,1988,1995,1987,1988,1986,1985,1984,2008,1987,1980,1983,1992,1982,2012,1981,2004,1983,2013,2005,1998,2007,1985,2003,2000,1997,1993,1999,1986,1995,1996,1983,2006,1994,2001,2002,2007,1984,1981,2017,1980,1984,1982,2018,2006,2005,2016,1985,1986,1980,2008,1981,2011,2015,2014,2010,2003,1982,2013,2009,2009,2011,2004,2010,2015,2012,2018,2018,2017,2017,2003,2008,2014,2012,2011,2016,2010,2005,2002,2009,2005,2008,2007,2007,2013,2016,2015,2003,1988,2006,1987,2004,2004,2012,1998,2013,2002,2001,2002,2014,2006,1999,2008,1999,1990,2007,2001,2001,1998,2000,1989,2009,2011,2003,2005,2000,2009,1997,2010,1995,2011,1996,2008,2006,1997,2004,2010,2000,1991,1991,1994,1990,1993,1999,1996,2007,2002,1995,1996,1989,2018,1988,2012,1992,1987,2001,1986,2000,2005,1999,1985,2015,2006,1995,1984,2017,1992,1996,1993,1994,2003,1983,2013,2004,2014,1994,1993,1982,2002,2001,1997,1995,1981,1998,1994,2016,1998,2000,1980,1998,2007,1999,2008,2015,1993,2005,1992,1997,2003,1997,2004,1990,2006,1989,1992,1988,1996,1991,2016,1997,1993,1994,1995,2009,2017,1992,2002,1987,1985,1996,1991,1986,2001,1999,2012,2014,2010,1991,2011,2018,1998,2000,1995,2013,1994,1990,1984,1983,1981,1990,1980,1993,1982,2018,1989,2017,1991,1992,1990,1989,1989,2016,1988,1988,2015,1980,1987,1981,2012,1987,2014,2005,2003,2004,1986,2002,1988,2009,1985,2008,1980,2011,2007,1983,1982,1986,2006,2013,2001,1985,2010,1983,1982,1984,1984,1999,1980,2000,1981,1981,1987,1998,1991,1995,1997,1996,1992,1990,1994,1993,1982,1989,1988,1987,1983,1986,1986,1980,1981,1985,1985,1984,2015,1982,2017,2018,1983,2016,2014,1984,1984,1985,2013,1985,1986,1987,1986,2012,2011,1987,2010,1988,1983,2009,1992,1984,1991,1993,1990,1989,1990,1989,2008,1998,2005,1988,1994,2004,2007,1994,1993,1997,1996,2002,1995,1991,2003,2006,1996,1992,2000,1997,1991,1995,1992,1999,1998,1990,1999,2001,2000,1989,1993,2003,2004,2004,2002,1981,2010,2007,1982,2005,2001,1987,1988,2008,2005,2006,1994,2008,2011,2002,2006,2009,1980,2001,2007,2009,2003,1986,1996,1995,2000,1985,2016,2018,2011,2010,2012,2014,2012,2017,1984,2015,1997,1999,1998,2014,2013,1983,1981,2013,1980,2015,1982,2016,2018,2017,1980,1983,1982,1981,1980,1982,1981,1983,1984,1986,2008,1990,2004,1987,1988,1985,2010,2003,1992,2013,2005,2009,2001,2015,1999,2016,2000,2002,2011,2006,2017,1994,1991,2007,1993,1989,1995,1996,1998,2012,2014,1997,2018],\"coloraxis\":\"coloraxis\",\"symbol\":\"circle\"},\"mode\":\"markers\",\"name\":\"\",\"orientation\":\"v\",\"showlegend\":false,\"x\":[\"053-061 IX.Enfermedades del sistema circulatorio\",\"053-061 IX.Enfermedades del sistema circulatorio\",\"053-061 IX.Enfermedades del sistema circulatorio\",\"053-061 IX.Enfermedades del sistema circulatorio\",\"053-061 IX.Enfermedades del sistema circulatorio\",\"053-061 IX.Enfermedades del sistema circulatorio\",\"053-061 IX.Enfermedades del sistema circulatorio\",\"053-061 IX.Enfermedades del sistema circulatorio\",\"053-061 IX.Enfermedades del sistema circulatorio\",\"053-061 IX.Enfermedades del sistema circulatorio\",\"053-061 IX.Enfermedades del sistema circulatorio\",\"053-061 IX.Enfermedades del sistema circulatorio\",\"053-061 IX.Enfermedades del sistema circulatorio\",\"053-061 IX.Enfermedades del sistema circulatorio\",\"053-061 IX.Enfermedades del sistema circulatorio\",\"053-061 IX.Enfermedades del sistema circulatorio\",\"053-061 IX.Enfermedades del sistema circulatorio\",\"053-061 IX.Enfermedades del sistema circulatorio\",\"053-061 IX.Enfermedades del sistema circulatorio\",\"053-061 IX.Enfermedades del sistema circulatorio\",\"053-061 IX.Enfermedades del sistema circulatorio\",\"053-061 IX.Enfermedades del sistema circulatorio\",\"053-061 IX.Enfermedades del sistema circulatorio\",\"053-061 IX.Enfermedades del sistema circulatorio\",\"053-061 IX.Enfermedades del sistema circulatorio\",\"053-061 IX.Enfermedades del sistema circulatorio\",\"053-061 IX.Enfermedades del sistema circulatorio\",\"053-061 IX.Enfermedades del sistema circulatorio\",\"053-061 IX.Enfermedades del sistema circulatorio\",\"053-061 IX.Enfermedades del sistema circulatorio\",\"053-061 IX.Enfermedades del sistema circulatorio\",\"053-061 IX.Enfermedades del sistema circulatorio\",\"053-061 IX.Enfermedades del sistema circulatorio\",\"053-061 IX.Enfermedades del sistema circulatorio\",\"053-061 IX.Enfermedades del sistema circulatorio\",\"053-061 IX.Enfermedades del sistema circulatorio\",\"053-061 IX.Enfermedades del sistema circulatorio\",\"053-061 IX.Enfermedades del sistema circulatorio\",\"053-061 IX.Enfermedades del sistema circulatorio\",\"009-041  II.Tumores\",\"009-041  II.Tumores\",\"009-041  II.Tumores\",\"009-041  II.Tumores\",\"009-041  II.Tumores\",\"009-041  II.Tumores\",\"009-041  II.Tumores\",\"009-041  II.Tumores\",\"009-041  II.Tumores\",\"009-041  II.Tumores\",\"009-041  II.Tumores\",\"009-041  II.Tumores\",\"009-041  II.Tumores\",\"009-041  II.Tumores\",\"009-041  II.Tumores\",\"009-041  II.Tumores\",\"009-041  II.Tumores\",\"009-041  II.Tumores\",\"009-041  II.Tumores\",\"009-041  II.Tumores\",\"009-041  II.Tumores\",\"009-041  II.Tumores\",\"009-041  II.Tumores\",\"009-041  II.Tumores\",\"009-041  II.Tumores\",\"009-041  II.Tumores\",\"009-041  II.Tumores\",\"009-041  II.Tumores\",\"009-041  II.Tumores\",\"009-041  II.Tumores\",\"009-041  II.Tumores\",\"009-041  II.Tumores\",\"009-041  II.Tumores\",\"009-041  II.Tumores\",\"009-041  II.Tumores\",\"009-041  II.Tumores\",\"009-041  II.Tumores\",\"009-041  II.Tumores\",\"009-041  II.Tumores\",\"062-067  X.Enfermedades del sistema respiratorio\",\"062-067  X.Enfermedades del sistema respiratorio\",\"062-067  X.Enfermedades del sistema respiratorio\",\"062-067  X.Enfermedades del sistema respiratorio\",\"062-067  X.Enfermedades del sistema respiratorio\",\"062-067  X.Enfermedades del sistema respiratorio\",\"062-067  X.Enfermedades del sistema respiratorio\",\"062-067  X.Enfermedades del sistema respiratorio\",\"062-067  X.Enfermedades del sistema respiratorio\",\"062-067  X.Enfermedades del sistema respiratorio\",\"062-067  X.Enfermedades del sistema respiratorio\",\"062-067  X.Enfermedades del sistema respiratorio\",\"062-067  X.Enfermedades del sistema respiratorio\",\"062-067  X.Enfermedades del sistema respiratorio\",\"062-067  X.Enfermedades del sistema respiratorio\",\"062-067  X.Enfermedades del sistema respiratorio\",\"062-067  X.Enfermedades del sistema respiratorio\",\"062-067  X.Enfermedades del sistema respiratorio\",\"062-067  X.Enfermedades del sistema respiratorio\",\"062-067  X.Enfermedades del sistema respiratorio\",\"062-067  X.Enfermedades del sistema respiratorio\",\"062-067  X.Enfermedades del sistema respiratorio\",\"062-067  X.Enfermedades del sistema respiratorio\",\"062-067  X.Enfermedades del sistema respiratorio\",\"062-067  X.Enfermedades del sistema respiratorio\",\"062-067  X.Enfermedades del sistema respiratorio\",\"062-067  X.Enfermedades del sistema respiratorio\",\"062-067  X.Enfermedades del sistema respiratorio\",\"062-067  X.Enfermedades del sistema respiratorio\",\"062-067  X.Enfermedades del sistema respiratorio\",\"062-067  X.Enfermedades del sistema respiratorio\",\"062-067  X.Enfermedades del sistema respiratorio\",\"062-067  X.Enfermedades del sistema respiratorio\",\"062-067  X.Enfermedades del sistema respiratorio\",\"062-067  X.Enfermedades del sistema respiratorio\",\"062-067  X.Enfermedades del sistema respiratorio\",\"062-067  X.Enfermedades del sistema respiratorio\",\"062-067  X.Enfermedades del sistema respiratorio\",\"050-052  VI-VIII.Enfermedades del sistema nervioso y de los \\u00f3rganos de los sentidos\",\"050-052  VI-VIII.Enfermedades del sistema nervioso y de los \\u00f3rganos de los sentidos\",\"062-067  X.Enfermedades del sistema respiratorio\",\"050-052  VI-VIII.Enfermedades del sistema nervioso y de los \\u00f3rganos de los sentidos\",\"050-052  VI-VIII.Enfermedades del sistema nervioso y de los \\u00f3rganos de los sentidos\",\"050-052  VI-VIII.Enfermedades del sistema nervioso y de los \\u00f3rganos de los sentidos\",\"046-049  V.Trastornos mentales y del comportamiento\",\"050-052  VI-VIII.Enfermedades del sistema nervioso y de los \\u00f3rganos de los sentidos\",\"046-049  V.Trastornos mentales y del comportamiento\",\"068-072  XI.Enfermedades del sistema digestivo\",\"050-052  VI-VIII.Enfermedades del sistema nervioso y de los \\u00f3rganos de los sentidos\",\"046-049  V.Trastornos mentales y del comportamiento\",\"046-049  V.Trastornos mentales y del comportamiento\",\"068-072  XI.Enfermedades del sistema digestivo\",\"068-072  XI.Enfermedades del sistema digestivo\",\"050-052  VI-VIII.Enfermedades del sistema nervioso y de los \\u00f3rganos de los sentidos\",\"068-072  XI.Enfermedades del sistema digestivo\",\"068-072  XI.Enfermedades del sistema digestivo\",\"068-072  XI.Enfermedades del sistema digestivo\",\"068-072  XI.Enfermedades del sistema digestivo\",\"068-072  XI.Enfermedades del sistema digestivo\",\"068-072  XI.Enfermedades del sistema digestivo\",\"068-072  XI.Enfermedades del sistema digestivo\",\"068-072  XI.Enfermedades del sistema digestivo\",\"068-072  XI.Enfermedades del sistema digestivo\",\"068-072  XI.Enfermedades del sistema digestivo\",\"068-072  XI.Enfermedades del sistema digestivo\",\"068-072  XI.Enfermedades del sistema digestivo\",\"090-102  XX.Causas externas de mortalidad\",\"050-052  VI-VIII.Enfermedades del sistema nervioso y de los \\u00f3rganos de los sentidos\",\"068-072  XI.Enfermedades del sistema digestivo\",\"068-072  XI.Enfermedades del sistema digestivo\",\"068-072  XI.Enfermedades del sistema digestivo\",\"068-072  XI.Enfermedades del sistema digestivo\",\"090-102  XX.Causas externas de mortalidad\",\"068-072  XI.Enfermedades del sistema digestivo\",\"068-072  XI.Enfermedades del sistema digestivo\",\"068-072  XI.Enfermedades del sistema digestivo\",\"050-052  VI-VIII.Enfermedades del sistema nervioso y de los \\u00f3rganos de los sentidos\",\"046-049  V.Trastornos mentales y del comportamiento\",\"068-072  XI.Enfermedades del sistema digestivo\",\"090-102  XX.Causas externas de mortalidad\",\"068-072  XI.Enfermedades del sistema digestivo\",\"068-072  XI.Enfermedades del sistema digestivo\",\"068-072  XI.Enfermedades del sistema digestivo\",\"068-072  XI.Enfermedades del sistema digestivo\",\"068-072  XI.Enfermedades del sistema digestivo\",\"068-072  XI.Enfermedades del sistema digestivo\",\"068-072  XI.Enfermedades del sistema digestivo\",\"068-072  XI.Enfermedades del sistema digestivo\",\"068-072  XI.Enfermedades del sistema digestivo\",\"090-102  XX.Causas externas de mortalidad\",\"068-072  XI.Enfermedades del sistema digestivo\",\"068-072  XI.Enfermedades del sistema digestivo\",\"068-072  XI.Enfermedades del sistema digestivo\",\"050-052  VI-VIII.Enfermedades del sistema nervioso y de los \\u00f3rganos de los sentidos\",\"090-102  XX.Causas externas de mortalidad\",\"068-072  XI.Enfermedades del sistema digestivo\",\"068-072  XI.Enfermedades del sistema digestivo\",\"090-102  XX.Causas externas de mortalidad\",\"068-072  XI.Enfermedades del sistema digestivo\",\"046-049  V.Trastornos mentales y del comportamiento\",\"068-072  XI.Enfermedades del sistema digestivo\",\"090-102  XX.Causas externas de mortalidad\",\"086-089  XVIII.S\\u00edntomas, signos y hallazgos anormales cl\\u00ednicos y de laboratorio, no clasificados en otra parte\",\"046-049  V.Trastornos mentales y del comportamiento\",\"090-102  XX.Causas externas de mortalidad\",\"090-102  XX.Causas externas de mortalidad\",\"050-052  VI-VIII.Enfermedades del sistema nervioso y de los \\u00f3rganos de los sentidos\",\"086-089  XVIII.S\\u00edntomas, signos y hallazgos anormales cl\\u00ednicos y de laboratorio, no clasificados en otra parte\",\"090-102  XX.Causas externas de mortalidad\",\"090-102  XX.Causas externas de mortalidad\",\"090-102  XX.Causas externas de mortalidad\",\"090-102  XX.Causas externas de mortalidad\",\"090-102  XX.Causas externas de mortalidad\",\"090-102  XX.Causas externas de mortalidad\",\"090-102  XX.Causas externas de mortalidad\",\"090-102  XX.Causas externas de mortalidad\",\"090-102  XX.Causas externas de mortalidad\",\"090-102  XX.Causas externas de mortalidad\",\"090-102  XX.Causas externas de mortalidad\",\"090-102  XX.Causas externas de mortalidad\",\"090-102  XX.Causas externas de mortalidad\",\"090-102  XX.Causas externas de mortalidad\",\"086-089  XVIII.S\\u00edntomas, signos y hallazgos anormales cl\\u00ednicos y de laboratorio, no clasificados en otra parte\",\"086-089  XVIII.S\\u00edntomas, signos y hallazgos anormales cl\\u00ednicos y de laboratorio, no clasificados en otra parte\",\"090-102  XX.Causas externas de mortalidad\",\"086-089  XVIII.S\\u00edntomas, signos y hallazgos anormales cl\\u00ednicos y de laboratorio, no clasificados en otra parte\",\"090-102  XX.Causas externas de mortalidad\",\"086-089  XVIII.S\\u00edntomas, signos y hallazgos anormales cl\\u00ednicos y de laboratorio, no clasificados en otra parte\",\"090-102  XX.Causas externas de mortalidad\",\"050-052  VI-VIII.Enfermedades del sistema nervioso y de los \\u00f3rganos de los sentidos\",\"050-052  VI-VIII.Enfermedades del sistema nervioso y de los \\u00f3rganos de los sentidos\",\"090-102  XX.Causas externas de mortalidad\",\"090-102  XX.Causas externas de mortalidad\",\"086-089  XVIII.S\\u00edntomas, signos y hallazgos anormales cl\\u00ednicos y de laboratorio, no clasificados en otra parte\",\"090-102  XX.Causas externas de mortalidad\",\"090-102  XX.Causas externas de mortalidad\",\"090-102  XX.Causas externas de mortalidad\",\"046-049  V.Trastornos mentales y del comportamiento\",\"090-102  XX.Causas externas de mortalidad\",\"090-102  XX.Causas externas de mortalidad\",\"046-049  V.Trastornos mentales y del comportamiento\",\"050-052  VI-VIII.Enfermedades del sistema nervioso y de los \\u00f3rganos de los sentidos\",\"090-102  XX.Causas externas de mortalidad\",\"090-102  XX.Causas externas de mortalidad\",\"090-102  XX.Causas externas de mortalidad\",\"046-049  V.Trastornos mentales y del comportamiento\",\"090-102  XX.Causas externas de mortalidad\",\"050-052  VI-VIII.Enfermedades del sistema nervioso y de los \\u00f3rganos de los sentidos\",\"090-102  XX.Causas externas de mortalidad\",\"044-045  IV.Enfermedades endocrinas, nutricionales y metab\\u00f3licas\",\"090-102  XX.Causas externas de mortalidad\",\"077-080  XIV.Enfermedades del sistema genitourinario\",\"044-045  IV.Enfermedades endocrinas, nutricionales y metab\\u00f3licas\",\"044-045  IV.Enfermedades endocrinas, nutricionales y metab\\u00f3licas\",\"077-080  XIV.Enfermedades del sistema genitourinario\",\"046-049  V.Trastornos mentales y del comportamiento\",\"046-049  V.Trastornos mentales y del comportamiento\",\"044-045  IV.Enfermedades endocrinas, nutricionales y metab\\u00f3licas\",\"044-045  IV.Enfermedades endocrinas, nutricionales y metab\\u00f3licas\",\"044-045  IV.Enfermedades endocrinas, nutricionales y metab\\u00f3licas\",\"044-045  IV.Enfermedades endocrinas, nutricionales y metab\\u00f3licas\",\"044-045  IV.Enfermedades endocrinas, nutricionales y metab\\u00f3licas\",\"046-049  V.Trastornos mentales y del comportamiento\",\"050-052  VI-VIII.Enfermedades del sistema nervioso y de los \\u00f3rganos de los sentidos\",\"044-045  IV.Enfermedades endocrinas, nutricionales y metab\\u00f3licas\",\"044-045  IV.Enfermedades endocrinas, nutricionales y metab\\u00f3licas\",\"044-045  IV.Enfermedades endocrinas, nutricionales y metab\\u00f3licas\",\"046-049  V.Trastornos mentales y del comportamiento\",\"044-045  IV.Enfermedades endocrinas, nutricionales y metab\\u00f3licas\",\"044-045  IV.Enfermedades endocrinas, nutricionales y metab\\u00f3licas\",\"077-080  XIV.Enfermedades del sistema genitourinario\",\"077-080  XIV.Enfermedades del sistema genitourinario\",\"044-045  IV.Enfermedades endocrinas, nutricionales y metab\\u00f3licas\",\"086-089  XVIII.S\\u00edntomas, signos y hallazgos anormales cl\\u00ednicos y de laboratorio, no clasificados en otra parte\",\"046-049  V.Trastornos mentales y del comportamiento\",\"086-089  XVIII.S\\u00edntomas, signos y hallazgos anormales cl\\u00ednicos y de laboratorio, no clasificados en otra parte\",\"044-045  IV.Enfermedades endocrinas, nutricionales y metab\\u00f3licas\",\"046-049  V.Trastornos mentales y del comportamiento\",\"077-080  XIV.Enfermedades del sistema genitourinario\",\"046-049  V.Trastornos mentales y del comportamiento\",\"077-080  XIV.Enfermedades del sistema genitourinario\",\"046-049  V.Trastornos mentales y del comportamiento\",\"050-052  VI-VIII.Enfermedades del sistema nervioso y de los \\u00f3rganos de los sentidos\",\"044-045  IV.Enfermedades endocrinas, nutricionales y metab\\u00f3licas\",\"077-080  XIV.Enfermedades del sistema genitourinario\",\"044-045  IV.Enfermedades endocrinas, nutricionales y metab\\u00f3licas\",\"046-049  V.Trastornos mentales y del comportamiento\",\"086-089  XVIII.S\\u00edntomas, signos y hallazgos anormales cl\\u00ednicos y de laboratorio, no clasificados en otra parte\",\"044-045  IV.Enfermedades endocrinas, nutricionales y metab\\u00f3licas\",\"086-089  XVIII.S\\u00edntomas, signos y hallazgos anormales cl\\u00ednicos y de laboratorio, no clasificados en otra parte\",\"086-089  XVIII.S\\u00edntomas, signos y hallazgos anormales cl\\u00ednicos y de laboratorio, no clasificados en otra parte\",\"046-049  V.Trastornos mentales y del comportamiento\",\"044-045  IV.Enfermedades endocrinas, nutricionales y metab\\u00f3licas\",\"044-045  IV.Enfermedades endocrinas, nutricionales y metab\\u00f3licas\",\"046-049  V.Trastornos mentales y del comportamiento\",\"086-089  XVIII.S\\u00edntomas, signos y hallazgos anormales cl\\u00ednicos y de laboratorio, no clasificados en otra parte\",\"086-089  XVIII.S\\u00edntomas, signos y hallazgos anormales cl\\u00ednicos y de laboratorio, no clasificados en otra parte\",\"077-080  XIV.Enfermedades del sistema genitourinario\",\"086-089  XVIII.S\\u00edntomas, signos y hallazgos anormales cl\\u00ednicos y de laboratorio, no clasificados en otra parte\",\"086-089  XVIII.S\\u00edntomas, signos y hallazgos anormales cl\\u00ednicos y de laboratorio, no clasificados en otra parte\",\"044-045  IV.Enfermedades endocrinas, nutricionales y metab\\u00f3licas\",\"077-080  XIV.Enfermedades del sistema genitourinario\",\"046-049  V.Trastornos mentales y del comportamiento\",\"086-089  XVIII.S\\u00edntomas, signos y hallazgos anormales cl\\u00ednicos y de laboratorio, no clasificados en otra parte\",\"044-045  IV.Enfermedades endocrinas, nutricionales y metab\\u00f3licas\",\"086-089  XVIII.S\\u00edntomas, signos y hallazgos anormales cl\\u00ednicos y de laboratorio, no clasificados en otra parte\",\"044-045  IV.Enfermedades endocrinas, nutricionales y metab\\u00f3licas\",\"077-080  XIV.Enfermedades del sistema genitourinario\",\"086-089  XVIII.S\\u00edntomas, signos y hallazgos anormales cl\\u00ednicos y de laboratorio, no clasificados en otra parte\",\"044-045  IV.Enfermedades endocrinas, nutricionales y metab\\u00f3licas\",\"086-089  XVIII.S\\u00edntomas, signos y hallazgos anormales cl\\u00ednicos y de laboratorio, no clasificados en otra parte\",\"077-080  XIV.Enfermedades del sistema genitourinario\",\"050-052  VI-VIII.Enfermedades del sistema nervioso y de los \\u00f3rganos de los sentidos\",\"044-045  IV.Enfermedades endocrinas, nutricionales y metab\\u00f3licas\",\"086-089  XVIII.S\\u00edntomas, signos y hallazgos anormales cl\\u00ednicos y de laboratorio, no clasificados en otra parte\",\"044-045  IV.Enfermedades endocrinas, nutricionales y metab\\u00f3licas\",\"044-045  IV.Enfermedades endocrinas, nutricionales y metab\\u00f3licas\",\"044-045  IV.Enfermedades endocrinas, nutricionales y metab\\u00f3licas\",\"050-052  VI-VIII.Enfermedades del sistema nervioso y de los \\u00f3rganos de los sentidos\",\"046-049  V.Trastornos mentales y del comportamiento\",\"077-080  XIV.Enfermedades del sistema genitourinario\",\"086-089  XVIII.S\\u00edntomas, signos y hallazgos anormales cl\\u00ednicos y de laboratorio, no clasificados en otra parte\",\"001-008  I.Enfermedades infecciosas y parasitarias\",\"001-008  I.Enfermedades infecciosas y parasitarias\",\"044-045  IV.Enfermedades endocrinas, nutricionales y metab\\u00f3licas\",\"086-089  XVIII.S\\u00edntomas, signos y hallazgos anormales cl\\u00ednicos y de laboratorio, no clasificados en otra parte\",\"044-045  IV.Enfermedades endocrinas, nutricionales y metab\\u00f3licas\",\"086-089  XVIII.S\\u00edntomas, signos y hallazgos anormales cl\\u00ednicos y de laboratorio, no clasificados en otra parte\",\"044-045  IV.Enfermedades endocrinas, nutricionales y metab\\u00f3licas\",\"044-045  IV.Enfermedades endocrinas, nutricionales y metab\\u00f3licas\",\"086-089  XVIII.S\\u00edntomas, signos y hallazgos anormales cl\\u00ednicos y de laboratorio, no clasificados en otra parte\",\"044-045  IV.Enfermedades endocrinas, nutricionales y metab\\u00f3licas\",\"086-089  XVIII.S\\u00edntomas, signos y hallazgos anormales cl\\u00ednicos y de laboratorio, no clasificados en otra parte\",\"077-080  XIV.Enfermedades del sistema genitourinario\",\"086-089  XVIII.S\\u00edntomas, signos y hallazgos anormales cl\\u00ednicos y de laboratorio, no clasificados en otra parte\",\"044-045  IV.Enfermedades endocrinas, nutricionales y metab\\u00f3licas\",\"086-089  XVIII.S\\u00edntomas, signos y hallazgos anormales cl\\u00ednicos y de laboratorio, no clasificados en otra parte\",\"077-080  XIV.Enfermedades del sistema genitourinario\",\"046-049  V.Trastornos mentales y del comportamiento\",\"044-045  IV.Enfermedades endocrinas, nutricionales y metab\\u00f3licas\",\"086-089  XVIII.S\\u00edntomas, signos y hallazgos anormales cl\\u00ednicos y de laboratorio, no clasificados en otra parte\",\"086-089  XVIII.S\\u00edntomas, signos y hallazgos anormales cl\\u00ednicos y de laboratorio, no clasificados en otra parte\",\"086-089  XVIII.S\\u00edntomas, signos y hallazgos anormales cl\\u00ednicos y de laboratorio, no clasificados en otra parte\",\"086-089  XVIII.S\\u00edntomas, signos y hallazgos anormales cl\\u00ednicos y de laboratorio, no clasificados en otra parte\",\"001-008  I.Enfermedades infecciosas y parasitarias\",\"077-080  XIV.Enfermedades del sistema genitourinario\",\"044-045  IV.Enfermedades endocrinas, nutricionales y metab\\u00f3licas\",\"086-089  XVIII.S\\u00edntomas, signos y hallazgos anormales cl\\u00ednicos y de laboratorio, no clasificados en otra parte\",\"077-080  XIV.Enfermedades del sistema genitourinario\",\"086-089  XVIII.S\\u00edntomas, signos y hallazgos anormales cl\\u00ednicos y de laboratorio, no clasificados en otra parte\",\"046-049  V.Trastornos mentales y del comportamiento\",\"001-008  I.Enfermedades infecciosas y parasitarias\",\"044-045  IV.Enfermedades endocrinas, nutricionales y metab\\u00f3licas\",\"077-080  XIV.Enfermedades del sistema genitourinario\",\"077-080  XIV.Enfermedades del sistema genitourinario\",\"086-089  XVIII.S\\u00edntomas, signos y hallazgos anormales cl\\u00ednicos y de laboratorio, no clasificados en otra parte\",\"086-089  XVIII.S\\u00edntomas, signos y hallazgos anormales cl\\u00ednicos y de laboratorio, no clasificados en otra parte\",\"044-045  IV.Enfermedades endocrinas, nutricionales y metab\\u00f3licas\",\"086-089  XVIII.S\\u00edntomas, signos y hallazgos anormales cl\\u00ednicos y de laboratorio, no clasificados en otra parte\",\"086-089  XVIII.S\\u00edntomas, signos y hallazgos anormales cl\\u00ednicos y de laboratorio, no clasificados en otra parte\",\"086-089  XVIII.S\\u00edntomas, signos y hallazgos anormales cl\\u00ednicos y de laboratorio, no clasificados en otra parte\",\"050-052  VI-VIII.Enfermedades del sistema nervioso y de los \\u00f3rganos de los sentidos\",\"077-080  XIV.Enfermedades del sistema genitourinario\",\"044-045  IV.Enfermedades endocrinas, nutricionales y metab\\u00f3licas\",\"077-080  XIV.Enfermedades del sistema genitourinario\",\"001-008  I.Enfermedades infecciosas y parasitarias\",\"077-080  XIV.Enfermedades del sistema genitourinario\",\"001-008  I.Enfermedades infecciosas y parasitarias\",\"001-008  I.Enfermedades infecciosas y parasitarias\",\"046-049  V.Trastornos mentales y del comportamiento\",\"001-008  I.Enfermedades infecciosas y parasitarias\",\"001-008  I.Enfermedades infecciosas y parasitarias\",\"077-080  XIV.Enfermedades del sistema genitourinario\",\"001-008  I.Enfermedades infecciosas y parasitarias\",\"001-008  I.Enfermedades infecciosas y parasitarias\",\"001-008  I.Enfermedades infecciosas y parasitarias\",\"077-080  XIV.Enfermedades del sistema genitourinario\",\"001-008  I.Enfermedades infecciosas y parasitarias\",\"077-080  XIV.Enfermedades del sistema genitourinario\",\"077-080  XIV.Enfermedades del sistema genitourinario\",\"077-080  XIV.Enfermedades del sistema genitourinario\",\"077-080  XIV.Enfermedades del sistema genitourinario\",\"077-080  XIV.Enfermedades del sistema genitourinario\",\"001-008  I.Enfermedades infecciosas y parasitarias\",\"050-052  VI-VIII.Enfermedades del sistema nervioso y de los \\u00f3rganos de los sentidos\",\"077-080  XIV.Enfermedades del sistema genitourinario\",\"077-080  XIV.Enfermedades del sistema genitourinario\",\"077-080  XIV.Enfermedades del sistema genitourinario\",\"001-008  I.Enfermedades infecciosas y parasitarias\",\"001-008  I.Enfermedades infecciosas y parasitarias\",\"046-049  V.Trastornos mentales y del comportamiento\",\"001-008  I.Enfermedades infecciosas y parasitarias\",\"077-080  XIV.Enfermedades del sistema genitourinario\",\"077-080  XIV.Enfermedades del sistema genitourinario\",\"050-052  VI-VIII.Enfermedades del sistema nervioso y de los \\u00f3rganos de los sentidos\",\"001-008  I.Enfermedades infecciosas y parasitarias\",\"077-080  XIV.Enfermedades del sistema genitourinario\",\"001-008  I.Enfermedades infecciosas y parasitarias\",\"001-008  I.Enfermedades infecciosas y parasitarias\",\"001-008  I.Enfermedades infecciosas y parasitarias\",\"001-008  I.Enfermedades infecciosas y parasitarias\",\"001-008  I.Enfermedades infecciosas y parasitarias\",\"046-049  V.Trastornos mentales y del comportamiento\",\"001-008  I.Enfermedades infecciosas y parasitarias\",\"001-008  I.Enfermedades infecciosas y parasitarias\",\"001-008  I.Enfermedades infecciosas y parasitarias\",\"001-008  I.Enfermedades infecciosas y parasitarias\",\"050-052  VI-VIII.Enfermedades del sistema nervioso y de los \\u00f3rganos de los sentidos\",\"001-008  I.Enfermedades infecciosas y parasitarias\",\"050-052  VI-VIII.Enfermedades del sistema nervioso y de los \\u00f3rganos de los sentidos\",\"001-008  I.Enfermedades infecciosas y parasitarias\",\"077-080  XIV.Enfermedades del sistema genitourinario\",\"077-080  XIV.Enfermedades del sistema genitourinario\",\"077-080  XIV.Enfermedades del sistema genitourinario\",\"046-049  V.Trastornos mentales y del comportamiento\",\"077-080  XIV.Enfermedades del sistema genitourinario\",\"050-052  VI-VIII.Enfermedades del sistema nervioso y de los \\u00f3rganos de los sentidos\",\"077-080  XIV.Enfermedades del sistema genitourinario\",\"074-076  XIII.Enfermedades del sistema osteomuscular y del tejido conjuntivo\",\"001-008  I.Enfermedades infecciosas y parasitarias\",\"074-076  XIII.Enfermedades del sistema osteomuscular y del tejido conjuntivo\",\"050-052  VI-VIII.Enfermedades del sistema nervioso y de los \\u00f3rganos de los sentidos\",\"050-052  VI-VIII.Enfermedades del sistema nervioso y de los \\u00f3rganos de los sentidos\",\"050-052  VI-VIII.Enfermedades del sistema nervioso y de los \\u00f3rganos de los sentidos\",\"046-049  V.Trastornos mentales y del comportamiento\",\"050-052  VI-VIII.Enfermedades del sistema nervioso y de los \\u00f3rganos de los sentidos\",\"074-076  XIII.Enfermedades del sistema osteomuscular y del tejido conjuntivo\",\"001-008  I.Enfermedades infecciosas y parasitarias\",\"050-052  VI-VIII.Enfermedades del sistema nervioso y de los \\u00f3rganos de los sentidos\",\"074-076  XIII.Enfermedades del sistema osteomuscular y del tejido conjuntivo\",\"001-008  I.Enfermedades infecciosas y parasitarias\",\"050-052  VI-VIII.Enfermedades del sistema nervioso y de los \\u00f3rganos de los sentidos\",\"001-008  I.Enfermedades infecciosas y parasitarias\",\"074-076  XIII.Enfermedades del sistema osteomuscular y del tejido conjuntivo\",\"001-008  I.Enfermedades infecciosas y parasitarias\",\"074-076  XIII.Enfermedades del sistema osteomuscular y del tejido conjuntivo\",\"074-076  XIII.Enfermedades del sistema osteomuscular y del tejido conjuntivo\",\"074-076  XIII.Enfermedades del sistema osteomuscular y del tejido conjuntivo\",\"074-076  XIII.Enfermedades del sistema osteomuscular y del tejido conjuntivo\",\"050-052  VI-VIII.Enfermedades del sistema nervioso y de los \\u00f3rganos de los sentidos\",\"074-076  XIII.Enfermedades del sistema osteomuscular y del tejido conjuntivo\",\"046-049  V.Trastornos mentales y del comportamiento\",\"074-076  XIII.Enfermedades del sistema osteomuscular y del tejido conjuntivo\",\"050-052  VI-VIII.Enfermedades del sistema nervioso y de los \\u00f3rganos de los sentidos\",\"074-076  XIII.Enfermedades del sistema osteomuscular y del tejido conjuntivo\",\"050-052  VI-VIII.Enfermedades del sistema nervioso y de los \\u00f3rganos de los sentidos\",\"074-076  XIII.Enfermedades del sistema osteomuscular y del tejido conjuntivo\",\"074-076  XIII.Enfermedades del sistema osteomuscular y del tejido conjuntivo\",\"050-052  VI-VIII.Enfermedades del sistema nervioso y de los \\u00f3rganos de los sentidos\",\"001-008  I.Enfermedades infecciosas y parasitarias\",\"001-008  I.Enfermedades infecciosas y parasitarias\",\"074-076  XIII.Enfermedades del sistema osteomuscular y del tejido conjuntivo\",\"074-076  XIII.Enfermedades del sistema osteomuscular y del tejido conjuntivo\",\"074-076  XIII.Enfermedades del sistema osteomuscular y del tejido conjuntivo\",\"001-008  I.Enfermedades infecciosas y parasitarias\",\"074-076  XIII.Enfermedades del sistema osteomuscular y del tejido conjuntivo\",\"001-008  I.Enfermedades infecciosas y parasitarias\",\"050-052  VI-VIII.Enfermedades del sistema nervioso y de los \\u00f3rganos de los sentidos\",\"001-008  I.Enfermedades infecciosas y parasitarias\",\"050-052  VI-VIII.Enfermedades del sistema nervioso y de los \\u00f3rganos de los sentidos\",\"074-076  XIII.Enfermedades del sistema osteomuscular y del tejido conjuntivo\",\"082  XVI.Afecciones originadas en el periodo perinatal\",\"074-076  XIII.Enfermedades del sistema osteomuscular y del tejido conjuntivo\",\"050-052  VI-VIII.Enfermedades del sistema nervioso y de los \\u00f3rganos de los sentidos\",\"082  XVI.Afecciones originadas en el periodo perinatal\",\"046-049  V.Trastornos mentales y del comportamiento\",\"074-076  XIII.Enfermedades del sistema osteomuscular y del tejido conjuntivo\",\"074-076  XIII.Enfermedades del sistema osteomuscular y del tejido conjuntivo\",\"074-076  XIII.Enfermedades del sistema osteomuscular y del tejido conjuntivo\",\"074-076  XIII.Enfermedades del sistema osteomuscular y del tejido conjuntivo\",\"074-076  XIII.Enfermedades del sistema osteomuscular y del tejido conjuntivo\",\"074-076  XIII.Enfermedades del sistema osteomuscular y del tejido conjuntivo\",\"074-076  XIII.Enfermedades del sistema osteomuscular y del tejido conjuntivo\",\"074-076  XIII.Enfermedades del sistema osteomuscular y del tejido conjuntivo\",\"074-076  XIII.Enfermedades del sistema osteomuscular y del tejido conjuntivo\",\"082  XVI.Afecciones originadas en el periodo perinatal\",\"074-076  XIII.Enfermedades del sistema osteomuscular y del tejido conjuntivo\",\"074-076  XIII.Enfermedades del sistema osteomuscular y del tejido conjuntivo\",\"074-076  XIII.Enfermedades del sistema osteomuscular y del tejido conjuntivo\",\"082  XVI.Afecciones originadas en el periodo perinatal\",\"046-049  V.Trastornos mentales y del comportamiento\",\"074-076  XIII.Enfermedades del sistema osteomuscular y del tejido conjuntivo\",\"083-085  XVII.Malformaciones cong\\u00e9nitas, deformidades y anomal\\u00edas cromos\\u00f3micas\",\"083-085  XVII.Malformaciones cong\\u00e9nitas, deformidades y anomal\\u00edas cromos\\u00f3micas\",\"074-076  XIII.Enfermedades del sistema osteomuscular y del tejido conjuntivo\",\"046-049  V.Trastornos mentales y del comportamiento\",\"082  XVI.Afecciones originadas en el periodo perinatal\",\"042-043  III.Enfermedades de la sangre y de los \\u00f3rganos hematopoy\\u00e9ticos, y ciertos trastornos que afectan al mecanismo de la inmunidad\",\"083-085  XVII.Malformaciones cong\\u00e9nitas, deformidades y anomal\\u00edas cromos\\u00f3micas\",\"042-043  III.Enfermedades de la sangre y de los \\u00f3rganos hematopoy\\u00e9ticos, y ciertos trastornos que afectan al mecanismo de la inmunidad\",\"042-043  III.Enfermedades de la sangre y de los \\u00f3rganos hematopoy\\u00e9ticos, y ciertos trastornos que afectan al mecanismo de la inmunidad\",\"083-085  XVII.Malformaciones cong\\u00e9nitas, deformidades y anomal\\u00edas cromos\\u00f3micas\",\"042-043  III.Enfermedades de la sangre y de los \\u00f3rganos hematopoy\\u00e9ticos, y ciertos trastornos que afectan al mecanismo de la inmunidad\",\"042-043  III.Enfermedades de la sangre y de los \\u00f3rganos hematopoy\\u00e9ticos, y ciertos trastornos que afectan al mecanismo de la inmunidad\",\"083-085  XVII.Malformaciones cong\\u00e9nitas, deformidades y anomal\\u00edas cromos\\u00f3micas\",\"046-049  V.Trastornos mentales y del comportamiento\",\"082  XVI.Afecciones originadas en el periodo perinatal\",\"042-043  III.Enfermedades de la sangre y de los \\u00f3rganos hematopoy\\u00e9ticos, y ciertos trastornos que afectan al mecanismo de la inmunidad\",\"083-085  XVII.Malformaciones cong\\u00e9nitas, deformidades y anomal\\u00edas cromos\\u00f3micas\",\"082  XVI.Afecciones originadas en el periodo perinatal\",\"082  XVI.Afecciones originadas en el periodo perinatal\",\"083-085  XVII.Malformaciones cong\\u00e9nitas, deformidades y anomal\\u00edas cromos\\u00f3micas\",\"042-043  III.Enfermedades de la sangre y de los \\u00f3rganos hematopoy\\u00e9ticos, y ciertos trastornos que afectan al mecanismo de la inmunidad\",\"042-043  III.Enfermedades de la sangre y de los \\u00f3rganos hematopoy\\u00e9ticos, y ciertos trastornos que afectan al mecanismo de la inmunidad\",\"083-085  XVII.Malformaciones cong\\u00e9nitas, deformidades y anomal\\u00edas cromos\\u00f3micas\",\"042-043  III.Enfermedades de la sangre y de los \\u00f3rganos hematopoy\\u00e9ticos, y ciertos trastornos que afectan al mecanismo de la inmunidad\",\"083-085  XVII.Malformaciones cong\\u00e9nitas, deformidades y anomal\\u00edas cromos\\u00f3micas\",\"046-049  V.Trastornos mentales y del comportamiento\",\"042-043  III.Enfermedades de la sangre y de los \\u00f3rganos hematopoy\\u00e9ticos, y ciertos trastornos que afectan al mecanismo de la inmunidad\",\"083-085  XVII.Malformaciones cong\\u00e9nitas, deformidades y anomal\\u00edas cromos\\u00f3micas\",\"074-076  XIII.Enfermedades del sistema osteomuscular y del tejido conjuntivo\",\"083-085  XVII.Malformaciones cong\\u00e9nitas, deformidades y anomal\\u00edas cromos\\u00f3micas\",\"083-085  XVII.Malformaciones cong\\u00e9nitas, deformidades y anomal\\u00edas cromos\\u00f3micas\",\"083-085  XVII.Malformaciones cong\\u00e9nitas, deformidades y anomal\\u00edas cromos\\u00f3micas\",\"083-085  XVII.Malformaciones cong\\u00e9nitas, deformidades y anomal\\u00edas cromos\\u00f3micas\",\"082  XVI.Afecciones originadas en el periodo perinatal\",\"082  XVI.Afecciones originadas en el periodo perinatal\",\"042-043  III.Enfermedades de la sangre y de los \\u00f3rganos hematopoy\\u00e9ticos, y ciertos trastornos que afectan al mecanismo de la inmunidad\",\"042-043  III.Enfermedades de la sangre y de los \\u00f3rganos hematopoy\\u00e9ticos, y ciertos trastornos que afectan al mecanismo de la inmunidad\",\"042-043  III.Enfermedades de la sangre y de los \\u00f3rganos hematopoy\\u00e9ticos, y ciertos trastornos que afectan al mecanismo de la inmunidad\",\"082  XVI.Afecciones originadas en el periodo perinatal\",\"083-085  XVII.Malformaciones cong\\u00e9nitas, deformidades y anomal\\u00edas cromos\\u00f3micas\",\"042-043  III.Enfermedades de la sangre y de los \\u00f3rganos hematopoy\\u00e9ticos, y ciertos trastornos que afectan al mecanismo de la inmunidad\",\"042-043  III.Enfermedades de la sangre y de los \\u00f3rganos hematopoy\\u00e9ticos, y ciertos trastornos que afectan al mecanismo de la inmunidad\",\"042-043  III.Enfermedades de la sangre y de los \\u00f3rganos hematopoy\\u00e9ticos, y ciertos trastornos que afectan al mecanismo de la inmunidad\",\"042-043  III.Enfermedades de la sangre y de los \\u00f3rganos hematopoy\\u00e9ticos, y ciertos trastornos que afectan al mecanismo de la inmunidad\",\"042-043  III.Enfermedades de la sangre y de los \\u00f3rganos hematopoy\\u00e9ticos, y ciertos trastornos que afectan al mecanismo de la inmunidad\",\"042-043  III.Enfermedades de la sangre y de los \\u00f3rganos hematopoy\\u00e9ticos, y ciertos trastornos que afectan al mecanismo de la inmunidad\",\"042-043  III.Enfermedades de la sangre y de los \\u00f3rganos hematopoy\\u00e9ticos, y ciertos trastornos que afectan al mecanismo de la inmunidad\",\"042-043  III.Enfermedades de la sangre y de los \\u00f3rganos hematopoy\\u00e9ticos, y ciertos trastornos que afectan al mecanismo de la inmunidad\",\"042-043  III.Enfermedades de la sangre y de los \\u00f3rganos hematopoy\\u00e9ticos, y ciertos trastornos que afectan al mecanismo de la inmunidad\",\"042-043  III.Enfermedades de la sangre y de los \\u00f3rganos hematopoy\\u00e9ticos, y ciertos trastornos que afectan al mecanismo de la inmunidad\",\"042-043  III.Enfermedades de la sangre y de los \\u00f3rganos hematopoy\\u00e9ticos, y ciertos trastornos que afectan al mecanismo de la inmunidad\",\"083-085  XVII.Malformaciones cong\\u00e9nitas, deformidades y anomal\\u00edas cromos\\u00f3micas\",\"082  XVI.Afecciones originadas en el periodo perinatal\",\"042-043  III.Enfermedades de la sangre y de los \\u00f3rganos hematopoy\\u00e9ticos, y ciertos trastornos que afectan al mecanismo de la inmunidad\",\"083-085  XVII.Malformaciones cong\\u00e9nitas, deformidades y anomal\\u00edas cromos\\u00f3micas\",\"082  XVI.Afecciones originadas en el periodo perinatal\",\"083-085  XVII.Malformaciones cong\\u00e9nitas, deformidades y anomal\\u00edas cromos\\u00f3micas\",\"042-043  III.Enfermedades de la sangre y de los \\u00f3rganos hematopoy\\u00e9ticos, y ciertos trastornos que afectan al mecanismo de la inmunidad\",\"083-085  XVII.Malformaciones cong\\u00e9nitas, deformidades y anomal\\u00edas cromos\\u00f3micas\",\"083-085  XVII.Malformaciones cong\\u00e9nitas, deformidades y anomal\\u00edas cromos\\u00f3micas\",\"042-043  III.Enfermedades de la sangre y de los \\u00f3rganos hematopoy\\u00e9ticos, y ciertos trastornos que afectan al mecanismo de la inmunidad\",\"042-043  III.Enfermedades de la sangre y de los \\u00f3rganos hematopoy\\u00e9ticos, y ciertos trastornos que afectan al mecanismo de la inmunidad\",\"042-043  III.Enfermedades de la sangre y de los \\u00f3rganos hematopoy\\u00e9ticos, y ciertos trastornos que afectan al mecanismo de la inmunidad\",\"083-085  XVII.Malformaciones cong\\u00e9nitas, deformidades y anomal\\u00edas cromos\\u00f3micas\",\"042-043  III.Enfermedades de la sangre y de los \\u00f3rganos hematopoy\\u00e9ticos, y ciertos trastornos que afectan al mecanismo de la inmunidad\",\"082  XVI.Afecciones originadas en el periodo perinatal\",\"083-085  XVII.Malformaciones cong\\u00e9nitas, deformidades y anomal\\u00edas cromos\\u00f3micas\",\"083-085  XVII.Malformaciones cong\\u00e9nitas, deformidades y anomal\\u00edas cromos\\u00f3micas\",\"082  XVI.Afecciones originadas en el periodo perinatal\",\"083-085  XVII.Malformaciones cong\\u00e9nitas, deformidades y anomal\\u00edas cromos\\u00f3micas\",\"046-049  V.Trastornos mentales y del comportamiento\",\"083-085  XVII.Malformaciones cong\\u00e9nitas, deformidades y anomal\\u00edas cromos\\u00f3micas\",\"082  XVI.Afecciones originadas en el periodo perinatal\",\"046-049  V.Trastornos mentales y del comportamiento\",\"083-085  XVII.Malformaciones cong\\u00e9nitas, deformidades y anomal\\u00edas cromos\\u00f3micas\",\"083-085  XVII.Malformaciones cong\\u00e9nitas, deformidades y anomal\\u00edas cromos\\u00f3micas\",\"042-043  III.Enfermedades de la sangre y de los \\u00f3rganos hematopoy\\u00e9ticos, y ciertos trastornos que afectan al mecanismo de la inmunidad\",\"042-043  III.Enfermedades de la sangre y de los \\u00f3rganos hematopoy\\u00e9ticos, y ciertos trastornos que afectan al mecanismo de la inmunidad\",\"082  XVI.Afecciones originadas en el periodo perinatal\",\"082  XVI.Afecciones originadas en el periodo perinatal\",\"083-085  XVII.Malformaciones cong\\u00e9nitas, deformidades y anomal\\u00edas cromos\\u00f3micas\",\"082  XVI.Afecciones originadas en el periodo perinatal\",\"083-085  XVII.Malformaciones cong\\u00e9nitas, deformidades y anomal\\u00edas cromos\\u00f3micas\",\"083-085  XVII.Malformaciones cong\\u00e9nitas, deformidades y anomal\\u00edas cromos\\u00f3micas\",\"082  XVI.Afecciones originadas en el periodo perinatal\",\"082  XVI.Afecciones originadas en el periodo perinatal\",\"082  XVI.Afecciones originadas en el periodo perinatal\",\"046-049  V.Trastornos mentales y del comportamiento\",\"082  XVI.Afecciones originadas en el periodo perinatal\",\"083-085  XVII.Malformaciones cong\\u00e9nitas, deformidades y anomal\\u00edas cromos\\u00f3micas\",\"083-085  XVII.Malformaciones cong\\u00e9nitas, deformidades y anomal\\u00edas cromos\\u00f3micas\",\"082  XVI.Afecciones originadas en el periodo perinatal\",\"042-043  III.Enfermedades de la sangre y de los \\u00f3rganos hematopoy\\u00e9ticos, y ciertos trastornos que afectan al mecanismo de la inmunidad\",\"082  XVI.Afecciones originadas en el periodo perinatal\",\"082  XVI.Afecciones originadas en el periodo perinatal\",\"082  XVI.Afecciones originadas en el periodo perinatal\",\"042-043  III.Enfermedades de la sangre y de los \\u00f3rganos hematopoy\\u00e9ticos, y ciertos trastornos que afectan al mecanismo de la inmunidad\",\"083-085  XVII.Malformaciones cong\\u00e9nitas, deformidades y anomal\\u00edas cromos\\u00f3micas\",\"083-085  XVII.Malformaciones cong\\u00e9nitas, deformidades y anomal\\u00edas cromos\\u00f3micas\",\"082  XVI.Afecciones originadas en el periodo perinatal\",\"082  XVI.Afecciones originadas en el periodo perinatal\",\"082  XVI.Afecciones originadas en el periodo perinatal\",\"083-085  XVII.Malformaciones cong\\u00e9nitas, deformidades y anomal\\u00edas cromos\\u00f3micas\",\"083-085  XVII.Malformaciones cong\\u00e9nitas, deformidades y anomal\\u00edas cromos\\u00f3micas\",\"083-085  XVII.Malformaciones cong\\u00e9nitas, deformidades y anomal\\u00edas cromos\\u00f3micas\",\"042-043  III.Enfermedades de la sangre y de los \\u00f3rganos hematopoy\\u00e9ticos, y ciertos trastornos que afectan al mecanismo de la inmunidad\",\"083-085  XVII.Malformaciones cong\\u00e9nitas, deformidades y anomal\\u00edas cromos\\u00f3micas\",\"082  XVI.Afecciones originadas en el periodo perinatal\",\"082  XVI.Afecciones originadas en el periodo perinatal\",\"082  XVI.Afecciones originadas en el periodo perinatal\",\"082  XVI.Afecciones originadas en el periodo perinatal\",\"083-085  XVII.Malformaciones cong\\u00e9nitas, deformidades y anomal\\u00edas cromos\\u00f3micas\",\"042-043  III.Enfermedades de la sangre y de los \\u00f3rganos hematopoy\\u00e9ticos, y ciertos trastornos que afectan al mecanismo de la inmunidad\",\"042-043  III.Enfermedades de la sangre y de los \\u00f3rganos hematopoy\\u00e9ticos, y ciertos trastornos que afectan al mecanismo de la inmunidad\",\"082  XVI.Afecciones originadas en el periodo perinatal\",\"042-043  III.Enfermedades de la sangre y de los \\u00f3rganos hematopoy\\u00e9ticos, y ciertos trastornos que afectan al mecanismo de la inmunidad\",\"082  XVI.Afecciones originadas en el periodo perinatal\",\"042-043  III.Enfermedades de la sangre y de los \\u00f3rganos hematopoy\\u00e9ticos, y ciertos trastornos que afectan al mecanismo de la inmunidad\",\"082  XVI.Afecciones originadas en el periodo perinatal\",\"082  XVI.Afecciones originadas en el periodo perinatal\",\"082  XVI.Afecciones originadas en el periodo perinatal\",\"074-076  XIII.Enfermedades del sistema osteomuscular y del tejido conjuntivo\",\"074-076  XIII.Enfermedades del sistema osteomuscular y del tejido conjuntivo\",\"074-076  XIII.Enfermedades del sistema osteomuscular y del tejido conjuntivo\",\"074-076  XIII.Enfermedades del sistema osteomuscular y del tejido conjuntivo\",\"081  XV.Embarazo, parto y puerperio\",\"081  XV.Embarazo, parto y puerperio\",\"081  XV.Embarazo, parto y puerperio\",\"081  XV.Embarazo, parto y puerperio\",\"081  XV.Embarazo, parto y puerperio\",\"081  XV.Embarazo, parto y puerperio\",\"081  XV.Embarazo, parto y puerperio\",\"081  XV.Embarazo, parto y puerperio\",\"081  XV.Embarazo, parto y puerperio\",\"081  XV.Embarazo, parto y puerperio\",\"081  XV.Embarazo, parto y puerperio\",\"081  XV.Embarazo, parto y puerperio\",\"081  XV.Embarazo, parto y puerperio\",\"081  XV.Embarazo, parto y puerperio\",\"081  XV.Embarazo, parto y puerperio\",\"081  XV.Embarazo, parto y puerperio\",\"081  XV.Embarazo, parto y puerperio\",\"081  XV.Embarazo, parto y puerperio\",\"081  XV.Embarazo, parto y puerperio\",\"081  XV.Embarazo, parto y puerperio\",\"081  XV.Embarazo, parto y puerperio\",\"081  XV.Embarazo, parto y puerperio\",\"081  XV.Embarazo, parto y puerperio\",\"081  XV.Embarazo, parto y puerperio\",\"081  XV.Embarazo, parto y puerperio\",\"081  XV.Embarazo, parto y puerperio\",\"081  XV.Embarazo, parto y puerperio\",\"081  XV.Embarazo, parto y puerperio\",\"081  XV.Embarazo, parto y puerperio\",\"081  XV.Embarazo, parto y puerperio\",\"081  XV.Embarazo, parto y puerperio\",\"081  XV.Embarazo, parto y puerperio\",\"081  XV.Embarazo, parto y puerperio\",\"081  XV.Embarazo, parto y puerperio\",\"081  XV.Embarazo, parto y puerperio\",\"081  XV.Embarazo, parto y puerperio\",\"081  XV.Embarazo, parto y puerperio\",\"081  XV.Embarazo, parto y puerperio\",\"081  XV.Embarazo, parto y puerperio\"],\"xaxis\":\"x\",\"y\":[3153.309523809524,3137.4761904761904,3134.0,3123.7619047619046,3107.8809523809523,3106.6428571428573,3090.0714285714284,3084.8809523809523,3076.7619047619046,3068.404761904762,3063.6190476190477,3060.6666666666665,3057.9761904761904,3055.6666666666665,3040.2619047619046,3038.5,3037.7619047619046,3021.595238095238,3019.1428571428573,3006.714285714286,2997.309523809524,2995.1666666666665,2993.404761904762,2961.6428571428573,2957.0714285714284,2955.3809523809523,2952.0476190476193,2949.214285714286,2923.6428571428573,2915.8333333333335,2907.0714285714284,2877.595238095238,2875.2380952380954,2858.5,2851.8571428571427,2836.3809523809523,2817.309523809524,2797.2380952380954,2795.0714285714284,2696.809523809524,2689.0238095238096,2683.6666666666665,2651.9285714285716,2643.3571428571427,2642.690476190476,2625.6666666666665,2603.3571428571427,2552.8571428571427,2503.1428571428573,2477.4761904761904,2460.214285714286,2421.0238095238096,2392.5,2385.8571428571427,2376.809523809524,2328.190476190476,2326.5238095238096,2263.6190476190477,2251.5714285714284,2213.0,2178.9285714285716,2141.404761904762,2135.3809523809523,2098.5238095238096,2048.095238095238,1981.7857142857142,1942.0714285714287,1901.357142857143,1853.2142857142858,1818.3095238095239,1758.7619047619048,1685.2857142857142,1639.7380952380952,1586.0714285714287,1511.547619047619,1464.4761904761904,1421.7380952380952,1392.404761904762,1278.2619047619048,1234.4761904761904,1228.9285714285713,1127.047619047619,1121.1666666666667,1114.5714285714287,1076.047619047619,1052.3809523809523,1048.3095238095239,1043.8333333333333,1042.9285714285713,1030.5238095238096,1013.452380952381,1005.7857142857143,986.3571428571429,975.7857142857143,958.7142857142857,946.3571428571429,940.7142857142857,932.1190476190476,889.5714285714286,869.5,864.6190476190476,826.4047619047619,814.2619047619048,798.6904761904761,785.5714285714286,767.3809523809524,745.047619047619,739.2380952380952,725.3333333333334,702.6904761904761,700.5714285714286,699.952380952381,699.1904761904761,666.0714285714286,659.7380952380952,646.2857142857143,627.2619047619048,625.6904761904761,618.4761904761905,615.1190476190476,600.8571428571429,557.0,532.7619047619048,525.9285714285714,517.1904761904761,516.4047619047619,511.57142857142856,507.92857142857144,499.5238095238095,486.8333333333333,484.76190476190476,482.23809523809524,478.4761904761905,471.35714285714283,467.85714285714283,467.23809523809524,466.0952380952381,466.0952380952381,465.64285714285717,463.7142857142857,461.54761904761904,461.3809523809524,460.8809523809524,460.73809523809524,460.3095238095238,459.1666666666667,454.6904761904762,451.7142857142857,451.1190476190476,450.5238095238095,449.2142857142857,449.07142857142856,448.9047619047619,448.64285714285717,447.14285714285717,445.3809523809524,444.0952380952381,441.26190476190476,439.9047619047619,439.3333333333333,438.54761904761904,438.26190476190476,437.9047619047619,437.8095238095238,437.42857142857144,436.95238095238096,435.73809523809524,432.64285714285717,429.35714285714283,427.8809523809524,417.2857142857143,416.57142857142856,414.54761904761904,414.4047619047619,411.7142857142857,410.1666666666667,409.3809523809524,408.2142857142857,407.35714285714283,405.8095238095238,404.35714285714283,404.2142857142857,402.42857142857144,401.5,398.1666666666667,398.14285714285717,397.54761904761904,393.8333333333333,392.6904761904762,391.2142857142857,390.73809523809524,389.64285714285717,388.6904761904762,388.6666666666667,386.3095238095238,384.26190476190476,382.9761904761905,380.92857142857144,379.3095238095238,378.95238095238096,377.4761904761905,377.1666666666667,377.07142857142856,376.5238095238095,376.26190476190476,375.9761904761905,375.42857142857144,374.3095238095238,373.73809523809524,373.04761904761904,373.0238095238095,370.54761904761904,368.1904761904762,364.0238095238095,363.9761904761905,363.7142857142857,359.0238095238095,354.8333333333333,352.8809523809524,352.6904761904762,349.54761904761904,349.4761904761905,345.14285714285717,344.1904761904762,338.8809523809524,336.26190476190476,334.9047619047619,334.8809523809524,333.42857142857144,331.92857142857144,320.5952380952381,316.57142857142856,314.0,311.23809523809524,310.4761904761905,309.8333333333333,305.3333333333333,304.5,302.3809523809524,299.95238095238096,298.54761904761904,297.9047619047619,296.7142857142857,295.73809523809524,293.73809523809524,293.0952380952381,291.35714285714283,290.6190476190476,289.8333333333333,289.73809523809524,289.2142857142857,288.4761904761905,288.26190476190476,286.6190476190476,283.76190476190476,282.8095238095238,281.8809523809524,280.85714285714283,278.3095238095238,278.14285714285717,278.0238095238095,276.0238095238095,274.5238095238095,274.35714285714283,274.2857142857143,273.7857142857143,271.0,270.6190476190476,270.42857142857144,270.14285714285717,267.2142857142857,266.9047619047619,265.45238095238096,264.73809523809524,263.95238095238096,262.1666666666667,262.1666666666667,261.1666666666667,259.3333333333333,258.3333333333333,257.0238095238095,256.4761904761905,254.97619047619048,252.66666666666666,252.1904761904762,251.88095238095238,251.0952380952381,250.5952380952381,250.11904761904762,249.83333333333334,249.42857142857142,249.1904761904762,247.64285714285714,247.33333333333334,245.97619047619048,245.54761904761904,245.3095238095238,243.57142857142858,242.14285714285714,242.11904761904762,241.38095238095238,240.8095238095238,240.47619047619048,240.1904761904762,238.97619047619048,238.5,235.6904761904762,234.92857142857142,234.76190476190476,231.88095238095238,229.45238095238096,227.78571428571428,227.38095238095238,226.92857142857142,226.28571428571428,223.92857142857142,223.64285714285714,222.57142857142858,222.21428571428572,221.3095238095238,217.28571428571428,216.71428571428572,215.47619047619048,215.23809523809524,213.9047619047619,213.02380952380952,203.1904761904762,201.97619047619048,201.88095238095238,200.85714285714286,199.61904761904762,199.02380952380952,197.0952380952381,196.78571428571428,195.26190476190476,194.73809523809524,193.5952380952381,193.38095238095238,191.26190476190476,188.73809523809524,188.52380952380952,186.83333333333334,185.45238095238096,185.28571428571428,183.64285714285714,183.61904761904762,180.16666666666666,178.42857142857142,178.4047619047619,178.26190476190476,175.16666666666666,173.85714285714286,172.9047619047619,171.85714285714286,171.5,171.45238095238096,171.26190476190476,169.85714285714286,169.0952380952381,168.47619047619048,167.5,167.45238095238096,167.3095238095238,167.28571428571428,164.66666666666666,164.45238095238096,162.92857142857142,162.35714285714286,161.95238095238096,160.38095238095238,158.5952380952381,158.14285714285714,157.88095238095238,157.33333333333334,157.04761904761904,156.11904761904762,155.47619047619048,155.23809523809524,154.95238095238096,154.5,154.1904761904762,152.33333333333334,152.33333333333334,151.26190476190476,149.61904761904762,149.28571428571428,147.83333333333334,141.26190476190476,139.92857142857142,139.42857142857142,132.42857142857142,131.8095238095238,129.5952380952381,128.61904761904762,128.28571428571428,127.30952380952381,123.92857142857143,121.07142857142857,120.71428571428571,119.69047619047619,117.21428571428571,110.66666666666667,104.85714285714286,103.0,101.33333333333333,100.35714285714286,100.23809523809524,98.76190476190476,93.85714285714286,92.14285714285714,90.02380952380952,89.66666666666667,88.52380952380952,87.5952380952381,85.61904761904762,84.71428571428571,84.42857142857143,83.9047619047619,83.26190476190476,83.21428571428571,82.4047619047619,82.04761904761905,81.04761904761905,81.0,80.64285714285714,80.57142857142857,80.5,80.28571428571429,80.07142857142857,80.07142857142857,80.02380952380952,79.80952380952381,79.42857142857143,79.21428571428571,77.97619047619048,77.30952380952381,76.95238095238095,76.73809523809524,76.38095238095238,75.95238095238095,75.19047619047619,74.5952380952381,74.16666666666667,72.23809523809524,72.14285714285714,70.78571428571429,70.33333333333333,69.71428571428571,68.88095238095238,68.88095238095238,67.78571428571429,66.66666666666667,65.78571428571429,65.57142857142857,65.07142857142857,64.54761904761905,60.476190476190474,59.142857142857146,58.904761904761905,58.357142857142854,55.54761904761905,55.07142857142857,51.45238095238095,49.57142857142857,48.714285714285715,48.285714285714285,48.23809523809524,46.976190476190474,46.333333333333336,45.80952380952381,44.904761904761905,42.476190476190474,41.714285714285715,40.404761904761905,39.333333333333336,39.023809523809526,38.61904761904762,38.42857142857143,38.26190476190476,37.54761904761905,37.023809523809526,36.38095238095238,36.26190476190476,36.166666666666664,36.023809523809526,35.38095238095238,34.95238095238095,34.666666666666664,34.07142857142857,33.904761904761905,33.0,32.904761904761905,32.904761904761905,32.45238095238095,32.214285714285715,31.952380952380953,31.928571428571427,31.333333333333332,31.095238095238095,30.88095238095238,30.738095238095237,30.69047619047619,30.238095238095237,30.047619047619047,30.047619047619047,30.047619047619047,29.904761904761905,29.88095238095238,29.69047619047619,29.61904761904762,29.214285714285715,28.976190476190474,28.952380952380953,28.80952380952381,28.357142857142858,28.357142857142858,27.976190476190474,27.571428571428573,27.19047619047619,27.047619047619047,26.928571428571427,26.761904761904763,26.61904761904762,26.476190476190474,25.547619047619047,25.5,24.5,23.857142857142858,23.857142857142858,23.5,23.452380952380953,23.11904761904762,23.071428571428573,23.047619047619047,22.904761904761905,22.738095238095237,22.738095238095237,22.642857142857142,22.476190476190474,22.428571428571427,22.238095238095237,22.023809523809526,22.0,21.904761904761905,21.785714285714285,21.69047619047619,21.428571428571427,21.428571428571427,21.285714285714285,21.19047619047619,21.166666666666668,21.11904761904762,20.976190476190474,20.69047619047619,20.666666666666668,20.452380952380953,20.214285714285715,20.142857142857142,20.071428571428573,19.833333333333332,19.785714285714285,19.738095238095237,19.714285714285715,19.595238095238095,19.38095238095238,19.11904761904762,19.095238095238095,19.095238095238095,18.761904761904763,18.547619047619047,18.523809523809526,18.047619047619047,17.61904761904762,17.404761904761905,16.976190476190474,16.928571428571427,16.047619047619047,15.69047619047619,15.166666666666666,15.0,14.976190476190476,14.547619047619047,13.976190476190476,12.80952380952381,11.714285714285714,1.5,1.2857142857142858,1.2142857142857142,0.8809523809523809,0.5714285714285714,0.5714285714285714,0.5714285714285714,0.5238095238095238,0.5,0.5,0.5,0.47619047619047616,0.47619047619047616,0.47619047619047616,0.4523809523809524,0.42857142857142855,0.42857142857142855,0.40476190476190477,0.40476190476190477,0.35714285714285715,0.35714285714285715,0.35714285714285715,0.3333333333333333,0.3333333333333333,0.3333333333333333,0.3333333333333333,0.30952380952380953,0.30952380952380953,0.30952380952380953,0.30952380952380953,0.2857142857142857,0.2857142857142857,0.2619047619047619,0.2619047619047619,0.23809523809523808,0.23809523809523808,0.21428571428571427,0.19047619047619047,0.16666666666666666],\"yaxis\":\"y\",\"type\":\"scatter\"}],                        {\"template\":{\"data\":{\"histogram2dcontour\":[{\"type\":\"histogram2dcontour\",\"colorbar\":{\"outlinewidth\":0,\"ticks\":\"\"},\"colorscale\":[[0.0,\"#0d0887\"],[0.1111111111111111,\"#46039f\"],[0.2222222222222222,\"#7201a8\"],[0.3333333333333333,\"#9c179e\"],[0.4444444444444444,\"#bd3786\"],[0.5555555555555556,\"#d8576b\"],[0.6666666666666666,\"#ed7953\"],[0.7777777777777778,\"#fb9f3a\"],[0.8888888888888888,\"#fdca26\"],[1.0,\"#f0f921\"]]}],\"choropleth\":[{\"type\":\"choropleth\",\"colorbar\":{\"outlinewidth\":0,\"ticks\":\"\"}}],\"histogram2d\":[{\"type\":\"histogram2d\",\"colorbar\":{\"outlinewidth\":0,\"ticks\":\"\"},\"colorscale\":[[0.0,\"#0d0887\"],[0.1111111111111111,\"#46039f\"],[0.2222222222222222,\"#7201a8\"],[0.3333333333333333,\"#9c179e\"],[0.4444444444444444,\"#bd3786\"],[0.5555555555555556,\"#d8576b\"],[0.6666666666666666,\"#ed7953\"],[0.7777777777777778,\"#fb9f3a\"],[0.8888888888888888,\"#fdca26\"],[1.0,\"#f0f921\"]]}],\"heatmap\":[{\"type\":\"heatmap\",\"colorbar\":{\"outlinewidth\":0,\"ticks\":\"\"},\"colorscale\":[[0.0,\"#0d0887\"],[0.1111111111111111,\"#46039f\"],[0.2222222222222222,\"#7201a8\"],[0.3333333333333333,\"#9c179e\"],[0.4444444444444444,\"#bd3786\"],[0.5555555555555556,\"#d8576b\"],[0.6666666666666666,\"#ed7953\"],[0.7777777777777778,\"#fb9f3a\"],[0.8888888888888888,\"#fdca26\"],[1.0,\"#f0f921\"]]}],\"heatmapgl\":[{\"type\":\"heatmapgl\",\"colorbar\":{\"outlinewidth\":0,\"ticks\":\"\"},\"colorscale\":[[0.0,\"#0d0887\"],[0.1111111111111111,\"#46039f\"],[0.2222222222222222,\"#7201a8\"],[0.3333333333333333,\"#9c179e\"],[0.4444444444444444,\"#bd3786\"],[0.5555555555555556,\"#d8576b\"],[0.6666666666666666,\"#ed7953\"],[0.7777777777777778,\"#fb9f3a\"],[0.8888888888888888,\"#fdca26\"],[1.0,\"#f0f921\"]]}],\"contourcarpet\":[{\"type\":\"contourcarpet\",\"colorbar\":{\"outlinewidth\":0,\"ticks\":\"\"}}],\"contour\":[{\"type\":\"contour\",\"colorbar\":{\"outlinewidth\":0,\"ticks\":\"\"},\"colorscale\":[[0.0,\"#0d0887\"],[0.1111111111111111,\"#46039f\"],[0.2222222222222222,\"#7201a8\"],[0.3333333333333333,\"#9c179e\"],[0.4444444444444444,\"#bd3786\"],[0.5555555555555556,\"#d8576b\"],[0.6666666666666666,\"#ed7953\"],[0.7777777777777778,\"#fb9f3a\"],[0.8888888888888888,\"#fdca26\"],[1.0,\"#f0f921\"]]}],\"surface\":[{\"type\":\"surface\",\"colorbar\":{\"outlinewidth\":0,\"ticks\":\"\"},\"colorscale\":[[0.0,\"#0d0887\"],[0.1111111111111111,\"#46039f\"],[0.2222222222222222,\"#7201a8\"],[0.3333333333333333,\"#9c179e\"],[0.4444444444444444,\"#bd3786\"],[0.5555555555555556,\"#d8576b\"],[0.6666666666666666,\"#ed7953\"],[0.7777777777777778,\"#fb9f3a\"],[0.8888888888888888,\"#fdca26\"],[1.0,\"#f0f921\"]]}],\"mesh3d\":[{\"type\":\"mesh3d\",\"colorbar\":{\"outlinewidth\":0,\"ticks\":\"\"}}],\"scatter\":[{\"fillpattern\":{\"fillmode\":\"overlay\",\"size\":10,\"solidity\":0.2},\"type\":\"scatter\"}],\"parcoords\":[{\"type\":\"parcoords\",\"line\":{\"colorbar\":{\"outlinewidth\":0,\"ticks\":\"\"}}}],\"scatterpolargl\":[{\"type\":\"scatterpolargl\",\"marker\":{\"colorbar\":{\"outlinewidth\":0,\"ticks\":\"\"}}}],\"bar\":[{\"error_x\":{\"color\":\"#2a3f5f\"},\"error_y\":{\"color\":\"#2a3f5f\"},\"marker\":{\"line\":{\"color\":\"#E5ECF6\",\"width\":0.5},\"pattern\":{\"fillmode\":\"overlay\",\"size\":10,\"solidity\":0.2}},\"type\":\"bar\"}],\"scattergeo\":[{\"type\":\"scattergeo\",\"marker\":{\"colorbar\":{\"outlinewidth\":0,\"ticks\":\"\"}}}],\"scatterpolar\":[{\"type\":\"scatterpolar\",\"marker\":{\"colorbar\":{\"outlinewidth\":0,\"ticks\":\"\"}}}],\"histogram\":[{\"marker\":{\"pattern\":{\"fillmode\":\"overlay\",\"size\":10,\"solidity\":0.2}},\"type\":\"histogram\"}],\"scattergl\":[{\"type\":\"scattergl\",\"marker\":{\"colorbar\":{\"outlinewidth\":0,\"ticks\":\"\"}}}],\"scatter3d\":[{\"type\":\"scatter3d\",\"line\":{\"colorbar\":{\"outlinewidth\":0,\"ticks\":\"\"}},\"marker\":{\"colorbar\":{\"outlinewidth\":0,\"ticks\":\"\"}}}],\"scattermapbox\":[{\"type\":\"scattermapbox\",\"marker\":{\"colorbar\":{\"outlinewidth\":0,\"ticks\":\"\"}}}],\"scatterternary\":[{\"type\":\"scatterternary\",\"marker\":{\"colorbar\":{\"outlinewidth\":0,\"ticks\":\"\"}}}],\"scattercarpet\":[{\"type\":\"scattercarpet\",\"marker\":{\"colorbar\":{\"outlinewidth\":0,\"ticks\":\"\"}}}],\"carpet\":[{\"aaxis\":{\"endlinecolor\":\"#2a3f5f\",\"gridcolor\":\"white\",\"linecolor\":\"white\",\"minorgridcolor\":\"white\",\"startlinecolor\":\"#2a3f5f\"},\"baxis\":{\"endlinecolor\":\"#2a3f5f\",\"gridcolor\":\"white\",\"linecolor\":\"white\",\"minorgridcolor\":\"white\",\"startlinecolor\":\"#2a3f5f\"},\"type\":\"carpet\"}],\"table\":[{\"cells\":{\"fill\":{\"color\":\"#EBF0F8\"},\"line\":{\"color\":\"white\"}},\"header\":{\"fill\":{\"color\":\"#C8D4E3\"},\"line\":{\"color\":\"white\"}},\"type\":\"table\"}],\"barpolar\":[{\"marker\":{\"line\":{\"color\":\"#E5ECF6\",\"width\":0.5},\"pattern\":{\"fillmode\":\"overlay\",\"size\":10,\"solidity\":0.2}},\"type\":\"barpolar\"}],\"pie\":[{\"automargin\":true,\"type\":\"pie\"}]},\"layout\":{\"autotypenumbers\":\"strict\",\"colorway\":[\"#636efa\",\"#EF553B\",\"#00cc96\",\"#ab63fa\",\"#FFA15A\",\"#19d3f3\",\"#FF6692\",\"#B6E880\",\"#FF97FF\",\"#FECB52\"],\"font\":{\"color\":\"#2a3f5f\"},\"hovermode\":\"closest\",\"hoverlabel\":{\"align\":\"left\"},\"paper_bgcolor\":\"white\",\"plot_bgcolor\":\"#E5ECF6\",\"polar\":{\"bgcolor\":\"#E5ECF6\",\"angularaxis\":{\"gridcolor\":\"white\",\"linecolor\":\"white\",\"ticks\":\"\"},\"radialaxis\":{\"gridcolor\":\"white\",\"linecolor\":\"white\",\"ticks\":\"\"}},\"ternary\":{\"bgcolor\":\"#E5ECF6\",\"aaxis\":{\"gridcolor\":\"white\",\"linecolor\":\"white\",\"ticks\":\"\"},\"baxis\":{\"gridcolor\":\"white\",\"linecolor\":\"white\",\"ticks\":\"\"},\"caxis\":{\"gridcolor\":\"white\",\"linecolor\":\"white\",\"ticks\":\"\"}},\"coloraxis\":{\"colorbar\":{\"outlinewidth\":0,\"ticks\":\"\"}},\"colorscale\":{\"sequential\":[[0.0,\"#0d0887\"],[0.1111111111111111,\"#46039f\"],[0.2222222222222222,\"#7201a8\"],[0.3333333333333333,\"#9c179e\"],[0.4444444444444444,\"#bd3786\"],[0.5555555555555556,\"#d8576b\"],[0.6666666666666666,\"#ed7953\"],[0.7777777777777778,\"#fb9f3a\"],[0.8888888888888888,\"#fdca26\"],[1.0,\"#f0f921\"]],\"sequentialminus\":[[0.0,\"#0d0887\"],[0.1111111111111111,\"#46039f\"],[0.2222222222222222,\"#7201a8\"],[0.3333333333333333,\"#9c179e\"],[0.4444444444444444,\"#bd3786\"],[0.5555555555555556,\"#d8576b\"],[0.6666666666666666,\"#ed7953\"],[0.7777777777777778,\"#fb9f3a\"],[0.8888888888888888,\"#fdca26\"],[1.0,\"#f0f921\"]],\"diverging\":[[0,\"#8e0152\"],[0.1,\"#c51b7d\"],[0.2,\"#de77ae\"],[0.3,\"#f1b6da\"],[0.4,\"#fde0ef\"],[0.5,\"#f7f7f7\"],[0.6,\"#e6f5d0\"],[0.7,\"#b8e186\"],[0.8,\"#7fbc41\"],[0.9,\"#4d9221\"],[1,\"#276419\"]]},\"xaxis\":{\"gridcolor\":\"white\",\"linecolor\":\"white\",\"ticks\":\"\",\"title\":{\"standoff\":15},\"zerolinecolor\":\"white\",\"automargin\":true,\"zerolinewidth\":2},\"yaxis\":{\"gridcolor\":\"white\",\"linecolor\":\"white\",\"ticks\":\"\",\"title\":{\"standoff\":15},\"zerolinecolor\":\"white\",\"automargin\":true,\"zerolinewidth\":2},\"scene\":{\"xaxis\":{\"backgroundcolor\":\"#E5ECF6\",\"gridcolor\":\"white\",\"linecolor\":\"white\",\"showbackground\":true,\"ticks\":\"\",\"zerolinecolor\":\"white\",\"gridwidth\":2},\"yaxis\":{\"backgroundcolor\":\"#E5ECF6\",\"gridcolor\":\"white\",\"linecolor\":\"white\",\"showbackground\":true,\"ticks\":\"\",\"zerolinecolor\":\"white\",\"gridwidth\":2},\"zaxis\":{\"backgroundcolor\":\"#E5ECF6\",\"gridcolor\":\"white\",\"linecolor\":\"white\",\"showbackground\":true,\"ticks\":\"\",\"zerolinecolor\":\"white\",\"gridwidth\":2}},\"shapedefaults\":{\"line\":{\"color\":\"#2a3f5f\"}},\"annotationdefaults\":{\"arrowcolor\":\"#2a3f5f\",\"arrowhead\":0,\"arrowwidth\":1},\"geo\":{\"bgcolor\":\"white\",\"landcolor\":\"#E5ECF6\",\"subunitcolor\":\"white\",\"showland\":true,\"showlakes\":true,\"lakecolor\":\"white\"},\"title\":{\"x\":0.05},\"mapbox\":{\"style\":\"light\"}}},\"xaxis\":{\"anchor\":\"y\",\"domain\":[0.0,1.0],\"title\":{\"text\":\"Causas de muerte\"}},\"yaxis\":{\"anchor\":\"x\",\"domain\":[0.0,1.0],\"title\":{\"text\":\"Media de muertes\"}},\"coloraxis\":{\"colorbar\":{\"title\":{\"text\":\"Periodo\"}},\"colorscale\":[[0.0,\"#0d0887\"],[0.1111111111111111,\"#46039f\"],[0.2222222222222222,\"#7201a8\"],[0.3333333333333333,\"#9c179e\"],[0.4444444444444444,\"#bd3786\"],[0.5555555555555556,\"#d8576b\"],[0.6666666666666666,\"#ed7953\"],[0.7777777777777778,\"#fb9f3a\"],[0.8888888888888888,\"#fdca26\"],[1.0,\"#f0f921\"]]},\"legend\":{\"tracegroupgap\":0,\"y\":3},\"margin\":{\"t\":60},\"height\":1000,\"width\":1300,\"autosize\":true,\"title\":{\"text\":\"MAYOR CAUSA DE MUERTE HIST\\u00d3RICA\"}},                        {\"responsive\": true}                    ).then(function(){\n",
       "                            \n",
       "var gd = document.getElementById('c36ea8c8-76ea-4e36-9944-fedbbcd66ceb');\n",
       "var x = new MutationObserver(function (mutations, observer) {{\n",
       "        var display = window.getComputedStyle(gd).display;\n",
       "        if (!display || display === 'none') {{\n",
       "            console.log([gd, 'removed!']);\n",
       "            Plotly.purge(gd);\n",
       "            observer.disconnect();\n",
       "        }}\n",
       "}});\n",
       "\n",
       "// Listen for the removal of the full notebook cells\n",
       "var notebookContainer = gd.closest('#notebook-container');\n",
       "if (notebookContainer) {{\n",
       "    x.observe(notebookContainer, {childList: true});\n",
       "}}\n",
       "\n",
       "// Listen for the clearing of the current output cell\n",
       "var outputEl = gd.closest('.output');\n",
       "if (outputEl) {{\n",
       "    x.observe(outputEl, {childList: true});\n",
       "}}\n",
       "\n",
       "                        })                };                });            </script>        </div>"
      ]
     },
     "metadata": {},
     "output_type": "display_data"
    }
   ],
   "source": [
    "## 4.MAYOR CAUSA DE MUERTE HISTÓRICA & 3.CAUSA MENOS PREOUCPANTE\n",
    "fig = px.scatter(mean_df, x = 'Causa de muerte', y = 'Total', color=\"Periodo\", width=1300, height=1000)\n",
    "fig.update_layout(autosize=True, legend=dict(y=3))\n",
    "fig.update_layout(title='MAYOR CAUSA DE MUERTE HISTÓRICA', xaxis_title='Causas de muerte', yaxis_title='Media de muertes')\n",
    "\n",
    "#fig.update_xaxes(range=[mean_df['Periodo'].min(), mean_df['Periodo'].max()])\n",
    "#fig.show(scale=0.8)\n",
    "#x_values = mean_df['Periodo'].unique()\n",
    "#fig.update_xaxes(tickvals=x_values)"
   ]
  },
  {
   "cell_type": "code",
   "execution_count": 58,
   "metadata": {},
   "outputs": [
    {
     "data": {
      "application/vnd.plotly.v1+json": {
       "config": {
        "plotlyServerURL": "https://plot.ly"
       },
       "data": [
        {
         "fillpattern": {
          "shape": ""
         },
         "hovertemplate": "Causa de muerte=053-061 IX.Enfermedades del sistema circulatorio<br>Periodo=%{x}<br>Total=%{y}<extra></extra>",
         "legendgroup": "053-061 IX.Enfermedades del sistema circulatorio",
         "line": {
          "color": "#636efa"
         },
         "marker": {
          "symbol": "circle"
         },
         "mode": "lines",
         "name": "053-061 IX.Enfermedades del sistema circulatorio",
         "orientation": "v",
         "showlegend": true,
         "stackgroup": "1",
         "type": "scatter",
         "x": [
          1991,
          1999,
          1998,
          1985,
          1983,
          1993,
          2003,
          1996,
          1990,
          1988,
          1989,
          1992,
          1995,
          1997,
          1994,
          1986,
          1981,
          2005,
          1984,
          1987,
          1980,
          2002,
          2000,
          2001,
          2015,
          2007,
          1982,
          2004,
          2008,
          2017,
          2012,
          2018,
          2006,
          2009,
          2016,
          2010,
          2011,
          2013,
          2014
         ],
         "xaxis": "x",
         "y": [
          3153.309523809524,
          3137.4761904761904,
          3134,
          3123.7619047619046,
          3107.8809523809523,
          3106.6428571428573,
          3090.0714285714284,
          3084.8809523809523,
          3076.7619047619046,
          3068.404761904762,
          3063.6190476190477,
          3060.6666666666665,
          3057.9761904761904,
          3055.6666666666665,
          3040.2619047619046,
          3038.5,
          3037.7619047619046,
          3021.595238095238,
          3019.1428571428573,
          3006.714285714286,
          2997.309523809524,
          2995.1666666666665,
          2993.404761904762,
          2961.6428571428573,
          2957.0714285714284,
          2955.3809523809523,
          2952.0476190476193,
          2949.214285714286,
          2923.6428571428573,
          2915.8333333333335,
          2907.0714285714284,
          2877.595238095238,
          2875.2380952380954,
          2858.5,
          2851.8571428571427,
          2836.3809523809523,
          2817.309523809524,
          2797.2380952380954,
          2795.0714285714284
         ],
         "yaxis": "y"
        },
        {
         "fillpattern": {
          "shape": ""
         },
         "hovertemplate": "Causa de muerte=009-041  II.Tumores<br>Periodo=%{x}<br>Total=%{y}<extra></extra>",
         "legendgroup": "009-041  II.Tumores",
         "line": {
          "color": "#EF553B"
         },
         "marker": {
          "symbol": "circle"
         },
         "mode": "lines",
         "name": "009-041  II.Tumores",
         "orientation": "v",
         "showlegend": true,
         "stackgroup": "1",
         "type": "scatter",
         "x": [
          2017,
          2016,
          2018,
          2015,
          2013,
          2012,
          2014,
          2011,
          2010,
          2009,
          2008,
          2007,
          2006,
          2004,
          2005,
          2003,
          2002,
          2001,
          2000,
          1999,
          1998,
          1997,
          1995,
          1996,
          1994,
          1993,
          1992,
          1991,
          1990,
          1989,
          1988,
          1987,
          1986,
          1985,
          1984,
          1983,
          1982,
          1981,
          1980
         ],
         "xaxis": "x",
         "y": [
          2696.809523809524,
          2689.0238095238096,
          2683.6666666666665,
          2651.9285714285716,
          2643.3571428571427,
          2642.690476190476,
          2625.6666666666665,
          2603.3571428571427,
          2552.8571428571427,
          2503.1428571428573,
          2477.4761904761904,
          2460.214285714286,
          2421.0238095238096,
          2392.5,
          2385.8571428571427,
          2376.809523809524,
          2328.190476190476,
          2326.5238095238096,
          2263.6190476190477,
          2251.5714285714284,
          2213,
          2178.9285714285716,
          2141.404761904762,
          2135.3809523809523,
          2098.5238095238096,
          2048.095238095238,
          1981.7857142857142,
          1942.0714285714287,
          1901.357142857143,
          1853.2142857142858,
          1818.3095238095239,
          1758.7619047619048,
          1685.2857142857142,
          1639.7380952380952,
          1586.0714285714287,
          1511.547619047619,
          1464.4761904761904,
          1421.7380952380952,
          1392.404761904762
         ],
         "yaxis": "y"
        },
        {
         "fillpattern": {
          "shape": ""
         },
         "hovertemplate": "Causa de muerte=062-067  X.Enfermedades del sistema respiratorio<br>Periodo=%{x}<br>Total=%{y}<extra></extra>",
         "legendgroup": "062-067  X.Enfermedades del sistema respiratorio",
         "line": {
          "color": "#00cc96"
         },
         "marker": {
          "symbol": "circle"
         },
         "mode": "lines",
         "name": "062-067  X.Enfermedades del sistema respiratorio",
         "orientation": "v",
         "showlegend": true,
         "stackgroup": "1",
         "type": "scatter",
         "x": [
          2018,
          2015,
          2017,
          2012,
          2005,
          2016,
          1999,
          2008,
          2007,
          2014,
          2003,
          2009,
          2013,
          2011,
          2002,
          2000,
          2010,
          1998,
          2006,
          2004,
          2001,
          1997,
          1996,
          1995,
          1990,
          1993,
          1991,
          1994,
          1992,
          1989,
          1985,
          1988,
          1983,
          1986,
          1981,
          1987,
          1980,
          1984,
          1982
         ],
         "xaxis": "x",
         "y": [
          1278.2619047619048,
          1234.4761904761904,
          1228.9285714285713,
          1127.047619047619,
          1121.1666666666667,
          1114.5714285714287,
          1076.047619047619,
          1052.3809523809523,
          1048.3095238095239,
          1043.8333333333333,
          1042.9285714285713,
          1030.5238095238096,
          1013.452380952381,
          1005.7857142857143,
          986.3571428571429,
          975.7857142857143,
          958.7142857142857,
          946.3571428571429,
          940.7142857142857,
          932.1190476190476,
          889.5714285714286,
          869.5,
          864.6190476190476,
          826.4047619047619,
          814.2619047619048,
          798.6904761904761,
          785.5714285714286,
          767.3809523809524,
          745.047619047619,
          739.2380952380952,
          725.3333333333334,
          702.6904761904761,
          700.5714285714286,
          699.952380952381,
          699.1904761904761,
          666.0714285714286,
          659.7380952380952,
          646.2857142857143,
          618.4761904761905
         ],
         "yaxis": "y"
        },
        {
         "fillpattern": {
          "shape": ""
         },
         "hovertemplate": "Causa de muerte=050-052  VI-VIII.Enfermedades del sistema nervioso y de los órganos de los sentidos<br>Periodo=%{x}<br>Total=%{y}<extra></extra>",
         "legendgroup": "050-052  VI-VIII.Enfermedades del sistema nervioso y de los órganos de los sentidos",
         "line": {
          "color": "#ab63fa"
         },
         "marker": {
          "symbol": "circle"
         },
         "mode": "lines",
         "name": "050-052  VI-VIII.Enfermedades del sistema nervioso y de los órganos de los sentidos",
         "orientation": "v",
         "showlegend": true,
         "stackgroup": "1",
         "type": "scatter",
         "x": [
          2017,
          2018,
          2015,
          2016,
          2014,
          2012,
          2013,
          2011,
          2010,
          2009,
          2008,
          2007,
          2006,
          2005,
          2003,
          2004,
          2002,
          2001,
          2000,
          1999,
          1998,
          1997,
          1996,
          1995,
          1994,
          1993,
          1991,
          1992,
          1990,
          1989,
          1988,
          1987,
          1986,
          1985,
          1980,
          1983,
          1982,
          1984,
          1981
         ],
         "xaxis": "x",
         "y": [
          627.2619047619048,
          625.6904761904761,
          615.1190476190476,
          600.8571428571429,
          557,
          525.9285714285714,
          511.57142857142856,
          482.23809523809524,
          459.1666666666667,
          447.14285714285717,
          416.57142857142856,
          398.1666666666667,
          374.3095238095238,
          373.73809523809524,
          352.6904761904762,
          336.26190476190476,
          297.9047619047619,
          278.0238095238095,
          249.42857142857142,
          245.3095238095238,
          188.73809523809524,
          167.3095238095238,
          157.88095238095238,
          149.28571428571428,
          141.26190476190476,
          128.28571428571428,
          119.69047619047619,
          117.21428571428571,
          110.66666666666667,
          103,
          100.23809523809524,
          92.14285714285714,
          83.9047619047619,
          82.04761904761905,
          81,
          80.5,
          77.30952380952381,
          76.73809523809524,
          74.5952380952381
         ],
         "yaxis": "y"
        },
        {
         "fillpattern": {
          "shape": ""
         },
         "hovertemplate": "Causa de muerte=046-049  V.Trastornos mentales y del comportamiento<br>Periodo=%{x}<br>Total=%{y}<extra></extra>",
         "legendgroup": "046-049  V.Trastornos mentales y del comportamiento",
         "line": {
          "color": "#FFA15A"
         },
         "marker": {
          "symbol": "circle"
         },
         "mode": "lines",
         "name": "046-049  V.Trastornos mentales y del comportamiento",
         "orientation": "v",
         "showlegend": true,
         "stackgroup": "1",
         "type": "scatter",
         "x": [
          2018,
          2017,
          2015,
          2016,
          2014,
          2012,
          2013,
          2011,
          2010,
          2009,
          2003,
          2008,
          2005,
          2007,
          2006,
          2004,
          1998,
          2002,
          1999,
          2001,
          2000,
          1997,
          1996,
          1995,
          1994,
          1993,
          1992,
          1991,
          1990,
          1989,
          1988,
          1987,
          1986,
          1985,
          1984,
          1983,
          1981,
          1982,
          1980
         ],
         "xaxis": "x",
         "y": [
          532.7619047619048,
          517.1904761904761,
          507.92857142857144,
          499.5238095238095,
          445.3809523809524,
          408.2142857142857,
          404.2142857142857,
          363.7142857142857,
          352.8809523809524,
          344.1904761904762,
          311.23809523809524,
          310.4761904761905,
          298.54761904761904,
          293.0952380952381,
          288.26190476190476,
          282.8095238095238,
          280.85714285714283,
          278.14285714285717,
          274.2857142857143,
          270.14285714285717,
          265.45238095238096,
          257.0238095238095,
          243.57142857142858,
          223.64285714285714,
          201.88095238095238,
          178.42857142857142,
          161.95238095238096,
          154.1904761904762,
          129.5952380952381,
          104.85714285714286,
          83.21428571428571,
          72.23809523809524,
          58.904761904761905,
          49.57142857142857,
          40.404761904761905,
          35.38095238095238,
          23.452380952380953,
          23.047619047619047,
          21.428571428571427
         ],
         "yaxis": "y"
        },
        {
         "fillpattern": {
          "shape": ""
         },
         "hovertemplate": "Causa de muerte=068-072  XI.Enfermedades del sistema digestivo<br>Periodo=%{x}<br>Total=%{y}<extra></extra>",
         "legendgroup": "068-072  XI.Enfermedades del sistema digestivo",
         "line": {
          "color": "#19d3f3"
         },
         "marker": {
          "symbol": "circle"
         },
         "mode": "lines",
         "name": "068-072  XI.Enfermedades del sistema digestivo",
         "orientation": "v",
         "showlegend": true,
         "stackgroup": "1",
         "type": "scatter",
         "x": [
          2018,
          2017,
          2015,
          2016,
          2012,
          2007,
          2005,
          2011,
          2003,
          2009,
          2008,
          2014,
          2013,
          2004,
          2006,
          2010,
          1999,
          2002,
          1998,
          1996,
          1990,
          1991,
          1989,
          1997,
          1992,
          2000,
          2001,
          1994,
          1993,
          1988,
          1995,
          1987,
          1986,
          1985,
          1984,
          1980,
          1983,
          1982,
          1981
         ],
         "xaxis": "x",
         "y": [
          516.4047619047619,
          486.8333333333333,
          484.76190476190476,
          478.4761904761905,
          471.35714285714283,
          467.85714285714283,
          467.23809523809524,
          466.0952380952381,
          466.0952380952381,
          465.64285714285717,
          463.7142857142857,
          461.54761904761904,
          461.3809523809524,
          460.8809523809524,
          460.73809523809524,
          454.6904761904762,
          451.7142857142857,
          451.1190476190476,
          450.5238095238095,
          449.07142857142856,
          448.9047619047619,
          448.64285714285717,
          444.0952380952381,
          439.9047619047619,
          439.3333333333333,
          438.54761904761904,
          438.26190476190476,
          437.9047619047619,
          437.8095238095238,
          437.42857142857144,
          436.95238095238096,
          435.73809523809524,
          429.35714285714283,
          427.8809523809524,
          417.2857142857143,
          414.4047619047619,
          411.7142857142857,
          409.3809523809524,
          407.35714285714283
         ],
         "yaxis": "y"
        },
        {
         "fillpattern": {
          "shape": ""
         },
         "hovertemplate": "Causa de muerte=090-102  XX.Causas externas de mortalidad<br>Periodo=%{x}<br>Total=%{y}<extra></extra>",
         "legendgroup": "090-102  XX.Causas externas de mortalidad",
         "line": {
          "color": "#FF6692"
         },
         "marker": {
          "symbol": "circle"
         },
         "mode": "lines",
         "name": "090-102  XX.Causas externas de mortalidad",
         "orientation": "v",
         "showlegend": true,
         "stackgroup": "1",
         "type": "scatter",
         "x": [
          1989,
          1990,
          1991,
          1988,
          1987,
          1992,
          2004,
          2005,
          1998,
          2003,
          2000,
          1997,
          1993,
          1999,
          1986,
          1995,
          1996,
          1983,
          2006,
          1994,
          2001,
          2002,
          2007,
          2017,
          1984,
          2018,
          2016,
          1985,
          1980,
          2008,
          1981,
          2015,
          2014,
          1982,
          2013,
          2009,
          2011,
          2010,
          2012
         ],
         "xaxis": "x",
         "y": [
          460.3095238095238,
          449.2142857142857,
          441.26190476190476,
          432.64285714285717,
          414.54761904761904,
          410.1666666666667,
          405.8095238095238,
          402.42857142857144,
          401.5,
          397.54761904761904,
          393.8333333333333,
          392.6904761904762,
          391.2142857142857,
          390.73809523809524,
          389.64285714285717,
          388.6904761904762,
          388.6666666666667,
          386.3095238095238,
          384.26190476190476,
          382.9761904761905,
          380.92857142857144,
          379.3095238095238,
          378.95238095238096,
          377.07142857142856,
          376.26190476190476,
          375.42857142857144,
          373.04761904761904,
          373.0238095238095,
          368.1904761904762,
          364.0238095238095,
          363.9761904761905,
          359.0238095238095,
          354.8333333333333,
          349.54761904761904,
          349.4761904761905,
          345.14285714285717,
          338.8809523809524,
          334.9047619047619,
          333.42857142857144
         ],
         "yaxis": "y"
        },
        {
         "fillpattern": {
          "shape": ""
         },
         "hovertemplate": "Causa de muerte=086-089  XVIII.Síntomas, signos y hallazgos anormales clínicos y de laboratorio, no clasificados en otra parte<br>Periodo=%{x}<br>Total=%{y}<extra></extra>",
         "legendgroup": "086-089  XVIII.Síntomas, signos y hallazgos anormales clínicos y de laboratorio, no clasificados en otra parte",
         "line": {
          "color": "#B6E880"
         },
         "marker": {
          "symbol": "circle"
         },
         "mode": "lines",
         "name": "086-089  XVIII.Síntomas, signos y hallazgos anormales clínicos y de laboratorio, no clasificados en otra parte",
         "orientation": "v",
         "showlegend": true,
         "stackgroup": "1",
         "type": "scatter",
         "x": [
          1983,
          1985,
          1984,
          1981,
          1980,
          1982,
          1986,
          1988,
          1987,
          2008,
          1990,
          2007,
          1989,
          2009,
          2003,
          2005,
          2010,
          2011,
          2006,
          2004,
          1991,
          2002,
          2018,
          2012,
          2001,
          2000,
          1999,
          2015,
          2017,
          1992,
          1996,
          1993,
          2013,
          2014,
          1997,
          1995,
          1998,
          1994,
          2016
         ],
         "xaxis": "x",
         "y": [
          404.35714285714283,
          398.14285714285717,
          377.4761904761905,
          377.1666666666667,
          376.5238095238095,
          375.9761904761905,
          370.54761904761904,
          288.4761904761905,
          286.6190476190476,
          273.7857142857143,
          270.6190476190476,
          270.42857142857144,
          264.73809523809524,
          263.95238095238096,
          262.1666666666667,
          261.1666666666667,
          256.4761904761905,
          252.66666666666666,
          251.0952380952381,
          250.11904761904762,
          247.64285714285714,
          242.11904761904762,
          240.1904761904762,
          238.5,
          234.76190476190476,
          229.45238095238096,
          227.38095238095238,
          226.28571428571428,
          222.21428571428572,
          221.3095238095238,
          217.28571428571428,
          216.71428571428572,
          213.02380952380952,
          201.97619047619048,
          196.78571428571428,
          195.26190476190476,
          193.5952380952381,
          193.38095238095238,
          191.26190476190476
         ],
         "yaxis": "y"
        },
        {
         "fillpattern": {
          "shape": ""
         },
         "hovertemplate": "Causa de muerte=044-045  IV.Enfermedades endocrinas, nutricionales y metabólicas<br>Periodo=%{x}<br>Total=%{y}<extra></extra>",
         "legendgroup": "044-045  IV.Enfermedades endocrinas, nutricionales y metabólicas",
         "line": {
          "color": "#FF97FF"
         },
         "marker": {
          "symbol": "circle"
         },
         "mode": "lines",
         "name": "044-045  IV.Enfermedades endocrinas, nutricionales y metabólicas",
         "orientation": "v",
         "showlegend": true,
         "stackgroup": "1",
         "type": "scatter",
         "x": [
          2015,
          2018,
          2017,
          2014,
          2012,
          2011,
          2016,
          2010,
          2009,
          2005,
          2008,
          2007,
          2013,
          2003,
          2004,
          2002,
          2006,
          1999,
          2001,
          1998,
          2000,
          1995,
          1996,
          1997,
          1991,
          1994,
          1990,
          1993,
          1989,
          1988,
          1992,
          1987,
          1986,
          1985,
          1984,
          1983,
          1982,
          1981,
          1980
         ],
         "xaxis": "x",
         "y": [
          334.8809523809524,
          320.5952380952381,
          316.57142857142856,
          309.8333333333333,
          305.3333333333333,
          304.5,
          302.3809523809524,
          299.95238095238096,
          296.7142857142857,
          295.73809523809524,
          293.73809523809524,
          291.35714285714283,
          290.6190476190476,
          289.2142857142857,
          283.76190476190476,
          276.0238095238095,
          274.35714285714283,
          271,
          267.2142857142857,
          266.9047619047619,
          259.3333333333333,
          254.97619047619048,
          252.1904761904762,
          250.5952380952381,
          249.1904761904762,
          247.33333333333334,
          245.97619047619048,
          245.54761904761904,
          240.47619047619048,
          238.97619047619048,
          235.6904761904762,
          234.92857142857142,
          231.88095238095238,
          226.92857142857142,
          222.57142857142858,
          213.9047619047619,
          199.61904761904762,
          194.73809523809524,
          186.83333333333334
         ],
         "yaxis": "y"
        },
        {
         "fillpattern": {
          "shape": ""
         },
         "hovertemplate": "Causa de muerte=077-080  XIV.Enfermedades del sistema genitourinario<br>Periodo=%{x}<br>Total=%{y}<extra></extra>",
         "legendgroup": "077-080  XIV.Enfermedades del sistema genitourinario",
         "line": {
          "color": "#FECB52"
         },
         "marker": {
          "symbol": "circle"
         },
         "mode": "lines",
         "name": "077-080  XIV.Enfermedades del sistema genitourinario",
         "orientation": "v",
         "showlegend": true,
         "stackgroup": "1",
         "type": "scatter",
         "x": [
          2018,
          2017,
          2016,
          2015,
          2012,
          2013,
          2014,
          2011,
          2009,
          2008,
          2010,
          2007,
          2005,
          2006,
          2003,
          2004,
          2002,
          2001,
          2000,
          1998,
          1999,
          1997,
          1990,
          1989,
          1992,
          1988,
          1996,
          1991,
          1993,
          1994,
          1995,
          1987,
          1985,
          1986,
          1984,
          1983,
          1981,
          1980,
          1982
         ],
         "xaxis": "x",
         "y": [
          331.92857142857144,
          314,
          289.8333333333333,
          289.73809523809524,
          281.8809523809524,
          278.3095238095238,
          274.5238095238095,
          262.1666666666667,
          258.3333333333333,
          251.88095238095238,
          249.83333333333334,
          242.14285714285714,
          227.78571428571428,
          223.92857142857142,
          215.23809523809524,
          203.1904761904762,
          199.02380952380952,
          197.0952380952381,
          188.52380952380952,
          185.45238095238096,
          183.64285714285714,
          175.16666666666666,
          171.5,
          171.26190476190476,
          169.85714285714286,
          169.0952380952381,
          168.47619047619048,
          167.5,
          167.28571428571428,
          164.66666666666666,
          164.45238095238096,
          158.5952380952381,
          158.14285714285714,
          157.04761904761904,
          139.42857142857142,
          132.42857142857142,
          131.8095238095238,
          128.61904761904762,
          127.30952380952381
         ],
         "yaxis": "y"
        },
        {
         "fillpattern": {
          "shape": ""
         },
         "hovertemplate": "Causa de muerte=001-008  I.Enfermedades infecciosas y parasitarias<br>Periodo=%{x}<br>Total=%{y}<extra></extra>",
         "legendgroup": "001-008  I.Enfermedades infecciosas y parasitarias",
         "line": {
          "color": "#636efa"
         },
         "marker": {
          "symbol": "circle"
         },
         "mode": "lines",
         "name": "001-008  I.Enfermedades infecciosas y parasitarias",
         "orientation": "v",
         "showlegend": true,
         "stackgroup": "1",
         "type": "scatter",
         "x": [
          1995,
          1996,
          1994,
          1993,
          2007,
          2008,
          2015,
          2005,
          1992,
          2003,
          1997,
          2004,
          2006,
          2016,
          2009,
          2017,
          2002,
          1991,
          2001,
          1999,
          2012,
          2014,
          2010,
          2011,
          2018,
          1998,
          2000,
          2013,
          1990,
          1989,
          1988,
          1980,
          1981,
          1987,
          1982,
          1986,
          1985,
          1983,
          1984
         ],
         "xaxis": "x",
         "y": [
          241.38095238095238,
          240.8095238095238,
          215.47619047619048,
          200.85714285714286,
          185.28571428571428,
          183.61904761904762,
          180.16666666666666,
          178.4047619047619,
          178.26190476190476,
          173.85714285714286,
          172.9047619047619,
          171.85714285714286,
          171.45238095238096,
          167.45238095238096,
          162.92857142857142,
          162.35714285714286,
          160.38095238095238,
          157.33333333333334,
          156.11904761904762,
          155.47619047619048,
          155.23809523809524,
          154.95238095238096,
          154.5,
          152.33333333333334,
          152.33333333333334,
          151.26190476190476,
          149.61904761904762,
          147.83333333333334,
          139.92857142857142,
          121.07142857142857,
          100.35714285714286,
          93.85714285714286,
          90.02380952380952,
          88.52380952380952,
          80.28571428571429,
          80.07142857142857,
          79.42857142857143,
          77.97619047619048,
          76.95238095238095
         ],
         "yaxis": "y"
        },
        {
         "fillpattern": {
          "shape": ""
         },
         "hovertemplate": "Causa de muerte=074-076  XIII.Enfermedades del sistema osteomuscular y del tejido conjuntivo<br>Periodo=%{x}<br>Total=%{y}<extra></extra>",
         "legendgroup": "074-076  XIII.Enfermedades del sistema osteomuscular y del tejido conjuntivo",
         "line": {
          "color": "#EF553B"
         },
         "marker": {
          "symbol": "circle"
         },
         "mode": "lines",
         "name": "074-076  XIII.Enfermedades del sistema osteomuscular y del tejido conjuntivo",
         "orientation": "v",
         "showlegend": true,
         "stackgroup": "1",
         "type": "scatter",
         "x": [
          2018,
          2017,
          2016,
          2015,
          2012,
          2014,
          2005,
          2003,
          2004,
          2002,
          2009,
          2008,
          2011,
          2007,
          2006,
          2013,
          2001,
          2010,
          1999,
          2000,
          1998,
          1991,
          1995,
          1997,
          1996,
          1992,
          1990,
          1994,
          1993,
          1989,
          1988,
          1987,
          1986,
          1985,
          1984,
          1980,
          1983,
          1982,
          1981
         ],
         "xaxis": "x",
         "y": [
          123.92857142857143,
          120.71428571428571,
          101.33333333333333,
          98.76190476190476,
          89.66666666666667,
          87.5952380952381,
          85.61904761904762,
          84.71428571428571,
          84.42857142857143,
          83.26190476190476,
          82.4047619047619,
          81.04761904761905,
          80.64285714285714,
          80.57142857142857,
          80.07142857142857,
          80.02380952380952,
          79.80952380952381,
          79.21428571428571,
          76.38095238095238,
          75.19047619047619,
          72.14285714285714,
          70.78571428571429,
          70.33333333333333,
          69.71428571428571,
          68.88095238095238,
          68.88095238095238,
          67.78571428571429,
          66.66666666666667,
          65.78571428571429,
          65.07142857142857,
          64.54761904761905,
          60.476190476190474,
          58.357142857142854,
          51.45238095238095,
          34.07142857142857,
          14.547619047619047,
          13.976190476190476,
          12.80952380952381,
          11.714285714285714
         ],
         "yaxis": "y"
        },
        {
         "fillpattern": {
          "shape": ""
         },
         "hovertemplate": "Causa de muerte=082  XVI.Afecciones originadas en el periodo perinatal<br>Periodo=%{x}<br>Total=%{y}<extra></extra>",
         "legendgroup": "082  XVI.Afecciones originadas en el periodo perinatal",
         "line": {
          "color": "#00cc96"
         },
         "marker": {
          "symbol": "circle"
         },
         "mode": "lines",
         "name": "082  XVI.Afecciones originadas en el periodo perinatal",
         "orientation": "v",
         "showlegend": true,
         "stackgroup": "1",
         "type": "scatter",
         "x": [
          1980,
          1981,
          1982,
          1983,
          1984,
          1985,
          1986,
          1987,
          1990,
          1989,
          1988,
          1992,
          1991,
          1993,
          2004,
          2007,
          2008,
          2005,
          1994,
          2002,
          2006,
          2009,
          2001,
          2003,
          1996,
          1995,
          2000,
          2011,
          2010,
          2012,
          1997,
          1999,
          1998,
          2014,
          2013,
          2015,
          2016,
          2018,
          2017
         ],
         "xaxis": "x",
         "y": [
          75.95238095238095,
          74.16666666666667,
          65.57142857142857,
          59.142857142857146,
          48.714285714285715,
          39.333333333333336,
          38.42857142857143,
          38.26190476190476,
          32.45238095238095,
          32.214285714285715,
          31.095238095238095,
          28.952380952380953,
          28.357142857142858,
          25.5,
          23.857142857142858,
          23.071428571428573,
          22.476190476190474,
          22.428571428571427,
          22.023809523809526,
          21.785714285714285,
          21.69047619047619,
          21.428571428571427,
          21.285714285714285,
          21.11904761904762,
          20.69047619047619,
          20.666666666666668,
          20.452380952380953,
          19.833333333333332,
          19.785714285714285,
          19.738095238095237,
          19.095238095238095,
          18.761904761904763,
          18.547619047619047,
          18.523809523809526,
          16.976190476190474,
          16.047619047619047,
          15.166666666666666,
          15,
          14.976190476190476
         ],
         "yaxis": "y"
        },
        {
         "fillpattern": {
          "shape": ""
         },
         "hovertemplate": "Causa de muerte=083-085  XVII.Malformaciones congénitas, deformidades y anomalías cromosómicas<br>Periodo=%{x}<br>Total=%{y}<extra></extra>",
         "legendgroup": "083-085  XVII.Malformaciones congénitas, deformidades y anomalías cromosómicas",
         "line": {
          "color": "#ab63fa"
         },
         "marker": {
          "symbol": "circle"
         },
         "mode": "lines",
         "name": "083-085  XVII.Malformaciones congénitas, deformidades y anomalías cromosómicas",
         "orientation": "v",
         "showlegend": true,
         "stackgroup": "1",
         "type": "scatter",
         "x": [
          1980,
          1981,
          1982,
          1983,
          1984,
          1985,
          1986,
          1987,
          1988,
          1992,
          1991,
          1993,
          1990,
          1989,
          1994,
          1996,
          1997,
          1995,
          1999,
          1998,
          2000,
          2003,
          2004,
          2002,
          2010,
          2005,
          2001,
          2006,
          2008,
          2011,
          2007,
          2009,
          2016,
          2018,
          2014,
          2012,
          2017,
          2015,
          2013
         ],
         "xaxis": "x",
         "y": [
          55.54761904761905,
          55.07142857142857,
          48.23809523809524,
          45.80952380952381,
          41.714285714285715,
          38.61904761904762,
          37.54761904761905,
          36.26190476190476,
          36.023809523809526,
          34.666666666666664,
          33.904761904761905,
          33,
          32.904761904761905,
          32.904761904761905,
          30.88095238095238,
          28.976190476190474,
          28.357142857142858,
          27.976190476190474,
          27.19047619047619,
          27.047619047619047,
          26.476190476190474,
          24.5,
          23.857142857142858,
          23.5,
          23.11904761904762,
          22.904761904761905,
          22.738095238095237,
          22.238095238095237,
          22,
          21.904761904761905,
          21.19047619047619,
          21.166666666666668,
          20.142857142857142,
          20.071428571428573,
          19.714285714285715,
          19.595238095238095,
          19.38095238095238,
          19.095238095238095,
          18.047619047619047
         ],
         "yaxis": "y"
        },
        {
         "fillpattern": {
          "shape": ""
         },
         "hovertemplate": "Causa de muerte=042-043  III.Enfermedades de la sangre y de los órganos hematopoyéticos, y ciertos trastornos que afectan al mecanismo de la inmunidad<br>Periodo=%{x}<br>Total=%{y}<extra></extra>",
         "legendgroup": "042-043  III.Enfermedades de la sangre y de los órganos hematopoyéticos, y ciertos trastornos que afectan al mecanismo de la inmunidad",
         "line": {
          "color": "#FFA15A"
         },
         "marker": {
          "symbol": "circle"
         },
         "mode": "lines",
         "name": "042-043  III.Enfermedades de la sangre y de los órganos hematopoyéticos, y ciertos trastornos que afectan al mecanismo de la inmunidad",
         "orientation": "v",
         "showlegend": true,
         "stackgroup": "1",
         "type": "scatter",
         "x": [
          2015,
          2017,
          2018,
          2016,
          2014,
          2013,
          2012,
          2011,
          2010,
          2009,
          2008,
          1998,
          2005,
          2004,
          2007,
          1994,
          1993,
          1997,
          1996,
          2002,
          1995,
          1991,
          2003,
          2006,
          2000,
          1992,
          1990,
          1999,
          2001,
          1989,
          1987,
          1988,
          1986,
          1985,
          1984,
          1983,
          1981,
          1980,
          1982
         ],
         "xaxis": "x",
         "y": [
          48.285714285714285,
          46.976190476190474,
          46.333333333333336,
          44.904761904761905,
          42.476190476190474,
          39.023809523809526,
          37.023809523809526,
          36.38095238095238,
          36.166666666666664,
          34.95238095238095,
          31.952380952380953,
          31.928571428571427,
          31.333333333333332,
          30.738095238095237,
          30.69047619047619,
          30.238095238095237,
          30.047619047619047,
          30.047619047619047,
          30.047619047619047,
          29.904761904761905,
          29.88095238095238,
          29.69047619047619,
          29.61904761904762,
          29.214285714285715,
          28.80952380952381,
          27.571428571428573,
          26.928571428571427,
          26.761904761904763,
          26.61904761904762,
          25.547619047619047,
          22.738095238095237,
          22.642857142857142,
          20.976190476190474,
          20.214285714285715,
          19.11904761904762,
          17.61904761904762,
          17.404761904761905,
          16.928571428571427,
          15.69047619047619
         ],
         "yaxis": "y"
        },
        {
         "fillpattern": {
          "shape": ""
         },
         "hovertemplate": "Causa de muerte=081  XV.Embarazo, parto y puerperio<br>Periodo=%{x}<br>Total=%{y}<extra></extra>",
         "legendgroup": "081  XV.Embarazo, parto y puerperio",
         "line": {
          "color": "#19d3f3"
         },
         "marker": {
          "symbol": "circle"
         },
         "mode": "lines",
         "name": "081  XV.Embarazo, parto y puerperio",
         "orientation": "v",
         "showlegend": true,
         "stackgroup": "1",
         "type": "scatter",
         "x": [
          1980,
          1982,
          1981,
          1983,
          1984,
          1986,
          2008,
          1990,
          2004,
          1987,
          1988,
          1985,
          2010,
          2003,
          1992,
          2013,
          2005,
          2009,
          2001,
          2015,
          1999,
          2016,
          2000,
          2002,
          2011,
          2006,
          2017,
          1994,
          1991,
          2007,
          1993,
          1989,
          1995,
          1996,
          1998,
          2012,
          2014,
          1997,
          2018
         ],
         "xaxis": "x",
         "y": [
          1.5,
          1.2857142857142858,
          1.2142857142857142,
          0.8809523809523809,
          0.5714285714285714,
          0.5714285714285714,
          0.5714285714285714,
          0.5238095238095238,
          0.5,
          0.5,
          0.5,
          0.47619047619047616,
          0.47619047619047616,
          0.47619047619047616,
          0.4523809523809524,
          0.42857142857142855,
          0.42857142857142855,
          0.40476190476190477,
          0.40476190476190477,
          0.35714285714285715,
          0.35714285714285715,
          0.35714285714285715,
          0.3333333333333333,
          0.3333333333333333,
          0.3333333333333333,
          0.3333333333333333,
          0.30952380952380953,
          0.30952380952380953,
          0.30952380952380953,
          0.30952380952380953,
          0.2857142857142857,
          0.2857142857142857,
          0.2619047619047619,
          0.2619047619047619,
          0.23809523809523808,
          0.23809523809523808,
          0.21428571428571427,
          0.19047619047619047,
          0.16666666666666666
         ],
         "yaxis": "y"
        }
       ],
       "layout": {
        "height": 1500,
        "legend": {
         "title": {
          "text": "Causa de muerte"
         },
         "tracegroupgap": 0,
         "x": 0,
         "xanchor": "left",
         "y": 1.2,
         "yanchor": "top"
        },
        "margin": {
         "t": 60
        },
        "template": {
         "data": {
          "bar": [
           {
            "error_x": {
             "color": "#2a3f5f"
            },
            "error_y": {
             "color": "#2a3f5f"
            },
            "marker": {
             "line": {
              "color": "#E5ECF6",
              "width": 0.5
             },
             "pattern": {
              "fillmode": "overlay",
              "size": 10,
              "solidity": 0.2
             }
            },
            "type": "bar"
           }
          ],
          "barpolar": [
           {
            "marker": {
             "line": {
              "color": "#E5ECF6",
              "width": 0.5
             },
             "pattern": {
              "fillmode": "overlay",
              "size": 10,
              "solidity": 0.2
             }
            },
            "type": "barpolar"
           }
          ],
          "carpet": [
           {
            "aaxis": {
             "endlinecolor": "#2a3f5f",
             "gridcolor": "white",
             "linecolor": "white",
             "minorgridcolor": "white",
             "startlinecolor": "#2a3f5f"
            },
            "baxis": {
             "endlinecolor": "#2a3f5f",
             "gridcolor": "white",
             "linecolor": "white",
             "minorgridcolor": "white",
             "startlinecolor": "#2a3f5f"
            },
            "type": "carpet"
           }
          ],
          "choropleth": [
           {
            "colorbar": {
             "outlinewidth": 0,
             "ticks": ""
            },
            "type": "choropleth"
           }
          ],
          "contour": [
           {
            "colorbar": {
             "outlinewidth": 0,
             "ticks": ""
            },
            "colorscale": [
             [
              0,
              "#0d0887"
             ],
             [
              0.1111111111111111,
              "#46039f"
             ],
             [
              0.2222222222222222,
              "#7201a8"
             ],
             [
              0.3333333333333333,
              "#9c179e"
             ],
             [
              0.4444444444444444,
              "#bd3786"
             ],
             [
              0.5555555555555556,
              "#d8576b"
             ],
             [
              0.6666666666666666,
              "#ed7953"
             ],
             [
              0.7777777777777778,
              "#fb9f3a"
             ],
             [
              0.8888888888888888,
              "#fdca26"
             ],
             [
              1,
              "#f0f921"
             ]
            ],
            "type": "contour"
           }
          ],
          "contourcarpet": [
           {
            "colorbar": {
             "outlinewidth": 0,
             "ticks": ""
            },
            "type": "contourcarpet"
           }
          ],
          "heatmap": [
           {
            "colorbar": {
             "outlinewidth": 0,
             "ticks": ""
            },
            "colorscale": [
             [
              0,
              "#0d0887"
             ],
             [
              0.1111111111111111,
              "#46039f"
             ],
             [
              0.2222222222222222,
              "#7201a8"
             ],
             [
              0.3333333333333333,
              "#9c179e"
             ],
             [
              0.4444444444444444,
              "#bd3786"
             ],
             [
              0.5555555555555556,
              "#d8576b"
             ],
             [
              0.6666666666666666,
              "#ed7953"
             ],
             [
              0.7777777777777778,
              "#fb9f3a"
             ],
             [
              0.8888888888888888,
              "#fdca26"
             ],
             [
              1,
              "#f0f921"
             ]
            ],
            "type": "heatmap"
           }
          ],
          "heatmapgl": [
           {
            "colorbar": {
             "outlinewidth": 0,
             "ticks": ""
            },
            "colorscale": [
             [
              0,
              "#0d0887"
             ],
             [
              0.1111111111111111,
              "#46039f"
             ],
             [
              0.2222222222222222,
              "#7201a8"
             ],
             [
              0.3333333333333333,
              "#9c179e"
             ],
             [
              0.4444444444444444,
              "#bd3786"
             ],
             [
              0.5555555555555556,
              "#d8576b"
             ],
             [
              0.6666666666666666,
              "#ed7953"
             ],
             [
              0.7777777777777778,
              "#fb9f3a"
             ],
             [
              0.8888888888888888,
              "#fdca26"
             ],
             [
              1,
              "#f0f921"
             ]
            ],
            "type": "heatmapgl"
           }
          ],
          "histogram": [
           {
            "marker": {
             "pattern": {
              "fillmode": "overlay",
              "size": 10,
              "solidity": 0.2
             }
            },
            "type": "histogram"
           }
          ],
          "histogram2d": [
           {
            "colorbar": {
             "outlinewidth": 0,
             "ticks": ""
            },
            "colorscale": [
             [
              0,
              "#0d0887"
             ],
             [
              0.1111111111111111,
              "#46039f"
             ],
             [
              0.2222222222222222,
              "#7201a8"
             ],
             [
              0.3333333333333333,
              "#9c179e"
             ],
             [
              0.4444444444444444,
              "#bd3786"
             ],
             [
              0.5555555555555556,
              "#d8576b"
             ],
             [
              0.6666666666666666,
              "#ed7953"
             ],
             [
              0.7777777777777778,
              "#fb9f3a"
             ],
             [
              0.8888888888888888,
              "#fdca26"
             ],
             [
              1,
              "#f0f921"
             ]
            ],
            "type": "histogram2d"
           }
          ],
          "histogram2dcontour": [
           {
            "colorbar": {
             "outlinewidth": 0,
             "ticks": ""
            },
            "colorscale": [
             [
              0,
              "#0d0887"
             ],
             [
              0.1111111111111111,
              "#46039f"
             ],
             [
              0.2222222222222222,
              "#7201a8"
             ],
             [
              0.3333333333333333,
              "#9c179e"
             ],
             [
              0.4444444444444444,
              "#bd3786"
             ],
             [
              0.5555555555555556,
              "#d8576b"
             ],
             [
              0.6666666666666666,
              "#ed7953"
             ],
             [
              0.7777777777777778,
              "#fb9f3a"
             ],
             [
              0.8888888888888888,
              "#fdca26"
             ],
             [
              1,
              "#f0f921"
             ]
            ],
            "type": "histogram2dcontour"
           }
          ],
          "mesh3d": [
           {
            "colorbar": {
             "outlinewidth": 0,
             "ticks": ""
            },
            "type": "mesh3d"
           }
          ],
          "parcoords": [
           {
            "line": {
             "colorbar": {
              "outlinewidth": 0,
              "ticks": ""
             }
            },
            "type": "parcoords"
           }
          ],
          "pie": [
           {
            "automargin": true,
            "type": "pie"
           }
          ],
          "scatter": [
           {
            "fillpattern": {
             "fillmode": "overlay",
             "size": 10,
             "solidity": 0.2
            },
            "type": "scatter"
           }
          ],
          "scatter3d": [
           {
            "line": {
             "colorbar": {
              "outlinewidth": 0,
              "ticks": ""
             }
            },
            "marker": {
             "colorbar": {
              "outlinewidth": 0,
              "ticks": ""
             }
            },
            "type": "scatter3d"
           }
          ],
          "scattercarpet": [
           {
            "marker": {
             "colorbar": {
              "outlinewidth": 0,
              "ticks": ""
             }
            },
            "type": "scattercarpet"
           }
          ],
          "scattergeo": [
           {
            "marker": {
             "colorbar": {
              "outlinewidth": 0,
              "ticks": ""
             }
            },
            "type": "scattergeo"
           }
          ],
          "scattergl": [
           {
            "marker": {
             "colorbar": {
              "outlinewidth": 0,
              "ticks": ""
             }
            },
            "type": "scattergl"
           }
          ],
          "scattermapbox": [
           {
            "marker": {
             "colorbar": {
              "outlinewidth": 0,
              "ticks": ""
             }
            },
            "type": "scattermapbox"
           }
          ],
          "scatterpolar": [
           {
            "marker": {
             "colorbar": {
              "outlinewidth": 0,
              "ticks": ""
             }
            },
            "type": "scatterpolar"
           }
          ],
          "scatterpolargl": [
           {
            "marker": {
             "colorbar": {
              "outlinewidth": 0,
              "ticks": ""
             }
            },
            "type": "scatterpolargl"
           }
          ],
          "scatterternary": [
           {
            "marker": {
             "colorbar": {
              "outlinewidth": 0,
              "ticks": ""
             }
            },
            "type": "scatterternary"
           }
          ],
          "surface": [
           {
            "colorbar": {
             "outlinewidth": 0,
             "ticks": ""
            },
            "colorscale": [
             [
              0,
              "#0d0887"
             ],
             [
              0.1111111111111111,
              "#46039f"
             ],
             [
              0.2222222222222222,
              "#7201a8"
             ],
             [
              0.3333333333333333,
              "#9c179e"
             ],
             [
              0.4444444444444444,
              "#bd3786"
             ],
             [
              0.5555555555555556,
              "#d8576b"
             ],
             [
              0.6666666666666666,
              "#ed7953"
             ],
             [
              0.7777777777777778,
              "#fb9f3a"
             ],
             [
              0.8888888888888888,
              "#fdca26"
             ],
             [
              1,
              "#f0f921"
             ]
            ],
            "type": "surface"
           }
          ],
          "table": [
           {
            "cells": {
             "fill": {
              "color": "#EBF0F8"
             },
             "line": {
              "color": "white"
             }
            },
            "header": {
             "fill": {
              "color": "#C8D4E3"
             },
             "line": {
              "color": "white"
             }
            },
            "type": "table"
           }
          ]
         },
         "layout": {
          "annotationdefaults": {
           "arrowcolor": "#2a3f5f",
           "arrowhead": 0,
           "arrowwidth": 1
          },
          "autotypenumbers": "strict",
          "coloraxis": {
           "colorbar": {
            "outlinewidth": 0,
            "ticks": ""
           }
          },
          "colorscale": {
           "diverging": [
            [
             0,
             "#8e0152"
            ],
            [
             0.1,
             "#c51b7d"
            ],
            [
             0.2,
             "#de77ae"
            ],
            [
             0.3,
             "#f1b6da"
            ],
            [
             0.4,
             "#fde0ef"
            ],
            [
             0.5,
             "#f7f7f7"
            ],
            [
             0.6,
             "#e6f5d0"
            ],
            [
             0.7,
             "#b8e186"
            ],
            [
             0.8,
             "#7fbc41"
            ],
            [
             0.9,
             "#4d9221"
            ],
            [
             1,
             "#276419"
            ]
           ],
           "sequential": [
            [
             0,
             "#0d0887"
            ],
            [
             0.1111111111111111,
             "#46039f"
            ],
            [
             0.2222222222222222,
             "#7201a8"
            ],
            [
             0.3333333333333333,
             "#9c179e"
            ],
            [
             0.4444444444444444,
             "#bd3786"
            ],
            [
             0.5555555555555556,
             "#d8576b"
            ],
            [
             0.6666666666666666,
             "#ed7953"
            ],
            [
             0.7777777777777778,
             "#fb9f3a"
            ],
            [
             0.8888888888888888,
             "#fdca26"
            ],
            [
             1,
             "#f0f921"
            ]
           ],
           "sequentialminus": [
            [
             0,
             "#0d0887"
            ],
            [
             0.1111111111111111,
             "#46039f"
            ],
            [
             0.2222222222222222,
             "#7201a8"
            ],
            [
             0.3333333333333333,
             "#9c179e"
            ],
            [
             0.4444444444444444,
             "#bd3786"
            ],
            [
             0.5555555555555556,
             "#d8576b"
            ],
            [
             0.6666666666666666,
             "#ed7953"
            ],
            [
             0.7777777777777778,
             "#fb9f3a"
            ],
            [
             0.8888888888888888,
             "#fdca26"
            ],
            [
             1,
             "#f0f921"
            ]
           ]
          },
          "colorway": [
           "#636efa",
           "#EF553B",
           "#00cc96",
           "#ab63fa",
           "#FFA15A",
           "#19d3f3",
           "#FF6692",
           "#B6E880",
           "#FF97FF",
           "#FECB52"
          ],
          "font": {
           "color": "#2a3f5f"
          },
          "geo": {
           "bgcolor": "white",
           "lakecolor": "white",
           "landcolor": "#E5ECF6",
           "showlakes": true,
           "showland": true,
           "subunitcolor": "white"
          },
          "hoverlabel": {
           "align": "left"
          },
          "hovermode": "closest",
          "mapbox": {
           "style": "light"
          },
          "paper_bgcolor": "white",
          "plot_bgcolor": "#E5ECF6",
          "polar": {
           "angularaxis": {
            "gridcolor": "white",
            "linecolor": "white",
            "ticks": ""
           },
           "bgcolor": "#E5ECF6",
           "radialaxis": {
            "gridcolor": "white",
            "linecolor": "white",
            "ticks": ""
           }
          },
          "scene": {
           "xaxis": {
            "backgroundcolor": "#E5ECF6",
            "gridcolor": "white",
            "gridwidth": 2,
            "linecolor": "white",
            "showbackground": true,
            "ticks": "",
            "zerolinecolor": "white"
           },
           "yaxis": {
            "backgroundcolor": "#E5ECF6",
            "gridcolor": "white",
            "gridwidth": 2,
            "linecolor": "white",
            "showbackground": true,
            "ticks": "",
            "zerolinecolor": "white"
           },
           "zaxis": {
            "backgroundcolor": "#E5ECF6",
            "gridcolor": "white",
            "gridwidth": 2,
            "linecolor": "white",
            "showbackground": true,
            "ticks": "",
            "zerolinecolor": "white"
           }
          },
          "shapedefaults": {
           "line": {
            "color": "#2a3f5f"
           }
          },
          "ternary": {
           "aaxis": {
            "gridcolor": "white",
            "linecolor": "white",
            "ticks": ""
           },
           "baxis": {
            "gridcolor": "white",
            "linecolor": "white",
            "ticks": ""
           },
           "bgcolor": "#E5ECF6",
           "caxis": {
            "gridcolor": "white",
            "linecolor": "white",
            "ticks": ""
           }
          },
          "title": {
           "x": 0.05
          },
          "xaxis": {
           "automargin": true,
           "gridcolor": "white",
           "linecolor": "white",
           "ticks": "",
           "title": {
            "standoff": 15
           },
           "zerolinecolor": "white",
           "zerolinewidth": 2
          },
          "yaxis": {
           "automargin": true,
           "gridcolor": "white",
           "linecolor": "white",
           "ticks": "",
           "title": {
            "standoff": 15
           },
           "zerolinecolor": "white",
           "zerolinewidth": 2
          }
         }
        },
        "title": {
         "text": "MAYOR CAUSA DE MUERTE HISTÓRICA",
         "x": 0.5,
         "y": 1
        },
        "width": 1000,
        "xaxis": {
         "anchor": "y",
         "domain": [
          0,
          1
         ],
         "title": {
          "text": "Periodo"
         }
        },
        "yaxis": {
         "anchor": "x",
         "domain": [
          0,
          1
         ],
         "title": {
          "text": "Media de muertes"
         }
        }
       }
      },
      "text/html": [
       "<div>                            <div id=\"34787ac6-f5f9-4370-be7a-63243e5a58d4\" class=\"plotly-graph-div\" style=\"height:1500px; width:1000px;\"></div>            <script type=\"text/javascript\">                require([\"plotly\"], function(Plotly) {                    window.PLOTLYENV=window.PLOTLYENV || {};                                    if (document.getElementById(\"34787ac6-f5f9-4370-be7a-63243e5a58d4\")) {                    Plotly.newPlot(                        \"34787ac6-f5f9-4370-be7a-63243e5a58d4\",                        [{\"fillpattern\":{\"shape\":\"\"},\"hovertemplate\":\"Causa de muerte=053-061 IX.Enfermedades del sistema circulatorio<br>Periodo=%{x}<br>Total=%{y}<extra></extra>\",\"legendgroup\":\"053-061 IX.Enfermedades del sistema circulatorio\",\"line\":{\"color\":\"#636efa\"},\"marker\":{\"symbol\":\"circle\"},\"mode\":\"lines\",\"name\":\"053-061 IX.Enfermedades del sistema circulatorio\",\"orientation\":\"v\",\"showlegend\":true,\"stackgroup\":\"1\",\"x\":[1991,1999,1998,1985,1983,1993,2003,1996,1990,1988,1989,1992,1995,1997,1994,1986,1981,2005,1984,1987,1980,2002,2000,2001,2015,2007,1982,2004,2008,2017,2012,2018,2006,2009,2016,2010,2011,2013,2014],\"xaxis\":\"x\",\"y\":[3153.309523809524,3137.4761904761904,3134.0,3123.7619047619046,3107.8809523809523,3106.6428571428573,3090.0714285714284,3084.8809523809523,3076.7619047619046,3068.404761904762,3063.6190476190477,3060.6666666666665,3057.9761904761904,3055.6666666666665,3040.2619047619046,3038.5,3037.7619047619046,3021.595238095238,3019.1428571428573,3006.714285714286,2997.309523809524,2995.1666666666665,2993.404761904762,2961.6428571428573,2957.0714285714284,2955.3809523809523,2952.0476190476193,2949.214285714286,2923.6428571428573,2915.8333333333335,2907.0714285714284,2877.595238095238,2875.2380952380954,2858.5,2851.8571428571427,2836.3809523809523,2817.309523809524,2797.2380952380954,2795.0714285714284],\"yaxis\":\"y\",\"type\":\"scatter\"},{\"fillpattern\":{\"shape\":\"\"},\"hovertemplate\":\"Causa de muerte=009-041  II.Tumores<br>Periodo=%{x}<br>Total=%{y}<extra></extra>\",\"legendgroup\":\"009-041  II.Tumores\",\"line\":{\"color\":\"#EF553B\"},\"marker\":{\"symbol\":\"circle\"},\"mode\":\"lines\",\"name\":\"009-041  II.Tumores\",\"orientation\":\"v\",\"showlegend\":true,\"stackgroup\":\"1\",\"x\":[2017,2016,2018,2015,2013,2012,2014,2011,2010,2009,2008,2007,2006,2004,2005,2003,2002,2001,2000,1999,1998,1997,1995,1996,1994,1993,1992,1991,1990,1989,1988,1987,1986,1985,1984,1983,1982,1981,1980],\"xaxis\":\"x\",\"y\":[2696.809523809524,2689.0238095238096,2683.6666666666665,2651.9285714285716,2643.3571428571427,2642.690476190476,2625.6666666666665,2603.3571428571427,2552.8571428571427,2503.1428571428573,2477.4761904761904,2460.214285714286,2421.0238095238096,2392.5,2385.8571428571427,2376.809523809524,2328.190476190476,2326.5238095238096,2263.6190476190477,2251.5714285714284,2213.0,2178.9285714285716,2141.404761904762,2135.3809523809523,2098.5238095238096,2048.095238095238,1981.7857142857142,1942.0714285714287,1901.357142857143,1853.2142857142858,1818.3095238095239,1758.7619047619048,1685.2857142857142,1639.7380952380952,1586.0714285714287,1511.547619047619,1464.4761904761904,1421.7380952380952,1392.404761904762],\"yaxis\":\"y\",\"type\":\"scatter\"},{\"fillpattern\":{\"shape\":\"\"},\"hovertemplate\":\"Causa de muerte=062-067  X.Enfermedades del sistema respiratorio<br>Periodo=%{x}<br>Total=%{y}<extra></extra>\",\"legendgroup\":\"062-067  X.Enfermedades del sistema respiratorio\",\"line\":{\"color\":\"#00cc96\"},\"marker\":{\"symbol\":\"circle\"},\"mode\":\"lines\",\"name\":\"062-067  X.Enfermedades del sistema respiratorio\",\"orientation\":\"v\",\"showlegend\":true,\"stackgroup\":\"1\",\"x\":[2018,2015,2017,2012,2005,2016,1999,2008,2007,2014,2003,2009,2013,2011,2002,2000,2010,1998,2006,2004,2001,1997,1996,1995,1990,1993,1991,1994,1992,1989,1985,1988,1983,1986,1981,1987,1980,1984,1982],\"xaxis\":\"x\",\"y\":[1278.2619047619048,1234.4761904761904,1228.9285714285713,1127.047619047619,1121.1666666666667,1114.5714285714287,1076.047619047619,1052.3809523809523,1048.3095238095239,1043.8333333333333,1042.9285714285713,1030.5238095238096,1013.452380952381,1005.7857142857143,986.3571428571429,975.7857142857143,958.7142857142857,946.3571428571429,940.7142857142857,932.1190476190476,889.5714285714286,869.5,864.6190476190476,826.4047619047619,814.2619047619048,798.6904761904761,785.5714285714286,767.3809523809524,745.047619047619,739.2380952380952,725.3333333333334,702.6904761904761,700.5714285714286,699.952380952381,699.1904761904761,666.0714285714286,659.7380952380952,646.2857142857143,618.4761904761905],\"yaxis\":\"y\",\"type\":\"scatter\"},{\"fillpattern\":{\"shape\":\"\"},\"hovertemplate\":\"Causa de muerte=050-052  VI-VIII.Enfermedades del sistema nervioso y de los \\u00f3rganos de los sentidos<br>Periodo=%{x}<br>Total=%{y}<extra></extra>\",\"legendgroup\":\"050-052  VI-VIII.Enfermedades del sistema nervioso y de los \\u00f3rganos de los sentidos\",\"line\":{\"color\":\"#ab63fa\"},\"marker\":{\"symbol\":\"circle\"},\"mode\":\"lines\",\"name\":\"050-052  VI-VIII.Enfermedades del sistema nervioso y de los \\u00f3rganos de los sentidos\",\"orientation\":\"v\",\"showlegend\":true,\"stackgroup\":\"1\",\"x\":[2017,2018,2015,2016,2014,2012,2013,2011,2010,2009,2008,2007,2006,2005,2003,2004,2002,2001,2000,1999,1998,1997,1996,1995,1994,1993,1991,1992,1990,1989,1988,1987,1986,1985,1980,1983,1982,1984,1981],\"xaxis\":\"x\",\"y\":[627.2619047619048,625.6904761904761,615.1190476190476,600.8571428571429,557.0,525.9285714285714,511.57142857142856,482.23809523809524,459.1666666666667,447.14285714285717,416.57142857142856,398.1666666666667,374.3095238095238,373.73809523809524,352.6904761904762,336.26190476190476,297.9047619047619,278.0238095238095,249.42857142857142,245.3095238095238,188.73809523809524,167.3095238095238,157.88095238095238,149.28571428571428,141.26190476190476,128.28571428571428,119.69047619047619,117.21428571428571,110.66666666666667,103.0,100.23809523809524,92.14285714285714,83.9047619047619,82.04761904761905,81.0,80.5,77.30952380952381,76.73809523809524,74.5952380952381],\"yaxis\":\"y\",\"type\":\"scatter\"},{\"fillpattern\":{\"shape\":\"\"},\"hovertemplate\":\"Causa de muerte=046-049  V.Trastornos mentales y del comportamiento<br>Periodo=%{x}<br>Total=%{y}<extra></extra>\",\"legendgroup\":\"046-049  V.Trastornos mentales y del comportamiento\",\"line\":{\"color\":\"#FFA15A\"},\"marker\":{\"symbol\":\"circle\"},\"mode\":\"lines\",\"name\":\"046-049  V.Trastornos mentales y del comportamiento\",\"orientation\":\"v\",\"showlegend\":true,\"stackgroup\":\"1\",\"x\":[2018,2017,2015,2016,2014,2012,2013,2011,2010,2009,2003,2008,2005,2007,2006,2004,1998,2002,1999,2001,2000,1997,1996,1995,1994,1993,1992,1991,1990,1989,1988,1987,1986,1985,1984,1983,1981,1982,1980],\"xaxis\":\"x\",\"y\":[532.7619047619048,517.1904761904761,507.92857142857144,499.5238095238095,445.3809523809524,408.2142857142857,404.2142857142857,363.7142857142857,352.8809523809524,344.1904761904762,311.23809523809524,310.4761904761905,298.54761904761904,293.0952380952381,288.26190476190476,282.8095238095238,280.85714285714283,278.14285714285717,274.2857142857143,270.14285714285717,265.45238095238096,257.0238095238095,243.57142857142858,223.64285714285714,201.88095238095238,178.42857142857142,161.95238095238096,154.1904761904762,129.5952380952381,104.85714285714286,83.21428571428571,72.23809523809524,58.904761904761905,49.57142857142857,40.404761904761905,35.38095238095238,23.452380952380953,23.047619047619047,21.428571428571427],\"yaxis\":\"y\",\"type\":\"scatter\"},{\"fillpattern\":{\"shape\":\"\"},\"hovertemplate\":\"Causa de muerte=068-072  XI.Enfermedades del sistema digestivo<br>Periodo=%{x}<br>Total=%{y}<extra></extra>\",\"legendgroup\":\"068-072  XI.Enfermedades del sistema digestivo\",\"line\":{\"color\":\"#19d3f3\"},\"marker\":{\"symbol\":\"circle\"},\"mode\":\"lines\",\"name\":\"068-072  XI.Enfermedades del sistema digestivo\",\"orientation\":\"v\",\"showlegend\":true,\"stackgroup\":\"1\",\"x\":[2018,2017,2015,2016,2012,2007,2005,2011,2003,2009,2008,2014,2013,2004,2006,2010,1999,2002,1998,1996,1990,1991,1989,1997,1992,2000,2001,1994,1993,1988,1995,1987,1986,1985,1984,1980,1983,1982,1981],\"xaxis\":\"x\",\"y\":[516.4047619047619,486.8333333333333,484.76190476190476,478.4761904761905,471.35714285714283,467.85714285714283,467.23809523809524,466.0952380952381,466.0952380952381,465.64285714285717,463.7142857142857,461.54761904761904,461.3809523809524,460.8809523809524,460.73809523809524,454.6904761904762,451.7142857142857,451.1190476190476,450.5238095238095,449.07142857142856,448.9047619047619,448.64285714285717,444.0952380952381,439.9047619047619,439.3333333333333,438.54761904761904,438.26190476190476,437.9047619047619,437.8095238095238,437.42857142857144,436.95238095238096,435.73809523809524,429.35714285714283,427.8809523809524,417.2857142857143,414.4047619047619,411.7142857142857,409.3809523809524,407.35714285714283],\"yaxis\":\"y\",\"type\":\"scatter\"},{\"fillpattern\":{\"shape\":\"\"},\"hovertemplate\":\"Causa de muerte=090-102  XX.Causas externas de mortalidad<br>Periodo=%{x}<br>Total=%{y}<extra></extra>\",\"legendgroup\":\"090-102  XX.Causas externas de mortalidad\",\"line\":{\"color\":\"#FF6692\"},\"marker\":{\"symbol\":\"circle\"},\"mode\":\"lines\",\"name\":\"090-102  XX.Causas externas de mortalidad\",\"orientation\":\"v\",\"showlegend\":true,\"stackgroup\":\"1\",\"x\":[1989,1990,1991,1988,1987,1992,2004,2005,1998,2003,2000,1997,1993,1999,1986,1995,1996,1983,2006,1994,2001,2002,2007,2017,1984,2018,2016,1985,1980,2008,1981,2015,2014,1982,2013,2009,2011,2010,2012],\"xaxis\":\"x\",\"y\":[460.3095238095238,449.2142857142857,441.26190476190476,432.64285714285717,414.54761904761904,410.1666666666667,405.8095238095238,402.42857142857144,401.5,397.54761904761904,393.8333333333333,392.6904761904762,391.2142857142857,390.73809523809524,389.64285714285717,388.6904761904762,388.6666666666667,386.3095238095238,384.26190476190476,382.9761904761905,380.92857142857144,379.3095238095238,378.95238095238096,377.07142857142856,376.26190476190476,375.42857142857144,373.04761904761904,373.0238095238095,368.1904761904762,364.0238095238095,363.9761904761905,359.0238095238095,354.8333333333333,349.54761904761904,349.4761904761905,345.14285714285717,338.8809523809524,334.9047619047619,333.42857142857144],\"yaxis\":\"y\",\"type\":\"scatter\"},{\"fillpattern\":{\"shape\":\"\"},\"hovertemplate\":\"Causa de muerte=086-089  XVIII.S\\u00edntomas, signos y hallazgos anormales cl\\u00ednicos y de laboratorio, no clasificados en otra parte<br>Periodo=%{x}<br>Total=%{y}<extra></extra>\",\"legendgroup\":\"086-089  XVIII.S\\u00edntomas, signos y hallazgos anormales cl\\u00ednicos y de laboratorio, no clasificados en otra parte\",\"line\":{\"color\":\"#B6E880\"},\"marker\":{\"symbol\":\"circle\"},\"mode\":\"lines\",\"name\":\"086-089  XVIII.S\\u00edntomas, signos y hallazgos anormales cl\\u00ednicos y de laboratorio, no clasificados en otra parte\",\"orientation\":\"v\",\"showlegend\":true,\"stackgroup\":\"1\",\"x\":[1983,1985,1984,1981,1980,1982,1986,1988,1987,2008,1990,2007,1989,2009,2003,2005,2010,2011,2006,2004,1991,2002,2018,2012,2001,2000,1999,2015,2017,1992,1996,1993,2013,2014,1997,1995,1998,1994,2016],\"xaxis\":\"x\",\"y\":[404.35714285714283,398.14285714285717,377.4761904761905,377.1666666666667,376.5238095238095,375.9761904761905,370.54761904761904,288.4761904761905,286.6190476190476,273.7857142857143,270.6190476190476,270.42857142857144,264.73809523809524,263.95238095238096,262.1666666666667,261.1666666666667,256.4761904761905,252.66666666666666,251.0952380952381,250.11904761904762,247.64285714285714,242.11904761904762,240.1904761904762,238.5,234.76190476190476,229.45238095238096,227.38095238095238,226.28571428571428,222.21428571428572,221.3095238095238,217.28571428571428,216.71428571428572,213.02380952380952,201.97619047619048,196.78571428571428,195.26190476190476,193.5952380952381,193.38095238095238,191.26190476190476],\"yaxis\":\"y\",\"type\":\"scatter\"},{\"fillpattern\":{\"shape\":\"\"},\"hovertemplate\":\"Causa de muerte=044-045  IV.Enfermedades endocrinas, nutricionales y metab\\u00f3licas<br>Periodo=%{x}<br>Total=%{y}<extra></extra>\",\"legendgroup\":\"044-045  IV.Enfermedades endocrinas, nutricionales y metab\\u00f3licas\",\"line\":{\"color\":\"#FF97FF\"},\"marker\":{\"symbol\":\"circle\"},\"mode\":\"lines\",\"name\":\"044-045  IV.Enfermedades endocrinas, nutricionales y metab\\u00f3licas\",\"orientation\":\"v\",\"showlegend\":true,\"stackgroup\":\"1\",\"x\":[2015,2018,2017,2014,2012,2011,2016,2010,2009,2005,2008,2007,2013,2003,2004,2002,2006,1999,2001,1998,2000,1995,1996,1997,1991,1994,1990,1993,1989,1988,1992,1987,1986,1985,1984,1983,1982,1981,1980],\"xaxis\":\"x\",\"y\":[334.8809523809524,320.5952380952381,316.57142857142856,309.8333333333333,305.3333333333333,304.5,302.3809523809524,299.95238095238096,296.7142857142857,295.73809523809524,293.73809523809524,291.35714285714283,290.6190476190476,289.2142857142857,283.76190476190476,276.0238095238095,274.35714285714283,271.0,267.2142857142857,266.9047619047619,259.3333333333333,254.97619047619048,252.1904761904762,250.5952380952381,249.1904761904762,247.33333333333334,245.97619047619048,245.54761904761904,240.47619047619048,238.97619047619048,235.6904761904762,234.92857142857142,231.88095238095238,226.92857142857142,222.57142857142858,213.9047619047619,199.61904761904762,194.73809523809524,186.83333333333334],\"yaxis\":\"y\",\"type\":\"scatter\"},{\"fillpattern\":{\"shape\":\"\"},\"hovertemplate\":\"Causa de muerte=077-080  XIV.Enfermedades del sistema genitourinario<br>Periodo=%{x}<br>Total=%{y}<extra></extra>\",\"legendgroup\":\"077-080  XIV.Enfermedades del sistema genitourinario\",\"line\":{\"color\":\"#FECB52\"},\"marker\":{\"symbol\":\"circle\"},\"mode\":\"lines\",\"name\":\"077-080  XIV.Enfermedades del sistema genitourinario\",\"orientation\":\"v\",\"showlegend\":true,\"stackgroup\":\"1\",\"x\":[2018,2017,2016,2015,2012,2013,2014,2011,2009,2008,2010,2007,2005,2006,2003,2004,2002,2001,2000,1998,1999,1997,1990,1989,1992,1988,1996,1991,1993,1994,1995,1987,1985,1986,1984,1983,1981,1980,1982],\"xaxis\":\"x\",\"y\":[331.92857142857144,314.0,289.8333333333333,289.73809523809524,281.8809523809524,278.3095238095238,274.5238095238095,262.1666666666667,258.3333333333333,251.88095238095238,249.83333333333334,242.14285714285714,227.78571428571428,223.92857142857142,215.23809523809524,203.1904761904762,199.02380952380952,197.0952380952381,188.52380952380952,185.45238095238096,183.64285714285714,175.16666666666666,171.5,171.26190476190476,169.85714285714286,169.0952380952381,168.47619047619048,167.5,167.28571428571428,164.66666666666666,164.45238095238096,158.5952380952381,158.14285714285714,157.04761904761904,139.42857142857142,132.42857142857142,131.8095238095238,128.61904761904762,127.30952380952381],\"yaxis\":\"y\",\"type\":\"scatter\"},{\"fillpattern\":{\"shape\":\"\"},\"hovertemplate\":\"Causa de muerte=001-008  I.Enfermedades infecciosas y parasitarias<br>Periodo=%{x}<br>Total=%{y}<extra></extra>\",\"legendgroup\":\"001-008  I.Enfermedades infecciosas y parasitarias\",\"line\":{\"color\":\"#636efa\"},\"marker\":{\"symbol\":\"circle\"},\"mode\":\"lines\",\"name\":\"001-008  I.Enfermedades infecciosas y parasitarias\",\"orientation\":\"v\",\"showlegend\":true,\"stackgroup\":\"1\",\"x\":[1995,1996,1994,1993,2007,2008,2015,2005,1992,2003,1997,2004,2006,2016,2009,2017,2002,1991,2001,1999,2012,2014,2010,2011,2018,1998,2000,2013,1990,1989,1988,1980,1981,1987,1982,1986,1985,1983,1984],\"xaxis\":\"x\",\"y\":[241.38095238095238,240.8095238095238,215.47619047619048,200.85714285714286,185.28571428571428,183.61904761904762,180.16666666666666,178.4047619047619,178.26190476190476,173.85714285714286,172.9047619047619,171.85714285714286,171.45238095238096,167.45238095238096,162.92857142857142,162.35714285714286,160.38095238095238,157.33333333333334,156.11904761904762,155.47619047619048,155.23809523809524,154.95238095238096,154.5,152.33333333333334,152.33333333333334,151.26190476190476,149.61904761904762,147.83333333333334,139.92857142857142,121.07142857142857,100.35714285714286,93.85714285714286,90.02380952380952,88.52380952380952,80.28571428571429,80.07142857142857,79.42857142857143,77.97619047619048,76.95238095238095],\"yaxis\":\"y\",\"type\":\"scatter\"},{\"fillpattern\":{\"shape\":\"\"},\"hovertemplate\":\"Causa de muerte=074-076  XIII.Enfermedades del sistema osteomuscular y del tejido conjuntivo<br>Periodo=%{x}<br>Total=%{y}<extra></extra>\",\"legendgroup\":\"074-076  XIII.Enfermedades del sistema osteomuscular y del tejido conjuntivo\",\"line\":{\"color\":\"#EF553B\"},\"marker\":{\"symbol\":\"circle\"},\"mode\":\"lines\",\"name\":\"074-076  XIII.Enfermedades del sistema osteomuscular y del tejido conjuntivo\",\"orientation\":\"v\",\"showlegend\":true,\"stackgroup\":\"1\",\"x\":[2018,2017,2016,2015,2012,2014,2005,2003,2004,2002,2009,2008,2011,2007,2006,2013,2001,2010,1999,2000,1998,1991,1995,1997,1996,1992,1990,1994,1993,1989,1988,1987,1986,1985,1984,1980,1983,1982,1981],\"xaxis\":\"x\",\"y\":[123.92857142857143,120.71428571428571,101.33333333333333,98.76190476190476,89.66666666666667,87.5952380952381,85.61904761904762,84.71428571428571,84.42857142857143,83.26190476190476,82.4047619047619,81.04761904761905,80.64285714285714,80.57142857142857,80.07142857142857,80.02380952380952,79.80952380952381,79.21428571428571,76.38095238095238,75.19047619047619,72.14285714285714,70.78571428571429,70.33333333333333,69.71428571428571,68.88095238095238,68.88095238095238,67.78571428571429,66.66666666666667,65.78571428571429,65.07142857142857,64.54761904761905,60.476190476190474,58.357142857142854,51.45238095238095,34.07142857142857,14.547619047619047,13.976190476190476,12.80952380952381,11.714285714285714],\"yaxis\":\"y\",\"type\":\"scatter\"},{\"fillpattern\":{\"shape\":\"\"},\"hovertemplate\":\"Causa de muerte=082  XVI.Afecciones originadas en el periodo perinatal<br>Periodo=%{x}<br>Total=%{y}<extra></extra>\",\"legendgroup\":\"082  XVI.Afecciones originadas en el periodo perinatal\",\"line\":{\"color\":\"#00cc96\"},\"marker\":{\"symbol\":\"circle\"},\"mode\":\"lines\",\"name\":\"082  XVI.Afecciones originadas en el periodo perinatal\",\"orientation\":\"v\",\"showlegend\":true,\"stackgroup\":\"1\",\"x\":[1980,1981,1982,1983,1984,1985,1986,1987,1990,1989,1988,1992,1991,1993,2004,2007,2008,2005,1994,2002,2006,2009,2001,2003,1996,1995,2000,2011,2010,2012,1997,1999,1998,2014,2013,2015,2016,2018,2017],\"xaxis\":\"x\",\"y\":[75.95238095238095,74.16666666666667,65.57142857142857,59.142857142857146,48.714285714285715,39.333333333333336,38.42857142857143,38.26190476190476,32.45238095238095,32.214285714285715,31.095238095238095,28.952380952380953,28.357142857142858,25.5,23.857142857142858,23.071428571428573,22.476190476190474,22.428571428571427,22.023809523809526,21.785714285714285,21.69047619047619,21.428571428571427,21.285714285714285,21.11904761904762,20.69047619047619,20.666666666666668,20.452380952380953,19.833333333333332,19.785714285714285,19.738095238095237,19.095238095238095,18.761904761904763,18.547619047619047,18.523809523809526,16.976190476190474,16.047619047619047,15.166666666666666,15.0,14.976190476190476],\"yaxis\":\"y\",\"type\":\"scatter\"},{\"fillpattern\":{\"shape\":\"\"},\"hovertemplate\":\"Causa de muerte=083-085  XVII.Malformaciones cong\\u00e9nitas, deformidades y anomal\\u00edas cromos\\u00f3micas<br>Periodo=%{x}<br>Total=%{y}<extra></extra>\",\"legendgroup\":\"083-085  XVII.Malformaciones cong\\u00e9nitas, deformidades y anomal\\u00edas cromos\\u00f3micas\",\"line\":{\"color\":\"#ab63fa\"},\"marker\":{\"symbol\":\"circle\"},\"mode\":\"lines\",\"name\":\"083-085  XVII.Malformaciones cong\\u00e9nitas, deformidades y anomal\\u00edas cromos\\u00f3micas\",\"orientation\":\"v\",\"showlegend\":true,\"stackgroup\":\"1\",\"x\":[1980,1981,1982,1983,1984,1985,1986,1987,1988,1992,1991,1993,1990,1989,1994,1996,1997,1995,1999,1998,2000,2003,2004,2002,2010,2005,2001,2006,2008,2011,2007,2009,2016,2018,2014,2012,2017,2015,2013],\"xaxis\":\"x\",\"y\":[55.54761904761905,55.07142857142857,48.23809523809524,45.80952380952381,41.714285714285715,38.61904761904762,37.54761904761905,36.26190476190476,36.023809523809526,34.666666666666664,33.904761904761905,33.0,32.904761904761905,32.904761904761905,30.88095238095238,28.976190476190474,28.357142857142858,27.976190476190474,27.19047619047619,27.047619047619047,26.476190476190474,24.5,23.857142857142858,23.5,23.11904761904762,22.904761904761905,22.738095238095237,22.238095238095237,22.0,21.904761904761905,21.19047619047619,21.166666666666668,20.142857142857142,20.071428571428573,19.714285714285715,19.595238095238095,19.38095238095238,19.095238095238095,18.047619047619047],\"yaxis\":\"y\",\"type\":\"scatter\"},{\"fillpattern\":{\"shape\":\"\"},\"hovertemplate\":\"Causa de muerte=042-043  III.Enfermedades de la sangre y de los \\u00f3rganos hematopoy\\u00e9ticos, y ciertos trastornos que afectan al mecanismo de la inmunidad<br>Periodo=%{x}<br>Total=%{y}<extra></extra>\",\"legendgroup\":\"042-043  III.Enfermedades de la sangre y de los \\u00f3rganos hematopoy\\u00e9ticos, y ciertos trastornos que afectan al mecanismo de la inmunidad\",\"line\":{\"color\":\"#FFA15A\"},\"marker\":{\"symbol\":\"circle\"},\"mode\":\"lines\",\"name\":\"042-043  III.Enfermedades de la sangre y de los \\u00f3rganos hematopoy\\u00e9ticos, y ciertos trastornos que afectan al mecanismo de la inmunidad\",\"orientation\":\"v\",\"showlegend\":true,\"stackgroup\":\"1\",\"x\":[2015,2017,2018,2016,2014,2013,2012,2011,2010,2009,2008,1998,2005,2004,2007,1994,1993,1997,1996,2002,1995,1991,2003,2006,2000,1992,1990,1999,2001,1989,1987,1988,1986,1985,1984,1983,1981,1980,1982],\"xaxis\":\"x\",\"y\":[48.285714285714285,46.976190476190474,46.333333333333336,44.904761904761905,42.476190476190474,39.023809523809526,37.023809523809526,36.38095238095238,36.166666666666664,34.95238095238095,31.952380952380953,31.928571428571427,31.333333333333332,30.738095238095237,30.69047619047619,30.238095238095237,30.047619047619047,30.047619047619047,30.047619047619047,29.904761904761905,29.88095238095238,29.69047619047619,29.61904761904762,29.214285714285715,28.80952380952381,27.571428571428573,26.928571428571427,26.761904761904763,26.61904761904762,25.547619047619047,22.738095238095237,22.642857142857142,20.976190476190474,20.214285714285715,19.11904761904762,17.61904761904762,17.404761904761905,16.928571428571427,15.69047619047619],\"yaxis\":\"y\",\"type\":\"scatter\"},{\"fillpattern\":{\"shape\":\"\"},\"hovertemplate\":\"Causa de muerte=081  XV.Embarazo, parto y puerperio<br>Periodo=%{x}<br>Total=%{y}<extra></extra>\",\"legendgroup\":\"081  XV.Embarazo, parto y puerperio\",\"line\":{\"color\":\"#19d3f3\"},\"marker\":{\"symbol\":\"circle\"},\"mode\":\"lines\",\"name\":\"081  XV.Embarazo, parto y puerperio\",\"orientation\":\"v\",\"showlegend\":true,\"stackgroup\":\"1\",\"x\":[1980,1982,1981,1983,1984,1986,2008,1990,2004,1987,1988,1985,2010,2003,1992,2013,2005,2009,2001,2015,1999,2016,2000,2002,2011,2006,2017,1994,1991,2007,1993,1989,1995,1996,1998,2012,2014,1997,2018],\"xaxis\":\"x\",\"y\":[1.5,1.2857142857142858,1.2142857142857142,0.8809523809523809,0.5714285714285714,0.5714285714285714,0.5714285714285714,0.5238095238095238,0.5,0.5,0.5,0.47619047619047616,0.47619047619047616,0.47619047619047616,0.4523809523809524,0.42857142857142855,0.42857142857142855,0.40476190476190477,0.40476190476190477,0.35714285714285715,0.35714285714285715,0.35714285714285715,0.3333333333333333,0.3333333333333333,0.3333333333333333,0.3333333333333333,0.30952380952380953,0.30952380952380953,0.30952380952380953,0.30952380952380953,0.2857142857142857,0.2857142857142857,0.2619047619047619,0.2619047619047619,0.23809523809523808,0.23809523809523808,0.21428571428571427,0.19047619047619047,0.16666666666666666],\"yaxis\":\"y\",\"type\":\"scatter\"}],                        {\"template\":{\"data\":{\"histogram2dcontour\":[{\"type\":\"histogram2dcontour\",\"colorbar\":{\"outlinewidth\":0,\"ticks\":\"\"},\"colorscale\":[[0.0,\"#0d0887\"],[0.1111111111111111,\"#46039f\"],[0.2222222222222222,\"#7201a8\"],[0.3333333333333333,\"#9c179e\"],[0.4444444444444444,\"#bd3786\"],[0.5555555555555556,\"#d8576b\"],[0.6666666666666666,\"#ed7953\"],[0.7777777777777778,\"#fb9f3a\"],[0.8888888888888888,\"#fdca26\"],[1.0,\"#f0f921\"]]}],\"choropleth\":[{\"type\":\"choropleth\",\"colorbar\":{\"outlinewidth\":0,\"ticks\":\"\"}}],\"histogram2d\":[{\"type\":\"histogram2d\",\"colorbar\":{\"outlinewidth\":0,\"ticks\":\"\"},\"colorscale\":[[0.0,\"#0d0887\"],[0.1111111111111111,\"#46039f\"],[0.2222222222222222,\"#7201a8\"],[0.3333333333333333,\"#9c179e\"],[0.4444444444444444,\"#bd3786\"],[0.5555555555555556,\"#d8576b\"],[0.6666666666666666,\"#ed7953\"],[0.7777777777777778,\"#fb9f3a\"],[0.8888888888888888,\"#fdca26\"],[1.0,\"#f0f921\"]]}],\"heatmap\":[{\"type\":\"heatmap\",\"colorbar\":{\"outlinewidth\":0,\"ticks\":\"\"},\"colorscale\":[[0.0,\"#0d0887\"],[0.1111111111111111,\"#46039f\"],[0.2222222222222222,\"#7201a8\"],[0.3333333333333333,\"#9c179e\"],[0.4444444444444444,\"#bd3786\"],[0.5555555555555556,\"#d8576b\"],[0.6666666666666666,\"#ed7953\"],[0.7777777777777778,\"#fb9f3a\"],[0.8888888888888888,\"#fdca26\"],[1.0,\"#f0f921\"]]}],\"heatmapgl\":[{\"type\":\"heatmapgl\",\"colorbar\":{\"outlinewidth\":0,\"ticks\":\"\"},\"colorscale\":[[0.0,\"#0d0887\"],[0.1111111111111111,\"#46039f\"],[0.2222222222222222,\"#7201a8\"],[0.3333333333333333,\"#9c179e\"],[0.4444444444444444,\"#bd3786\"],[0.5555555555555556,\"#d8576b\"],[0.6666666666666666,\"#ed7953\"],[0.7777777777777778,\"#fb9f3a\"],[0.8888888888888888,\"#fdca26\"],[1.0,\"#f0f921\"]]}],\"contourcarpet\":[{\"type\":\"contourcarpet\",\"colorbar\":{\"outlinewidth\":0,\"ticks\":\"\"}}],\"contour\":[{\"type\":\"contour\",\"colorbar\":{\"outlinewidth\":0,\"ticks\":\"\"},\"colorscale\":[[0.0,\"#0d0887\"],[0.1111111111111111,\"#46039f\"],[0.2222222222222222,\"#7201a8\"],[0.3333333333333333,\"#9c179e\"],[0.4444444444444444,\"#bd3786\"],[0.5555555555555556,\"#d8576b\"],[0.6666666666666666,\"#ed7953\"],[0.7777777777777778,\"#fb9f3a\"],[0.8888888888888888,\"#fdca26\"],[1.0,\"#f0f921\"]]}],\"surface\":[{\"type\":\"surface\",\"colorbar\":{\"outlinewidth\":0,\"ticks\":\"\"},\"colorscale\":[[0.0,\"#0d0887\"],[0.1111111111111111,\"#46039f\"],[0.2222222222222222,\"#7201a8\"],[0.3333333333333333,\"#9c179e\"],[0.4444444444444444,\"#bd3786\"],[0.5555555555555556,\"#d8576b\"],[0.6666666666666666,\"#ed7953\"],[0.7777777777777778,\"#fb9f3a\"],[0.8888888888888888,\"#fdca26\"],[1.0,\"#f0f921\"]]}],\"mesh3d\":[{\"type\":\"mesh3d\",\"colorbar\":{\"outlinewidth\":0,\"ticks\":\"\"}}],\"scatter\":[{\"fillpattern\":{\"fillmode\":\"overlay\",\"size\":10,\"solidity\":0.2},\"type\":\"scatter\"}],\"parcoords\":[{\"type\":\"parcoords\",\"line\":{\"colorbar\":{\"outlinewidth\":0,\"ticks\":\"\"}}}],\"scatterpolargl\":[{\"type\":\"scatterpolargl\",\"marker\":{\"colorbar\":{\"outlinewidth\":0,\"ticks\":\"\"}}}],\"bar\":[{\"error_x\":{\"color\":\"#2a3f5f\"},\"error_y\":{\"color\":\"#2a3f5f\"},\"marker\":{\"line\":{\"color\":\"#E5ECF6\",\"width\":0.5},\"pattern\":{\"fillmode\":\"overlay\",\"size\":10,\"solidity\":0.2}},\"type\":\"bar\"}],\"scattergeo\":[{\"type\":\"scattergeo\",\"marker\":{\"colorbar\":{\"outlinewidth\":0,\"ticks\":\"\"}}}],\"scatterpolar\":[{\"type\":\"scatterpolar\",\"marker\":{\"colorbar\":{\"outlinewidth\":0,\"ticks\":\"\"}}}],\"histogram\":[{\"marker\":{\"pattern\":{\"fillmode\":\"overlay\",\"size\":10,\"solidity\":0.2}},\"type\":\"histogram\"}],\"scattergl\":[{\"type\":\"scattergl\",\"marker\":{\"colorbar\":{\"outlinewidth\":0,\"ticks\":\"\"}}}],\"scatter3d\":[{\"type\":\"scatter3d\",\"line\":{\"colorbar\":{\"outlinewidth\":0,\"ticks\":\"\"}},\"marker\":{\"colorbar\":{\"outlinewidth\":0,\"ticks\":\"\"}}}],\"scattermapbox\":[{\"type\":\"scattermapbox\",\"marker\":{\"colorbar\":{\"outlinewidth\":0,\"ticks\":\"\"}}}],\"scatterternary\":[{\"type\":\"scatterternary\",\"marker\":{\"colorbar\":{\"outlinewidth\":0,\"ticks\":\"\"}}}],\"scattercarpet\":[{\"type\":\"scattercarpet\",\"marker\":{\"colorbar\":{\"outlinewidth\":0,\"ticks\":\"\"}}}],\"carpet\":[{\"aaxis\":{\"endlinecolor\":\"#2a3f5f\",\"gridcolor\":\"white\",\"linecolor\":\"white\",\"minorgridcolor\":\"white\",\"startlinecolor\":\"#2a3f5f\"},\"baxis\":{\"endlinecolor\":\"#2a3f5f\",\"gridcolor\":\"white\",\"linecolor\":\"white\",\"minorgridcolor\":\"white\",\"startlinecolor\":\"#2a3f5f\"},\"type\":\"carpet\"}],\"table\":[{\"cells\":{\"fill\":{\"color\":\"#EBF0F8\"},\"line\":{\"color\":\"white\"}},\"header\":{\"fill\":{\"color\":\"#C8D4E3\"},\"line\":{\"color\":\"white\"}},\"type\":\"table\"}],\"barpolar\":[{\"marker\":{\"line\":{\"color\":\"#E5ECF6\",\"width\":0.5},\"pattern\":{\"fillmode\":\"overlay\",\"size\":10,\"solidity\":0.2}},\"type\":\"barpolar\"}],\"pie\":[{\"automargin\":true,\"type\":\"pie\"}]},\"layout\":{\"autotypenumbers\":\"strict\",\"colorway\":[\"#636efa\",\"#EF553B\",\"#00cc96\",\"#ab63fa\",\"#FFA15A\",\"#19d3f3\",\"#FF6692\",\"#B6E880\",\"#FF97FF\",\"#FECB52\"],\"font\":{\"color\":\"#2a3f5f\"},\"hovermode\":\"closest\",\"hoverlabel\":{\"align\":\"left\"},\"paper_bgcolor\":\"white\",\"plot_bgcolor\":\"#E5ECF6\",\"polar\":{\"bgcolor\":\"#E5ECF6\",\"angularaxis\":{\"gridcolor\":\"white\",\"linecolor\":\"white\",\"ticks\":\"\"},\"radialaxis\":{\"gridcolor\":\"white\",\"linecolor\":\"white\",\"ticks\":\"\"}},\"ternary\":{\"bgcolor\":\"#E5ECF6\",\"aaxis\":{\"gridcolor\":\"white\",\"linecolor\":\"white\",\"ticks\":\"\"},\"baxis\":{\"gridcolor\":\"white\",\"linecolor\":\"white\",\"ticks\":\"\"},\"caxis\":{\"gridcolor\":\"white\",\"linecolor\":\"white\",\"ticks\":\"\"}},\"coloraxis\":{\"colorbar\":{\"outlinewidth\":0,\"ticks\":\"\"}},\"colorscale\":{\"sequential\":[[0.0,\"#0d0887\"],[0.1111111111111111,\"#46039f\"],[0.2222222222222222,\"#7201a8\"],[0.3333333333333333,\"#9c179e\"],[0.4444444444444444,\"#bd3786\"],[0.5555555555555556,\"#d8576b\"],[0.6666666666666666,\"#ed7953\"],[0.7777777777777778,\"#fb9f3a\"],[0.8888888888888888,\"#fdca26\"],[1.0,\"#f0f921\"]],\"sequentialminus\":[[0.0,\"#0d0887\"],[0.1111111111111111,\"#46039f\"],[0.2222222222222222,\"#7201a8\"],[0.3333333333333333,\"#9c179e\"],[0.4444444444444444,\"#bd3786\"],[0.5555555555555556,\"#d8576b\"],[0.6666666666666666,\"#ed7953\"],[0.7777777777777778,\"#fb9f3a\"],[0.8888888888888888,\"#fdca26\"],[1.0,\"#f0f921\"]],\"diverging\":[[0,\"#8e0152\"],[0.1,\"#c51b7d\"],[0.2,\"#de77ae\"],[0.3,\"#f1b6da\"],[0.4,\"#fde0ef\"],[0.5,\"#f7f7f7\"],[0.6,\"#e6f5d0\"],[0.7,\"#b8e186\"],[0.8,\"#7fbc41\"],[0.9,\"#4d9221\"],[1,\"#276419\"]]},\"xaxis\":{\"gridcolor\":\"white\",\"linecolor\":\"white\",\"ticks\":\"\",\"title\":{\"standoff\":15},\"zerolinecolor\":\"white\",\"automargin\":true,\"zerolinewidth\":2},\"yaxis\":{\"gridcolor\":\"white\",\"linecolor\":\"white\",\"ticks\":\"\",\"title\":{\"standoff\":15},\"zerolinecolor\":\"white\",\"automargin\":true,\"zerolinewidth\":2},\"scene\":{\"xaxis\":{\"backgroundcolor\":\"#E5ECF6\",\"gridcolor\":\"white\",\"linecolor\":\"white\",\"showbackground\":true,\"ticks\":\"\",\"zerolinecolor\":\"white\",\"gridwidth\":2},\"yaxis\":{\"backgroundcolor\":\"#E5ECF6\",\"gridcolor\":\"white\",\"linecolor\":\"white\",\"showbackground\":true,\"ticks\":\"\",\"zerolinecolor\":\"white\",\"gridwidth\":2},\"zaxis\":{\"backgroundcolor\":\"#E5ECF6\",\"gridcolor\":\"white\",\"linecolor\":\"white\",\"showbackground\":true,\"ticks\":\"\",\"zerolinecolor\":\"white\",\"gridwidth\":2}},\"shapedefaults\":{\"line\":{\"color\":\"#2a3f5f\"}},\"annotationdefaults\":{\"arrowcolor\":\"#2a3f5f\",\"arrowhead\":0,\"arrowwidth\":1},\"geo\":{\"bgcolor\":\"white\",\"landcolor\":\"#E5ECF6\",\"subunitcolor\":\"white\",\"showland\":true,\"showlakes\":true,\"lakecolor\":\"white\"},\"title\":{\"x\":0.05},\"mapbox\":{\"style\":\"light\"}}},\"xaxis\":{\"anchor\":\"y\",\"domain\":[0.0,1.0],\"title\":{\"text\":\"Periodo\"}},\"yaxis\":{\"anchor\":\"x\",\"domain\":[0.0,1.0],\"title\":{\"text\":\"Media de muertes\"}},\"legend\":{\"title\":{\"text\":\"Causa de muerte\"},\"tracegroupgap\":0,\"yanchor\":\"top\",\"y\":1.2,\"xanchor\":\"left\",\"x\":0},\"margin\":{\"t\":60},\"height\":1500,\"width\":1000,\"title\":{\"text\":\"MAYOR CAUSA DE MUERTE HIST\\u00d3RICA\",\"x\":0.5,\"y\":1}},                        {\"responsive\": true}                    ).then(function(){\n",
       "                            \n",
       "var gd = document.getElementById('34787ac6-f5f9-4370-be7a-63243e5a58d4');\n",
       "var x = new MutationObserver(function (mutations, observer) {{\n",
       "        var display = window.getComputedStyle(gd).display;\n",
       "        if (!display || display === 'none') {{\n",
       "            console.log([gd, 'removed!']);\n",
       "            Plotly.purge(gd);\n",
       "            observer.disconnect();\n",
       "        }}\n",
       "}});\n",
       "\n",
       "// Listen for the removal of the full notebook cells\n",
       "var notebookContainer = gd.closest('#notebook-container');\n",
       "if (notebookContainer) {{\n",
       "    x.observe(notebookContainer, {childList: true});\n",
       "}}\n",
       "\n",
       "// Listen for the clearing of the current output cell\n",
       "var outputEl = gd.closest('.output');\n",
       "if (outputEl) {{\n",
       "    x.observe(outputEl, {childList: true});\n",
       "}}\n",
       "\n",
       "                        })                };                });            </script>        </div>"
      ]
     },
     "metadata": {},
     "output_type": "display_data"
    }
   ],
   "source": [
    "## 3.MAYOR CAUSA DE MUERTE HISTÓRICA & 4. CAUSA MENOS PREOUCPANTE - plotly gráfico de área\n",
    "\n",
    "\n",
    "fig = px.area(mean_df, x = 'Periodo', y = 'Total', color=\"Causa de muerte\", width=1000, height=1500)\n",
    "fig.update_layout(\n",
    "    legend=dict(\n",
    "        yanchor=\"top\",\n",
    "        y=1.2,\n",
    "        xanchor=\"left\",\n",
    "        x=0))\n",
    "fig.update_layout(title='MAYOR CAUSA DE MUERTE HISTÓRICA', title_x=0.5,title_y=1, xaxis_title='Periodo', yaxis_title='Media de muertes')\n",
    "\n",
    "#fig.update_xaxes(range=[mean_df['Periodo'].min(), mean_df['Periodo'].max()], dtick=2)\n",
    "#fig.update_yaxes(range=[0, 10000], dtick=1000)\n",
    "\n",
    "fig.show(scale=0.8)"
   ]
  },
  {
   "cell_type": "code",
   "execution_count": 59,
   "metadata": {},
   "outputs": [
    {
     "data": {
      "application/vnd.plotly.v1+json": {
       "config": {
        "plotlyServerURL": "https://plot.ly"
       },
       "data": [
        {
         "hovertemplate": "Causa de muerte=053-061 IX.Enfermedades del sistema circulatorio<br>Periodo=%{x}<br>Total=%{y}<extra></extra>",
         "legendgroup": "053-061 IX.Enfermedades del sistema circulatorio",
         "line": {
          "color": "#636efa",
          "dash": "solid"
         },
         "marker": {
          "symbol": "circle"
         },
         "mode": "lines",
         "name": "053-061 IX.Enfermedades del sistema circulatorio",
         "orientation": "v",
         "showlegend": true,
         "type": "scatter",
         "x": [
          1991,
          1999,
          1998,
          1985,
          1983,
          1993,
          2003,
          1996,
          1990,
          1988,
          1989,
          1992,
          1995,
          1997,
          1994,
          1986,
          1981,
          2005,
          1984,
          1987,
          1980,
          2002,
          2000,
          2001,
          2015,
          2007,
          1982,
          2004,
          2008,
          2017,
          2012,
          2018,
          2006,
          2009,
          2016,
          2010,
          2011,
          2013,
          2014
         ],
         "xaxis": "x",
         "y": [
          3153.309523809524,
          3137.4761904761904,
          3134,
          3123.7619047619046,
          3107.8809523809523,
          3106.6428571428573,
          3090.0714285714284,
          3084.8809523809523,
          3076.7619047619046,
          3068.404761904762,
          3063.6190476190477,
          3060.6666666666665,
          3057.9761904761904,
          3055.6666666666665,
          3040.2619047619046,
          3038.5,
          3037.7619047619046,
          3021.595238095238,
          3019.1428571428573,
          3006.714285714286,
          2997.309523809524,
          2995.1666666666665,
          2993.404761904762,
          2961.6428571428573,
          2957.0714285714284,
          2955.3809523809523,
          2952.0476190476193,
          2949.214285714286,
          2923.6428571428573,
          2915.8333333333335,
          2907.0714285714284,
          2877.595238095238,
          2875.2380952380954,
          2858.5,
          2851.8571428571427,
          2836.3809523809523,
          2817.309523809524,
          2797.2380952380954,
          2795.0714285714284
         ],
         "yaxis": "y"
        },
        {
         "hovertemplate": "Causa de muerte=009-041  II.Tumores<br>Periodo=%{x}<br>Total=%{y}<extra></extra>",
         "legendgroup": "009-041  II.Tumores",
         "line": {
          "color": "#EF553B",
          "dash": "solid"
         },
         "marker": {
          "symbol": "circle"
         },
         "mode": "lines",
         "name": "009-041  II.Tumores",
         "orientation": "v",
         "showlegend": true,
         "type": "scatter",
         "x": [
          2017,
          2016,
          2018,
          2015,
          2013,
          2012,
          2014,
          2011,
          2010,
          2009,
          2008,
          2007,
          2006,
          2004,
          2005,
          2003,
          2002,
          2001,
          2000,
          1999,
          1998,
          1997,
          1995,
          1996,
          1994,
          1993,
          1992,
          1991,
          1990,
          1989,
          1988,
          1987,
          1986,
          1985,
          1984,
          1983,
          1982,
          1981,
          1980
         ],
         "xaxis": "x",
         "y": [
          2696.809523809524,
          2689.0238095238096,
          2683.6666666666665,
          2651.9285714285716,
          2643.3571428571427,
          2642.690476190476,
          2625.6666666666665,
          2603.3571428571427,
          2552.8571428571427,
          2503.1428571428573,
          2477.4761904761904,
          2460.214285714286,
          2421.0238095238096,
          2392.5,
          2385.8571428571427,
          2376.809523809524,
          2328.190476190476,
          2326.5238095238096,
          2263.6190476190477,
          2251.5714285714284,
          2213,
          2178.9285714285716,
          2141.404761904762,
          2135.3809523809523,
          2098.5238095238096,
          2048.095238095238,
          1981.7857142857142,
          1942.0714285714287,
          1901.357142857143,
          1853.2142857142858,
          1818.3095238095239,
          1758.7619047619048,
          1685.2857142857142,
          1639.7380952380952,
          1586.0714285714287,
          1511.547619047619,
          1464.4761904761904,
          1421.7380952380952,
          1392.404761904762
         ],
         "yaxis": "y"
        },
        {
         "hovertemplate": "Causa de muerte=062-067  X.Enfermedades del sistema respiratorio<br>Periodo=%{x}<br>Total=%{y}<extra></extra>",
         "legendgroup": "062-067  X.Enfermedades del sistema respiratorio",
         "line": {
          "color": "#00cc96",
          "dash": "solid"
         },
         "marker": {
          "symbol": "circle"
         },
         "mode": "lines",
         "name": "062-067  X.Enfermedades del sistema respiratorio",
         "orientation": "v",
         "showlegend": true,
         "type": "scatter",
         "x": [
          2018,
          2015,
          2017,
          2012,
          2005,
          2016,
          1999,
          2008,
          2007,
          2014,
          2003,
          2009,
          2013,
          2011,
          2002,
          2000,
          2010,
          1998,
          2006,
          2004,
          2001,
          1997,
          1996,
          1995,
          1990,
          1993,
          1991,
          1994,
          1992,
          1989,
          1985,
          1988,
          1983,
          1986,
          1981,
          1987,
          1980,
          1984,
          1982
         ],
         "xaxis": "x",
         "y": [
          1278.2619047619048,
          1234.4761904761904,
          1228.9285714285713,
          1127.047619047619,
          1121.1666666666667,
          1114.5714285714287,
          1076.047619047619,
          1052.3809523809523,
          1048.3095238095239,
          1043.8333333333333,
          1042.9285714285713,
          1030.5238095238096,
          1013.452380952381,
          1005.7857142857143,
          986.3571428571429,
          975.7857142857143,
          958.7142857142857,
          946.3571428571429,
          940.7142857142857,
          932.1190476190476,
          889.5714285714286,
          869.5,
          864.6190476190476,
          826.4047619047619,
          814.2619047619048,
          798.6904761904761,
          785.5714285714286,
          767.3809523809524,
          745.047619047619,
          739.2380952380952,
          725.3333333333334,
          702.6904761904761,
          700.5714285714286,
          699.952380952381,
          699.1904761904761,
          666.0714285714286,
          659.7380952380952,
          646.2857142857143,
          618.4761904761905
         ],
         "yaxis": "y"
        },
        {
         "hovertemplate": "Causa de muerte=050-052  VI-VIII.Enfermedades del sistema nervioso y de los órganos de los sentidos<br>Periodo=%{x}<br>Total=%{y}<extra></extra>",
         "legendgroup": "050-052  VI-VIII.Enfermedades del sistema nervioso y de los órganos de los sentidos",
         "line": {
          "color": "#ab63fa",
          "dash": "solid"
         },
         "marker": {
          "symbol": "circle"
         },
         "mode": "lines",
         "name": "050-052  VI-VIII.Enfermedades del sistema nervioso y de los órganos de los sentidos",
         "orientation": "v",
         "showlegend": true,
         "type": "scatter",
         "x": [
          2017,
          2018,
          2015,
          2016,
          2014,
          2012,
          2013,
          2011,
          2010,
          2009,
          2008,
          2007,
          2006,
          2005,
          2003,
          2004,
          2002,
          2001,
          2000,
          1999,
          1998,
          1997,
          1996,
          1995,
          1994,
          1993,
          1991,
          1992,
          1990,
          1989,
          1988,
          1987,
          1986,
          1985,
          1980,
          1983,
          1982,
          1984,
          1981
         ],
         "xaxis": "x",
         "y": [
          627.2619047619048,
          625.6904761904761,
          615.1190476190476,
          600.8571428571429,
          557,
          525.9285714285714,
          511.57142857142856,
          482.23809523809524,
          459.1666666666667,
          447.14285714285717,
          416.57142857142856,
          398.1666666666667,
          374.3095238095238,
          373.73809523809524,
          352.6904761904762,
          336.26190476190476,
          297.9047619047619,
          278.0238095238095,
          249.42857142857142,
          245.3095238095238,
          188.73809523809524,
          167.3095238095238,
          157.88095238095238,
          149.28571428571428,
          141.26190476190476,
          128.28571428571428,
          119.69047619047619,
          117.21428571428571,
          110.66666666666667,
          103,
          100.23809523809524,
          92.14285714285714,
          83.9047619047619,
          82.04761904761905,
          81,
          80.5,
          77.30952380952381,
          76.73809523809524,
          74.5952380952381
         ],
         "yaxis": "y"
        },
        {
         "hovertemplate": "Causa de muerte=046-049  V.Trastornos mentales y del comportamiento<br>Periodo=%{x}<br>Total=%{y}<extra></extra>",
         "legendgroup": "046-049  V.Trastornos mentales y del comportamiento",
         "line": {
          "color": "#FFA15A",
          "dash": "solid"
         },
         "marker": {
          "symbol": "circle"
         },
         "mode": "lines",
         "name": "046-049  V.Trastornos mentales y del comportamiento",
         "orientation": "v",
         "showlegend": true,
         "type": "scatter",
         "x": [
          2018,
          2017,
          2015,
          2016,
          2014,
          2012,
          2013,
          2011,
          2010,
          2009,
          2003,
          2008,
          2005,
          2007,
          2006,
          2004,
          1998,
          2002,
          1999,
          2001,
          2000,
          1997,
          1996,
          1995,
          1994,
          1993,
          1992,
          1991,
          1990,
          1989,
          1988,
          1987,
          1986,
          1985,
          1984,
          1983,
          1981,
          1982,
          1980
         ],
         "xaxis": "x",
         "y": [
          532.7619047619048,
          517.1904761904761,
          507.92857142857144,
          499.5238095238095,
          445.3809523809524,
          408.2142857142857,
          404.2142857142857,
          363.7142857142857,
          352.8809523809524,
          344.1904761904762,
          311.23809523809524,
          310.4761904761905,
          298.54761904761904,
          293.0952380952381,
          288.26190476190476,
          282.8095238095238,
          280.85714285714283,
          278.14285714285717,
          274.2857142857143,
          270.14285714285717,
          265.45238095238096,
          257.0238095238095,
          243.57142857142858,
          223.64285714285714,
          201.88095238095238,
          178.42857142857142,
          161.95238095238096,
          154.1904761904762,
          129.5952380952381,
          104.85714285714286,
          83.21428571428571,
          72.23809523809524,
          58.904761904761905,
          49.57142857142857,
          40.404761904761905,
          35.38095238095238,
          23.452380952380953,
          23.047619047619047,
          21.428571428571427
         ],
         "yaxis": "y"
        },
        {
         "hovertemplate": "Causa de muerte=068-072  XI.Enfermedades del sistema digestivo<br>Periodo=%{x}<br>Total=%{y}<extra></extra>",
         "legendgroup": "068-072  XI.Enfermedades del sistema digestivo",
         "line": {
          "color": "#19d3f3",
          "dash": "solid"
         },
         "marker": {
          "symbol": "circle"
         },
         "mode": "lines",
         "name": "068-072  XI.Enfermedades del sistema digestivo",
         "orientation": "v",
         "showlegend": true,
         "type": "scatter",
         "x": [
          2018,
          2017,
          2015,
          2016,
          2012,
          2007,
          2005,
          2011,
          2003,
          2009,
          2008,
          2014,
          2013,
          2004,
          2006,
          2010,
          1999,
          2002,
          1998,
          1996,
          1990,
          1991,
          1989,
          1997,
          1992,
          2000,
          2001,
          1994,
          1993,
          1988,
          1995,
          1987,
          1986,
          1985,
          1984,
          1980,
          1983,
          1982,
          1981
         ],
         "xaxis": "x",
         "y": [
          516.4047619047619,
          486.8333333333333,
          484.76190476190476,
          478.4761904761905,
          471.35714285714283,
          467.85714285714283,
          467.23809523809524,
          466.0952380952381,
          466.0952380952381,
          465.64285714285717,
          463.7142857142857,
          461.54761904761904,
          461.3809523809524,
          460.8809523809524,
          460.73809523809524,
          454.6904761904762,
          451.7142857142857,
          451.1190476190476,
          450.5238095238095,
          449.07142857142856,
          448.9047619047619,
          448.64285714285717,
          444.0952380952381,
          439.9047619047619,
          439.3333333333333,
          438.54761904761904,
          438.26190476190476,
          437.9047619047619,
          437.8095238095238,
          437.42857142857144,
          436.95238095238096,
          435.73809523809524,
          429.35714285714283,
          427.8809523809524,
          417.2857142857143,
          414.4047619047619,
          411.7142857142857,
          409.3809523809524,
          407.35714285714283
         ],
         "yaxis": "y"
        },
        {
         "hovertemplate": "Causa de muerte=090-102  XX.Causas externas de mortalidad<br>Periodo=%{x}<br>Total=%{y}<extra></extra>",
         "legendgroup": "090-102  XX.Causas externas de mortalidad",
         "line": {
          "color": "#FF6692",
          "dash": "solid"
         },
         "marker": {
          "symbol": "circle"
         },
         "mode": "lines",
         "name": "090-102  XX.Causas externas de mortalidad",
         "orientation": "v",
         "showlegend": true,
         "type": "scatter",
         "x": [
          1989,
          1990,
          1991,
          1988,
          1987,
          1992,
          2004,
          2005,
          1998,
          2003,
          2000,
          1997,
          1993,
          1999,
          1986,
          1995,
          1996,
          1983,
          2006,
          1994,
          2001,
          2002,
          2007,
          2017,
          1984,
          2018,
          2016,
          1985,
          1980,
          2008,
          1981,
          2015,
          2014,
          1982,
          2013,
          2009,
          2011,
          2010,
          2012
         ],
         "xaxis": "x",
         "y": [
          460.3095238095238,
          449.2142857142857,
          441.26190476190476,
          432.64285714285717,
          414.54761904761904,
          410.1666666666667,
          405.8095238095238,
          402.42857142857144,
          401.5,
          397.54761904761904,
          393.8333333333333,
          392.6904761904762,
          391.2142857142857,
          390.73809523809524,
          389.64285714285717,
          388.6904761904762,
          388.6666666666667,
          386.3095238095238,
          384.26190476190476,
          382.9761904761905,
          380.92857142857144,
          379.3095238095238,
          378.95238095238096,
          377.07142857142856,
          376.26190476190476,
          375.42857142857144,
          373.04761904761904,
          373.0238095238095,
          368.1904761904762,
          364.0238095238095,
          363.9761904761905,
          359.0238095238095,
          354.8333333333333,
          349.54761904761904,
          349.4761904761905,
          345.14285714285717,
          338.8809523809524,
          334.9047619047619,
          333.42857142857144
         ],
         "yaxis": "y"
        },
        {
         "hovertemplate": "Causa de muerte=086-089  XVIII.Síntomas, signos y hallazgos anormales clínicos y de laboratorio, no clasificados en otra parte<br>Periodo=%{x}<br>Total=%{y}<extra></extra>",
         "legendgroup": "086-089  XVIII.Síntomas, signos y hallazgos anormales clínicos y de laboratorio, no clasificados en otra parte",
         "line": {
          "color": "#B6E880",
          "dash": "solid"
         },
         "marker": {
          "symbol": "circle"
         },
         "mode": "lines",
         "name": "086-089  XVIII.Síntomas, signos y hallazgos anormales clínicos y de laboratorio, no clasificados en otra parte",
         "orientation": "v",
         "showlegend": true,
         "type": "scatter",
         "x": [
          1983,
          1985,
          1984,
          1981,
          1980,
          1982,
          1986,
          1988,
          1987,
          2008,
          1990,
          2007,
          1989,
          2009,
          2003,
          2005,
          2010,
          2011,
          2006,
          2004,
          1991,
          2002,
          2018,
          2012,
          2001,
          2000,
          1999,
          2015,
          2017,
          1992,
          1996,
          1993,
          2013,
          2014,
          1997,
          1995,
          1998,
          1994,
          2016
         ],
         "xaxis": "x",
         "y": [
          404.35714285714283,
          398.14285714285717,
          377.4761904761905,
          377.1666666666667,
          376.5238095238095,
          375.9761904761905,
          370.54761904761904,
          288.4761904761905,
          286.6190476190476,
          273.7857142857143,
          270.6190476190476,
          270.42857142857144,
          264.73809523809524,
          263.95238095238096,
          262.1666666666667,
          261.1666666666667,
          256.4761904761905,
          252.66666666666666,
          251.0952380952381,
          250.11904761904762,
          247.64285714285714,
          242.11904761904762,
          240.1904761904762,
          238.5,
          234.76190476190476,
          229.45238095238096,
          227.38095238095238,
          226.28571428571428,
          222.21428571428572,
          221.3095238095238,
          217.28571428571428,
          216.71428571428572,
          213.02380952380952,
          201.97619047619048,
          196.78571428571428,
          195.26190476190476,
          193.5952380952381,
          193.38095238095238,
          191.26190476190476
         ],
         "yaxis": "y"
        },
        {
         "hovertemplate": "Causa de muerte=044-045  IV.Enfermedades endocrinas, nutricionales y metabólicas<br>Periodo=%{x}<br>Total=%{y}<extra></extra>",
         "legendgroup": "044-045  IV.Enfermedades endocrinas, nutricionales y metabólicas",
         "line": {
          "color": "#FF97FF",
          "dash": "solid"
         },
         "marker": {
          "symbol": "circle"
         },
         "mode": "lines",
         "name": "044-045  IV.Enfermedades endocrinas, nutricionales y metabólicas",
         "orientation": "v",
         "showlegend": true,
         "type": "scatter",
         "x": [
          2015,
          2018,
          2017,
          2014,
          2012,
          2011,
          2016,
          2010,
          2009,
          2005,
          2008,
          2007,
          2013,
          2003,
          2004,
          2002,
          2006,
          1999,
          2001,
          1998,
          2000,
          1995,
          1996,
          1997,
          1991,
          1994,
          1990,
          1993,
          1989,
          1988,
          1992,
          1987,
          1986,
          1985,
          1984,
          1983,
          1982,
          1981,
          1980
         ],
         "xaxis": "x",
         "y": [
          334.8809523809524,
          320.5952380952381,
          316.57142857142856,
          309.8333333333333,
          305.3333333333333,
          304.5,
          302.3809523809524,
          299.95238095238096,
          296.7142857142857,
          295.73809523809524,
          293.73809523809524,
          291.35714285714283,
          290.6190476190476,
          289.2142857142857,
          283.76190476190476,
          276.0238095238095,
          274.35714285714283,
          271,
          267.2142857142857,
          266.9047619047619,
          259.3333333333333,
          254.97619047619048,
          252.1904761904762,
          250.5952380952381,
          249.1904761904762,
          247.33333333333334,
          245.97619047619048,
          245.54761904761904,
          240.47619047619048,
          238.97619047619048,
          235.6904761904762,
          234.92857142857142,
          231.88095238095238,
          226.92857142857142,
          222.57142857142858,
          213.9047619047619,
          199.61904761904762,
          194.73809523809524,
          186.83333333333334
         ],
         "yaxis": "y"
        },
        {
         "hovertemplate": "Causa de muerte=077-080  XIV.Enfermedades del sistema genitourinario<br>Periodo=%{x}<br>Total=%{y}<extra></extra>",
         "legendgroup": "077-080  XIV.Enfermedades del sistema genitourinario",
         "line": {
          "color": "#FECB52",
          "dash": "solid"
         },
         "marker": {
          "symbol": "circle"
         },
         "mode": "lines",
         "name": "077-080  XIV.Enfermedades del sistema genitourinario",
         "orientation": "v",
         "showlegend": true,
         "type": "scatter",
         "x": [
          2018,
          2017,
          2016,
          2015,
          2012,
          2013,
          2014,
          2011,
          2009,
          2008,
          2010,
          2007,
          2005,
          2006,
          2003,
          2004,
          2002,
          2001,
          2000,
          1998,
          1999,
          1997,
          1990,
          1989,
          1992,
          1988,
          1996,
          1991,
          1993,
          1994,
          1995,
          1987,
          1985,
          1986,
          1984,
          1983,
          1981,
          1980,
          1982
         ],
         "xaxis": "x",
         "y": [
          331.92857142857144,
          314,
          289.8333333333333,
          289.73809523809524,
          281.8809523809524,
          278.3095238095238,
          274.5238095238095,
          262.1666666666667,
          258.3333333333333,
          251.88095238095238,
          249.83333333333334,
          242.14285714285714,
          227.78571428571428,
          223.92857142857142,
          215.23809523809524,
          203.1904761904762,
          199.02380952380952,
          197.0952380952381,
          188.52380952380952,
          185.45238095238096,
          183.64285714285714,
          175.16666666666666,
          171.5,
          171.26190476190476,
          169.85714285714286,
          169.0952380952381,
          168.47619047619048,
          167.5,
          167.28571428571428,
          164.66666666666666,
          164.45238095238096,
          158.5952380952381,
          158.14285714285714,
          157.04761904761904,
          139.42857142857142,
          132.42857142857142,
          131.8095238095238,
          128.61904761904762,
          127.30952380952381
         ],
         "yaxis": "y"
        },
        {
         "hovertemplate": "Causa de muerte=001-008  I.Enfermedades infecciosas y parasitarias<br>Periodo=%{x}<br>Total=%{y}<extra></extra>",
         "legendgroup": "001-008  I.Enfermedades infecciosas y parasitarias",
         "line": {
          "color": "#636efa",
          "dash": "solid"
         },
         "marker": {
          "symbol": "circle"
         },
         "mode": "lines",
         "name": "001-008  I.Enfermedades infecciosas y parasitarias",
         "orientation": "v",
         "showlegend": true,
         "type": "scatter",
         "x": [
          1995,
          1996,
          1994,
          1993,
          2007,
          2008,
          2015,
          2005,
          1992,
          2003,
          1997,
          2004,
          2006,
          2016,
          2009,
          2017,
          2002,
          1991,
          2001,
          1999,
          2012,
          2014,
          2010,
          2011,
          2018,
          1998,
          2000,
          2013,
          1990,
          1989,
          1988,
          1980,
          1981,
          1987,
          1982,
          1986,
          1985,
          1983,
          1984
         ],
         "xaxis": "x",
         "y": [
          241.38095238095238,
          240.8095238095238,
          215.47619047619048,
          200.85714285714286,
          185.28571428571428,
          183.61904761904762,
          180.16666666666666,
          178.4047619047619,
          178.26190476190476,
          173.85714285714286,
          172.9047619047619,
          171.85714285714286,
          171.45238095238096,
          167.45238095238096,
          162.92857142857142,
          162.35714285714286,
          160.38095238095238,
          157.33333333333334,
          156.11904761904762,
          155.47619047619048,
          155.23809523809524,
          154.95238095238096,
          154.5,
          152.33333333333334,
          152.33333333333334,
          151.26190476190476,
          149.61904761904762,
          147.83333333333334,
          139.92857142857142,
          121.07142857142857,
          100.35714285714286,
          93.85714285714286,
          90.02380952380952,
          88.52380952380952,
          80.28571428571429,
          80.07142857142857,
          79.42857142857143,
          77.97619047619048,
          76.95238095238095
         ],
         "yaxis": "y"
        },
        {
         "hovertemplate": "Causa de muerte=074-076  XIII.Enfermedades del sistema osteomuscular y del tejido conjuntivo<br>Periodo=%{x}<br>Total=%{y}<extra></extra>",
         "legendgroup": "074-076  XIII.Enfermedades del sistema osteomuscular y del tejido conjuntivo",
         "line": {
          "color": "#EF553B",
          "dash": "solid"
         },
         "marker": {
          "symbol": "circle"
         },
         "mode": "lines",
         "name": "074-076  XIII.Enfermedades del sistema osteomuscular y del tejido conjuntivo",
         "orientation": "v",
         "showlegend": true,
         "type": "scatter",
         "x": [
          2018,
          2017,
          2016,
          2015,
          2012,
          2014,
          2005,
          2003,
          2004,
          2002,
          2009,
          2008,
          2011,
          2007,
          2006,
          2013,
          2001,
          2010,
          1999,
          2000,
          1998,
          1991,
          1995,
          1997,
          1996,
          1992,
          1990,
          1994,
          1993,
          1989,
          1988,
          1987,
          1986,
          1985,
          1984,
          1980,
          1983,
          1982,
          1981
         ],
         "xaxis": "x",
         "y": [
          123.92857142857143,
          120.71428571428571,
          101.33333333333333,
          98.76190476190476,
          89.66666666666667,
          87.5952380952381,
          85.61904761904762,
          84.71428571428571,
          84.42857142857143,
          83.26190476190476,
          82.4047619047619,
          81.04761904761905,
          80.64285714285714,
          80.57142857142857,
          80.07142857142857,
          80.02380952380952,
          79.80952380952381,
          79.21428571428571,
          76.38095238095238,
          75.19047619047619,
          72.14285714285714,
          70.78571428571429,
          70.33333333333333,
          69.71428571428571,
          68.88095238095238,
          68.88095238095238,
          67.78571428571429,
          66.66666666666667,
          65.78571428571429,
          65.07142857142857,
          64.54761904761905,
          60.476190476190474,
          58.357142857142854,
          51.45238095238095,
          34.07142857142857,
          14.547619047619047,
          13.976190476190476,
          12.80952380952381,
          11.714285714285714
         ],
         "yaxis": "y"
        },
        {
         "hovertemplate": "Causa de muerte=082  XVI.Afecciones originadas en el periodo perinatal<br>Periodo=%{x}<br>Total=%{y}<extra></extra>",
         "legendgroup": "082  XVI.Afecciones originadas en el periodo perinatal",
         "line": {
          "color": "#00cc96",
          "dash": "solid"
         },
         "marker": {
          "symbol": "circle"
         },
         "mode": "lines",
         "name": "082  XVI.Afecciones originadas en el periodo perinatal",
         "orientation": "v",
         "showlegend": true,
         "type": "scatter",
         "x": [
          1980,
          1981,
          1982,
          1983,
          1984,
          1985,
          1986,
          1987,
          1990,
          1989,
          1988,
          1992,
          1991,
          1993,
          2004,
          2007,
          2008,
          2005,
          1994,
          2002,
          2006,
          2009,
          2001,
          2003,
          1996,
          1995,
          2000,
          2011,
          2010,
          2012,
          1997,
          1999,
          1998,
          2014,
          2013,
          2015,
          2016,
          2018,
          2017
         ],
         "xaxis": "x",
         "y": [
          75.95238095238095,
          74.16666666666667,
          65.57142857142857,
          59.142857142857146,
          48.714285714285715,
          39.333333333333336,
          38.42857142857143,
          38.26190476190476,
          32.45238095238095,
          32.214285714285715,
          31.095238095238095,
          28.952380952380953,
          28.357142857142858,
          25.5,
          23.857142857142858,
          23.071428571428573,
          22.476190476190474,
          22.428571428571427,
          22.023809523809526,
          21.785714285714285,
          21.69047619047619,
          21.428571428571427,
          21.285714285714285,
          21.11904761904762,
          20.69047619047619,
          20.666666666666668,
          20.452380952380953,
          19.833333333333332,
          19.785714285714285,
          19.738095238095237,
          19.095238095238095,
          18.761904761904763,
          18.547619047619047,
          18.523809523809526,
          16.976190476190474,
          16.047619047619047,
          15.166666666666666,
          15,
          14.976190476190476
         ],
         "yaxis": "y"
        },
        {
         "hovertemplate": "Causa de muerte=083-085  XVII.Malformaciones congénitas, deformidades y anomalías cromosómicas<br>Periodo=%{x}<br>Total=%{y}<extra></extra>",
         "legendgroup": "083-085  XVII.Malformaciones congénitas, deformidades y anomalías cromosómicas",
         "line": {
          "color": "#ab63fa",
          "dash": "solid"
         },
         "marker": {
          "symbol": "circle"
         },
         "mode": "lines",
         "name": "083-085  XVII.Malformaciones congénitas, deformidades y anomalías cromosómicas",
         "orientation": "v",
         "showlegend": true,
         "type": "scatter",
         "x": [
          1980,
          1981,
          1982,
          1983,
          1984,
          1985,
          1986,
          1987,
          1988,
          1992,
          1991,
          1993,
          1990,
          1989,
          1994,
          1996,
          1997,
          1995,
          1999,
          1998,
          2000,
          2003,
          2004,
          2002,
          2010,
          2005,
          2001,
          2006,
          2008,
          2011,
          2007,
          2009,
          2016,
          2018,
          2014,
          2012,
          2017,
          2015,
          2013
         ],
         "xaxis": "x",
         "y": [
          55.54761904761905,
          55.07142857142857,
          48.23809523809524,
          45.80952380952381,
          41.714285714285715,
          38.61904761904762,
          37.54761904761905,
          36.26190476190476,
          36.023809523809526,
          34.666666666666664,
          33.904761904761905,
          33,
          32.904761904761905,
          32.904761904761905,
          30.88095238095238,
          28.976190476190474,
          28.357142857142858,
          27.976190476190474,
          27.19047619047619,
          27.047619047619047,
          26.476190476190474,
          24.5,
          23.857142857142858,
          23.5,
          23.11904761904762,
          22.904761904761905,
          22.738095238095237,
          22.238095238095237,
          22,
          21.904761904761905,
          21.19047619047619,
          21.166666666666668,
          20.142857142857142,
          20.071428571428573,
          19.714285714285715,
          19.595238095238095,
          19.38095238095238,
          19.095238095238095,
          18.047619047619047
         ],
         "yaxis": "y"
        },
        {
         "hovertemplate": "Causa de muerte=042-043  III.Enfermedades de la sangre y de los órganos hematopoyéticos, y ciertos trastornos que afectan al mecanismo de la inmunidad<br>Periodo=%{x}<br>Total=%{y}<extra></extra>",
         "legendgroup": "042-043  III.Enfermedades de la sangre y de los órganos hematopoyéticos, y ciertos trastornos que afectan al mecanismo de la inmunidad",
         "line": {
          "color": "#FFA15A",
          "dash": "solid"
         },
         "marker": {
          "symbol": "circle"
         },
         "mode": "lines",
         "name": "042-043  III.Enfermedades de la sangre y de los órganos hematopoyéticos, y ciertos trastornos que afectan al mecanismo de la inmunidad",
         "orientation": "v",
         "showlegend": true,
         "type": "scatter",
         "x": [
          2015,
          2017,
          2018,
          2016,
          2014,
          2013,
          2012,
          2011,
          2010,
          2009,
          2008,
          1998,
          2005,
          2004,
          2007,
          1994,
          1993,
          1997,
          1996,
          2002,
          1995,
          1991,
          2003,
          2006,
          2000,
          1992,
          1990,
          1999,
          2001,
          1989,
          1987,
          1988,
          1986,
          1985,
          1984,
          1983,
          1981,
          1980,
          1982
         ],
         "xaxis": "x",
         "y": [
          48.285714285714285,
          46.976190476190474,
          46.333333333333336,
          44.904761904761905,
          42.476190476190474,
          39.023809523809526,
          37.023809523809526,
          36.38095238095238,
          36.166666666666664,
          34.95238095238095,
          31.952380952380953,
          31.928571428571427,
          31.333333333333332,
          30.738095238095237,
          30.69047619047619,
          30.238095238095237,
          30.047619047619047,
          30.047619047619047,
          30.047619047619047,
          29.904761904761905,
          29.88095238095238,
          29.69047619047619,
          29.61904761904762,
          29.214285714285715,
          28.80952380952381,
          27.571428571428573,
          26.928571428571427,
          26.761904761904763,
          26.61904761904762,
          25.547619047619047,
          22.738095238095237,
          22.642857142857142,
          20.976190476190474,
          20.214285714285715,
          19.11904761904762,
          17.61904761904762,
          17.404761904761905,
          16.928571428571427,
          15.69047619047619
         ],
         "yaxis": "y"
        },
        {
         "hovertemplate": "Causa de muerte=081  XV.Embarazo, parto y puerperio<br>Periodo=%{x}<br>Total=%{y}<extra></extra>",
         "legendgroup": "081  XV.Embarazo, parto y puerperio",
         "line": {
          "color": "#19d3f3",
          "dash": "solid"
         },
         "marker": {
          "symbol": "circle"
         },
         "mode": "lines",
         "name": "081  XV.Embarazo, parto y puerperio",
         "orientation": "v",
         "showlegend": true,
         "type": "scatter",
         "x": [
          1980,
          1982,
          1981,
          1983,
          1984,
          1986,
          2008,
          1990,
          2004,
          1987,
          1988,
          1985,
          2010,
          2003,
          1992,
          2013,
          2005,
          2009,
          2001,
          2015,
          1999,
          2016,
          2000,
          2002,
          2011,
          2006,
          2017,
          1994,
          1991,
          2007,
          1993,
          1989,
          1995,
          1996,
          1998,
          2012,
          2014,
          1997,
          2018
         ],
         "xaxis": "x",
         "y": [
          1.5,
          1.2857142857142858,
          1.2142857142857142,
          0.8809523809523809,
          0.5714285714285714,
          0.5714285714285714,
          0.5714285714285714,
          0.5238095238095238,
          0.5,
          0.5,
          0.5,
          0.47619047619047616,
          0.47619047619047616,
          0.47619047619047616,
          0.4523809523809524,
          0.42857142857142855,
          0.42857142857142855,
          0.40476190476190477,
          0.40476190476190477,
          0.35714285714285715,
          0.35714285714285715,
          0.35714285714285715,
          0.3333333333333333,
          0.3333333333333333,
          0.3333333333333333,
          0.3333333333333333,
          0.30952380952380953,
          0.30952380952380953,
          0.30952380952380953,
          0.30952380952380953,
          0.2857142857142857,
          0.2857142857142857,
          0.2619047619047619,
          0.2619047619047619,
          0.23809523809523808,
          0.23809523809523808,
          0.21428571428571427,
          0.19047619047619047,
          0.16666666666666666
         ],
         "yaxis": "y"
        }
       ],
       "layout": {
        "height": 1200,
        "legend": {
         "title": {
          "text": "Causa de muerte"
         },
         "tracegroupgap": 0,
         "x": 0,
         "xanchor": "left",
         "y": 1.5,
         "yanchor": "top"
        },
        "margin": {
         "t": 60
        },
        "template": {
         "data": {
          "bar": [
           {
            "error_x": {
             "color": "#2a3f5f"
            },
            "error_y": {
             "color": "#2a3f5f"
            },
            "marker": {
             "line": {
              "color": "#E5ECF6",
              "width": 0.5
             },
             "pattern": {
              "fillmode": "overlay",
              "size": 10,
              "solidity": 0.2
             }
            },
            "type": "bar"
           }
          ],
          "barpolar": [
           {
            "marker": {
             "line": {
              "color": "#E5ECF6",
              "width": 0.5
             },
             "pattern": {
              "fillmode": "overlay",
              "size": 10,
              "solidity": 0.2
             }
            },
            "type": "barpolar"
           }
          ],
          "carpet": [
           {
            "aaxis": {
             "endlinecolor": "#2a3f5f",
             "gridcolor": "white",
             "linecolor": "white",
             "minorgridcolor": "white",
             "startlinecolor": "#2a3f5f"
            },
            "baxis": {
             "endlinecolor": "#2a3f5f",
             "gridcolor": "white",
             "linecolor": "white",
             "minorgridcolor": "white",
             "startlinecolor": "#2a3f5f"
            },
            "type": "carpet"
           }
          ],
          "choropleth": [
           {
            "colorbar": {
             "outlinewidth": 0,
             "ticks": ""
            },
            "type": "choropleth"
           }
          ],
          "contour": [
           {
            "colorbar": {
             "outlinewidth": 0,
             "ticks": ""
            },
            "colorscale": [
             [
              0,
              "#0d0887"
             ],
             [
              0.1111111111111111,
              "#46039f"
             ],
             [
              0.2222222222222222,
              "#7201a8"
             ],
             [
              0.3333333333333333,
              "#9c179e"
             ],
             [
              0.4444444444444444,
              "#bd3786"
             ],
             [
              0.5555555555555556,
              "#d8576b"
             ],
             [
              0.6666666666666666,
              "#ed7953"
             ],
             [
              0.7777777777777778,
              "#fb9f3a"
             ],
             [
              0.8888888888888888,
              "#fdca26"
             ],
             [
              1,
              "#f0f921"
             ]
            ],
            "type": "contour"
           }
          ],
          "contourcarpet": [
           {
            "colorbar": {
             "outlinewidth": 0,
             "ticks": ""
            },
            "type": "contourcarpet"
           }
          ],
          "heatmap": [
           {
            "colorbar": {
             "outlinewidth": 0,
             "ticks": ""
            },
            "colorscale": [
             [
              0,
              "#0d0887"
             ],
             [
              0.1111111111111111,
              "#46039f"
             ],
             [
              0.2222222222222222,
              "#7201a8"
             ],
             [
              0.3333333333333333,
              "#9c179e"
             ],
             [
              0.4444444444444444,
              "#bd3786"
             ],
             [
              0.5555555555555556,
              "#d8576b"
             ],
             [
              0.6666666666666666,
              "#ed7953"
             ],
             [
              0.7777777777777778,
              "#fb9f3a"
             ],
             [
              0.8888888888888888,
              "#fdca26"
             ],
             [
              1,
              "#f0f921"
             ]
            ],
            "type": "heatmap"
           }
          ],
          "heatmapgl": [
           {
            "colorbar": {
             "outlinewidth": 0,
             "ticks": ""
            },
            "colorscale": [
             [
              0,
              "#0d0887"
             ],
             [
              0.1111111111111111,
              "#46039f"
             ],
             [
              0.2222222222222222,
              "#7201a8"
             ],
             [
              0.3333333333333333,
              "#9c179e"
             ],
             [
              0.4444444444444444,
              "#bd3786"
             ],
             [
              0.5555555555555556,
              "#d8576b"
             ],
             [
              0.6666666666666666,
              "#ed7953"
             ],
             [
              0.7777777777777778,
              "#fb9f3a"
             ],
             [
              0.8888888888888888,
              "#fdca26"
             ],
             [
              1,
              "#f0f921"
             ]
            ],
            "type": "heatmapgl"
           }
          ],
          "histogram": [
           {
            "marker": {
             "pattern": {
              "fillmode": "overlay",
              "size": 10,
              "solidity": 0.2
             }
            },
            "type": "histogram"
           }
          ],
          "histogram2d": [
           {
            "colorbar": {
             "outlinewidth": 0,
             "ticks": ""
            },
            "colorscale": [
             [
              0,
              "#0d0887"
             ],
             [
              0.1111111111111111,
              "#46039f"
             ],
             [
              0.2222222222222222,
              "#7201a8"
             ],
             [
              0.3333333333333333,
              "#9c179e"
             ],
             [
              0.4444444444444444,
              "#bd3786"
             ],
             [
              0.5555555555555556,
              "#d8576b"
             ],
             [
              0.6666666666666666,
              "#ed7953"
             ],
             [
              0.7777777777777778,
              "#fb9f3a"
             ],
             [
              0.8888888888888888,
              "#fdca26"
             ],
             [
              1,
              "#f0f921"
             ]
            ],
            "type": "histogram2d"
           }
          ],
          "histogram2dcontour": [
           {
            "colorbar": {
             "outlinewidth": 0,
             "ticks": ""
            },
            "colorscale": [
             [
              0,
              "#0d0887"
             ],
             [
              0.1111111111111111,
              "#46039f"
             ],
             [
              0.2222222222222222,
              "#7201a8"
             ],
             [
              0.3333333333333333,
              "#9c179e"
             ],
             [
              0.4444444444444444,
              "#bd3786"
             ],
             [
              0.5555555555555556,
              "#d8576b"
             ],
             [
              0.6666666666666666,
              "#ed7953"
             ],
             [
              0.7777777777777778,
              "#fb9f3a"
             ],
             [
              0.8888888888888888,
              "#fdca26"
             ],
             [
              1,
              "#f0f921"
             ]
            ],
            "type": "histogram2dcontour"
           }
          ],
          "mesh3d": [
           {
            "colorbar": {
             "outlinewidth": 0,
             "ticks": ""
            },
            "type": "mesh3d"
           }
          ],
          "parcoords": [
           {
            "line": {
             "colorbar": {
              "outlinewidth": 0,
              "ticks": ""
             }
            },
            "type": "parcoords"
           }
          ],
          "pie": [
           {
            "automargin": true,
            "type": "pie"
           }
          ],
          "scatter": [
           {
            "fillpattern": {
             "fillmode": "overlay",
             "size": 10,
             "solidity": 0.2
            },
            "type": "scatter"
           }
          ],
          "scatter3d": [
           {
            "line": {
             "colorbar": {
              "outlinewidth": 0,
              "ticks": ""
             }
            },
            "marker": {
             "colorbar": {
              "outlinewidth": 0,
              "ticks": ""
             }
            },
            "type": "scatter3d"
           }
          ],
          "scattercarpet": [
           {
            "marker": {
             "colorbar": {
              "outlinewidth": 0,
              "ticks": ""
             }
            },
            "type": "scattercarpet"
           }
          ],
          "scattergeo": [
           {
            "marker": {
             "colorbar": {
              "outlinewidth": 0,
              "ticks": ""
             }
            },
            "type": "scattergeo"
           }
          ],
          "scattergl": [
           {
            "marker": {
             "colorbar": {
              "outlinewidth": 0,
              "ticks": ""
             }
            },
            "type": "scattergl"
           }
          ],
          "scattermapbox": [
           {
            "marker": {
             "colorbar": {
              "outlinewidth": 0,
              "ticks": ""
             }
            },
            "type": "scattermapbox"
           }
          ],
          "scatterpolar": [
           {
            "marker": {
             "colorbar": {
              "outlinewidth": 0,
              "ticks": ""
             }
            },
            "type": "scatterpolar"
           }
          ],
          "scatterpolargl": [
           {
            "marker": {
             "colorbar": {
              "outlinewidth": 0,
              "ticks": ""
             }
            },
            "type": "scatterpolargl"
           }
          ],
          "scatterternary": [
           {
            "marker": {
             "colorbar": {
              "outlinewidth": 0,
              "ticks": ""
             }
            },
            "type": "scatterternary"
           }
          ],
          "surface": [
           {
            "colorbar": {
             "outlinewidth": 0,
             "ticks": ""
            },
            "colorscale": [
             [
              0,
              "#0d0887"
             ],
             [
              0.1111111111111111,
              "#46039f"
             ],
             [
              0.2222222222222222,
              "#7201a8"
             ],
             [
              0.3333333333333333,
              "#9c179e"
             ],
             [
              0.4444444444444444,
              "#bd3786"
             ],
             [
              0.5555555555555556,
              "#d8576b"
             ],
             [
              0.6666666666666666,
              "#ed7953"
             ],
             [
              0.7777777777777778,
              "#fb9f3a"
             ],
             [
              0.8888888888888888,
              "#fdca26"
             ],
             [
              1,
              "#f0f921"
             ]
            ],
            "type": "surface"
           }
          ],
          "table": [
           {
            "cells": {
             "fill": {
              "color": "#EBF0F8"
             },
             "line": {
              "color": "white"
             }
            },
            "header": {
             "fill": {
              "color": "#C8D4E3"
             },
             "line": {
              "color": "white"
             }
            },
            "type": "table"
           }
          ]
         },
         "layout": {
          "annotationdefaults": {
           "arrowcolor": "#2a3f5f",
           "arrowhead": 0,
           "arrowwidth": 1
          },
          "autotypenumbers": "strict",
          "coloraxis": {
           "colorbar": {
            "outlinewidth": 0,
            "ticks": ""
           }
          },
          "colorscale": {
           "diverging": [
            [
             0,
             "#8e0152"
            ],
            [
             0.1,
             "#c51b7d"
            ],
            [
             0.2,
             "#de77ae"
            ],
            [
             0.3,
             "#f1b6da"
            ],
            [
             0.4,
             "#fde0ef"
            ],
            [
             0.5,
             "#f7f7f7"
            ],
            [
             0.6,
             "#e6f5d0"
            ],
            [
             0.7,
             "#b8e186"
            ],
            [
             0.8,
             "#7fbc41"
            ],
            [
             0.9,
             "#4d9221"
            ],
            [
             1,
             "#276419"
            ]
           ],
           "sequential": [
            [
             0,
             "#0d0887"
            ],
            [
             0.1111111111111111,
             "#46039f"
            ],
            [
             0.2222222222222222,
             "#7201a8"
            ],
            [
             0.3333333333333333,
             "#9c179e"
            ],
            [
             0.4444444444444444,
             "#bd3786"
            ],
            [
             0.5555555555555556,
             "#d8576b"
            ],
            [
             0.6666666666666666,
             "#ed7953"
            ],
            [
             0.7777777777777778,
             "#fb9f3a"
            ],
            [
             0.8888888888888888,
             "#fdca26"
            ],
            [
             1,
             "#f0f921"
            ]
           ],
           "sequentialminus": [
            [
             0,
             "#0d0887"
            ],
            [
             0.1111111111111111,
             "#46039f"
            ],
            [
             0.2222222222222222,
             "#7201a8"
            ],
            [
             0.3333333333333333,
             "#9c179e"
            ],
            [
             0.4444444444444444,
             "#bd3786"
            ],
            [
             0.5555555555555556,
             "#d8576b"
            ],
            [
             0.6666666666666666,
             "#ed7953"
            ],
            [
             0.7777777777777778,
             "#fb9f3a"
            ],
            [
             0.8888888888888888,
             "#fdca26"
            ],
            [
             1,
             "#f0f921"
            ]
           ]
          },
          "colorway": [
           "#636efa",
           "#EF553B",
           "#00cc96",
           "#ab63fa",
           "#FFA15A",
           "#19d3f3",
           "#FF6692",
           "#B6E880",
           "#FF97FF",
           "#FECB52"
          ],
          "font": {
           "color": "#2a3f5f"
          },
          "geo": {
           "bgcolor": "white",
           "lakecolor": "white",
           "landcolor": "#E5ECF6",
           "showlakes": true,
           "showland": true,
           "subunitcolor": "white"
          },
          "hoverlabel": {
           "align": "left"
          },
          "hovermode": "closest",
          "mapbox": {
           "style": "light"
          },
          "paper_bgcolor": "white",
          "plot_bgcolor": "#E5ECF6",
          "polar": {
           "angularaxis": {
            "gridcolor": "white",
            "linecolor": "white",
            "ticks": ""
           },
           "bgcolor": "#E5ECF6",
           "radialaxis": {
            "gridcolor": "white",
            "linecolor": "white",
            "ticks": ""
           }
          },
          "scene": {
           "xaxis": {
            "backgroundcolor": "#E5ECF6",
            "gridcolor": "white",
            "gridwidth": 2,
            "linecolor": "white",
            "showbackground": true,
            "ticks": "",
            "zerolinecolor": "white"
           },
           "yaxis": {
            "backgroundcolor": "#E5ECF6",
            "gridcolor": "white",
            "gridwidth": 2,
            "linecolor": "white",
            "showbackground": true,
            "ticks": "",
            "zerolinecolor": "white"
           },
           "zaxis": {
            "backgroundcolor": "#E5ECF6",
            "gridcolor": "white",
            "gridwidth": 2,
            "linecolor": "white",
            "showbackground": true,
            "ticks": "",
            "zerolinecolor": "white"
           }
          },
          "shapedefaults": {
           "line": {
            "color": "#2a3f5f"
           }
          },
          "ternary": {
           "aaxis": {
            "gridcolor": "white",
            "linecolor": "white",
            "ticks": ""
           },
           "baxis": {
            "gridcolor": "white",
            "linecolor": "white",
            "ticks": ""
           },
           "bgcolor": "#E5ECF6",
           "caxis": {
            "gridcolor": "white",
            "linecolor": "white",
            "ticks": ""
           }
          },
          "title": {
           "x": 0.05
          },
          "xaxis": {
           "automargin": true,
           "gridcolor": "white",
           "linecolor": "white",
           "ticks": "",
           "title": {
            "standoff": 15
           },
           "zerolinecolor": "white",
           "zerolinewidth": 2
          },
          "yaxis": {
           "automargin": true,
           "gridcolor": "white",
           "linecolor": "white",
           "ticks": "",
           "title": {
            "standoff": 15
           },
           "zerolinecolor": "white",
           "zerolinewidth": 2
          }
         }
        },
        "width": 1200,
        "xaxis": {
         "anchor": "y",
         "domain": [
          0,
          1
         ],
         "dtick": 2,
         "range": [
          1980,
          2018
         ],
         "title": {
          "text": "Periodo"
         }
        },
        "yaxis": {
         "anchor": "x",
         "domain": [
          0,
          1
         ],
         "dtick": 250,
         "range": [
          0,
          3250
         ],
         "title": {
          "text": "Total"
         }
        }
       }
      },
      "text/html": [
       "<div>                            <div id=\"31ef165e-4bcc-4ccf-9d98-a433797c7b4a\" class=\"plotly-graph-div\" style=\"height:1200px; width:1200px;\"></div>            <script type=\"text/javascript\">                require([\"plotly\"], function(Plotly) {                    window.PLOTLYENV=window.PLOTLYENV || {};                                    if (document.getElementById(\"31ef165e-4bcc-4ccf-9d98-a433797c7b4a\")) {                    Plotly.newPlot(                        \"31ef165e-4bcc-4ccf-9d98-a433797c7b4a\",                        [{\"hovertemplate\":\"Causa de muerte=053-061 IX.Enfermedades del sistema circulatorio<br>Periodo=%{x}<br>Total=%{y}<extra></extra>\",\"legendgroup\":\"053-061 IX.Enfermedades del sistema circulatorio\",\"line\":{\"color\":\"#636efa\",\"dash\":\"solid\"},\"marker\":{\"symbol\":\"circle\"},\"mode\":\"lines\",\"name\":\"053-061 IX.Enfermedades del sistema circulatorio\",\"orientation\":\"v\",\"showlegend\":true,\"x\":[1991,1999,1998,1985,1983,1993,2003,1996,1990,1988,1989,1992,1995,1997,1994,1986,1981,2005,1984,1987,1980,2002,2000,2001,2015,2007,1982,2004,2008,2017,2012,2018,2006,2009,2016,2010,2011,2013,2014],\"xaxis\":\"x\",\"y\":[3153.309523809524,3137.4761904761904,3134.0,3123.7619047619046,3107.8809523809523,3106.6428571428573,3090.0714285714284,3084.8809523809523,3076.7619047619046,3068.404761904762,3063.6190476190477,3060.6666666666665,3057.9761904761904,3055.6666666666665,3040.2619047619046,3038.5,3037.7619047619046,3021.595238095238,3019.1428571428573,3006.714285714286,2997.309523809524,2995.1666666666665,2993.404761904762,2961.6428571428573,2957.0714285714284,2955.3809523809523,2952.0476190476193,2949.214285714286,2923.6428571428573,2915.8333333333335,2907.0714285714284,2877.595238095238,2875.2380952380954,2858.5,2851.8571428571427,2836.3809523809523,2817.309523809524,2797.2380952380954,2795.0714285714284],\"yaxis\":\"y\",\"type\":\"scatter\"},{\"hovertemplate\":\"Causa de muerte=009-041  II.Tumores<br>Periodo=%{x}<br>Total=%{y}<extra></extra>\",\"legendgroup\":\"009-041  II.Tumores\",\"line\":{\"color\":\"#EF553B\",\"dash\":\"solid\"},\"marker\":{\"symbol\":\"circle\"},\"mode\":\"lines\",\"name\":\"009-041  II.Tumores\",\"orientation\":\"v\",\"showlegend\":true,\"x\":[2017,2016,2018,2015,2013,2012,2014,2011,2010,2009,2008,2007,2006,2004,2005,2003,2002,2001,2000,1999,1998,1997,1995,1996,1994,1993,1992,1991,1990,1989,1988,1987,1986,1985,1984,1983,1982,1981,1980],\"xaxis\":\"x\",\"y\":[2696.809523809524,2689.0238095238096,2683.6666666666665,2651.9285714285716,2643.3571428571427,2642.690476190476,2625.6666666666665,2603.3571428571427,2552.8571428571427,2503.1428571428573,2477.4761904761904,2460.214285714286,2421.0238095238096,2392.5,2385.8571428571427,2376.809523809524,2328.190476190476,2326.5238095238096,2263.6190476190477,2251.5714285714284,2213.0,2178.9285714285716,2141.404761904762,2135.3809523809523,2098.5238095238096,2048.095238095238,1981.7857142857142,1942.0714285714287,1901.357142857143,1853.2142857142858,1818.3095238095239,1758.7619047619048,1685.2857142857142,1639.7380952380952,1586.0714285714287,1511.547619047619,1464.4761904761904,1421.7380952380952,1392.404761904762],\"yaxis\":\"y\",\"type\":\"scatter\"},{\"hovertemplate\":\"Causa de muerte=062-067  X.Enfermedades del sistema respiratorio<br>Periodo=%{x}<br>Total=%{y}<extra></extra>\",\"legendgroup\":\"062-067  X.Enfermedades del sistema respiratorio\",\"line\":{\"color\":\"#00cc96\",\"dash\":\"solid\"},\"marker\":{\"symbol\":\"circle\"},\"mode\":\"lines\",\"name\":\"062-067  X.Enfermedades del sistema respiratorio\",\"orientation\":\"v\",\"showlegend\":true,\"x\":[2018,2015,2017,2012,2005,2016,1999,2008,2007,2014,2003,2009,2013,2011,2002,2000,2010,1998,2006,2004,2001,1997,1996,1995,1990,1993,1991,1994,1992,1989,1985,1988,1983,1986,1981,1987,1980,1984,1982],\"xaxis\":\"x\",\"y\":[1278.2619047619048,1234.4761904761904,1228.9285714285713,1127.047619047619,1121.1666666666667,1114.5714285714287,1076.047619047619,1052.3809523809523,1048.3095238095239,1043.8333333333333,1042.9285714285713,1030.5238095238096,1013.452380952381,1005.7857142857143,986.3571428571429,975.7857142857143,958.7142857142857,946.3571428571429,940.7142857142857,932.1190476190476,889.5714285714286,869.5,864.6190476190476,826.4047619047619,814.2619047619048,798.6904761904761,785.5714285714286,767.3809523809524,745.047619047619,739.2380952380952,725.3333333333334,702.6904761904761,700.5714285714286,699.952380952381,699.1904761904761,666.0714285714286,659.7380952380952,646.2857142857143,618.4761904761905],\"yaxis\":\"y\",\"type\":\"scatter\"},{\"hovertemplate\":\"Causa de muerte=050-052  VI-VIII.Enfermedades del sistema nervioso y de los \\u00f3rganos de los sentidos<br>Periodo=%{x}<br>Total=%{y}<extra></extra>\",\"legendgroup\":\"050-052  VI-VIII.Enfermedades del sistema nervioso y de los \\u00f3rganos de los sentidos\",\"line\":{\"color\":\"#ab63fa\",\"dash\":\"solid\"},\"marker\":{\"symbol\":\"circle\"},\"mode\":\"lines\",\"name\":\"050-052  VI-VIII.Enfermedades del sistema nervioso y de los \\u00f3rganos de los sentidos\",\"orientation\":\"v\",\"showlegend\":true,\"x\":[2017,2018,2015,2016,2014,2012,2013,2011,2010,2009,2008,2007,2006,2005,2003,2004,2002,2001,2000,1999,1998,1997,1996,1995,1994,1993,1991,1992,1990,1989,1988,1987,1986,1985,1980,1983,1982,1984,1981],\"xaxis\":\"x\",\"y\":[627.2619047619048,625.6904761904761,615.1190476190476,600.8571428571429,557.0,525.9285714285714,511.57142857142856,482.23809523809524,459.1666666666667,447.14285714285717,416.57142857142856,398.1666666666667,374.3095238095238,373.73809523809524,352.6904761904762,336.26190476190476,297.9047619047619,278.0238095238095,249.42857142857142,245.3095238095238,188.73809523809524,167.3095238095238,157.88095238095238,149.28571428571428,141.26190476190476,128.28571428571428,119.69047619047619,117.21428571428571,110.66666666666667,103.0,100.23809523809524,92.14285714285714,83.9047619047619,82.04761904761905,81.0,80.5,77.30952380952381,76.73809523809524,74.5952380952381],\"yaxis\":\"y\",\"type\":\"scatter\"},{\"hovertemplate\":\"Causa de muerte=046-049  V.Trastornos mentales y del comportamiento<br>Periodo=%{x}<br>Total=%{y}<extra></extra>\",\"legendgroup\":\"046-049  V.Trastornos mentales y del comportamiento\",\"line\":{\"color\":\"#FFA15A\",\"dash\":\"solid\"},\"marker\":{\"symbol\":\"circle\"},\"mode\":\"lines\",\"name\":\"046-049  V.Trastornos mentales y del comportamiento\",\"orientation\":\"v\",\"showlegend\":true,\"x\":[2018,2017,2015,2016,2014,2012,2013,2011,2010,2009,2003,2008,2005,2007,2006,2004,1998,2002,1999,2001,2000,1997,1996,1995,1994,1993,1992,1991,1990,1989,1988,1987,1986,1985,1984,1983,1981,1982,1980],\"xaxis\":\"x\",\"y\":[532.7619047619048,517.1904761904761,507.92857142857144,499.5238095238095,445.3809523809524,408.2142857142857,404.2142857142857,363.7142857142857,352.8809523809524,344.1904761904762,311.23809523809524,310.4761904761905,298.54761904761904,293.0952380952381,288.26190476190476,282.8095238095238,280.85714285714283,278.14285714285717,274.2857142857143,270.14285714285717,265.45238095238096,257.0238095238095,243.57142857142858,223.64285714285714,201.88095238095238,178.42857142857142,161.95238095238096,154.1904761904762,129.5952380952381,104.85714285714286,83.21428571428571,72.23809523809524,58.904761904761905,49.57142857142857,40.404761904761905,35.38095238095238,23.452380952380953,23.047619047619047,21.428571428571427],\"yaxis\":\"y\",\"type\":\"scatter\"},{\"hovertemplate\":\"Causa de muerte=068-072  XI.Enfermedades del sistema digestivo<br>Periodo=%{x}<br>Total=%{y}<extra></extra>\",\"legendgroup\":\"068-072  XI.Enfermedades del sistema digestivo\",\"line\":{\"color\":\"#19d3f3\",\"dash\":\"solid\"},\"marker\":{\"symbol\":\"circle\"},\"mode\":\"lines\",\"name\":\"068-072  XI.Enfermedades del sistema digestivo\",\"orientation\":\"v\",\"showlegend\":true,\"x\":[2018,2017,2015,2016,2012,2007,2005,2011,2003,2009,2008,2014,2013,2004,2006,2010,1999,2002,1998,1996,1990,1991,1989,1997,1992,2000,2001,1994,1993,1988,1995,1987,1986,1985,1984,1980,1983,1982,1981],\"xaxis\":\"x\",\"y\":[516.4047619047619,486.8333333333333,484.76190476190476,478.4761904761905,471.35714285714283,467.85714285714283,467.23809523809524,466.0952380952381,466.0952380952381,465.64285714285717,463.7142857142857,461.54761904761904,461.3809523809524,460.8809523809524,460.73809523809524,454.6904761904762,451.7142857142857,451.1190476190476,450.5238095238095,449.07142857142856,448.9047619047619,448.64285714285717,444.0952380952381,439.9047619047619,439.3333333333333,438.54761904761904,438.26190476190476,437.9047619047619,437.8095238095238,437.42857142857144,436.95238095238096,435.73809523809524,429.35714285714283,427.8809523809524,417.2857142857143,414.4047619047619,411.7142857142857,409.3809523809524,407.35714285714283],\"yaxis\":\"y\",\"type\":\"scatter\"},{\"hovertemplate\":\"Causa de muerte=090-102  XX.Causas externas de mortalidad<br>Periodo=%{x}<br>Total=%{y}<extra></extra>\",\"legendgroup\":\"090-102  XX.Causas externas de mortalidad\",\"line\":{\"color\":\"#FF6692\",\"dash\":\"solid\"},\"marker\":{\"symbol\":\"circle\"},\"mode\":\"lines\",\"name\":\"090-102  XX.Causas externas de mortalidad\",\"orientation\":\"v\",\"showlegend\":true,\"x\":[1989,1990,1991,1988,1987,1992,2004,2005,1998,2003,2000,1997,1993,1999,1986,1995,1996,1983,2006,1994,2001,2002,2007,2017,1984,2018,2016,1985,1980,2008,1981,2015,2014,1982,2013,2009,2011,2010,2012],\"xaxis\":\"x\",\"y\":[460.3095238095238,449.2142857142857,441.26190476190476,432.64285714285717,414.54761904761904,410.1666666666667,405.8095238095238,402.42857142857144,401.5,397.54761904761904,393.8333333333333,392.6904761904762,391.2142857142857,390.73809523809524,389.64285714285717,388.6904761904762,388.6666666666667,386.3095238095238,384.26190476190476,382.9761904761905,380.92857142857144,379.3095238095238,378.95238095238096,377.07142857142856,376.26190476190476,375.42857142857144,373.04761904761904,373.0238095238095,368.1904761904762,364.0238095238095,363.9761904761905,359.0238095238095,354.8333333333333,349.54761904761904,349.4761904761905,345.14285714285717,338.8809523809524,334.9047619047619,333.42857142857144],\"yaxis\":\"y\",\"type\":\"scatter\"},{\"hovertemplate\":\"Causa de muerte=086-089  XVIII.S\\u00edntomas, signos y hallazgos anormales cl\\u00ednicos y de laboratorio, no clasificados en otra parte<br>Periodo=%{x}<br>Total=%{y}<extra></extra>\",\"legendgroup\":\"086-089  XVIII.S\\u00edntomas, signos y hallazgos anormales cl\\u00ednicos y de laboratorio, no clasificados en otra parte\",\"line\":{\"color\":\"#B6E880\",\"dash\":\"solid\"},\"marker\":{\"symbol\":\"circle\"},\"mode\":\"lines\",\"name\":\"086-089  XVIII.S\\u00edntomas, signos y hallazgos anormales cl\\u00ednicos y de laboratorio, no clasificados en otra parte\",\"orientation\":\"v\",\"showlegend\":true,\"x\":[1983,1985,1984,1981,1980,1982,1986,1988,1987,2008,1990,2007,1989,2009,2003,2005,2010,2011,2006,2004,1991,2002,2018,2012,2001,2000,1999,2015,2017,1992,1996,1993,2013,2014,1997,1995,1998,1994,2016],\"xaxis\":\"x\",\"y\":[404.35714285714283,398.14285714285717,377.4761904761905,377.1666666666667,376.5238095238095,375.9761904761905,370.54761904761904,288.4761904761905,286.6190476190476,273.7857142857143,270.6190476190476,270.42857142857144,264.73809523809524,263.95238095238096,262.1666666666667,261.1666666666667,256.4761904761905,252.66666666666666,251.0952380952381,250.11904761904762,247.64285714285714,242.11904761904762,240.1904761904762,238.5,234.76190476190476,229.45238095238096,227.38095238095238,226.28571428571428,222.21428571428572,221.3095238095238,217.28571428571428,216.71428571428572,213.02380952380952,201.97619047619048,196.78571428571428,195.26190476190476,193.5952380952381,193.38095238095238,191.26190476190476],\"yaxis\":\"y\",\"type\":\"scatter\"},{\"hovertemplate\":\"Causa de muerte=044-045  IV.Enfermedades endocrinas, nutricionales y metab\\u00f3licas<br>Periodo=%{x}<br>Total=%{y}<extra></extra>\",\"legendgroup\":\"044-045  IV.Enfermedades endocrinas, nutricionales y metab\\u00f3licas\",\"line\":{\"color\":\"#FF97FF\",\"dash\":\"solid\"},\"marker\":{\"symbol\":\"circle\"},\"mode\":\"lines\",\"name\":\"044-045  IV.Enfermedades endocrinas, nutricionales y metab\\u00f3licas\",\"orientation\":\"v\",\"showlegend\":true,\"x\":[2015,2018,2017,2014,2012,2011,2016,2010,2009,2005,2008,2007,2013,2003,2004,2002,2006,1999,2001,1998,2000,1995,1996,1997,1991,1994,1990,1993,1989,1988,1992,1987,1986,1985,1984,1983,1982,1981,1980],\"xaxis\":\"x\",\"y\":[334.8809523809524,320.5952380952381,316.57142857142856,309.8333333333333,305.3333333333333,304.5,302.3809523809524,299.95238095238096,296.7142857142857,295.73809523809524,293.73809523809524,291.35714285714283,290.6190476190476,289.2142857142857,283.76190476190476,276.0238095238095,274.35714285714283,271.0,267.2142857142857,266.9047619047619,259.3333333333333,254.97619047619048,252.1904761904762,250.5952380952381,249.1904761904762,247.33333333333334,245.97619047619048,245.54761904761904,240.47619047619048,238.97619047619048,235.6904761904762,234.92857142857142,231.88095238095238,226.92857142857142,222.57142857142858,213.9047619047619,199.61904761904762,194.73809523809524,186.83333333333334],\"yaxis\":\"y\",\"type\":\"scatter\"},{\"hovertemplate\":\"Causa de muerte=077-080  XIV.Enfermedades del sistema genitourinario<br>Periodo=%{x}<br>Total=%{y}<extra></extra>\",\"legendgroup\":\"077-080  XIV.Enfermedades del sistema genitourinario\",\"line\":{\"color\":\"#FECB52\",\"dash\":\"solid\"},\"marker\":{\"symbol\":\"circle\"},\"mode\":\"lines\",\"name\":\"077-080  XIV.Enfermedades del sistema genitourinario\",\"orientation\":\"v\",\"showlegend\":true,\"x\":[2018,2017,2016,2015,2012,2013,2014,2011,2009,2008,2010,2007,2005,2006,2003,2004,2002,2001,2000,1998,1999,1997,1990,1989,1992,1988,1996,1991,1993,1994,1995,1987,1985,1986,1984,1983,1981,1980,1982],\"xaxis\":\"x\",\"y\":[331.92857142857144,314.0,289.8333333333333,289.73809523809524,281.8809523809524,278.3095238095238,274.5238095238095,262.1666666666667,258.3333333333333,251.88095238095238,249.83333333333334,242.14285714285714,227.78571428571428,223.92857142857142,215.23809523809524,203.1904761904762,199.02380952380952,197.0952380952381,188.52380952380952,185.45238095238096,183.64285714285714,175.16666666666666,171.5,171.26190476190476,169.85714285714286,169.0952380952381,168.47619047619048,167.5,167.28571428571428,164.66666666666666,164.45238095238096,158.5952380952381,158.14285714285714,157.04761904761904,139.42857142857142,132.42857142857142,131.8095238095238,128.61904761904762,127.30952380952381],\"yaxis\":\"y\",\"type\":\"scatter\"},{\"hovertemplate\":\"Causa de muerte=001-008  I.Enfermedades infecciosas y parasitarias<br>Periodo=%{x}<br>Total=%{y}<extra></extra>\",\"legendgroup\":\"001-008  I.Enfermedades infecciosas y parasitarias\",\"line\":{\"color\":\"#636efa\",\"dash\":\"solid\"},\"marker\":{\"symbol\":\"circle\"},\"mode\":\"lines\",\"name\":\"001-008  I.Enfermedades infecciosas y parasitarias\",\"orientation\":\"v\",\"showlegend\":true,\"x\":[1995,1996,1994,1993,2007,2008,2015,2005,1992,2003,1997,2004,2006,2016,2009,2017,2002,1991,2001,1999,2012,2014,2010,2011,2018,1998,2000,2013,1990,1989,1988,1980,1981,1987,1982,1986,1985,1983,1984],\"xaxis\":\"x\",\"y\":[241.38095238095238,240.8095238095238,215.47619047619048,200.85714285714286,185.28571428571428,183.61904761904762,180.16666666666666,178.4047619047619,178.26190476190476,173.85714285714286,172.9047619047619,171.85714285714286,171.45238095238096,167.45238095238096,162.92857142857142,162.35714285714286,160.38095238095238,157.33333333333334,156.11904761904762,155.47619047619048,155.23809523809524,154.95238095238096,154.5,152.33333333333334,152.33333333333334,151.26190476190476,149.61904761904762,147.83333333333334,139.92857142857142,121.07142857142857,100.35714285714286,93.85714285714286,90.02380952380952,88.52380952380952,80.28571428571429,80.07142857142857,79.42857142857143,77.97619047619048,76.95238095238095],\"yaxis\":\"y\",\"type\":\"scatter\"},{\"hovertemplate\":\"Causa de muerte=074-076  XIII.Enfermedades del sistema osteomuscular y del tejido conjuntivo<br>Periodo=%{x}<br>Total=%{y}<extra></extra>\",\"legendgroup\":\"074-076  XIII.Enfermedades del sistema osteomuscular y del tejido conjuntivo\",\"line\":{\"color\":\"#EF553B\",\"dash\":\"solid\"},\"marker\":{\"symbol\":\"circle\"},\"mode\":\"lines\",\"name\":\"074-076  XIII.Enfermedades del sistema osteomuscular y del tejido conjuntivo\",\"orientation\":\"v\",\"showlegend\":true,\"x\":[2018,2017,2016,2015,2012,2014,2005,2003,2004,2002,2009,2008,2011,2007,2006,2013,2001,2010,1999,2000,1998,1991,1995,1997,1996,1992,1990,1994,1993,1989,1988,1987,1986,1985,1984,1980,1983,1982,1981],\"xaxis\":\"x\",\"y\":[123.92857142857143,120.71428571428571,101.33333333333333,98.76190476190476,89.66666666666667,87.5952380952381,85.61904761904762,84.71428571428571,84.42857142857143,83.26190476190476,82.4047619047619,81.04761904761905,80.64285714285714,80.57142857142857,80.07142857142857,80.02380952380952,79.80952380952381,79.21428571428571,76.38095238095238,75.19047619047619,72.14285714285714,70.78571428571429,70.33333333333333,69.71428571428571,68.88095238095238,68.88095238095238,67.78571428571429,66.66666666666667,65.78571428571429,65.07142857142857,64.54761904761905,60.476190476190474,58.357142857142854,51.45238095238095,34.07142857142857,14.547619047619047,13.976190476190476,12.80952380952381,11.714285714285714],\"yaxis\":\"y\",\"type\":\"scatter\"},{\"hovertemplate\":\"Causa de muerte=082  XVI.Afecciones originadas en el periodo perinatal<br>Periodo=%{x}<br>Total=%{y}<extra></extra>\",\"legendgroup\":\"082  XVI.Afecciones originadas en el periodo perinatal\",\"line\":{\"color\":\"#00cc96\",\"dash\":\"solid\"},\"marker\":{\"symbol\":\"circle\"},\"mode\":\"lines\",\"name\":\"082  XVI.Afecciones originadas en el periodo perinatal\",\"orientation\":\"v\",\"showlegend\":true,\"x\":[1980,1981,1982,1983,1984,1985,1986,1987,1990,1989,1988,1992,1991,1993,2004,2007,2008,2005,1994,2002,2006,2009,2001,2003,1996,1995,2000,2011,2010,2012,1997,1999,1998,2014,2013,2015,2016,2018,2017],\"xaxis\":\"x\",\"y\":[75.95238095238095,74.16666666666667,65.57142857142857,59.142857142857146,48.714285714285715,39.333333333333336,38.42857142857143,38.26190476190476,32.45238095238095,32.214285714285715,31.095238095238095,28.952380952380953,28.357142857142858,25.5,23.857142857142858,23.071428571428573,22.476190476190474,22.428571428571427,22.023809523809526,21.785714285714285,21.69047619047619,21.428571428571427,21.285714285714285,21.11904761904762,20.69047619047619,20.666666666666668,20.452380952380953,19.833333333333332,19.785714285714285,19.738095238095237,19.095238095238095,18.761904761904763,18.547619047619047,18.523809523809526,16.976190476190474,16.047619047619047,15.166666666666666,15.0,14.976190476190476],\"yaxis\":\"y\",\"type\":\"scatter\"},{\"hovertemplate\":\"Causa de muerte=083-085  XVII.Malformaciones cong\\u00e9nitas, deformidades y anomal\\u00edas cromos\\u00f3micas<br>Periodo=%{x}<br>Total=%{y}<extra></extra>\",\"legendgroup\":\"083-085  XVII.Malformaciones cong\\u00e9nitas, deformidades y anomal\\u00edas cromos\\u00f3micas\",\"line\":{\"color\":\"#ab63fa\",\"dash\":\"solid\"},\"marker\":{\"symbol\":\"circle\"},\"mode\":\"lines\",\"name\":\"083-085  XVII.Malformaciones cong\\u00e9nitas, deformidades y anomal\\u00edas cromos\\u00f3micas\",\"orientation\":\"v\",\"showlegend\":true,\"x\":[1980,1981,1982,1983,1984,1985,1986,1987,1988,1992,1991,1993,1990,1989,1994,1996,1997,1995,1999,1998,2000,2003,2004,2002,2010,2005,2001,2006,2008,2011,2007,2009,2016,2018,2014,2012,2017,2015,2013],\"xaxis\":\"x\",\"y\":[55.54761904761905,55.07142857142857,48.23809523809524,45.80952380952381,41.714285714285715,38.61904761904762,37.54761904761905,36.26190476190476,36.023809523809526,34.666666666666664,33.904761904761905,33.0,32.904761904761905,32.904761904761905,30.88095238095238,28.976190476190474,28.357142857142858,27.976190476190474,27.19047619047619,27.047619047619047,26.476190476190474,24.5,23.857142857142858,23.5,23.11904761904762,22.904761904761905,22.738095238095237,22.238095238095237,22.0,21.904761904761905,21.19047619047619,21.166666666666668,20.142857142857142,20.071428571428573,19.714285714285715,19.595238095238095,19.38095238095238,19.095238095238095,18.047619047619047],\"yaxis\":\"y\",\"type\":\"scatter\"},{\"hovertemplate\":\"Causa de muerte=042-043  III.Enfermedades de la sangre y de los \\u00f3rganos hematopoy\\u00e9ticos, y ciertos trastornos que afectan al mecanismo de la inmunidad<br>Periodo=%{x}<br>Total=%{y}<extra></extra>\",\"legendgroup\":\"042-043  III.Enfermedades de la sangre y de los \\u00f3rganos hematopoy\\u00e9ticos, y ciertos trastornos que afectan al mecanismo de la inmunidad\",\"line\":{\"color\":\"#FFA15A\",\"dash\":\"solid\"},\"marker\":{\"symbol\":\"circle\"},\"mode\":\"lines\",\"name\":\"042-043  III.Enfermedades de la sangre y de los \\u00f3rganos hematopoy\\u00e9ticos, y ciertos trastornos que afectan al mecanismo de la inmunidad\",\"orientation\":\"v\",\"showlegend\":true,\"x\":[2015,2017,2018,2016,2014,2013,2012,2011,2010,2009,2008,1998,2005,2004,2007,1994,1993,1997,1996,2002,1995,1991,2003,2006,2000,1992,1990,1999,2001,1989,1987,1988,1986,1985,1984,1983,1981,1980,1982],\"xaxis\":\"x\",\"y\":[48.285714285714285,46.976190476190474,46.333333333333336,44.904761904761905,42.476190476190474,39.023809523809526,37.023809523809526,36.38095238095238,36.166666666666664,34.95238095238095,31.952380952380953,31.928571428571427,31.333333333333332,30.738095238095237,30.69047619047619,30.238095238095237,30.047619047619047,30.047619047619047,30.047619047619047,29.904761904761905,29.88095238095238,29.69047619047619,29.61904761904762,29.214285714285715,28.80952380952381,27.571428571428573,26.928571428571427,26.761904761904763,26.61904761904762,25.547619047619047,22.738095238095237,22.642857142857142,20.976190476190474,20.214285714285715,19.11904761904762,17.61904761904762,17.404761904761905,16.928571428571427,15.69047619047619],\"yaxis\":\"y\",\"type\":\"scatter\"},{\"hovertemplate\":\"Causa de muerte=081  XV.Embarazo, parto y puerperio<br>Periodo=%{x}<br>Total=%{y}<extra></extra>\",\"legendgroup\":\"081  XV.Embarazo, parto y puerperio\",\"line\":{\"color\":\"#19d3f3\",\"dash\":\"solid\"},\"marker\":{\"symbol\":\"circle\"},\"mode\":\"lines\",\"name\":\"081  XV.Embarazo, parto y puerperio\",\"orientation\":\"v\",\"showlegend\":true,\"x\":[1980,1982,1981,1983,1984,1986,2008,1990,2004,1987,1988,1985,2010,2003,1992,2013,2005,2009,2001,2015,1999,2016,2000,2002,2011,2006,2017,1994,1991,2007,1993,1989,1995,1996,1998,2012,2014,1997,2018],\"xaxis\":\"x\",\"y\":[1.5,1.2857142857142858,1.2142857142857142,0.8809523809523809,0.5714285714285714,0.5714285714285714,0.5714285714285714,0.5238095238095238,0.5,0.5,0.5,0.47619047619047616,0.47619047619047616,0.47619047619047616,0.4523809523809524,0.42857142857142855,0.42857142857142855,0.40476190476190477,0.40476190476190477,0.35714285714285715,0.35714285714285715,0.35714285714285715,0.3333333333333333,0.3333333333333333,0.3333333333333333,0.3333333333333333,0.30952380952380953,0.30952380952380953,0.30952380952380953,0.30952380952380953,0.2857142857142857,0.2857142857142857,0.2619047619047619,0.2619047619047619,0.23809523809523808,0.23809523809523808,0.21428571428571427,0.19047619047619047,0.16666666666666666],\"yaxis\":\"y\",\"type\":\"scatter\"}],                        {\"template\":{\"data\":{\"histogram2dcontour\":[{\"type\":\"histogram2dcontour\",\"colorbar\":{\"outlinewidth\":0,\"ticks\":\"\"},\"colorscale\":[[0.0,\"#0d0887\"],[0.1111111111111111,\"#46039f\"],[0.2222222222222222,\"#7201a8\"],[0.3333333333333333,\"#9c179e\"],[0.4444444444444444,\"#bd3786\"],[0.5555555555555556,\"#d8576b\"],[0.6666666666666666,\"#ed7953\"],[0.7777777777777778,\"#fb9f3a\"],[0.8888888888888888,\"#fdca26\"],[1.0,\"#f0f921\"]]}],\"choropleth\":[{\"type\":\"choropleth\",\"colorbar\":{\"outlinewidth\":0,\"ticks\":\"\"}}],\"histogram2d\":[{\"type\":\"histogram2d\",\"colorbar\":{\"outlinewidth\":0,\"ticks\":\"\"},\"colorscale\":[[0.0,\"#0d0887\"],[0.1111111111111111,\"#46039f\"],[0.2222222222222222,\"#7201a8\"],[0.3333333333333333,\"#9c179e\"],[0.4444444444444444,\"#bd3786\"],[0.5555555555555556,\"#d8576b\"],[0.6666666666666666,\"#ed7953\"],[0.7777777777777778,\"#fb9f3a\"],[0.8888888888888888,\"#fdca26\"],[1.0,\"#f0f921\"]]}],\"heatmap\":[{\"type\":\"heatmap\",\"colorbar\":{\"outlinewidth\":0,\"ticks\":\"\"},\"colorscale\":[[0.0,\"#0d0887\"],[0.1111111111111111,\"#46039f\"],[0.2222222222222222,\"#7201a8\"],[0.3333333333333333,\"#9c179e\"],[0.4444444444444444,\"#bd3786\"],[0.5555555555555556,\"#d8576b\"],[0.6666666666666666,\"#ed7953\"],[0.7777777777777778,\"#fb9f3a\"],[0.8888888888888888,\"#fdca26\"],[1.0,\"#f0f921\"]]}],\"heatmapgl\":[{\"type\":\"heatmapgl\",\"colorbar\":{\"outlinewidth\":0,\"ticks\":\"\"},\"colorscale\":[[0.0,\"#0d0887\"],[0.1111111111111111,\"#46039f\"],[0.2222222222222222,\"#7201a8\"],[0.3333333333333333,\"#9c179e\"],[0.4444444444444444,\"#bd3786\"],[0.5555555555555556,\"#d8576b\"],[0.6666666666666666,\"#ed7953\"],[0.7777777777777778,\"#fb9f3a\"],[0.8888888888888888,\"#fdca26\"],[1.0,\"#f0f921\"]]}],\"contourcarpet\":[{\"type\":\"contourcarpet\",\"colorbar\":{\"outlinewidth\":0,\"ticks\":\"\"}}],\"contour\":[{\"type\":\"contour\",\"colorbar\":{\"outlinewidth\":0,\"ticks\":\"\"},\"colorscale\":[[0.0,\"#0d0887\"],[0.1111111111111111,\"#46039f\"],[0.2222222222222222,\"#7201a8\"],[0.3333333333333333,\"#9c179e\"],[0.4444444444444444,\"#bd3786\"],[0.5555555555555556,\"#d8576b\"],[0.6666666666666666,\"#ed7953\"],[0.7777777777777778,\"#fb9f3a\"],[0.8888888888888888,\"#fdca26\"],[1.0,\"#f0f921\"]]}],\"surface\":[{\"type\":\"surface\",\"colorbar\":{\"outlinewidth\":0,\"ticks\":\"\"},\"colorscale\":[[0.0,\"#0d0887\"],[0.1111111111111111,\"#46039f\"],[0.2222222222222222,\"#7201a8\"],[0.3333333333333333,\"#9c179e\"],[0.4444444444444444,\"#bd3786\"],[0.5555555555555556,\"#d8576b\"],[0.6666666666666666,\"#ed7953\"],[0.7777777777777778,\"#fb9f3a\"],[0.8888888888888888,\"#fdca26\"],[1.0,\"#f0f921\"]]}],\"mesh3d\":[{\"type\":\"mesh3d\",\"colorbar\":{\"outlinewidth\":0,\"ticks\":\"\"}}],\"scatter\":[{\"fillpattern\":{\"fillmode\":\"overlay\",\"size\":10,\"solidity\":0.2},\"type\":\"scatter\"}],\"parcoords\":[{\"type\":\"parcoords\",\"line\":{\"colorbar\":{\"outlinewidth\":0,\"ticks\":\"\"}}}],\"scatterpolargl\":[{\"type\":\"scatterpolargl\",\"marker\":{\"colorbar\":{\"outlinewidth\":0,\"ticks\":\"\"}}}],\"bar\":[{\"error_x\":{\"color\":\"#2a3f5f\"},\"error_y\":{\"color\":\"#2a3f5f\"},\"marker\":{\"line\":{\"color\":\"#E5ECF6\",\"width\":0.5},\"pattern\":{\"fillmode\":\"overlay\",\"size\":10,\"solidity\":0.2}},\"type\":\"bar\"}],\"scattergeo\":[{\"type\":\"scattergeo\",\"marker\":{\"colorbar\":{\"outlinewidth\":0,\"ticks\":\"\"}}}],\"scatterpolar\":[{\"type\":\"scatterpolar\",\"marker\":{\"colorbar\":{\"outlinewidth\":0,\"ticks\":\"\"}}}],\"histogram\":[{\"marker\":{\"pattern\":{\"fillmode\":\"overlay\",\"size\":10,\"solidity\":0.2}},\"type\":\"histogram\"}],\"scattergl\":[{\"type\":\"scattergl\",\"marker\":{\"colorbar\":{\"outlinewidth\":0,\"ticks\":\"\"}}}],\"scatter3d\":[{\"type\":\"scatter3d\",\"line\":{\"colorbar\":{\"outlinewidth\":0,\"ticks\":\"\"}},\"marker\":{\"colorbar\":{\"outlinewidth\":0,\"ticks\":\"\"}}}],\"scattermapbox\":[{\"type\":\"scattermapbox\",\"marker\":{\"colorbar\":{\"outlinewidth\":0,\"ticks\":\"\"}}}],\"scatterternary\":[{\"type\":\"scatterternary\",\"marker\":{\"colorbar\":{\"outlinewidth\":0,\"ticks\":\"\"}}}],\"scattercarpet\":[{\"type\":\"scattercarpet\",\"marker\":{\"colorbar\":{\"outlinewidth\":0,\"ticks\":\"\"}}}],\"carpet\":[{\"aaxis\":{\"endlinecolor\":\"#2a3f5f\",\"gridcolor\":\"white\",\"linecolor\":\"white\",\"minorgridcolor\":\"white\",\"startlinecolor\":\"#2a3f5f\"},\"baxis\":{\"endlinecolor\":\"#2a3f5f\",\"gridcolor\":\"white\",\"linecolor\":\"white\",\"minorgridcolor\":\"white\",\"startlinecolor\":\"#2a3f5f\"},\"type\":\"carpet\"}],\"table\":[{\"cells\":{\"fill\":{\"color\":\"#EBF0F8\"},\"line\":{\"color\":\"white\"}},\"header\":{\"fill\":{\"color\":\"#C8D4E3\"},\"line\":{\"color\":\"white\"}},\"type\":\"table\"}],\"barpolar\":[{\"marker\":{\"line\":{\"color\":\"#E5ECF6\",\"width\":0.5},\"pattern\":{\"fillmode\":\"overlay\",\"size\":10,\"solidity\":0.2}},\"type\":\"barpolar\"}],\"pie\":[{\"automargin\":true,\"type\":\"pie\"}]},\"layout\":{\"autotypenumbers\":\"strict\",\"colorway\":[\"#636efa\",\"#EF553B\",\"#00cc96\",\"#ab63fa\",\"#FFA15A\",\"#19d3f3\",\"#FF6692\",\"#B6E880\",\"#FF97FF\",\"#FECB52\"],\"font\":{\"color\":\"#2a3f5f\"},\"hovermode\":\"closest\",\"hoverlabel\":{\"align\":\"left\"},\"paper_bgcolor\":\"white\",\"plot_bgcolor\":\"#E5ECF6\",\"polar\":{\"bgcolor\":\"#E5ECF6\",\"angularaxis\":{\"gridcolor\":\"white\",\"linecolor\":\"white\",\"ticks\":\"\"},\"radialaxis\":{\"gridcolor\":\"white\",\"linecolor\":\"white\",\"ticks\":\"\"}},\"ternary\":{\"bgcolor\":\"#E5ECF6\",\"aaxis\":{\"gridcolor\":\"white\",\"linecolor\":\"white\",\"ticks\":\"\"},\"baxis\":{\"gridcolor\":\"white\",\"linecolor\":\"white\",\"ticks\":\"\"},\"caxis\":{\"gridcolor\":\"white\",\"linecolor\":\"white\",\"ticks\":\"\"}},\"coloraxis\":{\"colorbar\":{\"outlinewidth\":0,\"ticks\":\"\"}},\"colorscale\":{\"sequential\":[[0.0,\"#0d0887\"],[0.1111111111111111,\"#46039f\"],[0.2222222222222222,\"#7201a8\"],[0.3333333333333333,\"#9c179e\"],[0.4444444444444444,\"#bd3786\"],[0.5555555555555556,\"#d8576b\"],[0.6666666666666666,\"#ed7953\"],[0.7777777777777778,\"#fb9f3a\"],[0.8888888888888888,\"#fdca26\"],[1.0,\"#f0f921\"]],\"sequentialminus\":[[0.0,\"#0d0887\"],[0.1111111111111111,\"#46039f\"],[0.2222222222222222,\"#7201a8\"],[0.3333333333333333,\"#9c179e\"],[0.4444444444444444,\"#bd3786\"],[0.5555555555555556,\"#d8576b\"],[0.6666666666666666,\"#ed7953\"],[0.7777777777777778,\"#fb9f3a\"],[0.8888888888888888,\"#fdca26\"],[1.0,\"#f0f921\"]],\"diverging\":[[0,\"#8e0152\"],[0.1,\"#c51b7d\"],[0.2,\"#de77ae\"],[0.3,\"#f1b6da\"],[0.4,\"#fde0ef\"],[0.5,\"#f7f7f7\"],[0.6,\"#e6f5d0\"],[0.7,\"#b8e186\"],[0.8,\"#7fbc41\"],[0.9,\"#4d9221\"],[1,\"#276419\"]]},\"xaxis\":{\"gridcolor\":\"white\",\"linecolor\":\"white\",\"ticks\":\"\",\"title\":{\"standoff\":15},\"zerolinecolor\":\"white\",\"automargin\":true,\"zerolinewidth\":2},\"yaxis\":{\"gridcolor\":\"white\",\"linecolor\":\"white\",\"ticks\":\"\",\"title\":{\"standoff\":15},\"zerolinecolor\":\"white\",\"automargin\":true,\"zerolinewidth\":2},\"scene\":{\"xaxis\":{\"backgroundcolor\":\"#E5ECF6\",\"gridcolor\":\"white\",\"linecolor\":\"white\",\"showbackground\":true,\"ticks\":\"\",\"zerolinecolor\":\"white\",\"gridwidth\":2},\"yaxis\":{\"backgroundcolor\":\"#E5ECF6\",\"gridcolor\":\"white\",\"linecolor\":\"white\",\"showbackground\":true,\"ticks\":\"\",\"zerolinecolor\":\"white\",\"gridwidth\":2},\"zaxis\":{\"backgroundcolor\":\"#E5ECF6\",\"gridcolor\":\"white\",\"linecolor\":\"white\",\"showbackground\":true,\"ticks\":\"\",\"zerolinecolor\":\"white\",\"gridwidth\":2}},\"shapedefaults\":{\"line\":{\"color\":\"#2a3f5f\"}},\"annotationdefaults\":{\"arrowcolor\":\"#2a3f5f\",\"arrowhead\":0,\"arrowwidth\":1},\"geo\":{\"bgcolor\":\"white\",\"landcolor\":\"#E5ECF6\",\"subunitcolor\":\"white\",\"showland\":true,\"showlakes\":true,\"lakecolor\":\"white\"},\"title\":{\"x\":0.05},\"mapbox\":{\"style\":\"light\"}}},\"xaxis\":{\"anchor\":\"y\",\"domain\":[0.0,1.0],\"title\":{\"text\":\"Periodo\"},\"range\":[1980,2018],\"dtick\":2},\"yaxis\":{\"anchor\":\"x\",\"domain\":[0.0,1.0],\"title\":{\"text\":\"Total\"},\"range\":[0,3250],\"dtick\":250},\"legend\":{\"title\":{\"text\":\"Causa de muerte\"},\"tracegroupgap\":0,\"yanchor\":\"top\",\"y\":1.5,\"xanchor\":\"left\",\"x\":0},\"margin\":{\"t\":60},\"height\":1200,\"width\":1200},                        {\"responsive\": true}                    ).then(function(){\n",
       "                            \n",
       "var gd = document.getElementById('31ef165e-4bcc-4ccf-9d98-a433797c7b4a');\n",
       "var x = new MutationObserver(function (mutations, observer) {{\n",
       "        var display = window.getComputedStyle(gd).display;\n",
       "        if (!display || display === 'none') {{\n",
       "            console.log([gd, 'removed!']);\n",
       "            Plotly.purge(gd);\n",
       "            observer.disconnect();\n",
       "        }}\n",
       "}});\n",
       "\n",
       "// Listen for the removal of the full notebook cells\n",
       "var notebookContainer = gd.closest('#notebook-container');\n",
       "if (notebookContainer) {{\n",
       "    x.observe(notebookContainer, {childList: true});\n",
       "}}\n",
       "\n",
       "// Listen for the clearing of the current output cell\n",
       "var outputEl = gd.closest('.output');\n",
       "if (outputEl) {{\n",
       "    x.observe(outputEl, {childList: true});\n",
       "}}\n",
       "\n",
       "                        })                };                });            </script>        </div>"
      ]
     },
     "metadata": {},
     "output_type": "display_data"
    }
   ],
   "source": [
    "## 3.MAYOR CAUSA DE MUERTE HISTÓRICA & 4.CAUSA MENOS PREOUCPANTE pltly gráfico lineal\n",
    "\n",
    "fig = px.line(mean_df, x = 'Periodo', y = 'Total', color=\"Causa de muerte\", width=1200, height=1200)\n",
    "fig.update_layout(\n",
    "    legend=dict(\n",
    "        yanchor=\"top\",\n",
    "        y=1.5,\n",
    "        xanchor=\"left\",\n",
    "        x=0))\n",
    "fig.update_xaxes(range=[mean_df['Periodo'].min(), mean_df['Periodo'].max()], dtick=2)\n",
    "fig.update_yaxes(range=[0, 3250], dtick=250)"
   ]
  },
  {
   "cell_type": "code",
   "execution_count": 60,
   "metadata": {},
   "outputs": [],
   "source": [
    "##5. Analisis de la evolución de muertes por embarazo\n",
    "#El nº de muertes por embarazo ha bajado bastante de los 80 hasta hoy. \n",
    "#No obstante, me resulta llamativo el nº tan bajo de muertes."
   ]
  },
  {
   "cell_type": "code",
   "execution_count": 107,
   "metadata": {},
   "outputs": [
    {
     "data": {
      "text/html": [
       "<div>\n",
       "<style scoped>\n",
       "    .dataframe tbody tr th:only-of-type {\n",
       "        vertical-align: middle;\n",
       "    }\n",
       "\n",
       "    .dataframe tbody tr th {\n",
       "        vertical-align: top;\n",
       "    }\n",
       "\n",
       "    .dataframe thead th {\n",
       "        text-align: right;\n",
       "    }\n",
       "</style>\n",
       "<table border=\"1\" class=\"dataframe\">\n",
       "  <thead>\n",
       "    <tr style=\"text-align: right;\">\n",
       "      <th></th>\n",
       "      <th>Causa de muerte</th>\n",
       "      <th>Periodo</th>\n",
       "      <th>Total</th>\n",
       "    </tr>\n",
       "  </thead>\n",
       "  <tbody>\n",
       "    <tr>\n",
       "      <th>623</th>\n",
       "      <td>081  XV.Embarazo, parto y puerperio</td>\n",
       "      <td>2018</td>\n",
       "      <td>7</td>\n",
       "    </tr>\n",
       "    <tr>\n",
       "      <th>622</th>\n",
       "      <td>081  XV.Embarazo, parto y puerperio</td>\n",
       "      <td>1997</td>\n",
       "      <td>8</td>\n",
       "    </tr>\n",
       "    <tr>\n",
       "      <th>621</th>\n",
       "      <td>081  XV.Embarazo, parto y puerperio</td>\n",
       "      <td>2014</td>\n",
       "      <td>9</td>\n",
       "    </tr>\n",
       "    <tr>\n",
       "      <th>620</th>\n",
       "      <td>081  XV.Embarazo, parto y puerperio</td>\n",
       "      <td>2012</td>\n",
       "      <td>10</td>\n",
       "    </tr>\n",
       "    <tr>\n",
       "      <th>619</th>\n",
       "      <td>081  XV.Embarazo, parto y puerperio</td>\n",
       "      <td>1998</td>\n",
       "      <td>10</td>\n",
       "    </tr>\n",
       "  </tbody>\n",
       "</table>\n",
       "</div>"
      ],
      "text/plain": [
       "                         Causa de muerte  Periodo  Total\n",
       "623  081  XV.Embarazo, parto y puerperio     2018      7\n",
       "622  081  XV.Embarazo, parto y puerperio     1997      8\n",
       "621  081  XV.Embarazo, parto y puerperio     2014      9\n",
       "620  081  XV.Embarazo, parto y puerperio     2012     10\n",
       "619  081  XV.Embarazo, parto y puerperio     1998     10"
      ]
     },
     "execution_count": 107,
     "metadata": {},
     "output_type": "execute_result"
    }
   ],
   "source": [
    "#chart_analisis_emb = dataset_causes_fil2.groupby(['Causa de muerte']).agg({'Total': 'sum'}).sort_values('Periodo').reset_index()\n",
    "causasm = ['Causa de muerte']\n",
    "año =['Periodo']\n",
    "chart_analisis_emb = mod.groupby_sum(dataset_causes_fil2, causasm + año).sort_values('Total')\n",
    "chart_analisis_emb.head(5)"
   ]
  },
  {
   "cell_type": "code",
   "execution_count": 108,
   "metadata": {},
   "outputs": [
    {
     "data": {
      "text/html": [
       "<div>\n",
       "<style scoped>\n",
       "    .dataframe tbody tr th:only-of-type {\n",
       "        vertical-align: middle;\n",
       "    }\n",
       "\n",
       "    .dataframe tbody tr th {\n",
       "        vertical-align: top;\n",
       "    }\n",
       "\n",
       "    .dataframe thead th {\n",
       "        text-align: right;\n",
       "    }\n",
       "</style>\n",
       "<table border=\"1\" class=\"dataframe\">\n",
       "  <thead>\n",
       "    <tr style=\"text-align: right;\">\n",
       "      <th></th>\n",
       "      <th>Causa de muerte</th>\n",
       "      <th>Periodo</th>\n",
       "      <th>Total</th>\n",
       "    </tr>\n",
       "  </thead>\n",
       "  <tbody>\n",
       "    <tr>\n",
       "      <th>623</th>\n",
       "      <td>081  XV.Embarazo, parto y puerperio</td>\n",
       "      <td>2018</td>\n",
       "      <td>7</td>\n",
       "    </tr>\n",
       "    <tr>\n",
       "      <th>622</th>\n",
       "      <td>081  XV.Embarazo, parto y puerperio</td>\n",
       "      <td>1997</td>\n",
       "      <td>8</td>\n",
       "    </tr>\n",
       "    <tr>\n",
       "      <th>621</th>\n",
       "      <td>081  XV.Embarazo, parto y puerperio</td>\n",
       "      <td>2014</td>\n",
       "      <td>9</td>\n",
       "    </tr>\n",
       "    <tr>\n",
       "      <th>620</th>\n",
       "      <td>081  XV.Embarazo, parto y puerperio</td>\n",
       "      <td>2012</td>\n",
       "      <td>10</td>\n",
       "    </tr>\n",
       "    <tr>\n",
       "      <th>619</th>\n",
       "      <td>081  XV.Embarazo, parto y puerperio</td>\n",
       "      <td>1998</td>\n",
       "      <td>10</td>\n",
       "    </tr>\n",
       "    <tr>\n",
       "      <th>618</th>\n",
       "      <td>081  XV.Embarazo, parto y puerperio</td>\n",
       "      <td>1996</td>\n",
       "      <td>11</td>\n",
       "    </tr>\n",
       "    <tr>\n",
       "      <th>617</th>\n",
       "      <td>081  XV.Embarazo, parto y puerperio</td>\n",
       "      <td>1995</td>\n",
       "      <td>11</td>\n",
       "    </tr>\n",
       "    <tr>\n",
       "      <th>616</th>\n",
       "      <td>081  XV.Embarazo, parto y puerperio</td>\n",
       "      <td>1989</td>\n",
       "      <td>12</td>\n",
       "    </tr>\n",
       "    <tr>\n",
       "      <th>615</th>\n",
       "      <td>081  XV.Embarazo, parto y puerperio</td>\n",
       "      <td>1993</td>\n",
       "      <td>12</td>\n",
       "    </tr>\n",
       "    <tr>\n",
       "      <th>614</th>\n",
       "      <td>081  XV.Embarazo, parto y puerperio</td>\n",
       "      <td>2007</td>\n",
       "      <td>13</td>\n",
       "    </tr>\n",
       "  </tbody>\n",
       "</table>\n",
       "</div>"
      ],
      "text/plain": [
       "                         Causa de muerte  Periodo  Total\n",
       "623  081  XV.Embarazo, parto y puerperio     2018      7\n",
       "622  081  XV.Embarazo, parto y puerperio     1997      8\n",
       "621  081  XV.Embarazo, parto y puerperio     2014      9\n",
       "620  081  XV.Embarazo, parto y puerperio     2012     10\n",
       "619  081  XV.Embarazo, parto y puerperio     1998     10\n",
       "618  081  XV.Embarazo, parto y puerperio     1996     11\n",
       "617  081  XV.Embarazo, parto y puerperio     1995     11\n",
       "616  081  XV.Embarazo, parto y puerperio     1989     12\n",
       "615  081  XV.Embarazo, parto y puerperio     1993     12\n",
       "614  081  XV.Embarazo, parto y puerperio     2007     13"
      ]
     },
     "execution_count": 108,
     "metadata": {},
     "output_type": "execute_result"
    }
   ],
   "source": [
    "chart_analisis_emb = chart_analisis_emb[chart_analisis_emb['Causa de muerte'] == '081  XV.Embarazo, parto y puerperio']\n",
    "chart_analisis_emb.head(10)"
   ]
  },
  {
   "cell_type": "code",
   "execution_count": 109,
   "metadata": {},
   "outputs": [
    {
     "data": {
      "text/plain": [
       "39"
      ]
     },
     "execution_count": 109,
     "metadata": {},
     "output_type": "execute_result"
    }
   ],
   "source": [
    "len(chart_analisis_emb['Periodo'])"
   ]
  },
  {
   "cell_type": "code",
   "execution_count": 110,
   "metadata": {},
   "outputs": [
    {
     "data": {
      "application/vnd.plotly.v1+json": {
       "config": {
        "linkText": "Export to plot.ly",
        "plotlyServerURL": "https://plot.ly",
        "showLink": true
       },
       "data": [
        {
         "marker": {
          "color": "rgba(255, 153, 51, 0.6)",
          "line": {
           "color": "rgba(255, 153, 51, 1.0)",
           "width": 1
          }
         },
         "name": "Total",
         "orientation": "v",
         "text": "",
         "type": "bar",
         "x": [
          2018,
          1997,
          2014,
          2012,
          1998,
          1996,
          1995,
          1989,
          1993,
          2007,
          1991,
          1994,
          2017,
          2006,
          2011,
          2002,
          2000,
          2016,
          1999,
          2015,
          2001,
          2009,
          2005,
          2013,
          1992,
          2010,
          2003,
          1985,
          1988,
          1987,
          2004,
          1990,
          2008,
          1986,
          1984,
          1983,
          1981,
          1982,
          1980
         ],
         "y": [
          7,
          8,
          9,
          10,
          10,
          11,
          11,
          12,
          12,
          13,
          13,
          13,
          13,
          14,
          14,
          14,
          14,
          15,
          15,
          15,
          17,
          17,
          18,
          18,
          19,
          20,
          20,
          20,
          21,
          21,
          21,
          22,
          24,
          24,
          24,
          37,
          51,
          54,
          63
         ]
        }
       ],
       "layout": {
        "template": {
         "data": {
          "bar": [
           {
            "error_x": {
             "color": "#2a3f5f"
            },
            "error_y": {
             "color": "#2a3f5f"
            },
            "marker": {
             "line": {
              "color": "#E5ECF6",
              "width": 0.5
             },
             "pattern": {
              "fillmode": "overlay",
              "size": 10,
              "solidity": 0.2
             }
            },
            "type": "bar"
           }
          ],
          "barpolar": [
           {
            "marker": {
             "line": {
              "color": "#E5ECF6",
              "width": 0.5
             },
             "pattern": {
              "fillmode": "overlay",
              "size": 10,
              "solidity": 0.2
             }
            },
            "type": "barpolar"
           }
          ],
          "carpet": [
           {
            "aaxis": {
             "endlinecolor": "#2a3f5f",
             "gridcolor": "white",
             "linecolor": "white",
             "minorgridcolor": "white",
             "startlinecolor": "#2a3f5f"
            },
            "baxis": {
             "endlinecolor": "#2a3f5f",
             "gridcolor": "white",
             "linecolor": "white",
             "minorgridcolor": "white",
             "startlinecolor": "#2a3f5f"
            },
            "type": "carpet"
           }
          ],
          "choropleth": [
           {
            "colorbar": {
             "outlinewidth": 0,
             "ticks": ""
            },
            "type": "choropleth"
           }
          ],
          "contour": [
           {
            "colorbar": {
             "outlinewidth": 0,
             "ticks": ""
            },
            "colorscale": [
             [
              0,
              "#0d0887"
             ],
             [
              0.1111111111111111,
              "#46039f"
             ],
             [
              0.2222222222222222,
              "#7201a8"
             ],
             [
              0.3333333333333333,
              "#9c179e"
             ],
             [
              0.4444444444444444,
              "#bd3786"
             ],
             [
              0.5555555555555556,
              "#d8576b"
             ],
             [
              0.6666666666666666,
              "#ed7953"
             ],
             [
              0.7777777777777778,
              "#fb9f3a"
             ],
             [
              0.8888888888888888,
              "#fdca26"
             ],
             [
              1,
              "#f0f921"
             ]
            ],
            "type": "contour"
           }
          ],
          "contourcarpet": [
           {
            "colorbar": {
             "outlinewidth": 0,
             "ticks": ""
            },
            "type": "contourcarpet"
           }
          ],
          "heatmap": [
           {
            "colorbar": {
             "outlinewidth": 0,
             "ticks": ""
            },
            "colorscale": [
             [
              0,
              "#0d0887"
             ],
             [
              0.1111111111111111,
              "#46039f"
             ],
             [
              0.2222222222222222,
              "#7201a8"
             ],
             [
              0.3333333333333333,
              "#9c179e"
             ],
             [
              0.4444444444444444,
              "#bd3786"
             ],
             [
              0.5555555555555556,
              "#d8576b"
             ],
             [
              0.6666666666666666,
              "#ed7953"
             ],
             [
              0.7777777777777778,
              "#fb9f3a"
             ],
             [
              0.8888888888888888,
              "#fdca26"
             ],
             [
              1,
              "#f0f921"
             ]
            ],
            "type": "heatmap"
           }
          ],
          "heatmapgl": [
           {
            "colorbar": {
             "outlinewidth": 0,
             "ticks": ""
            },
            "colorscale": [
             [
              0,
              "#0d0887"
             ],
             [
              0.1111111111111111,
              "#46039f"
             ],
             [
              0.2222222222222222,
              "#7201a8"
             ],
             [
              0.3333333333333333,
              "#9c179e"
             ],
             [
              0.4444444444444444,
              "#bd3786"
             ],
             [
              0.5555555555555556,
              "#d8576b"
             ],
             [
              0.6666666666666666,
              "#ed7953"
             ],
             [
              0.7777777777777778,
              "#fb9f3a"
             ],
             [
              0.8888888888888888,
              "#fdca26"
             ],
             [
              1,
              "#f0f921"
             ]
            ],
            "type": "heatmapgl"
           }
          ],
          "histogram": [
           {
            "marker": {
             "pattern": {
              "fillmode": "overlay",
              "size": 10,
              "solidity": 0.2
             }
            },
            "type": "histogram"
           }
          ],
          "histogram2d": [
           {
            "colorbar": {
             "outlinewidth": 0,
             "ticks": ""
            },
            "colorscale": [
             [
              0,
              "#0d0887"
             ],
             [
              0.1111111111111111,
              "#46039f"
             ],
             [
              0.2222222222222222,
              "#7201a8"
             ],
             [
              0.3333333333333333,
              "#9c179e"
             ],
             [
              0.4444444444444444,
              "#bd3786"
             ],
             [
              0.5555555555555556,
              "#d8576b"
             ],
             [
              0.6666666666666666,
              "#ed7953"
             ],
             [
              0.7777777777777778,
              "#fb9f3a"
             ],
             [
              0.8888888888888888,
              "#fdca26"
             ],
             [
              1,
              "#f0f921"
             ]
            ],
            "type": "histogram2d"
           }
          ],
          "histogram2dcontour": [
           {
            "colorbar": {
             "outlinewidth": 0,
             "ticks": ""
            },
            "colorscale": [
             [
              0,
              "#0d0887"
             ],
             [
              0.1111111111111111,
              "#46039f"
             ],
             [
              0.2222222222222222,
              "#7201a8"
             ],
             [
              0.3333333333333333,
              "#9c179e"
             ],
             [
              0.4444444444444444,
              "#bd3786"
             ],
             [
              0.5555555555555556,
              "#d8576b"
             ],
             [
              0.6666666666666666,
              "#ed7953"
             ],
             [
              0.7777777777777778,
              "#fb9f3a"
             ],
             [
              0.8888888888888888,
              "#fdca26"
             ],
             [
              1,
              "#f0f921"
             ]
            ],
            "type": "histogram2dcontour"
           }
          ],
          "mesh3d": [
           {
            "colorbar": {
             "outlinewidth": 0,
             "ticks": ""
            },
            "type": "mesh3d"
           }
          ],
          "parcoords": [
           {
            "line": {
             "colorbar": {
              "outlinewidth": 0,
              "ticks": ""
             }
            },
            "type": "parcoords"
           }
          ],
          "pie": [
           {
            "automargin": true,
            "type": "pie"
           }
          ],
          "scatter": [
           {
            "fillpattern": {
             "fillmode": "overlay",
             "size": 10,
             "solidity": 0.2
            },
            "type": "scatter"
           }
          ],
          "scatter3d": [
           {
            "line": {
             "colorbar": {
              "outlinewidth": 0,
              "ticks": ""
             }
            },
            "marker": {
             "colorbar": {
              "outlinewidth": 0,
              "ticks": ""
             }
            },
            "type": "scatter3d"
           }
          ],
          "scattercarpet": [
           {
            "marker": {
             "colorbar": {
              "outlinewidth": 0,
              "ticks": ""
             }
            },
            "type": "scattercarpet"
           }
          ],
          "scattergeo": [
           {
            "marker": {
             "colorbar": {
              "outlinewidth": 0,
              "ticks": ""
             }
            },
            "type": "scattergeo"
           }
          ],
          "scattergl": [
           {
            "marker": {
             "colorbar": {
              "outlinewidth": 0,
              "ticks": ""
             }
            },
            "type": "scattergl"
           }
          ],
          "scattermapbox": [
           {
            "marker": {
             "colorbar": {
              "outlinewidth": 0,
              "ticks": ""
             }
            },
            "type": "scattermapbox"
           }
          ],
          "scatterpolar": [
           {
            "marker": {
             "colorbar": {
              "outlinewidth": 0,
              "ticks": ""
             }
            },
            "type": "scatterpolar"
           }
          ],
          "scatterpolargl": [
           {
            "marker": {
             "colorbar": {
              "outlinewidth": 0,
              "ticks": ""
             }
            },
            "type": "scatterpolargl"
           }
          ],
          "scatterternary": [
           {
            "marker": {
             "colorbar": {
              "outlinewidth": 0,
              "ticks": ""
             }
            },
            "type": "scatterternary"
           }
          ],
          "surface": [
           {
            "colorbar": {
             "outlinewidth": 0,
             "ticks": ""
            },
            "colorscale": [
             [
              0,
              "#0d0887"
             ],
             [
              0.1111111111111111,
              "#46039f"
             ],
             [
              0.2222222222222222,
              "#7201a8"
             ],
             [
              0.3333333333333333,
              "#9c179e"
             ],
             [
              0.4444444444444444,
              "#bd3786"
             ],
             [
              0.5555555555555556,
              "#d8576b"
             ],
             [
              0.6666666666666666,
              "#ed7953"
             ],
             [
              0.7777777777777778,
              "#fb9f3a"
             ],
             [
              0.8888888888888888,
              "#fdca26"
             ],
             [
              1,
              "#f0f921"
             ]
            ],
            "type": "surface"
           }
          ],
          "table": [
           {
            "cells": {
             "fill": {
              "color": "#EBF0F8"
             },
             "line": {
              "color": "white"
             }
            },
            "header": {
             "fill": {
              "color": "#C8D4E3"
             },
             "line": {
              "color": "white"
             }
            },
            "type": "table"
           }
          ]
         },
         "layout": {
          "annotationdefaults": {
           "arrowcolor": "#2a3f5f",
           "arrowhead": 0,
           "arrowwidth": 1
          },
          "autotypenumbers": "strict",
          "coloraxis": {
           "colorbar": {
            "outlinewidth": 0,
            "ticks": ""
           }
          },
          "colorscale": {
           "diverging": [
            [
             0,
             "#8e0152"
            ],
            [
             0.1,
             "#c51b7d"
            ],
            [
             0.2,
             "#de77ae"
            ],
            [
             0.3,
             "#f1b6da"
            ],
            [
             0.4,
             "#fde0ef"
            ],
            [
             0.5,
             "#f7f7f7"
            ],
            [
             0.6,
             "#e6f5d0"
            ],
            [
             0.7,
             "#b8e186"
            ],
            [
             0.8,
             "#7fbc41"
            ],
            [
             0.9,
             "#4d9221"
            ],
            [
             1,
             "#276419"
            ]
           ],
           "sequential": [
            [
             0,
             "#0d0887"
            ],
            [
             0.1111111111111111,
             "#46039f"
            ],
            [
             0.2222222222222222,
             "#7201a8"
            ],
            [
             0.3333333333333333,
             "#9c179e"
            ],
            [
             0.4444444444444444,
             "#bd3786"
            ],
            [
             0.5555555555555556,
             "#d8576b"
            ],
            [
             0.6666666666666666,
             "#ed7953"
            ],
            [
             0.7777777777777778,
             "#fb9f3a"
            ],
            [
             0.8888888888888888,
             "#fdca26"
            ],
            [
             1,
             "#f0f921"
            ]
           ],
           "sequentialminus": [
            [
             0,
             "#0d0887"
            ],
            [
             0.1111111111111111,
             "#46039f"
            ],
            [
             0.2222222222222222,
             "#7201a8"
            ],
            [
             0.3333333333333333,
             "#9c179e"
            ],
            [
             0.4444444444444444,
             "#bd3786"
            ],
            [
             0.5555555555555556,
             "#d8576b"
            ],
            [
             0.6666666666666666,
             "#ed7953"
            ],
            [
             0.7777777777777778,
             "#fb9f3a"
            ],
            [
             0.8888888888888888,
             "#fdca26"
            ],
            [
             1,
             "#f0f921"
            ]
           ]
          },
          "colorway": [
           "#636efa",
           "#EF553B",
           "#00cc96",
           "#ab63fa",
           "#FFA15A",
           "#19d3f3",
           "#FF6692",
           "#B6E880",
           "#FF97FF",
           "#FECB52"
          ],
          "font": {
           "color": "#2a3f5f"
          },
          "geo": {
           "bgcolor": "white",
           "lakecolor": "white",
           "landcolor": "#E5ECF6",
           "showlakes": true,
           "showland": true,
           "subunitcolor": "white"
          },
          "hoverlabel": {
           "align": "left"
          },
          "hovermode": "closest",
          "mapbox": {
           "style": "light"
          },
          "paper_bgcolor": "white",
          "plot_bgcolor": "#E5ECF6",
          "polar": {
           "angularaxis": {
            "gridcolor": "white",
            "linecolor": "white",
            "ticks": ""
           },
           "bgcolor": "#E5ECF6",
           "radialaxis": {
            "gridcolor": "white",
            "linecolor": "white",
            "ticks": ""
           }
          },
          "scene": {
           "xaxis": {
            "backgroundcolor": "#E5ECF6",
            "gridcolor": "white",
            "gridwidth": 2,
            "linecolor": "white",
            "showbackground": true,
            "ticks": "",
            "zerolinecolor": "white"
           },
           "yaxis": {
            "backgroundcolor": "#E5ECF6",
            "gridcolor": "white",
            "gridwidth": 2,
            "linecolor": "white",
            "showbackground": true,
            "ticks": "",
            "zerolinecolor": "white"
           },
           "zaxis": {
            "backgroundcolor": "#E5ECF6",
            "gridcolor": "white",
            "gridwidth": 2,
            "linecolor": "white",
            "showbackground": true,
            "ticks": "",
            "zerolinecolor": "white"
           }
          },
          "shapedefaults": {
           "line": {
            "color": "#2a3f5f"
           }
          },
          "ternary": {
           "aaxis": {
            "gridcolor": "white",
            "linecolor": "white",
            "ticks": ""
           },
           "baxis": {
            "gridcolor": "white",
            "linecolor": "white",
            "ticks": ""
           },
           "bgcolor": "#E5ECF6",
           "caxis": {
            "gridcolor": "white",
            "linecolor": "white",
            "ticks": ""
           }
          },
          "title": {
           "x": 0.05
          },
          "xaxis": {
           "automargin": true,
           "gridcolor": "white",
           "linecolor": "white",
           "ticks": "",
           "title": {
            "standoff": 15
           },
           "zerolinecolor": "white",
           "zerolinewidth": 2
          },
          "yaxis": {
           "automargin": true,
           "gridcolor": "white",
           "linecolor": "white",
           "ticks": "",
           "title": {
            "standoff": 15
           },
           "zerolinecolor": "white",
           "zerolinewidth": 2
          }
         }
        },
        "xaxis": {
         "dtick": 1,
         "range": [
          1980,
          2018
         ],
         "tickmode": "linear"
        },
        "yaxis": {
         "range": [
          0,
          80
         ]
        }
       }
      },
      "text/html": [
       "<div>                            <div id=\"922fcdce-92b5-448f-bfd7-51b8f28c68b8\" class=\"plotly-graph-div\" style=\"height:525px; width:100%;\"></div>            <script type=\"text/javascript\">                require([\"plotly\"], function(Plotly) {                    window.PLOTLYENV=window.PLOTLYENV || {};\n",
       "                    window.PLOTLYENV.BASE_URL='https://plot.ly';                                    if (document.getElementById(\"922fcdce-92b5-448f-bfd7-51b8f28c68b8\")) {                    Plotly.newPlot(                        \"922fcdce-92b5-448f-bfd7-51b8f28c68b8\",                        [{\"marker\":{\"color\":\"rgba(255, 153, 51, 0.6)\",\"line\":{\"color\":\"rgba(255, 153, 51, 1.0)\",\"width\":1}},\"name\":\"Total\",\"orientation\":\"v\",\"text\":\"\",\"x\":[2018,1997,2014,2012,1998,1996,1995,1989,1993,2007,1991,1994,2017,2006,2011,2002,2000,2016,1999,2015,2001,2009,2005,2013,1992,2010,2003,1985,1988,1987,2004,1990,2008,1986,1984,1983,1981,1982,1980],\"y\":[7,8,9,10,10,11,11,12,12,13,13,13,13,14,14,14,14,15,15,15,17,17,18,18,19,20,20,20,21,21,21,22,24,24,24,37,51,54,63],\"type\":\"bar\"}],                        {\"template\":{\"data\":{\"barpolar\":[{\"marker\":{\"line\":{\"color\":\"#E5ECF6\",\"width\":0.5},\"pattern\":{\"fillmode\":\"overlay\",\"size\":10,\"solidity\":0.2}},\"type\":\"barpolar\"}],\"bar\":[{\"error_x\":{\"color\":\"#2a3f5f\"},\"error_y\":{\"color\":\"#2a3f5f\"},\"marker\":{\"line\":{\"color\":\"#E5ECF6\",\"width\":0.5},\"pattern\":{\"fillmode\":\"overlay\",\"size\":10,\"solidity\":0.2}},\"type\":\"bar\"}],\"carpet\":[{\"aaxis\":{\"endlinecolor\":\"#2a3f5f\",\"gridcolor\":\"white\",\"linecolor\":\"white\",\"minorgridcolor\":\"white\",\"startlinecolor\":\"#2a3f5f\"},\"baxis\":{\"endlinecolor\":\"#2a3f5f\",\"gridcolor\":\"white\",\"linecolor\":\"white\",\"minorgridcolor\":\"white\",\"startlinecolor\":\"#2a3f5f\"},\"type\":\"carpet\"}],\"choropleth\":[{\"colorbar\":{\"outlinewidth\":0,\"ticks\":\"\"},\"type\":\"choropleth\"}],\"contourcarpet\":[{\"colorbar\":{\"outlinewidth\":0,\"ticks\":\"\"},\"type\":\"contourcarpet\"}],\"contour\":[{\"colorbar\":{\"outlinewidth\":0,\"ticks\":\"\"},\"colorscale\":[[0.0,\"#0d0887\"],[0.1111111111111111,\"#46039f\"],[0.2222222222222222,\"#7201a8\"],[0.3333333333333333,\"#9c179e\"],[0.4444444444444444,\"#bd3786\"],[0.5555555555555556,\"#d8576b\"],[0.6666666666666666,\"#ed7953\"],[0.7777777777777778,\"#fb9f3a\"],[0.8888888888888888,\"#fdca26\"],[1.0,\"#f0f921\"]],\"type\":\"contour\"}],\"heatmapgl\":[{\"colorbar\":{\"outlinewidth\":0,\"ticks\":\"\"},\"colorscale\":[[0.0,\"#0d0887\"],[0.1111111111111111,\"#46039f\"],[0.2222222222222222,\"#7201a8\"],[0.3333333333333333,\"#9c179e\"],[0.4444444444444444,\"#bd3786\"],[0.5555555555555556,\"#d8576b\"],[0.6666666666666666,\"#ed7953\"],[0.7777777777777778,\"#fb9f3a\"],[0.8888888888888888,\"#fdca26\"],[1.0,\"#f0f921\"]],\"type\":\"heatmapgl\"}],\"heatmap\":[{\"colorbar\":{\"outlinewidth\":0,\"ticks\":\"\"},\"colorscale\":[[0.0,\"#0d0887\"],[0.1111111111111111,\"#46039f\"],[0.2222222222222222,\"#7201a8\"],[0.3333333333333333,\"#9c179e\"],[0.4444444444444444,\"#bd3786\"],[0.5555555555555556,\"#d8576b\"],[0.6666666666666666,\"#ed7953\"],[0.7777777777777778,\"#fb9f3a\"],[0.8888888888888888,\"#fdca26\"],[1.0,\"#f0f921\"]],\"type\":\"heatmap\"}],\"histogram2dcontour\":[{\"colorbar\":{\"outlinewidth\":0,\"ticks\":\"\"},\"colorscale\":[[0.0,\"#0d0887\"],[0.1111111111111111,\"#46039f\"],[0.2222222222222222,\"#7201a8\"],[0.3333333333333333,\"#9c179e\"],[0.4444444444444444,\"#bd3786\"],[0.5555555555555556,\"#d8576b\"],[0.6666666666666666,\"#ed7953\"],[0.7777777777777778,\"#fb9f3a\"],[0.8888888888888888,\"#fdca26\"],[1.0,\"#f0f921\"]],\"type\":\"histogram2dcontour\"}],\"histogram2d\":[{\"colorbar\":{\"outlinewidth\":0,\"ticks\":\"\"},\"colorscale\":[[0.0,\"#0d0887\"],[0.1111111111111111,\"#46039f\"],[0.2222222222222222,\"#7201a8\"],[0.3333333333333333,\"#9c179e\"],[0.4444444444444444,\"#bd3786\"],[0.5555555555555556,\"#d8576b\"],[0.6666666666666666,\"#ed7953\"],[0.7777777777777778,\"#fb9f3a\"],[0.8888888888888888,\"#fdca26\"],[1.0,\"#f0f921\"]],\"type\":\"histogram2d\"}],\"histogram\":[{\"marker\":{\"pattern\":{\"fillmode\":\"overlay\",\"size\":10,\"solidity\":0.2}},\"type\":\"histogram\"}],\"mesh3d\":[{\"colorbar\":{\"outlinewidth\":0,\"ticks\":\"\"},\"type\":\"mesh3d\"}],\"parcoords\":[{\"line\":{\"colorbar\":{\"outlinewidth\":0,\"ticks\":\"\"}},\"type\":\"parcoords\"}],\"pie\":[{\"automargin\":true,\"type\":\"pie\"}],\"scatter3d\":[{\"line\":{\"colorbar\":{\"outlinewidth\":0,\"ticks\":\"\"}},\"marker\":{\"colorbar\":{\"outlinewidth\":0,\"ticks\":\"\"}},\"type\":\"scatter3d\"}],\"scattercarpet\":[{\"marker\":{\"colorbar\":{\"outlinewidth\":0,\"ticks\":\"\"}},\"type\":\"scattercarpet\"}],\"scattergeo\":[{\"marker\":{\"colorbar\":{\"outlinewidth\":0,\"ticks\":\"\"}},\"type\":\"scattergeo\"}],\"scattergl\":[{\"marker\":{\"colorbar\":{\"outlinewidth\":0,\"ticks\":\"\"}},\"type\":\"scattergl\"}],\"scattermapbox\":[{\"marker\":{\"colorbar\":{\"outlinewidth\":0,\"ticks\":\"\"}},\"type\":\"scattermapbox\"}],\"scatterpolargl\":[{\"marker\":{\"colorbar\":{\"outlinewidth\":0,\"ticks\":\"\"}},\"type\":\"scatterpolargl\"}],\"scatterpolar\":[{\"marker\":{\"colorbar\":{\"outlinewidth\":0,\"ticks\":\"\"}},\"type\":\"scatterpolar\"}],\"scatter\":[{\"fillpattern\":{\"fillmode\":\"overlay\",\"size\":10,\"solidity\":0.2},\"type\":\"scatter\"}],\"scatterternary\":[{\"marker\":{\"colorbar\":{\"outlinewidth\":0,\"ticks\":\"\"}},\"type\":\"scatterternary\"}],\"surface\":[{\"colorbar\":{\"outlinewidth\":0,\"ticks\":\"\"},\"colorscale\":[[0.0,\"#0d0887\"],[0.1111111111111111,\"#46039f\"],[0.2222222222222222,\"#7201a8\"],[0.3333333333333333,\"#9c179e\"],[0.4444444444444444,\"#bd3786\"],[0.5555555555555556,\"#d8576b\"],[0.6666666666666666,\"#ed7953\"],[0.7777777777777778,\"#fb9f3a\"],[0.8888888888888888,\"#fdca26\"],[1.0,\"#f0f921\"]],\"type\":\"surface\"}],\"table\":[{\"cells\":{\"fill\":{\"color\":\"#EBF0F8\"},\"line\":{\"color\":\"white\"}},\"header\":{\"fill\":{\"color\":\"#C8D4E3\"},\"line\":{\"color\":\"white\"}},\"type\":\"table\"}]},\"layout\":{\"annotationdefaults\":{\"arrowcolor\":\"#2a3f5f\",\"arrowhead\":0,\"arrowwidth\":1},\"autotypenumbers\":\"strict\",\"coloraxis\":{\"colorbar\":{\"outlinewidth\":0,\"ticks\":\"\"}},\"colorscale\":{\"diverging\":[[0,\"#8e0152\"],[0.1,\"#c51b7d\"],[0.2,\"#de77ae\"],[0.3,\"#f1b6da\"],[0.4,\"#fde0ef\"],[0.5,\"#f7f7f7\"],[0.6,\"#e6f5d0\"],[0.7,\"#b8e186\"],[0.8,\"#7fbc41\"],[0.9,\"#4d9221\"],[1,\"#276419\"]],\"sequential\":[[0.0,\"#0d0887\"],[0.1111111111111111,\"#46039f\"],[0.2222222222222222,\"#7201a8\"],[0.3333333333333333,\"#9c179e\"],[0.4444444444444444,\"#bd3786\"],[0.5555555555555556,\"#d8576b\"],[0.6666666666666666,\"#ed7953\"],[0.7777777777777778,\"#fb9f3a\"],[0.8888888888888888,\"#fdca26\"],[1.0,\"#f0f921\"]],\"sequentialminus\":[[0.0,\"#0d0887\"],[0.1111111111111111,\"#46039f\"],[0.2222222222222222,\"#7201a8\"],[0.3333333333333333,\"#9c179e\"],[0.4444444444444444,\"#bd3786\"],[0.5555555555555556,\"#d8576b\"],[0.6666666666666666,\"#ed7953\"],[0.7777777777777778,\"#fb9f3a\"],[0.8888888888888888,\"#fdca26\"],[1.0,\"#f0f921\"]]},\"colorway\":[\"#636efa\",\"#EF553B\",\"#00cc96\",\"#ab63fa\",\"#FFA15A\",\"#19d3f3\",\"#FF6692\",\"#B6E880\",\"#FF97FF\",\"#FECB52\"],\"font\":{\"color\":\"#2a3f5f\"},\"geo\":{\"bgcolor\":\"white\",\"lakecolor\":\"white\",\"landcolor\":\"#E5ECF6\",\"showlakes\":true,\"showland\":true,\"subunitcolor\":\"white\"},\"hoverlabel\":{\"align\":\"left\"},\"hovermode\":\"closest\",\"mapbox\":{\"style\":\"light\"},\"paper_bgcolor\":\"white\",\"plot_bgcolor\":\"#E5ECF6\",\"polar\":{\"angularaxis\":{\"gridcolor\":\"white\",\"linecolor\":\"white\",\"ticks\":\"\"},\"bgcolor\":\"#E5ECF6\",\"radialaxis\":{\"gridcolor\":\"white\",\"linecolor\":\"white\",\"ticks\":\"\"}},\"scene\":{\"xaxis\":{\"backgroundcolor\":\"#E5ECF6\",\"gridcolor\":\"white\",\"gridwidth\":2,\"linecolor\":\"white\",\"showbackground\":true,\"ticks\":\"\",\"zerolinecolor\":\"white\"},\"yaxis\":{\"backgroundcolor\":\"#E5ECF6\",\"gridcolor\":\"white\",\"gridwidth\":2,\"linecolor\":\"white\",\"showbackground\":true,\"ticks\":\"\",\"zerolinecolor\":\"white\"},\"zaxis\":{\"backgroundcolor\":\"#E5ECF6\",\"gridcolor\":\"white\",\"gridwidth\":2,\"linecolor\":\"white\",\"showbackground\":true,\"ticks\":\"\",\"zerolinecolor\":\"white\"}},\"shapedefaults\":{\"line\":{\"color\":\"#2a3f5f\"}},\"ternary\":{\"aaxis\":{\"gridcolor\":\"white\",\"linecolor\":\"white\",\"ticks\":\"\"},\"baxis\":{\"gridcolor\":\"white\",\"linecolor\":\"white\",\"ticks\":\"\"},\"bgcolor\":\"#E5ECF6\",\"caxis\":{\"gridcolor\":\"white\",\"linecolor\":\"white\",\"ticks\":\"\"}},\"title\":{\"x\":0.05},\"xaxis\":{\"automargin\":true,\"gridcolor\":\"white\",\"linecolor\":\"white\",\"ticks\":\"\",\"title\":{\"standoff\":15},\"zerolinecolor\":\"white\",\"zerolinewidth\":2},\"yaxis\":{\"automargin\":true,\"gridcolor\":\"white\",\"linecolor\":\"white\",\"ticks\":\"\",\"title\":{\"standoff\":15},\"zerolinecolor\":\"white\",\"zerolinewidth\":2}}},\"xaxis\":{\"dtick\":1,\"range\":[1980,2018],\"tickmode\":\"linear\"},\"yaxis\":{\"range\":[0,80]}},                        {\"showLink\": true, \"linkText\": \"Export to plot.ly\", \"plotlyServerURL\": \"https://plot.ly\", \"responsive\": true}                    ).then(function(){\n",
       "                            \n",
       "var gd = document.getElementById('922fcdce-92b5-448f-bfd7-51b8f28c68b8');\n",
       "var x = new MutationObserver(function (mutations, observer) {{\n",
       "        var display = window.getComputedStyle(gd).display;\n",
       "        if (!display || display === 'none') {{\n",
       "            console.log([gd, 'removed!']);\n",
       "            Plotly.purge(gd);\n",
       "            observer.disconnect();\n",
       "        }}\n",
       "}});\n",
       "\n",
       "// Listen for the removal of the full notebook cells\n",
       "var notebookContainer = gd.closest('#notebook-container');\n",
       "if (notebookContainer) {{\n",
       "    x.observe(notebookContainer, {childList: true});\n",
       "}}\n",
       "\n",
       "// Listen for the clearing of the current output cell\n",
       "var outputEl = gd.closest('.output');\n",
       "if (outputEl) {{\n",
       "    x.observe(outputEl, {childList: true});\n",
       "}}\n",
       "\n",
       "                        })                };                });            </script>        </div>"
      ]
     },
     "metadata": {},
     "output_type": "display_data"
    }
   ],
   "source": [
    "layout = go.Layout(yaxis=dict(range=[0, 80]), xaxis=dict(range=[1980, 2018], tickmode='linear', dtick=1))\n",
    "#layout = go.Layout(yaxis=dict(range=[0, 100]))\n",
    "#layout = go.Layout(xaxis=dict(range=[1980, 2018]))\n",
    "chart_analisis_emb.iplot(kind='bar',\n",
    "                         x= 'Periodo',\n",
    "                         y= 'Total',\n",
    "                         title='EVOLUCIÓN MUERTES POR EMBARAZO',\n",
    "                         yTitle='Total de muertes',\n",
    "                         xTitle='Año',\n",
    "                         layout=layout)"
   ]
  },
  {
   "cell_type": "code",
   "execution_count": 111,
   "metadata": {},
   "outputs": [],
   "source": [
    "chart_edadgener[\"male_age\"]=chart_edadgener[chart_edadgener[\"Sexo\"]==\"Hombres\"][\"Edad\"]\n",
    "chart_edadgener[\"female_age\"]=chart_edadgener[chart_edadgener[\"Sexo\"]==\"Mujeres\"][\"Edad\"]\n",
    "#chart_edadgener[[\"male_age\",\"female_age\"]].iplot(kind=\"histogram\", bins=8, theme=\"white\", title=\"Muertes por edades\",\n",
    "        # xTitle='Ages', yTitle='Count')\n"
   ]
  },
  {
   "cell_type": "code",
   "execution_count": 122,
   "metadata": {},
   "outputs": [
    {
     "data": {
      "text/html": [
       "<div>\n",
       "<style scoped>\n",
       "    .dataframe tbody tr th:only-of-type {\n",
       "        vertical-align: middle;\n",
       "    }\n",
       "\n",
       "    .dataframe tbody tr th {\n",
       "        vertical-align: top;\n",
       "    }\n",
       "\n",
       "    .dataframe thead th {\n",
       "        text-align: right;\n",
       "    }\n",
       "</style>\n",
       "<table border=\"1\" class=\"dataframe\">\n",
       "  <thead>\n",
       "    <tr style=\"text-align: right;\">\n",
       "      <th></th>\n",
       "      <th>Edad</th>\n",
       "      <th>Sexo</th>\n",
       "      <th>Total</th>\n",
       "      <th>male_age</th>\n",
       "      <th>female_age</th>\n",
       "    </tr>\n",
       "  </thead>\n",
       "  <tbody>\n",
       "    <tr>\n",
       "      <th>0</th>\n",
       "      <td>De 0 años</td>\n",
       "      <td>Hombres</td>\n",
       "      <td>56402</td>\n",
       "      <td>De 0 años</td>\n",
       "      <td>NaN</td>\n",
       "    </tr>\n",
       "    <tr>\n",
       "      <th>1</th>\n",
       "      <td>De 0 años</td>\n",
       "      <td>Mujeres</td>\n",
       "      <td>42797</td>\n",
       "      <td>NaN</td>\n",
       "      <td>De 0 años</td>\n",
       "    </tr>\n",
       "    <tr>\n",
       "      <th>2</th>\n",
       "      <td>De 1 a 4 años</td>\n",
       "      <td>Hombres</td>\n",
       "      <td>13072</td>\n",
       "      <td>De 1 a 4 años</td>\n",
       "      <td>NaN</td>\n",
       "    </tr>\n",
       "    <tr>\n",
       "      <th>3</th>\n",
       "      <td>De 1 a 4 años</td>\n",
       "      <td>Mujeres</td>\n",
       "      <td>10047</td>\n",
       "      <td>NaN</td>\n",
       "      <td>De 1 a 4 años</td>\n",
       "    </tr>\n",
       "  </tbody>\n",
       "</table>\n",
       "</div>"
      ],
      "text/plain": [
       "            Edad     Sexo  Total       male_age     female_age\n",
       "0      De 0 años  Hombres  56402      De 0 años            NaN\n",
       "1      De 0 años  Mujeres  42797            NaN      De 0 años\n",
       "2  De 1 a 4 años  Hombres  13072  De 1 a 4 años            NaN\n",
       "3  De 1 a 4 años  Mujeres  10047            NaN  De 1 a 4 años"
      ]
     },
     "execution_count": 122,
     "metadata": {},
     "output_type": "execute_result"
    }
   ],
   "source": [
    "chart_edadgener.head(4)"
   ]
  },
  {
   "cell_type": "code",
   "execution_count": 121,
   "metadata": {},
   "outputs": [
    {
     "ename": "AttributeError",
     "evalue": "'med' is not a valid function for 'Series' object",
     "output_type": "error",
     "traceback": [
      "\u001b[0;31m---------------------------------------------------------------------------\u001b[0m",
      "\u001b[0;31mAttributeError\u001b[0m                            Traceback (most recent call last)",
      "Cell \u001b[0;32mIn[121], line 1\u001b[0m\n\u001b[0;32m----> 1\u001b[0m chart_edadgener \u001b[38;5;241m=\u001b[39m chart_edadgener[\u001b[38;5;124m\"\u001b[39m\u001b[38;5;124mmale_age\u001b[39m\u001b[38;5;124m\"\u001b[39m]\u001b[38;5;241m=\u001b[39m\u001b[43mchart_edadgener\u001b[49m\u001b[43m[\u001b[49m\u001b[43mchart_edadgener\u001b[49m\u001b[43m[\u001b[49m\u001b[38;5;124;43m\"\u001b[39;49m\u001b[38;5;124;43mSexo\u001b[39;49m\u001b[38;5;124;43m\"\u001b[39;49m\u001b[43m]\u001b[49m\u001b[38;5;241;43m==\u001b[39;49m\u001b[38;5;124;43m\"\u001b[39;49m\u001b[38;5;124;43mHombres\u001b[39;49m\u001b[38;5;124;43m\"\u001b[39;49m\u001b[43m]\u001b[49m\u001b[43m[\u001b[49m\u001b[38;5;124;43m\"\u001b[39;49m\u001b[38;5;124;43mEdad\u001b[39;49m\u001b[38;5;124;43m\"\u001b[39;49m\u001b[43m]\u001b[49m\u001b[38;5;241;43m.\u001b[39;49m\u001b[43magg\u001b[49m\u001b[43m(\u001b[49m\u001b[43m{\u001b[49m\u001b[38;5;124;43m'\u001b[39;49m\u001b[38;5;124;43mTotal\u001b[39;49m\u001b[38;5;124;43m'\u001b[39;49m\u001b[43m:\u001b[49m\u001b[43m \u001b[49m\u001b[38;5;124;43m'\u001b[39;49m\u001b[38;5;124;43mmed\u001b[39;49m\u001b[38;5;124;43m'\u001b[39;49m\u001b[43m}\u001b[49m\u001b[43m)\u001b[49m\u001b[38;5;241m.\u001b[39mreset_index()\n\u001b[1;32m      3\u001b[0m \u001b[38;5;66;03m# Agregar la columna Total al dataframe\u001b[39;00m\n\u001b[1;32m      5\u001b[0m chart_edadgener_total \u001b[38;5;241m=\u001b[39m chart_edadgener\u001b[38;5;241m.\u001b[39mpivot_table(index\u001b[38;5;241m=\u001b[39m\u001b[38;5;124m'\u001b[39m\u001b[38;5;124mSexo\u001b[39m\u001b[38;5;124m'\u001b[39m,values\u001b[38;5;241m=\u001b[39m\u001b[38;5;124m'\u001b[39m\u001b[38;5;124mTotal\u001b[39m\u001b[38;5;124m'\u001b[39m, columns\u001b[38;5;241m=\u001b[39m\u001b[38;5;124m'\u001b[39m\u001b[38;5;124mEdad\u001b[39m\u001b[38;5;124m'\u001b[39m)\n",
      "File \u001b[0;32m/Applications/miniconda3/envs/m1_env/lib/python3.9/site-packages/pandas/core/series.py:4605\u001b[0m, in \u001b[0;36mSeries.aggregate\u001b[0;34m(self, func, axis, *args, **kwargs)\u001b[0m\n\u001b[1;32m   4602\u001b[0m     func \u001b[38;5;241m=\u001b[39m \u001b[38;5;28mdict\u001b[39m(kwargs\u001b[38;5;241m.\u001b[39mitems())\n\u001b[1;32m   4604\u001b[0m op \u001b[38;5;241m=\u001b[39m SeriesApply(\u001b[38;5;28mself\u001b[39m, func, convert_dtype\u001b[38;5;241m=\u001b[39m\u001b[38;5;28;01mFalse\u001b[39;00m, args\u001b[38;5;241m=\u001b[39margs, kwargs\u001b[38;5;241m=\u001b[39mkwargs)\n\u001b[0;32m-> 4605\u001b[0m result \u001b[38;5;241m=\u001b[39m \u001b[43mop\u001b[49m\u001b[38;5;241;43m.\u001b[39;49m\u001b[43magg\u001b[49m\u001b[43m(\u001b[49m\u001b[43m)\u001b[49m\n\u001b[1;32m   4606\u001b[0m \u001b[38;5;28;01mreturn\u001b[39;00m result\n",
      "File \u001b[0;32m/Applications/miniconda3/envs/m1_env/lib/python3.9/site-packages/pandas/core/apply.py:1126\u001b[0m, in \u001b[0;36mSeriesApply.agg\u001b[0;34m(self)\u001b[0m\n\u001b[1;32m   1125\u001b[0m \u001b[38;5;28;01mdef\u001b[39;00m \u001b[38;5;21magg\u001b[39m(\u001b[38;5;28mself\u001b[39m):\n\u001b[0;32m-> 1126\u001b[0m     result \u001b[38;5;241m=\u001b[39m \u001b[38;5;28;43msuper\u001b[39;49m\u001b[43m(\u001b[49m\u001b[43m)\u001b[49m\u001b[38;5;241;43m.\u001b[39;49m\u001b[43magg\u001b[49m\u001b[43m(\u001b[49m\u001b[43m)\u001b[49m\n\u001b[1;32m   1127\u001b[0m     \u001b[38;5;28;01mif\u001b[39;00m result \u001b[38;5;129;01mis\u001b[39;00m \u001b[38;5;28;01mNone\u001b[39;00m:\n\u001b[1;32m   1128\u001b[0m         f \u001b[38;5;241m=\u001b[39m \u001b[38;5;28mself\u001b[39m\u001b[38;5;241m.\u001b[39mf\n",
      "File \u001b[0;32m/Applications/miniconda3/envs/m1_env/lib/python3.9/site-packages/pandas/core/apply.py:172\u001b[0m, in \u001b[0;36mApply.agg\u001b[0;34m(self)\u001b[0m\n\u001b[1;32m    169\u001b[0m     \u001b[38;5;28;01mreturn\u001b[39;00m \u001b[38;5;28mself\u001b[39m\u001b[38;5;241m.\u001b[39mapply_str()\n\u001b[1;32m    171\u001b[0m \u001b[38;5;28;01mif\u001b[39;00m is_dict_like(arg):\n\u001b[0;32m--> 172\u001b[0m     \u001b[38;5;28;01mreturn\u001b[39;00m \u001b[38;5;28;43mself\u001b[39;49m\u001b[38;5;241;43m.\u001b[39;49m\u001b[43magg_dict_like\u001b[49m\u001b[43m(\u001b[49m\u001b[43m)\u001b[49m\n\u001b[1;32m    173\u001b[0m \u001b[38;5;28;01melif\u001b[39;00m is_list_like(arg):\n\u001b[1;32m    174\u001b[0m     \u001b[38;5;66;03m# we require a list, but not a 'str'\u001b[39;00m\n\u001b[1;32m    175\u001b[0m     \u001b[38;5;28;01mreturn\u001b[39;00m \u001b[38;5;28mself\u001b[39m\u001b[38;5;241m.\u001b[39magg_list_like()\n",
      "File \u001b[0;32m/Applications/miniconda3/envs/m1_env/lib/python3.9/site-packages/pandas/core/apply.py:501\u001b[0m, in \u001b[0;36mApply.agg_dict_like\u001b[0;34m(self)\u001b[0m\n\u001b[1;32m    498\u001b[0m \u001b[38;5;28;01mif\u001b[39;00m selected_obj\u001b[38;5;241m.\u001b[39mndim \u001b[38;5;241m==\u001b[39m \u001b[38;5;241m1\u001b[39m:\n\u001b[1;32m    499\u001b[0m     \u001b[38;5;66;03m# key only used for output\u001b[39;00m\n\u001b[1;32m    500\u001b[0m     colg \u001b[38;5;241m=\u001b[39m obj\u001b[38;5;241m.\u001b[39m_gotitem(selection, ndim\u001b[38;5;241m=\u001b[39m\u001b[38;5;241m1\u001b[39m)\n\u001b[0;32m--> 501\u001b[0m     results \u001b[38;5;241m=\u001b[39m {key: colg\u001b[38;5;241m.\u001b[39magg(how) \u001b[38;5;28;01mfor\u001b[39;00m key, how \u001b[38;5;129;01min\u001b[39;00m arg\u001b[38;5;241m.\u001b[39mitems()}\n\u001b[1;32m    502\u001b[0m \u001b[38;5;28;01melse\u001b[39;00m:\n\u001b[1;32m    503\u001b[0m     \u001b[38;5;66;03m# key used for column selection and output\u001b[39;00m\n\u001b[1;32m    504\u001b[0m     results \u001b[38;5;241m=\u001b[39m {\n\u001b[1;32m    505\u001b[0m         key: obj\u001b[38;5;241m.\u001b[39m_gotitem(key, ndim\u001b[38;5;241m=\u001b[39m\u001b[38;5;241m1\u001b[39m)\u001b[38;5;241m.\u001b[39magg(how) \u001b[38;5;28;01mfor\u001b[39;00m key, how \u001b[38;5;129;01min\u001b[39;00m arg\u001b[38;5;241m.\u001b[39mitems()\n\u001b[1;32m    506\u001b[0m     }\n",
      "File \u001b[0;32m/Applications/miniconda3/envs/m1_env/lib/python3.9/site-packages/pandas/core/apply.py:501\u001b[0m, in \u001b[0;36m<dictcomp>\u001b[0;34m(.0)\u001b[0m\n\u001b[1;32m    498\u001b[0m \u001b[38;5;28;01mif\u001b[39;00m selected_obj\u001b[38;5;241m.\u001b[39mndim \u001b[38;5;241m==\u001b[39m \u001b[38;5;241m1\u001b[39m:\n\u001b[1;32m    499\u001b[0m     \u001b[38;5;66;03m# key only used for output\u001b[39;00m\n\u001b[1;32m    500\u001b[0m     colg \u001b[38;5;241m=\u001b[39m obj\u001b[38;5;241m.\u001b[39m_gotitem(selection, ndim\u001b[38;5;241m=\u001b[39m\u001b[38;5;241m1\u001b[39m)\n\u001b[0;32m--> 501\u001b[0m     results \u001b[38;5;241m=\u001b[39m {key: \u001b[43mcolg\u001b[49m\u001b[38;5;241;43m.\u001b[39;49m\u001b[43magg\u001b[49m\u001b[43m(\u001b[49m\u001b[43mhow\u001b[49m\u001b[43m)\u001b[49m \u001b[38;5;28;01mfor\u001b[39;00m key, how \u001b[38;5;129;01min\u001b[39;00m arg\u001b[38;5;241m.\u001b[39mitems()}\n\u001b[1;32m    502\u001b[0m \u001b[38;5;28;01melse\u001b[39;00m:\n\u001b[1;32m    503\u001b[0m     \u001b[38;5;66;03m# key used for column selection and output\u001b[39;00m\n\u001b[1;32m    504\u001b[0m     results \u001b[38;5;241m=\u001b[39m {\n\u001b[1;32m    505\u001b[0m         key: obj\u001b[38;5;241m.\u001b[39m_gotitem(key, ndim\u001b[38;5;241m=\u001b[39m\u001b[38;5;241m1\u001b[39m)\u001b[38;5;241m.\u001b[39magg(how) \u001b[38;5;28;01mfor\u001b[39;00m key, how \u001b[38;5;129;01min\u001b[39;00m arg\u001b[38;5;241m.\u001b[39mitems()\n\u001b[1;32m    506\u001b[0m     }\n",
      "File \u001b[0;32m/Applications/miniconda3/envs/m1_env/lib/python3.9/site-packages/pandas/core/series.py:4605\u001b[0m, in \u001b[0;36mSeries.aggregate\u001b[0;34m(self, func, axis, *args, **kwargs)\u001b[0m\n\u001b[1;32m   4602\u001b[0m     func \u001b[38;5;241m=\u001b[39m \u001b[38;5;28mdict\u001b[39m(kwargs\u001b[38;5;241m.\u001b[39mitems())\n\u001b[1;32m   4604\u001b[0m op \u001b[38;5;241m=\u001b[39m SeriesApply(\u001b[38;5;28mself\u001b[39m, func, convert_dtype\u001b[38;5;241m=\u001b[39m\u001b[38;5;28;01mFalse\u001b[39;00m, args\u001b[38;5;241m=\u001b[39margs, kwargs\u001b[38;5;241m=\u001b[39mkwargs)\n\u001b[0;32m-> 4605\u001b[0m result \u001b[38;5;241m=\u001b[39m \u001b[43mop\u001b[49m\u001b[38;5;241;43m.\u001b[39;49m\u001b[43magg\u001b[49m\u001b[43m(\u001b[49m\u001b[43m)\u001b[49m\n\u001b[1;32m   4606\u001b[0m \u001b[38;5;28;01mreturn\u001b[39;00m result\n",
      "File \u001b[0;32m/Applications/miniconda3/envs/m1_env/lib/python3.9/site-packages/pandas/core/apply.py:1126\u001b[0m, in \u001b[0;36mSeriesApply.agg\u001b[0;34m(self)\u001b[0m\n\u001b[1;32m   1125\u001b[0m \u001b[38;5;28;01mdef\u001b[39;00m \u001b[38;5;21magg\u001b[39m(\u001b[38;5;28mself\u001b[39m):\n\u001b[0;32m-> 1126\u001b[0m     result \u001b[38;5;241m=\u001b[39m \u001b[38;5;28;43msuper\u001b[39;49m\u001b[43m(\u001b[49m\u001b[43m)\u001b[49m\u001b[38;5;241;43m.\u001b[39;49m\u001b[43magg\u001b[49m\u001b[43m(\u001b[49m\u001b[43m)\u001b[49m\n\u001b[1;32m   1127\u001b[0m     \u001b[38;5;28;01mif\u001b[39;00m result \u001b[38;5;129;01mis\u001b[39;00m \u001b[38;5;28;01mNone\u001b[39;00m:\n\u001b[1;32m   1128\u001b[0m         f \u001b[38;5;241m=\u001b[39m \u001b[38;5;28mself\u001b[39m\u001b[38;5;241m.\u001b[39mf\n",
      "File \u001b[0;32m/Applications/miniconda3/envs/m1_env/lib/python3.9/site-packages/pandas/core/apply.py:169\u001b[0m, in \u001b[0;36mApply.agg\u001b[0;34m(self)\u001b[0m\n\u001b[1;32m    166\u001b[0m kwargs \u001b[38;5;241m=\u001b[39m \u001b[38;5;28mself\u001b[39m\u001b[38;5;241m.\u001b[39mkwargs\n\u001b[1;32m    168\u001b[0m \u001b[38;5;28;01mif\u001b[39;00m \u001b[38;5;28misinstance\u001b[39m(arg, \u001b[38;5;28mstr\u001b[39m):\n\u001b[0;32m--> 169\u001b[0m     \u001b[38;5;28;01mreturn\u001b[39;00m \u001b[38;5;28;43mself\u001b[39;49m\u001b[38;5;241;43m.\u001b[39;49m\u001b[43mapply_str\u001b[49m\u001b[43m(\u001b[49m\u001b[43m)\u001b[49m\n\u001b[1;32m    171\u001b[0m \u001b[38;5;28;01mif\u001b[39;00m is_dict_like(arg):\n\u001b[1;32m    172\u001b[0m     \u001b[38;5;28;01mreturn\u001b[39;00m \u001b[38;5;28mself\u001b[39m\u001b[38;5;241m.\u001b[39magg_dict_like()\n",
      "File \u001b[0;32m/Applications/miniconda3/envs/m1_env/lib/python3.9/site-packages/pandas/core/apply.py:580\u001b[0m, in \u001b[0;36mApply.apply_str\u001b[0;34m(self)\u001b[0m\n\u001b[1;32m    578\u001b[0m     \u001b[38;5;28;01melif\u001b[39;00m \u001b[38;5;28mself\u001b[39m\u001b[38;5;241m.\u001b[39maxis \u001b[38;5;241m!=\u001b[39m \u001b[38;5;241m0\u001b[39m:\n\u001b[1;32m    579\u001b[0m         \u001b[38;5;28;01mraise\u001b[39;00m \u001b[38;5;167;01mValueError\u001b[39;00m(\u001b[38;5;124mf\u001b[39m\u001b[38;5;124m\"\u001b[39m\u001b[38;5;124mOperation \u001b[39m\u001b[38;5;132;01m{\u001b[39;00mf\u001b[38;5;132;01m}\u001b[39;00m\u001b[38;5;124m does not support axis=1\u001b[39m\u001b[38;5;124m\"\u001b[39m)\n\u001b[0;32m--> 580\u001b[0m \u001b[38;5;28;01mreturn\u001b[39;00m \u001b[38;5;28;43mself\u001b[39;49m\u001b[38;5;241;43m.\u001b[39;49m\u001b[43m_try_aggregate_string_function\u001b[49m\u001b[43m(\u001b[49m\u001b[43mobj\u001b[49m\u001b[43m,\u001b[49m\u001b[43m \u001b[49m\u001b[43mf\u001b[49m\u001b[43m,\u001b[49m\u001b[43m \u001b[49m\u001b[38;5;241;43m*\u001b[39;49m\u001b[38;5;28;43mself\u001b[39;49m\u001b[38;5;241;43m.\u001b[39;49m\u001b[43margs\u001b[49m\u001b[43m,\u001b[49m\u001b[43m \u001b[49m\u001b[38;5;241;43m*\u001b[39;49m\u001b[38;5;241;43m*\u001b[39;49m\u001b[38;5;28;43mself\u001b[39;49m\u001b[38;5;241;43m.\u001b[39;49m\u001b[43mkwargs\u001b[49m\u001b[43m)\u001b[49m\n",
      "File \u001b[0;32m/Applications/miniconda3/envs/m1_env/lib/python3.9/site-packages/pandas/core/apply.py:662\u001b[0m, in \u001b[0;36mApply._try_aggregate_string_function\u001b[0;34m(self, obj, arg, *args, **kwargs)\u001b[0m\n\u001b[1;32m    658\u001b[0m \u001b[38;5;28;01mif\u001b[39;00m f \u001b[38;5;129;01mis\u001b[39;00m \u001b[38;5;129;01mnot\u001b[39;00m \u001b[38;5;28;01mNone\u001b[39;00m \u001b[38;5;129;01mand\u001b[39;00m \u001b[38;5;28mhasattr\u001b[39m(obj, \u001b[38;5;124m\"\u001b[39m\u001b[38;5;124m__array__\u001b[39m\u001b[38;5;124m\"\u001b[39m):\n\u001b[1;32m    659\u001b[0m     \u001b[38;5;66;03m# in particular exclude Window\u001b[39;00m\n\u001b[1;32m    660\u001b[0m     \u001b[38;5;28;01mreturn\u001b[39;00m f(obj, \u001b[38;5;241m*\u001b[39margs, \u001b[38;5;241m*\u001b[39m\u001b[38;5;241m*\u001b[39mkwargs)\n\u001b[0;32m--> 662\u001b[0m \u001b[38;5;28;01mraise\u001b[39;00m \u001b[38;5;167;01mAttributeError\u001b[39;00m(\n\u001b[1;32m    663\u001b[0m     \u001b[38;5;124mf\u001b[39m\u001b[38;5;124m\"\u001b[39m\u001b[38;5;124m'\u001b[39m\u001b[38;5;132;01m{\u001b[39;00marg\u001b[38;5;132;01m}\u001b[39;00m\u001b[38;5;124m'\u001b[39m\u001b[38;5;124m is not a valid function for \u001b[39m\u001b[38;5;124m'\u001b[39m\u001b[38;5;132;01m{\u001b[39;00m\u001b[38;5;28mtype\u001b[39m(obj)\u001b[38;5;241m.\u001b[39m\u001b[38;5;18m__name__\u001b[39m\u001b[38;5;132;01m}\u001b[39;00m\u001b[38;5;124m'\u001b[39m\u001b[38;5;124m object\u001b[39m\u001b[38;5;124m\"\u001b[39m\n\u001b[1;32m    664\u001b[0m )\n",
      "\u001b[0;31mAttributeError\u001b[0m: 'med' is not a valid function for 'Series' object"
     ]
    }
   ],
   "source": [
    "chart_edadgener[\"male_age\"]=chart_edadgener[chart_edadgener[\"Sexo\"]==\"Hombres\"][\"Edad\"].pivot_table(index='Sexo',values='Total', columns='Edad')\n",
    "\n",
    "# Agregar la columna Total al dataframe\n",
    "\n",
    "chart_edadgener_total = chart_edadgener.pivot_table(index='Sexo',values='Total', columns='Edad')\n",
    "\n",
    "chart_edadgener.iplot(kind='histogram', barmode='group', theme='white', title='Muertes por edades',\n",
    "                      xTitle='Ages', yTitle='Count Total')\n",
    "# Crear el histograma con la columna Total en el eje y\n",
    "'''''fig = px.histogram(chart_edadgener_total, x='Edad', y='Total', nbins=8, color_discrete_sequence=['blue'], labels={'Total': 'Total de muertes'})\n",
    "fig.update_layout(title='Muertes por edades', xaxis_title='Edades', yaxis_title='Total de muertes')\n",
    "fig.show()'''\n"
   ]
  },
  {
   "cell_type": "code",
   "execution_count": null,
   "metadata": {},
   "outputs": [],
   "source": [
    "# Example 2\n",
    "'''\n",
    "group = ['cause_code','Periodo']\n",
    "dataset = mod.groupby_sum(deaths, group)\n",
    "dataset.head()\n",
    "'''"
   ]
  },
  {
   "cell_type": "code",
   "execution_count": null,
   "metadata": {},
   "outputs": [],
   "source": [
    "#ANÁLISIS MUJERES\n",
    "data_mujeres = mod.groupby_sum(deaths, group)"
   ]
  },
  {
   "cell_type": "code",
   "execution_count": null,
   "metadata": {},
   "outputs": [],
   "source": [
    "data_mujeres= groupby_sum(data_mujeres, causa de muerte, agg_var='Total', sort_var='Total')\n"
   ]
  },
  {
   "cell_type": "code",
   "execution_count": null,
   "metadata": {},
   "outputs": [],
   "source": [
    "# Example 3\n",
    "'''\n",
    "dataset = mod.pivot_table(dataset, 'cause_code', 'Periodo')\n",
    "dataset.head()\n",
    "'''"
   ]
  },
  {
   "cell_type": "markdown",
   "metadata": {},
   "source": [
    "## ...and finally, show me some insights with Plotly!!!"
   ]
  },
  {
   "cell_type": "code",
   "execution_count": null,
   "metadata": {},
   "outputs": [],
   "source": [
    "# Cufflinks histogram\n",
    "'''\n",
    "dataset_column.iplot(kind='hist',\n",
    "                     title='VIZ TITLE',\n",
    "                     yTitle='AXIS TITLE',\n",
    "                     xTitle='AXIS TITLE')\n",
    "'''"
   ]
  },
  {
   "cell_type": "code",
   "execution_count": null,
   "metadata": {},
   "outputs": [],
   "source": [
    "# Cufflinks bar plot\n",
    "'''\n",
    "dataset_bar.iplot(kind='bar',\n",
    "                  x='VARIABLE',\n",
    "                  xTitle='AXIS TITLE',\n",
    "                  yTitle='AXIS TITLE',\n",
    "                  title='VIZ TITLE')\n",
    "'''"
   ]
  },
  {
   "cell_type": "code",
   "execution_count": null,
   "metadata": {},
   "outputs": [],
   "source": [
    "# Cufflinks line plot\n",
    "'''\n",
    "dataset_line.iplot(kind='line',\n",
    "                   x='VARIABLE',\n",
    "                   xTitle='AXIS TITLE',\n",
    "                   yTitle='AXIS TITLE',\n",
    "                   title='VIZ TITLE')\n",
    "'''"
   ]
  },
  {
   "cell_type": "code",
   "execution_count": null,
   "metadata": {},
   "outputs": [],
   "source": [
    "# Cufflinks scatter plot\n",
    "'''\n",
    "dataset_scatter.iplot(x='VARIABLE', \n",
    "                      y='VARIABLE', \n",
    "                      categories='VARIABLE',\n",
    "                      xTitle='AXIS TITLE', \n",
    "                      yTitle='AXIS TITLE',\n",
    "                      title='VIZ TITLE')\n",
    "'''"
   ]
  }
 ],
 "metadata": {
  "kernelspec": {
   "display_name": "Python [conda env:m1_env]",
   "language": "python",
   "name": "conda-env-m1_env-py"
  },
  "language_info": {
   "codemirror_mode": {
    "name": "ipython",
    "version": 3
   },
   "file_extension": ".py",
   "mimetype": "text/x-python",
   "name": "python",
   "nbconvert_exporter": "python",
   "pygments_lexer": "ipython3",
   "version": "3.9.16"
  }
 },
 "nbformat": 4,
 "nbformat_minor": 2
}
